{
 "cells": [
  {
   "cell_type": "markdown",
   "metadata": {},
   "source": [
    "### Шаг 1. Откройте файл с данными и изучите общую информацию. "
   ]
  },
  {
   "cell_type": "code",
   "execution_count": 1,
   "metadata": {},
   "outputs": [],
   "source": [
    "# загрузка необходимой библиотеки\n",
    "import pandas as pd\n",
    "# загрузка базы данных\n",
    "data = pd.read_csv('credit_approval.csv')"
   ]
  },
  {
   "cell_type": "code",
   "execution_count": 2,
   "metadata": {},
   "outputs": [
    {
     "data": {
      "text/html": [
       "<div>\n",
       "<style scoped>\n",
       "    .dataframe tbody tr th:only-of-type {\n",
       "        vertical-align: middle;\n",
       "    }\n",
       "\n",
       "    .dataframe tbody tr th {\n",
       "        vertical-align: top;\n",
       "    }\n",
       "\n",
       "    .dataframe thead th {\n",
       "        text-align: right;\n",
       "    }\n",
       "</style>\n",
       "<table border=\"1\" class=\"dataframe\">\n",
       "  <thead>\n",
       "    <tr style=\"text-align: right;\">\n",
       "      <th></th>\n",
       "      <th>children</th>\n",
       "      <th>days_employed</th>\n",
       "      <th>dob_years</th>\n",
       "      <th>education</th>\n",
       "      <th>education_id</th>\n",
       "      <th>family_status</th>\n",
       "      <th>family_status_id</th>\n",
       "      <th>gender</th>\n",
       "      <th>income_type</th>\n",
       "      <th>debt</th>\n",
       "      <th>total_income</th>\n",
       "      <th>purpose</th>\n",
       "    </tr>\n",
       "  </thead>\n",
       "  <tbody>\n",
       "    <tr>\n",
       "      <th>0</th>\n",
       "      <td>1</td>\n",
       "      <td>-8437.673028</td>\n",
       "      <td>42</td>\n",
       "      <td>высшее</td>\n",
       "      <td>0</td>\n",
       "      <td>женат / замужем</td>\n",
       "      <td>0</td>\n",
       "      <td>F</td>\n",
       "      <td>сотрудник</td>\n",
       "      <td>0</td>\n",
       "      <td>253875.639453</td>\n",
       "      <td>покупка жилья</td>\n",
       "    </tr>\n",
       "    <tr>\n",
       "      <th>1</th>\n",
       "      <td>1</td>\n",
       "      <td>-4024.803754</td>\n",
       "      <td>36</td>\n",
       "      <td>среднее</td>\n",
       "      <td>1</td>\n",
       "      <td>женат / замужем</td>\n",
       "      <td>0</td>\n",
       "      <td>F</td>\n",
       "      <td>сотрудник</td>\n",
       "      <td>0</td>\n",
       "      <td>112080.014102</td>\n",
       "      <td>приобретение автомобиля</td>\n",
       "    </tr>\n",
       "    <tr>\n",
       "      <th>2</th>\n",
       "      <td>0</td>\n",
       "      <td>-5623.422610</td>\n",
       "      <td>33</td>\n",
       "      <td>Среднее</td>\n",
       "      <td>1</td>\n",
       "      <td>женат / замужем</td>\n",
       "      <td>0</td>\n",
       "      <td>M</td>\n",
       "      <td>сотрудник</td>\n",
       "      <td>0</td>\n",
       "      <td>145885.952297</td>\n",
       "      <td>покупка жилья</td>\n",
       "    </tr>\n",
       "    <tr>\n",
       "      <th>3</th>\n",
       "      <td>3</td>\n",
       "      <td>-4124.747207</td>\n",
       "      <td>32</td>\n",
       "      <td>среднее</td>\n",
       "      <td>1</td>\n",
       "      <td>женат / замужем</td>\n",
       "      <td>0</td>\n",
       "      <td>M</td>\n",
       "      <td>сотрудник</td>\n",
       "      <td>0</td>\n",
       "      <td>267628.550329</td>\n",
       "      <td>дополнительное образование</td>\n",
       "    </tr>\n",
       "    <tr>\n",
       "      <th>4</th>\n",
       "      <td>0</td>\n",
       "      <td>340266.072047</td>\n",
       "      <td>53</td>\n",
       "      <td>среднее</td>\n",
       "      <td>1</td>\n",
       "      <td>гражданский брак</td>\n",
       "      <td>1</td>\n",
       "      <td>F</td>\n",
       "      <td>пенсионер</td>\n",
       "      <td>0</td>\n",
       "      <td>158616.077870</td>\n",
       "      <td>сыграть свадьбу</td>\n",
       "    </tr>\n",
       "  </tbody>\n",
       "</table>\n",
       "</div>"
      ],
      "text/plain": [
       "   children  days_employed  dob_years education  education_id  \\\n",
       "0         1   -8437.673028         42    высшее             0   \n",
       "1         1   -4024.803754         36   среднее             1   \n",
       "2         0   -5623.422610         33   Среднее             1   \n",
       "3         3   -4124.747207         32   среднее             1   \n",
       "4         0  340266.072047         53   среднее             1   \n",
       "\n",
       "      family_status  family_status_id gender income_type  debt   total_income  \\\n",
       "0   женат / замужем                 0      F   сотрудник     0  253875.639453   \n",
       "1   женат / замужем                 0      F   сотрудник     0  112080.014102   \n",
       "2   женат / замужем                 0      M   сотрудник     0  145885.952297   \n",
       "3   женат / замужем                 0      M   сотрудник     0  267628.550329   \n",
       "4  гражданский брак                 1      F   пенсионер     0  158616.077870   \n",
       "\n",
       "                      purpose  \n",
       "0               покупка жилья  \n",
       "1     приобретение автомобиля  \n",
       "2               покупка жилья  \n",
       "3  дополнительное образование  \n",
       "4             сыграть свадьбу  "
      ]
     },
     "execution_count": 2,
     "metadata": {},
     "output_type": "execute_result"
    }
   ],
   "source": [
    "# вывод первых 5-ти значений\n",
    "data.head()"
   ]
  },
  {
   "cell_type": "code",
   "execution_count": 3,
   "metadata": {},
   "outputs": [
    {
     "name": "stdout",
     "output_type": "stream",
     "text": [
      "<class 'pandas.core.frame.DataFrame'>\n",
      "RangeIndex: 21525 entries, 0 to 21524\n",
      "Data columns (total 12 columns):\n",
      " #   Column            Non-Null Count  Dtype  \n",
      "---  ------            --------------  -----  \n",
      " 0   children          21525 non-null  int64  \n",
      " 1   days_employed     19351 non-null  float64\n",
      " 2   dob_years         21525 non-null  int64  \n",
      " 3   education         21525 non-null  object \n",
      " 4   education_id      21525 non-null  int64  \n",
      " 5   family_status     21525 non-null  object \n",
      " 6   family_status_id  21525 non-null  int64  \n",
      " 7   gender            21525 non-null  object \n",
      " 8   income_type       21525 non-null  object \n",
      " 9   debt              21525 non-null  int64  \n",
      " 10  total_income      19351 non-null  float64\n",
      " 11  purpose           21525 non-null  object \n",
      "dtypes: float64(2), int64(5), object(5)\n",
      "memory usage: 2.0+ MB\n"
     ]
    }
   ],
   "source": [
    "# краткий обзор об имеющейся базе данных\n",
    "data.info()"
   ]
  },
  {
   "cell_type": "markdown",
   "metadata": {},
   "source": [
    "Общее количество клиентов составляет 21 525 человек. По каждому клиенту имеются 12 показателей."
   ]
  },
  {
   "cell_type": "code",
   "execution_count": 4,
   "metadata": {},
   "outputs": [
    {
     "data": {
      "text/plain": [
       "total_income        2174\n",
       "days_employed       2174\n",
       "purpose                0\n",
       "debt                   0\n",
       "income_type            0\n",
       "gender                 0\n",
       "family_status_id       0\n",
       "family_status          0\n",
       "education_id           0\n",
       "education              0\n",
       "dob_years              0\n",
       "children               0\n",
       "dtype: int64"
      ]
     },
     "execution_count": 4,
     "metadata": {},
     "output_type": "execute_result"
    }
   ],
   "source": [
    "# подсчет количества пропущенных значений, сортировка по убыванию\n",
    "data.isna().sum().sort_values(ascending=False)"
   ]
  },
  {
   "cell_type": "markdown",
   "metadata": {},
   "source": [
    "Тем самым, пропущенные значения имеют место в двух переменных: (а) трудовой стаж, (б) ежемесячный доход. Количество пропущенных значений в абсолютном выражении составляет 2 174 наблюдения."
   ]
  },
  {
   "cell_type": "code",
   "execution_count": 5,
   "metadata": {},
   "outputs": [
    {
     "name": "stdout",
     "output_type": "stream",
     "text": [
      "Доля пропущенных значений составляет 10.10%\n"
     ]
    }
   ],
   "source": [
    "# вычисление доли пропущенных значений в общей базе данных\n",
    "na_ratio = data.isna().sum().sort_values(ascending=False)[0] / data.shape[0]\n",
    "# вывод результатов\n",
    "print('Доля пропущенных значений составляет {:.2%}'.format(na_ratio))"
   ]
  },
  {
   "cell_type": "code",
   "execution_count": 6,
   "metadata": {},
   "outputs": [
    {
     "data": {
      "text/html": [
       "<div>\n",
       "<style scoped>\n",
       "    .dataframe tbody tr th:only-of-type {\n",
       "        vertical-align: middle;\n",
       "    }\n",
       "\n",
       "    .dataframe tbody tr th {\n",
       "        vertical-align: top;\n",
       "    }\n",
       "\n",
       "    .dataframe thead th {\n",
       "        text-align: right;\n",
       "    }\n",
       "</style>\n",
       "<table border=\"1\" class=\"dataframe\">\n",
       "  <thead>\n",
       "    <tr style=\"text-align: right;\">\n",
       "      <th></th>\n",
       "      <th>children</th>\n",
       "      <th>days_employed</th>\n",
       "      <th>dob_years</th>\n",
       "      <th>education</th>\n",
       "      <th>education_id</th>\n",
       "      <th>family_status</th>\n",
       "      <th>family_status_id</th>\n",
       "      <th>gender</th>\n",
       "      <th>income_type</th>\n",
       "      <th>debt</th>\n",
       "      <th>total_income</th>\n",
       "      <th>purpose</th>\n",
       "    </tr>\n",
       "  </thead>\n",
       "  <tbody>\n",
       "    <tr>\n",
       "      <th>21489</th>\n",
       "      <td>2</td>\n",
       "      <td>NaN</td>\n",
       "      <td>47</td>\n",
       "      <td>Среднее</td>\n",
       "      <td>1</td>\n",
       "      <td>женат / замужем</td>\n",
       "      <td>0</td>\n",
       "      <td>M</td>\n",
       "      <td>компаньон</td>\n",
       "      <td>0</td>\n",
       "      <td>NaN</td>\n",
       "      <td>сделка с автомобилем</td>\n",
       "    </tr>\n",
       "    <tr>\n",
       "      <th>21495</th>\n",
       "      <td>1</td>\n",
       "      <td>NaN</td>\n",
       "      <td>50</td>\n",
       "      <td>среднее</td>\n",
       "      <td>1</td>\n",
       "      <td>гражданский брак</td>\n",
       "      <td>1</td>\n",
       "      <td>F</td>\n",
       "      <td>сотрудник</td>\n",
       "      <td>0</td>\n",
       "      <td>NaN</td>\n",
       "      <td>свадьба</td>\n",
       "    </tr>\n",
       "    <tr>\n",
       "      <th>21497</th>\n",
       "      <td>0</td>\n",
       "      <td>NaN</td>\n",
       "      <td>48</td>\n",
       "      <td>ВЫСШЕЕ</td>\n",
       "      <td>0</td>\n",
       "      <td>женат / замужем</td>\n",
       "      <td>0</td>\n",
       "      <td>F</td>\n",
       "      <td>компаньон</td>\n",
       "      <td>0</td>\n",
       "      <td>NaN</td>\n",
       "      <td>строительство недвижимости</td>\n",
       "    </tr>\n",
       "    <tr>\n",
       "      <th>21502</th>\n",
       "      <td>1</td>\n",
       "      <td>NaN</td>\n",
       "      <td>42</td>\n",
       "      <td>среднее</td>\n",
       "      <td>1</td>\n",
       "      <td>женат / замужем</td>\n",
       "      <td>0</td>\n",
       "      <td>F</td>\n",
       "      <td>сотрудник</td>\n",
       "      <td>0</td>\n",
       "      <td>NaN</td>\n",
       "      <td>строительство жилой недвижимости</td>\n",
       "    </tr>\n",
       "    <tr>\n",
       "      <th>21510</th>\n",
       "      <td>2</td>\n",
       "      <td>NaN</td>\n",
       "      <td>28</td>\n",
       "      <td>среднее</td>\n",
       "      <td>1</td>\n",
       "      <td>женат / замужем</td>\n",
       "      <td>0</td>\n",
       "      <td>F</td>\n",
       "      <td>сотрудник</td>\n",
       "      <td>0</td>\n",
       "      <td>NaN</td>\n",
       "      <td>приобретение автомобиля</td>\n",
       "    </tr>\n",
       "  </tbody>\n",
       "</table>\n",
       "</div>"
      ],
      "text/plain": [
       "       children  days_employed  dob_years education  education_id  \\\n",
       "21489         2            NaN         47   Среднее             1   \n",
       "21495         1            NaN         50   среднее             1   \n",
       "21497         0            NaN         48    ВЫСШЕЕ             0   \n",
       "21502         1            NaN         42   среднее             1   \n",
       "21510         2            NaN         28   среднее             1   \n",
       "\n",
       "          family_status  family_status_id gender income_type  debt  \\\n",
       "21489   женат / замужем                 0      M   компаньон     0   \n",
       "21495  гражданский брак                 1      F   сотрудник     0   \n",
       "21497   женат / замужем                 0      F   компаньон     0   \n",
       "21502   женат / замужем                 0      F   сотрудник     0   \n",
       "21510   женат / замужем                 0      F   сотрудник     0   \n",
       "\n",
       "       total_income                           purpose  \n",
       "21489           NaN              сделка с автомобилем  \n",
       "21495           NaN                           свадьба  \n",
       "21497           NaN        строительство недвижимости  \n",
       "21502           NaN  строительство жилой недвижимости  \n",
       "21510           NaN           приобретение автомобиля  "
      ]
     },
     "execution_count": 6,
     "metadata": {},
     "output_type": "execute_result"
    }
   ],
   "source": [
    "# посмотрим клиентов у которых отсутствует информация по количеству трудового стажа в днях\n",
    "data.sort_values(by = 'days_employed', ascending=False).tail()"
   ]
  },
  {
   "cell_type": "markdown",
   "metadata": {},
   "source": [
    "Клиенты по которым отсутствует информация по трудовому стажу и ежемесячному доходу довольно сильно различаются между собой не только по типу занятости, но и по возрасту."
   ]
  },
  {
   "cell_type": "code",
   "execution_count": 7,
   "metadata": {},
   "outputs": [
    {
     "data": {
      "text/plain": [
       "income_type\n",
       "сотрудник          1105\n",
       "компаньон           508\n",
       "пенсионер           413\n",
       "госслужащий         147\n",
       "предприниматель       1\n",
       "Name: income_type, dtype: int64"
      ]
     },
     "execution_count": 7,
     "metadata": {},
     "output_type": "execute_result"
    }
   ],
   "source": [
    "# опираясь на полученное количество пропущенных значений (2 174 наблюдения),\n",
    "# выделим отдельную базу данных по которым отсутствует информация по трудовому стажу и ежемесячном доходе\n",
    "df_na = data.sort_values(by='days_employed', ascending=False).tail(2174)\n",
    "# далее, сгруппируем данных клиентов по типу дохода\n",
    "df_na.groupby('income_type')['income_type'].count().sort_values(ascending=False)"
   ]
  },
  {
   "cell_type": "markdown",
   "metadata": {},
   "source": [
    "Клиенты, тип дохода которых \"сотрудник\" составляют значительную часть наблюдений по которым отсутствует информация. Отсутствие у пенсионеров трудового стажа может быть технической причиной: у нынешнего поколения пенсионеров просто может быть не сохранилась трудовая книжка. В отношении 'сотрудников' и 'компаньонов' дело может обстоять иначе: у сотрудников могут быть низкие доходы, у партнера может и не быть вообще официального ежемесячного дохода. На то и он партнер, чтобы выполнять лишь вспомогательную функцию."
   ]
  },
  {
   "cell_type": "markdown",
   "metadata": {},
   "source": [
    "### Вывод"
   ]
  },
  {
   "cell_type": "markdown",
   "metadata": {},
   "source": [
    "- Общее количество клиентов составляет 21 525 человек. По каждому клиенту имеются 12 показателей.\n",
    "- Доля пропущенных значений в общей базе данных составляет 10 процентов.\n",
    "- Градация клиентов по которым отсутствуют данные по трудовому стажу в днях довольно обширная и следовательно заменять на средние величины или медиану кажется не самым подходящим вариантом.\n",
    "- Причина наличия пропущенных значений может быть как случайной, так и неслучайной.\n",
    "- С одной стороны, клиенты с низким ежемесячным доходом вероятнее всего будут характеризоваться как неплатежеспособные заемщики, что является препятствием к получению кредита. Осознавая данное обстоятельство клиенты могут не декларировать стаж и доход дабы не относить себя к числу неплатежеспособных заемщиков.\n",
    "- С другой стороны, пропущенные наблюдения могут быть обусловлены техническими причинами заполнения значений."
   ]
  },
  {
   "cell_type": "markdown",
   "metadata": {},
   "source": [
    "### Шаг 2. Предобработка данных"
   ]
  },
  {
   "cell_type": "markdown",
   "metadata": {},
   "source": [
    "### Обработка пропусков"
   ]
  },
  {
   "cell_type": "code",
   "execution_count": 8,
   "metadata": {},
   "outputs": [
    {
     "data": {
      "text/plain": [
       "children               0\n",
       "days_employed       2174\n",
       "dob_years              0\n",
       "education              0\n",
       "education_id           0\n",
       "family_status          0\n",
       "family_status_id       0\n",
       "gender                 0\n",
       "income_type            0\n",
       "debt                   0\n",
       "total_income        2174\n",
       "purpose                0\n",
       "dtype: int64"
      ]
     },
     "execution_count": 8,
     "metadata": {},
     "output_type": "execute_result"
    }
   ],
   "source": [
    "data.isna().sum()"
   ]
  },
  {
   "cell_type": "markdown",
   "metadata": {},
   "source": [
    "Ранее, также было указано, что пропущенные наблюдения присутствуют в двух показателях: трудовой стаж, ежемесячный доход. Взглянем на данные переменные более подробно."
   ]
  },
  {
   "cell_type": "markdown",
   "metadata": {},
   "source": [
    "Изучим переменную \"трудовой стаж\"."
   ]
  },
  {
   "cell_type": "code",
   "execution_count": 9,
   "metadata": {},
   "outputs": [
    {
     "data": {
      "text/plain": [
       "count     19351.000000\n",
       "mean      63046.497661\n",
       "std      140827.311974\n",
       "min      -18388.949901\n",
       "25%       -2747.423625\n",
       "50%       -1203.369529\n",
       "75%        -291.095954\n",
       "max      401755.400475\n",
       "Name: days_employed, dtype: float64"
      ]
     },
     "execution_count": 9,
     "metadata": {},
     "output_type": "execute_result"
    }
   ],
   "source": [
    "data['days_employed'].describe()"
   ]
  },
  {
   "cell_type": "markdown",
   "metadata": {},
   "source": [
    "В отношении трудового стажа можно наблюдать следующее: (а) минимальный стаж представляет собой отрицательную величину, (б) максимальный стаж составляет более 1100 лет, (в) средний стаж составляет 172 года, (г) весьма большой разброс вокруг среднего значения: плюс минус 140 тыс. дней, (д) медиана также является отрицательной величиной.\\\n",
    "Промежуточный вывод: действительно на место пропущенных значений не подходит среднее значение, медиана.\\\n",
    "Весьма забавная выборочная совокупность!\\\n",
    "Подобные феномены могут быть обусловлены ошибками при заполнении. Для предоления данных проблем выполним следующее: (1) конвертируем отрицательные значения в положительные, (2) поделим величины стажа более 25 000 дней (около 68-ми лет) на 100. \\"
   ]
  },
  {
   "cell_type": "code",
   "execution_count": 10,
   "metadata": {},
   "outputs": [],
   "source": [
    "# конвертируем отрицательный трудовой доход в положительный\n",
    "data['days_employed'] = abs(data['days_employed'])"
   ]
  },
  {
   "cell_type": "code",
   "execution_count": 11,
   "metadata": {},
   "outputs": [],
   "source": [
    "# определим следующий цикл (по индексам):\n",
    "# для каждой строчки исходной выборочной совокупности\n",
    "for i in range(len(data)):\n",
    "    try:\n",
    "        # если трудовой стаж более 20 000 дней, то\n",
    "        if data.loc[i,'days_employed'] > 25000:\n",
    "            # делим данный стаж на 100\n",
    "            data.loc[i, 'days_employed'] = data.loc[i, 'days_employed'] / 100\n",
    "    except:\n",
    "        print('Ошибка! Возможно стоит пересмотреть функцию.')"
   ]
  },
  {
   "cell_type": "code",
   "execution_count": 12,
   "metadata": {
    "scrolled": true
   },
   "outputs": [
    {
     "data": {
      "text/plain": [
       "count    19351.000000\n",
       "mean      2583.921756\n",
       "std       2149.032624\n",
       "min         24.141633\n",
       "25%        927.009265\n",
       "50%       2194.220567\n",
       "75%       3658.750303\n",
       "max      18388.949901\n",
       "Name: days_employed, dtype: float64"
      ]
     },
     "execution_count": 12,
     "metadata": {},
     "output_type": "execute_result"
    }
   ],
   "source": [
    "data['days_employed'].describe()"
   ]
  },
  {
   "cell_type": "code",
   "execution_count": 13,
   "metadata": {},
   "outputs": [
    {
     "name": "stdout",
     "output_type": "stream",
     "text": [
      "Наибольший трудовой стаж составляет 50.38 лет\n",
      "Наименьший трудовой стаж составляет 0.07 лет\n",
      "Медиана трудового стажа составляет 6.01 лет\n",
      "Разброс вокруг среднего стажа работы составляет 5.89 лет\n"
     ]
    }
   ],
   "source": [
    "# переведем основные числовые характеристики в года\n",
    "print('Наибольший трудовой стаж составляет {:.2f} лет'.format(data['days_employed'].max() / 365))\n",
    "print('Наименьший трудовой стаж составляет {:.2f} лет'.format(data['days_employed'].min() / 365 ))\n",
    "print('Медиана трудового стажа составляет {:.2f} лет'.format(data['days_employed'].median() / 365 ))\n",
    "print('Разброс вокруг среднего стажа работы составляет {:.2f} лет'.format(data['days_employed'].std() / 365 ))"
   ]
  },
  {
   "cell_type": "code",
   "execution_count": 14,
   "metadata": {},
   "outputs": [
    {
     "data": {
      "text/plain": [
       "сотрудник          1105\n",
       "компаньон           508\n",
       "пенсионер           413\n",
       "госслужащий         147\n",
       "предприниматель       1\n",
       "Name: income_type, dtype: int64"
      ]
     },
     "execution_count": 14,
     "metadata": {},
     "output_type": "execute_result"
    }
   ],
   "source": [
    "# определим клиентов, у которых отсутствует информация по трудовому стажу\n",
    "df_na['income_type'].value_counts()"
   ]
  },
  {
   "cell_type": "markdown",
   "metadata": {},
   "source": [
    "Далее, из исходной выборочной совокупности выделим пять подвыборок: сотрудники, компаньоны, госслужащие, предприниматели, пенсионеры."
   ]
  },
  {
   "cell_type": "code",
   "execution_count": 15,
   "metadata": {},
   "outputs": [],
   "source": [
    "employee_mean_days_employed = data.loc[data['income_type']=='сотрудник', 'days_employed'].mean()\n",
    "companion_mean_days_employed = data.loc[data['income_type']=='компаньон', 'days_employed'].mean()\n",
    "pensioner_mean_days_employed = data.loc[data['income_type']=='пенсионер', 'days_employed'].mean()\n",
    "state_employee_mean_days_employed = data.loc[data['income_type']=='госслужащий', 'days_employed'].mean()\n",
    "entrepreneur_mean_days_employed = data.loc[data['income_type']=='предприниматель', 'days_employed'].mean()"
   ]
  },
  {
   "cell_type": "markdown",
   "metadata": {},
   "source": [
    "Действительно, замена пропущенных значений на общее среднее является неподходящим вариантом: трудовой стаж пенсионера и молодого сотрудника могут сильно различаться; также трудовой стаж между опытным гос.служащим и молодым предпринимателем также может характеризоваться большим разрывом.\\\n",
    "С учетом данной гетерогенности, стоит заменить на средние величины по каждой группе клиентов: например, можно предположить что ежемесячный доход между пенсионерами может и сильно не отличаться.\\\n",
    "Таким образом, пропущенные значения заменяются не на **общее** среднее, а на **средние величины по каждому типу клиентов согласно виду занятости**. "
   ]
  },
  {
   "cell_type": "code",
   "execution_count": 16,
   "metadata": {},
   "outputs": [],
   "source": [
    "df_na.loc[df_na['income_type']=='сотрудник', 'days_employed'] = employee_mean_days_employed\n",
    "df_na.loc[df_na['income_type']=='компаньон', 'days_employed'] = companion_mean_days_employed\n",
    "df_na.loc[df_na['income_type']=='пенсионер', 'days_employed'] = pensioner_mean_days_employed\n",
    "df_na.loc[df_na['income_type']=='госслужащий', 'days_employed'] = state_employee_mean_days_employed\n",
    "df_na.loc[df_na['income_type']=='предприниматель', 'days_employed'] = entrepreneur_mean_days_employed"
   ]
  },
  {
   "cell_type": "markdown",
   "metadata": {},
   "source": [
    "Далее, перейдем к переменной \"ежемесячные доходы\"."
   ]
  },
  {
   "cell_type": "code",
   "execution_count": 17,
   "metadata": {},
   "outputs": [
    {
     "data": {
      "text/plain": [
       "count    1.935100e+04\n",
       "mean     1.674223e+05\n",
       "std      1.029716e+05\n",
       "min      2.066726e+04\n",
       "25%      1.030532e+05\n",
       "50%      1.450179e+05\n",
       "75%      2.034351e+05\n",
       "max      2.265604e+06\n",
       "Name: total_income, dtype: float64"
      ]
     },
     "execution_count": 17,
     "metadata": {},
     "output_type": "execute_result"
    }
   ],
   "source": [
    "data['total_income'].describe()"
   ]
  },
  {
   "cell_type": "markdown",
   "metadata": {},
   "source": [
    "Касательно ежемесячных расходов, то наблюдаем следующее: (а) минимальный ежемесячный доход составляет 20 667 у.е., (б) максимальный ежемесячный доход равен 2 265 604 у.е., (в) средний ежемесячный доход составляет 167 422 у.е., (г) разброс вокруг среднего приблизительно 102 971 у.е.\\\n",
    "Промежуточный вывод: на место пропущенных значений не подходит **общее** среднее значение и медиана.\\\n",
    "Аналогично, вместо **общего** среднего, заменяем на **частные** средние величины."
   ]
  },
  {
   "cell_type": "code",
   "execution_count": 18,
   "metadata": {},
   "outputs": [],
   "source": [
    "employee_mean_income = data.loc[data['income_type']=='сотрудник','total_income'].mean()\n",
    "companion_mean_income = data.loc[data['income_type']=='компаньон','total_income'].mean()\n",
    "pensioner_mean_income = data.loc[data['income_type']=='пенсионер','total_income'].mean()\n",
    "state_employee_mean_income = data.loc[data['income_type']=='госслужащий','total_income'].mean()\n",
    "entrepreneur_mean_income = data.loc[data['income_type']=='предприниматель','total_income'].mean()"
   ]
  },
  {
   "cell_type": "code",
   "execution_count": 19,
   "metadata": {},
   "outputs": [],
   "source": [
    "df_na.loc[df_na['income_type']=='сотрудник', 'total_income'] = employee_mean_income\n",
    "df_na.loc[df_na['income_type']=='компаньон', 'total_income'] = companion_mean_income\n",
    "df_na.loc[df_na['income_type']=='пенсионер', 'total_income'] = pensioner_mean_income\n",
    "df_na.loc[df_na['income_type']=='госслужащий', 'total_income'] = state_employee_mean_income\n",
    "df_na.loc[df_na['income_type']=='предприниматель', 'total_income'] = entrepreneur_mean_income"
   ]
  },
  {
   "cell_type": "code",
   "execution_count": 20,
   "metadata": {},
   "outputs": [
    {
     "data": {
      "text/plain": [
       "children            0\n",
       "days_employed       0\n",
       "dob_years           0\n",
       "education           0\n",
       "education_id        0\n",
       "family_status       0\n",
       "family_status_id    0\n",
       "gender              0\n",
       "income_type         0\n",
       "debt                0\n",
       "total_income        0\n",
       "purpose             0\n",
       "dtype: int64"
      ]
     },
     "execution_count": 20,
     "metadata": {},
     "output_type": "execute_result"
    }
   ],
   "source": [
    "df_na.isna().sum()"
   ]
  },
  {
   "cell_type": "markdown",
   "metadata": {},
   "source": [
    "Далее полученные величины заменим в исходную выборочную совокупность."
   ]
  },
  {
   "cell_type": "code",
   "execution_count": 21,
   "metadata": {},
   "outputs": [
    {
     "data": {
      "text/plain": [
       "19351"
      ]
     },
     "execution_count": 21,
     "metadata": {},
     "output_type": "execute_result"
    }
   ],
   "source": [
    "# находим размерность выборки без пропущенных переменных\n",
    "df_without_na_shape = data.shape[0] - df_na.shape[0]\n",
    "df_without_na_shape"
   ]
  },
  {
   "cell_type": "code",
   "execution_count": 22,
   "metadata": {},
   "outputs": [],
   "source": [
    "# поскольку клиенты по которым отсутствует информация по трудовому стажу одновременно и отсутствует информация\n",
    "# по ежемесячному доходу, то отсортировав по одному признаку (в частности, по трудовому доходу), также и \n",
    "# отсортируем по второму признаку (в частности, по ежемесячному доходу)\n",
    "df_without_na = data.sort_values(by='days_employed')[:df_without_na_shape]"
   ]
  },
  {
   "cell_type": "code",
   "execution_count": 23,
   "metadata": {},
   "outputs": [],
   "source": [
    "# далее, соединим первую выборку без пропущенных значений с выборкой, в которой ранее заменили пропущенные \n",
    "# значения на средние величины по каждому типу клиентов согласно их виду занятости (соединяем по строчке)\n",
    "df = pd.concat([df_without_na, df_na],axis=0)"
   ]
  },
  {
   "cell_type": "code",
   "execution_count": 24,
   "metadata": {},
   "outputs": [
    {
     "data": {
      "text/plain": [
       "children            0\n",
       "days_employed       0\n",
       "dob_years           0\n",
       "education           0\n",
       "education_id        0\n",
       "family_status       0\n",
       "family_status_id    0\n",
       "gender              0\n",
       "income_type         0\n",
       "debt                0\n",
       "total_income        0\n",
       "purpose             0\n",
       "dtype: int64"
      ]
     },
     "execution_count": 24,
     "metadata": {},
     "output_type": "execute_result"
    }
   ],
   "source": [
    "df.isna().sum()"
   ]
  },
  {
   "cell_type": "markdown",
   "metadata": {},
   "source": [
    "Получили более приятную картину. Однако, остается другая проблема - дублированные величины - на разрешение которой и посвящен следующий раздел (точнее, через один раздел)."
   ]
  },
  {
   "cell_type": "markdown",
   "metadata": {},
   "source": [
    "### Вывод"
   ]
  },
  {
   "cell_type": "markdown",
   "metadata": {},
   "source": [
    "Таким образом, на данном этапе стоит отметить следующее: (а) общее количество пропущенных переменных составляет 2174 наблюдения, что в относительном выражении равно 10-ти процентам, (б) преимущественная часть пропущенных значений наблюдается в двух показателях таких как \"трудовой доход в днях\", \"ежемесячный доход\", причем пропущенные значения в одном показателе, также одновременно присутствуют (пропущенные переменные) в другом показателе.\\\n",
    "С учетом разнородности величин как по трудовому стажу, так и по ежемесячному доходу, находились не **общие** средние, а напротив, по каждому типу клиента, согласно трудовому стажу и ежемесячному доходу. Далее, полученные величины являлись заменой для пропущенных переменных, так как можно предполагать то, что клиент внутри своей когорты (например пенсионер с другим пенсионером) сильно не отличается как по трудовому стажу, так и по ежемесячному доходу."
   ]
  },
  {
   "cell_type": "markdown",
   "metadata": {},
   "source": [
    "### Замена типа данных"
   ]
  },
  {
   "cell_type": "code",
   "execution_count": 25,
   "metadata": {},
   "outputs": [
    {
     "name": "stdout",
     "output_type": "stream",
     "text": [
      "<class 'pandas.core.frame.DataFrame'>\n",
      "Int64Index: 21525 entries, 17437 to 21510\n",
      "Data columns (total 12 columns):\n",
      " #   Column            Non-Null Count  Dtype  \n",
      "---  ------            --------------  -----  \n",
      " 0   children          21525 non-null  int64  \n",
      " 1   days_employed     21525 non-null  float64\n",
      " 2   dob_years         21525 non-null  int64  \n",
      " 3   education         21525 non-null  object \n",
      " 4   education_id      21525 non-null  int64  \n",
      " 5   family_status     21525 non-null  object \n",
      " 6   family_status_id  21525 non-null  int64  \n",
      " 7   gender            21525 non-null  object \n",
      " 8   income_type       21525 non-null  object \n",
      " 9   debt              21525 non-null  int64  \n",
      " 10  total_income      21525 non-null  float64\n",
      " 11  purpose           21525 non-null  object \n",
      "dtypes: float64(2), int64(5), object(5)\n",
      "memory usage: 2.1+ MB\n"
     ]
    }
   ],
   "source": [
    "# вновь проведем краткий обзор по выборочной совокупности\n",
    "df.info()"
   ]
  },
  {
   "cell_type": "markdown",
   "metadata": {},
   "source": [
    "К вещественными типам относятся следующие переменные: трудовой стаж в днях, ежемесячный доход."
   ]
  },
  {
   "cell_type": "code",
   "execution_count": 26,
   "metadata": {},
   "outputs": [],
   "source": [
    "# используем метод astype для преобразования вещественных типов данных в целочисленные\n",
    "# как для трудового стажа в днях,\n",
    "df['days_employed'] = df['days_employed'].astype(int)\n",
    "# так и для ежемесячного дохода\n",
    "df['total_income'] = df['total_income'].astype(int)"
   ]
  },
  {
   "cell_type": "code",
   "execution_count": 27,
   "metadata": {},
   "outputs": [
    {
     "name": "stdout",
     "output_type": "stream",
     "text": [
      "<class 'pandas.core.frame.DataFrame'>\n",
      "Int64Index: 21525 entries, 17437 to 21510\n",
      "Data columns (total 12 columns):\n",
      " #   Column            Non-Null Count  Dtype \n",
      "---  ------            --------------  ----- \n",
      " 0   children          21525 non-null  int64 \n",
      " 1   days_employed     21525 non-null  int64 \n",
      " 2   dob_years         21525 non-null  int64 \n",
      " 3   education         21525 non-null  object\n",
      " 4   education_id      21525 non-null  int64 \n",
      " 5   family_status     21525 non-null  object\n",
      " 6   family_status_id  21525 non-null  int64 \n",
      " 7   gender            21525 non-null  object\n",
      " 8   income_type       21525 non-null  object\n",
      " 9   debt              21525 non-null  int64 \n",
      " 10  total_income      21525 non-null  int64 \n",
      " 11  purpose           21525 non-null  object\n",
      "dtypes: int64(7), object(5)\n",
      "memory usage: 2.1+ MB\n"
     ]
    }
   ],
   "source": [
    "df.info()"
   ]
  },
  {
   "cell_type": "markdown",
   "metadata": {},
   "source": [
    "### Вывод"
   ]
  },
  {
   "cell_type": "markdown",
   "metadata": {},
   "source": [
    "На данный момент имеется база данных в которой количественные показатели имеют целочисленный формат."
   ]
  },
  {
   "cell_type": "markdown",
   "metadata": {},
   "source": [
    "### Обработка дубликатов"
   ]
  },
  {
   "cell_type": "code",
   "execution_count": 28,
   "metadata": {},
   "outputs": [
    {
     "data": {
      "text/plain": [
       "54"
      ]
     },
     "execution_count": 28,
     "metadata": {},
     "output_type": "execute_result"
    }
   ],
   "source": [
    "# проверка наличия дублированных наблюдений в выборочной совокупности\n",
    "df.duplicated().sum()"
   ]
  },
  {
   "cell_type": "markdown",
   "metadata": {},
   "source": [
    "Наблюдаются 54 дублированных наблюдения."
   ]
  },
  {
   "cell_type": "markdown",
   "metadata": {},
   "source": [
    "Так как некоторые заполненные переменные могут отличаться от друг друга лишь регистром, приведем столбцы \"образование\", \"семейный статус\", \"тип занятости\", \"цель получения кредита\" к нижнему регистру и вновь проверим наличие дублированных наблюдений."
   ]
  },
  {
   "cell_type": "code",
   "execution_count": 29,
   "metadata": {},
   "outputs": [],
   "source": [
    "df['education'] = df['education'].str.lower()\n",
    "df['family_status'] = df['family_status'].str.lower()\n",
    "df['income_type'] = df['income_type'].str.lower()\n",
    "df['purpose'] = df['purpose'].str.lower()\n",
    "df['gender'] = df['gender'].str.upper()"
   ]
  },
  {
   "cell_type": "code",
   "execution_count": 30,
   "metadata": {},
   "outputs": [
    {
     "data": {
      "text/plain": [
       "71"
      ]
     },
     "execution_count": 30,
     "metadata": {},
     "output_type": "execute_result"
    }
   ],
   "source": [
    "df.duplicated().sum()"
   ]
  },
  {
   "cell_type": "code",
   "execution_count": 31,
   "metadata": {},
   "outputs": [],
   "source": [
    "# аккуратно удалим клонов из выборочной совокупности, также переобозначим индексы с удалением лишних индексов\n",
    "df = df.drop_duplicates().reset_index(drop=True)"
   ]
  },
  {
   "cell_type": "code",
   "execution_count": 32,
   "metadata": {},
   "outputs": [
    {
     "data": {
      "text/plain": [
       "0"
      ]
     },
     "execution_count": 32,
     "metadata": {},
     "output_type": "execute_result"
    }
   ],
   "source": [
    "# вновь проверим наличие дублированных наблюдений\n",
    "df.duplicated().sum()"
   ]
  },
  {
   "cell_type": "markdown",
   "metadata": {},
   "source": [
    "### Вывод"
   ]
  },
  {
   "cell_type": "markdown",
   "metadata": {},
   "source": [
    "На данном этапе стоит отметить следующее:\n",
    "- на первой проверке выявили 54-х дублированных наблюдения. Однако с учетом приведения столбцов \"образование\", \"семейный статус\", \"тип занятости\", \"цель получения кредита\", выявились дополнительные дублированные наблюдения, что в совокупности составило 71-но наблюдение. \n",
    "- Далее, убрали дублированные наблюдения из выборочной совокупности.\n",
    "- Наличие дублированных наблюдений может быть обусловлено ..."
   ]
  },
  {
   "cell_type": "markdown",
   "metadata": {},
   "source": [
    "### Лемматизация"
   ]
  },
  {
   "cell_type": "code",
   "execution_count": 33,
   "metadata": {},
   "outputs": [],
   "source": [
    "# загрузка необходимой библиотеки\n",
    "from pymystem3 import Mystem\n",
    "from nltk.stem import SnowballStemmer"
   ]
  },
  {
   "cell_type": "code",
   "execution_count": 34,
   "metadata": {},
   "outputs": [],
   "source": [
    "# инициализация\n",
    "m = Mystem()\n",
    "russian_stemmer = SnowballStemmer('russian')"
   ]
  },
  {
   "cell_type": "code",
   "execution_count": 35,
   "metadata": {},
   "outputs": [],
   "source": [
    "# определяем пустой лист, в который будут размещены лемматизированные слова\n",
    "lemmas = []\n",
    "\n",
    "# каждый элемент в тексте\n",
    "for item in df['purpose']:\n",
    "    try:\n",
    "        # приведем к лемматизированному виду и добавим к пустому листу\n",
    "        lemma = m.lemmatize(item)\n",
    "        lemmas.append(lemma)\n",
    "    except:\n",
    "        print('Возникла ошибка! Стоит пересмотреть цикл')"
   ]
  },
  {
   "cell_type": "code",
   "execution_count": 36,
   "metadata": {},
   "outputs": [
    {
     "data": {
      "text/plain": [
       "[['высокий', ' ', 'образование', '\\n'],\n",
       " ['получение', ' ', 'дополнительный', ' ', 'образование', '\\n'],\n",
       " ['свадьба', '\\n'],\n",
       " ['приобретение', ' ', 'автомобиль', '\\n'],\n",
       " ['получение', ' ', 'образование', '\\n']]"
      ]
     },
     "execution_count": 36,
     "metadata": {},
     "output_type": "execute_result"
    }
   ],
   "source": [
    "# вывод первых 5-ти элементов списка с лемматизированными словами\n",
    "lemmas[:5]"
   ]
  },
  {
   "cell_type": "code",
   "execution_count": 37,
   "metadata": {},
   "outputs": [],
   "source": [
    "# уберем лишние пробелы в каждой строчке лемматизированного списка\n",
    "lemmas = [''.join(item) for item in lemmas]"
   ]
  },
  {
   "cell_type": "code",
   "execution_count": 38,
   "metadata": {},
   "outputs": [
    {
     "name": "stdout",
     "output_type": "stream",
     "text": [
      "Уникальные значения в перечне лемматизированных причин:\n",
      "* автомобиль\n",
      "* высокий образование\n",
      "* дополнительный образование\n",
      "* жилье\n",
      "* заниматься высокий образование\n",
      "* заниматься образование\n",
      "* на покупка автомобиль\n",
      "* на покупка подержать автомобиль\n",
      "* на покупка свой автомобиль\n",
      "* на проведение свадьба\n",
      "* недвижимость\n",
      "* образование\n",
      "* операция с жилье\n",
      "* операция с коммерческий недвижимость\n",
      "* операция с недвижимость\n",
      "* операция со свой недвижимость\n",
      "* покупка жилой недвижимость\n",
      "* покупка жилье\n",
      "* покупка жилье для сдача\n",
      "* покупка жилье для семья\n",
      "* покупка коммерческий недвижимость\n",
      "* покупка недвижимость\n",
      "* покупка свой жилье\n",
      "* получение высокий образование\n",
      "* получение дополнительный образование\n",
      "* получение образование\n",
      "* приобретение автомобиль\n",
      "* профильный образование\n",
      "* ремонт жилье\n",
      "* свадьба\n",
      "* свой автомобиль\n",
      "* сделка с автомобиль\n",
      "* сделка с подержанный автомобиль\n",
      "* строительство жилой недвижимость\n",
      "* строительство недвижимость\n",
      "* строительство собственный недвижимость\n",
      "* сыграть свадьба\n"
     ]
    }
   ],
   "source": [
    "print('Уникальные значения в перечне лемматизированных причин:')\n",
    "# посмотрим на уникальные значения в спике лемматизированных слов\n",
    "for item in pd.Series(lemmas).sort_values().unique():\n",
    "    print('* ',end='')\n",
    "    print(item, end ='')"
   ]
  },
  {
   "cell_type": "markdown",
   "metadata": {},
   "source": [
    "Каких только не бывает причин получения кредита: начиная от самого необходимого, например приобретение жилья, до более роскошного, например проведение свадьбы, что тоже хорошо :)\\\n",
    "Таким образом, основными целями получениям кредита являются (а) приобретение автомобиля, (б) получение образования, (в) проведение свадьбы, (г) покупка жилья и недвижимость (для собственного проживания), (д) коммерческая недвижимость (для перепродажи или сдачи в аренду)."
   ]
  },
  {
   "cell_type": "code",
   "execution_count": 39,
   "metadata": {},
   "outputs": [],
   "source": [
    "def lemma_for_purpose(lemmas):\n",
    "    list_of_lemmas = []\n",
    "    \n",
    "    for i in range(len(lemmas)):\n",
    "        # сначала определим более явные цели\n",
    "        if 'образование' in lemmas[i]:\n",
    "            list_of_lemmas.append('образование')\n",
    "    \n",
    "        elif 'свадьба' in lemmas[i]:\n",
    "            list_of_lemmas.append('свадьба')\n",
    "            \n",
    "        elif 'автомобиль' in lemmas[i]:\n",
    "            list_of_lemmas.append('автомобиль')\n",
    "        # \n",
    "        elif ('жилье' in lemmas[i]) or ('собственный' in lemmas[i]) or ('жилой' in lemmas[i]) or ('недвижимость' in lemmas[i]):\n",
    "            list_of_lemmas.append('недвижимость')\n",
    "        \n",
    "        # проверка на оставшиеся цели помимо вышеуказанных\n",
    "        else:\n",
    "            list_of_lemmas.append('другое')\n",
    "            \n",
    "    return list_of_lemmas"
   ]
  },
  {
   "cell_type": "code",
   "execution_count": 40,
   "metadata": {},
   "outputs": [],
   "source": [
    "try:\n",
    "    # присоединим леммы в выборочную совокупность\n",
    "    df['lemma'] = lemma_for_purpose(lemmas)\n",
    "    # вывод первых пяти наблюдений\n",
    "    df.head()\n",
    "except:\n",
    "    print('Ошибка! Стоит пересмотеть функцию \"lemma_for_purpose\"')"
   ]
  },
  {
   "cell_type": "code",
   "execution_count": 41,
   "metadata": {},
   "outputs": [
    {
     "data": {
      "text/plain": [
       "недвижимость    10811\n",
       "автомобиль       4306\n",
       "образование      4013\n",
       "свадьба          2324\n",
       "Name: lemma, dtype: int64"
      ]
     },
     "execution_count": 41,
     "metadata": {},
     "output_type": "execute_result"
    }
   ],
   "source": [
    "# подсчет уникальных лемм из перечня целей получения кредита\n",
    "df['lemma'].value_counts()"
   ]
  },
  {
   "cell_type": "markdown",
   "metadata": {},
   "source": [
    "### Выводы"
   ]
  },
  {
   "cell_type": "markdown",
   "metadata": {},
   "source": [
    "Завершая данный раздел, стоит отметить следующее:\n",
    "- постарались выделить леммы для целей получения кредита в выборочной совокупности,\n",
    "- выявились основные 4 категории к числу которых относятся: (1) недвижимость ( как для собственного проживания, так и для осуществления коммерческих операций), (2) автомобиль, (3) образование, (4) свадьба.\n",
    "- Действительно, в результате подсчета уникальных значений, не было выявлено категории \"другое\", т.е. выделенные 4 категории охватывают весь перечень целей получения кредита.\n",
    "- Лидером целей получения кредита является приобретение недвижимости.\n",
    "- Меньше всего клиенты обращаются за приобретением кредита для проведения свадьбы."
   ]
  },
  {
   "cell_type": "markdown",
   "metadata": {},
   "source": [
    "### Категоризация данных"
   ]
  },
  {
   "cell_type": "code",
   "execution_count": 42,
   "metadata": {},
   "outputs": [
    {
     "data": {
      "text/plain": [
       "count    2.145400e+04\n",
       "mean     1.674316e+05\n",
       "std      9.806060e+04\n",
       "min      2.066700e+04\n",
       "25%      1.076230e+05\n",
       "50%      1.518870e+05\n",
       "75%      2.024170e+05\n",
       "max      2.265604e+06\n",
       "Name: total_income, dtype: float64"
      ]
     },
     "execution_count": 42,
     "metadata": {},
     "output_type": "execute_result"
    }
   ],
   "source": [
    "# определим основные числовые характеристики ежемесячных доходов клиентов\n",
    "df['total_income'].describe()"
   ]
  },
  {
   "cell_type": "markdown",
   "metadata": {},
   "source": [
    "Касательно ежемесячных расходов, наблюдаем следующее:\\\n",
    "(а) минимальный ежемесячный доход составляет 20 667 у.е.,\\\n",
    "(б) средний ежемесячный доход составляет 167 422 у.е.,\\\n",
    "(в) максимальный ежемесячный доход равен 2 265 604 у.е.,\\\n",
    "(г) разброс вокруг среднего приблизительно 102 971 у.е.\\\n",
    "Опираясь на данную информацию, можно разделить клиентов на три категории в зависимости от величины ежемесячных доходов:\\\n",
    "(1) \"низкий доход\": от наименьшей величины до среднего значения (не включено). Медиана скорее не подойдет, поскольку в распределении наблюдается левый толстый хвост, что может привести к смещению;\\\n",
    "(2) \"средний доход\": от среднего (включительно) до величины равной 75-ти процентам (не включительно) распределения доходов;\\\n",
    "(3) \"высокий доход\": от 75-ти процентов распределения доходов до максимального значения."
   ]
  },
  {
   "cell_type": "code",
   "execution_count": 43,
   "metadata": {},
   "outputs": [],
   "source": [
    "# вывод величины на 75-ти процентном распределения\n",
    "third_quartile = df['total_income'].describe()[6]\n",
    "# средний ежемесячный доход\n",
    "mean_income = df['total_income'].mean()"
   ]
  },
  {
   "cell_type": "code",
   "execution_count": 44,
   "metadata": {},
   "outputs": [],
   "source": [
    "def income_category(income):\n",
    "    '''\n",
    "    income: столбец со значениями доходов\n",
    "    output: классификация клиентов на три класса в зависимости от\n",
    "    величины ежемесячных доходов\n",
    "    '''     \n",
    "    if income < mean_income:\n",
    "        return 'низкий доход'\n",
    "    elif mean_income <= income < third_quartile:\n",
    "        return 'средний доход'\n",
    "    elif income >= third_quartile:\n",
    "        return 'высокий доход'"
   ]
  },
  {
   "cell_type": "code",
   "execution_count": 45,
   "metadata": {},
   "outputs": [],
   "source": [
    "# воспользуемся функцией классификации клиентов в зависимости от величины ежемесячного дохода\n",
    "try:\n",
    "    df['income_category'] = df['total_income'].apply(income_category)\n",
    "except:\n",
    "    print('Ошибка! Стоит пересмотреть фунцию классификации в зависимости от ежемесячного дохода')"
   ]
  },
  {
   "cell_type": "code",
   "execution_count": 46,
   "metadata": {},
   "outputs": [
    {
     "data": {
      "text/plain": [
       "низкий доход     13350\n",
       "высокий доход     5410\n",
       "средний доход     2694\n",
       "Name: income_category, dtype: int64"
      ]
     },
     "execution_count": 46,
     "metadata": {},
     "output_type": "execute_result"
    }
   ],
   "source": [
    "# произведем подсчет уникальных значений каждой категории клиентов\n",
    "# в зависимости от величины ежемесячного дохода\n",
    "df['income_category'].value_counts()"
   ]
  },
  {
   "cell_type": "markdown",
   "metadata": {},
   "source": [
    "Далее, осуществим классификацию клиентов в зависимости от возраста."
   ]
  },
  {
   "cell_type": "code",
   "execution_count": 47,
   "metadata": {},
   "outputs": [
    {
     "data": {
      "text/plain": [
       "count    21454.000000\n",
       "mean        43.271231\n",
       "std         12.570822\n",
       "min          0.000000\n",
       "25%         33.000000\n",
       "50%         42.000000\n",
       "75%         53.000000\n",
       "max         75.000000\n",
       "Name: dob_years, dtype: float64"
      ]
     },
     "execution_count": 47,
     "metadata": {},
     "output_type": "execute_result"
    }
   ],
   "source": [
    "# определим числовые характеристики возроста клиентов\n",
    "df['dob_years'].describe()"
   ]
  },
  {
   "cell_type": "markdown",
   "metadata": {},
   "source": [
    "В отношении возраста наблюдаем следующее:\\\n",
    "(а) средний возраст клиента составляет 43 года;\\\n",
    "(б) разброс вокруг среднего возраста составляет 12 лет;\\\n",
    "(в) самому старшему клиенту 75 лет."
   ]
  },
  {
   "cell_type": "code",
   "execution_count": 48,
   "metadata": {},
   "outputs": [],
   "source": [
    "# определим функцию классификации клиентов в зависимости от возраста\n",
    "def age_category(age):\n",
    "    '''\n",
    "    age: возраст клиентов\n",
    "    output: классификация клиентов на три категории в зависимости от возраста:\n",
    "    (1) младше 19 лет: дети\n",
    "    (2) от 19 до 64 лет: взрослые\n",
    "    (3) старше 64 лет: пенсионеры\n",
    "    '''\n",
    "    if age < 19:\n",
    "        return 'дети'\n",
    "    elif 19 <= age < 64:\n",
    "        return 'взрослые'\n",
    "    else:\n",
    "        return 'пенсионеры'"
   ]
  },
  {
   "cell_type": "code",
   "execution_count": 49,
   "metadata": {},
   "outputs": [],
   "source": [
    "# используем функцию классификации клиентов в зависимости от возраста\n",
    "try:\n",
    "    df['age_category'] = df['dob_years'].apply(age_category)\n",
    "except:\n",
    "    print('Ошибка! Стоит пересмотреть функцию классификации клиентов в зависимости от возраста')"
   ]
  },
  {
   "cell_type": "code",
   "execution_count": 50,
   "metadata": {},
   "outputs": [
    {
     "data": {
      "text/plain": [
       "взрослые      20198\n",
       "пенсионеры     1155\n",
       "дети            101\n",
       "Name: age_category, dtype: int64"
      ]
     },
     "execution_count": 50,
     "metadata": {},
     "output_type": "execute_result"
    }
   ],
   "source": [
    "# произведем подсчет возрастных категорий\n",
    "df['age_category'].value_counts()"
   ]
  },
  {
   "cell_type": "markdown",
   "metadata": {},
   "source": [
    "Возраст значительной части клиентов являются взрослыми людьми."
   ]
  },
  {
   "cell_type": "markdown",
   "metadata": {},
   "source": [
    "### Вывод"
   ]
  },
  {
   "cell_type": "markdown",
   "metadata": {},
   "source": [
    "Завершая раздел \"категоризация данных\", стоит отметить следующее:\\\n",
    "(а) произвели классификацию клиентов в зависимости от ежемесячного дохода на три категории: с низким, средним и высоким доходами, соответственно. Значительная часть клиентов имеет доход ниже средней величины;\\\n",
    "(б) произвели классификацию клиентов в зависимости от возраста на три категории: дети - младше 19 лет, взрослые - от 19 до 64 лет, пенсионеры - старше 64 лет. Значительная часть клиентов попадают в категорию взрослых.\\\n",
    "Также есть и те, которые несмотря на молодой возраст обращаются к кредитным учреждениям. Помимо слишком молодых, пенсионеры также участвуют в долговых отношениях."
   ]
  },
  {
   "cell_type": "markdown",
   "metadata": {},
   "source": [
    "### Шаг 3. Ответьте на вопросы"
   ]
  },
  {
   "cell_type": "markdown",
   "metadata": {},
   "source": [
    "- Есть ли зависимость между наличием детей и возвратом кредита в срок?"
   ]
  },
  {
   "cell_type": "code",
   "execution_count": 51,
   "metadata": {},
   "outputs": [
    {
     "data": {
      "text/plain": [
       "count    21454.000000\n",
       "mean         0.539946\n",
       "std          1.383444\n",
       "min         -1.000000\n",
       "25%          0.000000\n",
       "50%          0.000000\n",
       "75%          1.000000\n",
       "max         20.000000\n",
       "Name: children, dtype: float64"
      ]
     },
     "execution_count": 51,
     "metadata": {},
     "output_type": "execute_result"
    }
   ],
   "source": [
    "# определим числовые характеристики количества детей клиентов\n",
    "df['children'].describe()"
   ]
  },
  {
   "cell_type": "markdown",
   "metadata": {},
   "source": [
    "Видим наличие отрицательного количества детей. Переведем отрицательное количество детей в положительное. Пускай будет больше детей...но, есть и крайние случаи: 20 детей!"
   ]
  },
  {
   "cell_type": "code",
   "execution_count": 52,
   "metadata": {},
   "outputs": [
    {
     "data": {
      "text/plain": [
       " 0     14091\n",
       " 1      4808\n",
       " 2      2052\n",
       " 3       330\n",
       " 20       76\n",
       "-1        47\n",
       " 4        41\n",
       " 5         9\n",
       "Name: children, dtype: int64"
      ]
     },
     "execution_count": 52,
     "metadata": {},
     "output_type": "execute_result"
    }
   ],
   "source": [
    "# произведем подсчет клиентов в зависимости от количества детей\n",
    "df['children'].value_counts()"
   ]
  },
  {
   "cell_type": "markdown",
   "metadata": {},
   "source": [
    "Вдобавок, видим резкий переход от 5-ти детей к крайне большому количеству в размере 20 детей!"
   ]
  },
  {
   "cell_type": "code",
   "execution_count": 53,
   "metadata": {},
   "outputs": [
    {
     "data": {
      "text/html": [
       "<div>\n",
       "<style scoped>\n",
       "    .dataframe tbody tr th:only-of-type {\n",
       "        vertical-align: middle;\n",
       "    }\n",
       "\n",
       "    .dataframe tbody tr th {\n",
       "        vertical-align: top;\n",
       "    }\n",
       "\n",
       "    .dataframe thead th {\n",
       "        text-align: right;\n",
       "    }\n",
       "</style>\n",
       "<table border=\"1\" class=\"dataframe\">\n",
       "  <thead>\n",
       "    <tr style=\"text-align: right;\">\n",
       "      <th></th>\n",
       "      <th>children</th>\n",
       "      <th>days_employed</th>\n",
       "      <th>dob_years</th>\n",
       "      <th>education</th>\n",
       "      <th>education_id</th>\n",
       "      <th>family_status</th>\n",
       "      <th>family_status_id</th>\n",
       "      <th>gender</th>\n",
       "      <th>income_type</th>\n",
       "      <th>debt</th>\n",
       "      <th>total_income</th>\n",
       "      <th>purpose</th>\n",
       "      <th>lemma</th>\n",
       "      <th>income_category</th>\n",
       "      <th>age_category</th>\n",
       "    </tr>\n",
       "  </thead>\n",
       "  <tbody>\n",
       "    <tr>\n",
       "      <th>705</th>\n",
       "      <td>-1</td>\n",
       "      <td>195</td>\n",
       "      <td>31</td>\n",
       "      <td>среднее</td>\n",
       "      <td>1</td>\n",
       "      <td>женат / замужем</td>\n",
       "      <td>0</td>\n",
       "      <td>F</td>\n",
       "      <td>сотрудник</td>\n",
       "      <td>0</td>\n",
       "      <td>145577</td>\n",
       "      <td>ремонт жилью</td>\n",
       "      <td>недвижимость</td>\n",
       "      <td>низкий доход</td>\n",
       "      <td>взрослые</td>\n",
       "    </tr>\n",
       "    <tr>\n",
       "      <th>1252</th>\n",
       "      <td>-1</td>\n",
       "      <td>268</td>\n",
       "      <td>23</td>\n",
       "      <td>среднее</td>\n",
       "      <td>1</td>\n",
       "      <td>в разводе</td>\n",
       "      <td>3</td>\n",
       "      <td>F</td>\n",
       "      <td>компаньон</td>\n",
       "      <td>0</td>\n",
       "      <td>92257</td>\n",
       "      <td>покупка жилой недвижимости</td>\n",
       "      <td>недвижимость</td>\n",
       "      <td>низкий доход</td>\n",
       "      <td>взрослые</td>\n",
       "    </tr>\n",
       "    <tr>\n",
       "      <th>1860</th>\n",
       "      <td>-1</td>\n",
       "      <td>370</td>\n",
       "      <td>27</td>\n",
       "      <td>среднее</td>\n",
       "      <td>1</td>\n",
       "      <td>женат / замужем</td>\n",
       "      <td>0</td>\n",
       "      <td>F</td>\n",
       "      <td>компаньон</td>\n",
       "      <td>0</td>\n",
       "      <td>164591</td>\n",
       "      <td>покупка жилья для сдачи</td>\n",
       "      <td>недвижимость</td>\n",
       "      <td>низкий доход</td>\n",
       "      <td>взрослые</td>\n",
       "    </tr>\n",
       "    <tr>\n",
       "      <th>1865</th>\n",
       "      <td>-1</td>\n",
       "      <td>372</td>\n",
       "      <td>43</td>\n",
       "      <td>среднее</td>\n",
       "      <td>1</td>\n",
       "      <td>женат / замужем</td>\n",
       "      <td>0</td>\n",
       "      <td>M</td>\n",
       "      <td>сотрудник</td>\n",
       "      <td>0</td>\n",
       "      <td>155588</td>\n",
       "      <td>сделка с подержанным автомобилем</td>\n",
       "      <td>автомобиль</td>\n",
       "      <td>низкий доход</td>\n",
       "      <td>взрослые</td>\n",
       "    </tr>\n",
       "    <tr>\n",
       "      <th>2385</th>\n",
       "      <td>-1</td>\n",
       "      <td>457</td>\n",
       "      <td>33</td>\n",
       "      <td>среднее</td>\n",
       "      <td>1</td>\n",
       "      <td>женат / замужем</td>\n",
       "      <td>0</td>\n",
       "      <td>F</td>\n",
       "      <td>сотрудник</td>\n",
       "      <td>1</td>\n",
       "      <td>149641</td>\n",
       "      <td>автомобиль</td>\n",
       "      <td>автомобиль</td>\n",
       "      <td>низкий доход</td>\n",
       "      <td>взрослые</td>\n",
       "    </tr>\n",
       "    <tr>\n",
       "      <th>2755</th>\n",
       "      <td>-1</td>\n",
       "      <td>526</td>\n",
       "      <td>51</td>\n",
       "      <td>среднее</td>\n",
       "      <td>1</td>\n",
       "      <td>женат / замужем</td>\n",
       "      <td>0</td>\n",
       "      <td>F</td>\n",
       "      <td>сотрудник</td>\n",
       "      <td>0</td>\n",
       "      <td>146928</td>\n",
       "      <td>операции с коммерческой недвижимостью</td>\n",
       "      <td>недвижимость</td>\n",
       "      <td>низкий доход</td>\n",
       "      <td>взрослые</td>\n",
       "    </tr>\n",
       "    <tr>\n",
       "      <th>3230</th>\n",
       "      <td>-1</td>\n",
       "      <td>617</td>\n",
       "      <td>38</td>\n",
       "      <td>среднее</td>\n",
       "      <td>1</td>\n",
       "      <td>не женат / не замужем</td>\n",
       "      <td>4</td>\n",
       "      <td>M</td>\n",
       "      <td>сотрудник</td>\n",
       "      <td>0</td>\n",
       "      <td>122205</td>\n",
       "      <td>строительство жилой недвижимости</td>\n",
       "      <td>недвижимость</td>\n",
       "      <td>низкий доход</td>\n",
       "      <td>взрослые</td>\n",
       "    </tr>\n",
       "    <tr>\n",
       "      <th>3463</th>\n",
       "      <td>-1</td>\n",
       "      <td>661</td>\n",
       "      <td>32</td>\n",
       "      <td>высшее</td>\n",
       "      <td>0</td>\n",
       "      <td>женат / замужем</td>\n",
       "      <td>0</td>\n",
       "      <td>F</td>\n",
       "      <td>сотрудник</td>\n",
       "      <td>0</td>\n",
       "      <td>137405</td>\n",
       "      <td>покупка жилой недвижимости</td>\n",
       "      <td>недвижимость</td>\n",
       "      <td>низкий доход</td>\n",
       "      <td>взрослые</td>\n",
       "    </tr>\n",
       "    <tr>\n",
       "      <th>4666</th>\n",
       "      <td>-1</td>\n",
       "      <td>895</td>\n",
       "      <td>37</td>\n",
       "      <td>среднее</td>\n",
       "      <td>1</td>\n",
       "      <td>женат / замужем</td>\n",
       "      <td>0</td>\n",
       "      <td>F</td>\n",
       "      <td>компаньон</td>\n",
       "      <td>0</td>\n",
       "      <td>214814</td>\n",
       "      <td>жилье</td>\n",
       "      <td>недвижимость</td>\n",
       "      <td>высокий доход</td>\n",
       "      <td>взрослые</td>\n",
       "    </tr>\n",
       "    <tr>\n",
       "      <th>4700</th>\n",
       "      <td>-1</td>\n",
       "      <td>901</td>\n",
       "      <td>41</td>\n",
       "      <td>среднее</td>\n",
       "      <td>1</td>\n",
       "      <td>женат / замужем</td>\n",
       "      <td>0</td>\n",
       "      <td>F</td>\n",
       "      <td>госслужащий</td>\n",
       "      <td>0</td>\n",
       "      <td>226375</td>\n",
       "      <td>операции со своей недвижимостью</td>\n",
       "      <td>недвижимость</td>\n",
       "      <td>высокий доход</td>\n",
       "      <td>взрослые</td>\n",
       "    </tr>\n",
       "    <tr>\n",
       "      <th>4705</th>\n",
       "      <td>-1</td>\n",
       "      <td>902</td>\n",
       "      <td>50</td>\n",
       "      <td>среднее</td>\n",
       "      <td>1</td>\n",
       "      <td>женат / замужем</td>\n",
       "      <td>0</td>\n",
       "      <td>F</td>\n",
       "      <td>госслужащий</td>\n",
       "      <td>0</td>\n",
       "      <td>137882</td>\n",
       "      <td>приобретение автомобиля</td>\n",
       "      <td>автомобиль</td>\n",
       "      <td>низкий доход</td>\n",
       "      <td>взрослые</td>\n",
       "    </tr>\n",
       "    <tr>\n",
       "      <th>5492</th>\n",
       "      <td>-1</td>\n",
       "      <td>1048</td>\n",
       "      <td>30</td>\n",
       "      <td>высшее</td>\n",
       "      <td>0</td>\n",
       "      <td>гражданский брак</td>\n",
       "      <td>1</td>\n",
       "      <td>F</td>\n",
       "      <td>компаньон</td>\n",
       "      <td>0</td>\n",
       "      <td>321603</td>\n",
       "      <td>на покупку автомобиля</td>\n",
       "      <td>автомобиль</td>\n",
       "      <td>высокий доход</td>\n",
       "      <td>взрослые</td>\n",
       "    </tr>\n",
       "    <tr>\n",
       "      <th>5946</th>\n",
       "      <td>-1</td>\n",
       "      <td>1143</td>\n",
       "      <td>46</td>\n",
       "      <td>среднее</td>\n",
       "      <td>1</td>\n",
       "      <td>вдовец / вдова</td>\n",
       "      <td>2</td>\n",
       "      <td>F</td>\n",
       "      <td>сотрудник</td>\n",
       "      <td>0</td>\n",
       "      <td>278708</td>\n",
       "      <td>покупка недвижимости</td>\n",
       "      <td>недвижимость</td>\n",
       "      <td>высокий доход</td>\n",
       "      <td>взрослые</td>\n",
       "    </tr>\n",
       "    <tr>\n",
       "      <th>6183</th>\n",
       "      <td>-1</td>\n",
       "      <td>1195</td>\n",
       "      <td>55</td>\n",
       "      <td>среднее</td>\n",
       "      <td>1</td>\n",
       "      <td>женат / замужем</td>\n",
       "      <td>0</td>\n",
       "      <td>F</td>\n",
       "      <td>компаньон</td>\n",
       "      <td>0</td>\n",
       "      <td>69550</td>\n",
       "      <td>профильное образование</td>\n",
       "      <td>образование</td>\n",
       "      <td>низкий доход</td>\n",
       "      <td>взрослые</td>\n",
       "    </tr>\n",
       "    <tr>\n",
       "      <th>6920</th>\n",
       "      <td>-1</td>\n",
       "      <td>1361</td>\n",
       "      <td>46</td>\n",
       "      <td>высшее</td>\n",
       "      <td>0</td>\n",
       "      <td>женат / замужем</td>\n",
       "      <td>0</td>\n",
       "      <td>F</td>\n",
       "      <td>сотрудник</td>\n",
       "      <td>0</td>\n",
       "      <td>143008</td>\n",
       "      <td>строительство собственной недвижимости</td>\n",
       "      <td>недвижимость</td>\n",
       "      <td>низкий доход</td>\n",
       "      <td>взрослые</td>\n",
       "    </tr>\n",
       "    <tr>\n",
       "      <th>7145</th>\n",
       "      <td>-1</td>\n",
       "      <td>1422</td>\n",
       "      <td>44</td>\n",
       "      <td>среднее</td>\n",
       "      <td>1</td>\n",
       "      <td>женат / замужем</td>\n",
       "      <td>0</td>\n",
       "      <td>F</td>\n",
       "      <td>компаньон</td>\n",
       "      <td>0</td>\n",
       "      <td>169562</td>\n",
       "      <td>операции со своей недвижимостью</td>\n",
       "      <td>недвижимость</td>\n",
       "      <td>средний доход</td>\n",
       "      <td>взрослые</td>\n",
       "    </tr>\n",
       "    <tr>\n",
       "      <th>7295</th>\n",
       "      <td>-1</td>\n",
       "      <td>1461</td>\n",
       "      <td>38</td>\n",
       "      <td>среднее</td>\n",
       "      <td>1</td>\n",
       "      <td>не женат / не замужем</td>\n",
       "      <td>4</td>\n",
       "      <td>M</td>\n",
       "      <td>сотрудник</td>\n",
       "      <td>0</td>\n",
       "      <td>109121</td>\n",
       "      <td>покупка жилья</td>\n",
       "      <td>недвижимость</td>\n",
       "      <td>низкий доход</td>\n",
       "      <td>взрослые</td>\n",
       "    </tr>\n",
       "    <tr>\n",
       "      <th>8361</th>\n",
       "      <td>-1</td>\n",
       "      <td>1743</td>\n",
       "      <td>37</td>\n",
       "      <td>среднее</td>\n",
       "      <td>1</td>\n",
       "      <td>женат / замужем</td>\n",
       "      <td>0</td>\n",
       "      <td>M</td>\n",
       "      <td>сотрудник</td>\n",
       "      <td>0</td>\n",
       "      <td>310367</td>\n",
       "      <td>получение образования</td>\n",
       "      <td>образование</td>\n",
       "      <td>высокий доход</td>\n",
       "      <td>взрослые</td>\n",
       "    </tr>\n",
       "    <tr>\n",
       "      <th>8572</th>\n",
       "      <td>-1</td>\n",
       "      <td>1803</td>\n",
       "      <td>54</td>\n",
       "      <td>высшее</td>\n",
       "      <td>0</td>\n",
       "      <td>женат / замужем</td>\n",
       "      <td>0</td>\n",
       "      <td>F</td>\n",
       "      <td>компаньон</td>\n",
       "      <td>0</td>\n",
       "      <td>138809</td>\n",
       "      <td>покупка недвижимости</td>\n",
       "      <td>недвижимость</td>\n",
       "      <td>низкий доход</td>\n",
       "      <td>взрослые</td>\n",
       "    </tr>\n",
       "    <tr>\n",
       "      <th>8600</th>\n",
       "      <td>-1</td>\n",
       "      <td>1811</td>\n",
       "      <td>32</td>\n",
       "      <td>среднее</td>\n",
       "      <td>1</td>\n",
       "      <td>женат / замужем</td>\n",
       "      <td>0</td>\n",
       "      <td>F</td>\n",
       "      <td>сотрудник</td>\n",
       "      <td>0</td>\n",
       "      <td>160544</td>\n",
       "      <td>образование</td>\n",
       "      <td>образование</td>\n",
       "      <td>низкий доход</td>\n",
       "      <td>взрослые</td>\n",
       "    </tr>\n",
       "    <tr>\n",
       "      <th>10592</th>\n",
       "      <td>-1</td>\n",
       "      <td>2539</td>\n",
       "      <td>42</td>\n",
       "      <td>среднее</td>\n",
       "      <td>1</td>\n",
       "      <td>в разводе</td>\n",
       "      <td>3</td>\n",
       "      <td>F</td>\n",
       "      <td>компаньон</td>\n",
       "      <td>0</td>\n",
       "      <td>162638</td>\n",
       "      <td>покупка жилья</td>\n",
       "      <td>недвижимость</td>\n",
       "      <td>низкий доход</td>\n",
       "      <td>взрослые</td>\n",
       "    </tr>\n",
       "    <tr>\n",
       "      <th>10983</th>\n",
       "      <td>-1</td>\n",
       "      <td>2710</td>\n",
       "      <td>28</td>\n",
       "      <td>высшее</td>\n",
       "      <td>0</td>\n",
       "      <td>женат / замужем</td>\n",
       "      <td>0</td>\n",
       "      <td>M</td>\n",
       "      <td>госслужащий</td>\n",
       "      <td>0</td>\n",
       "      <td>303137</td>\n",
       "      <td>получение дополнительного образования</td>\n",
       "      <td>образование</td>\n",
       "      <td>высокий доход</td>\n",
       "      <td>взрослые</td>\n",
       "    </tr>\n",
       "    <tr>\n",
       "      <th>11178</th>\n",
       "      <td>-1</td>\n",
       "      <td>2802</td>\n",
       "      <td>40</td>\n",
       "      <td>высшее</td>\n",
       "      <td>0</td>\n",
       "      <td>женат / замужем</td>\n",
       "      <td>0</td>\n",
       "      <td>M</td>\n",
       "      <td>сотрудник</td>\n",
       "      <td>0</td>\n",
       "      <td>111984</td>\n",
       "      <td>покупка жилья</td>\n",
       "      <td>недвижимость</td>\n",
       "      <td>низкий доход</td>\n",
       "      <td>взрослые</td>\n",
       "    </tr>\n",
       "    <tr>\n",
       "      <th>11199</th>\n",
       "      <td>-1</td>\n",
       "      <td>2809</td>\n",
       "      <td>34</td>\n",
       "      <td>среднее</td>\n",
       "      <td>1</td>\n",
       "      <td>женат / замужем</td>\n",
       "      <td>0</td>\n",
       "      <td>F</td>\n",
       "      <td>сотрудник</td>\n",
       "      <td>0</td>\n",
       "      <td>182543</td>\n",
       "      <td>на покупку подержанного автомобиля</td>\n",
       "      <td>автомобиль</td>\n",
       "      <td>средний доход</td>\n",
       "      <td>взрослые</td>\n",
       "    </tr>\n",
       "    <tr>\n",
       "      <th>11390</th>\n",
       "      <td>-1</td>\n",
       "      <td>2896</td>\n",
       "      <td>34</td>\n",
       "      <td>высшее</td>\n",
       "      <td>0</td>\n",
       "      <td>женат / замужем</td>\n",
       "      <td>0</td>\n",
       "      <td>M</td>\n",
       "      <td>сотрудник</td>\n",
       "      <td>0</td>\n",
       "      <td>126754</td>\n",
       "      <td>операции с недвижимостью</td>\n",
       "      <td>недвижимость</td>\n",
       "      <td>низкий доход</td>\n",
       "      <td>взрослые</td>\n",
       "    </tr>\n",
       "    <tr>\n",
       "      <th>11713</th>\n",
       "      <td>-1</td>\n",
       "      <td>3045</td>\n",
       "      <td>26</td>\n",
       "      <td>среднее</td>\n",
       "      <td>1</td>\n",
       "      <td>гражданский брак</td>\n",
       "      <td>1</td>\n",
       "      <td>F</td>\n",
       "      <td>госслужащий</td>\n",
       "      <td>0</td>\n",
       "      <td>131892</td>\n",
       "      <td>на проведение свадьбы</td>\n",
       "      <td>свадьба</td>\n",
       "      <td>низкий доход</td>\n",
       "      <td>взрослые</td>\n",
       "    </tr>\n",
       "    <tr>\n",
       "      <th>11843</th>\n",
       "      <td>-1</td>\n",
       "      <td>3113</td>\n",
       "      <td>31</td>\n",
       "      <td>среднее</td>\n",
       "      <td>1</td>\n",
       "      <td>гражданский брак</td>\n",
       "      <td>1</td>\n",
       "      <td>F</td>\n",
       "      <td>сотрудник</td>\n",
       "      <td>0</td>\n",
       "      <td>54412</td>\n",
       "      <td>свой автомобиль</td>\n",
       "      <td>автомобиль</td>\n",
       "      <td>низкий доход</td>\n",
       "      <td>взрослые</td>\n",
       "    </tr>\n",
       "    <tr>\n",
       "      <th>11969</th>\n",
       "      <td>-1</td>\n",
       "      <td>3174</td>\n",
       "      <td>57</td>\n",
       "      <td>среднее</td>\n",
       "      <td>1</td>\n",
       "      <td>женат / замужем</td>\n",
       "      <td>0</td>\n",
       "      <td>F</td>\n",
       "      <td>сотрудник</td>\n",
       "      <td>0</td>\n",
       "      <td>64268</td>\n",
       "      <td>дополнительное образование</td>\n",
       "      <td>образование</td>\n",
       "      <td>низкий доход</td>\n",
       "      <td>взрослые</td>\n",
       "    </tr>\n",
       "    <tr>\n",
       "      <th>12097</th>\n",
       "      <td>-1</td>\n",
       "      <td>3237</td>\n",
       "      <td>53</td>\n",
       "      <td>среднее</td>\n",
       "      <td>1</td>\n",
       "      <td>вдовец / вдова</td>\n",
       "      <td>2</td>\n",
       "      <td>F</td>\n",
       "      <td>сотрудник</td>\n",
       "      <td>0</td>\n",
       "      <td>159676</td>\n",
       "      <td>строительство жилой недвижимости</td>\n",
       "      <td>недвижимость</td>\n",
       "      <td>низкий доход</td>\n",
       "      <td>взрослые</td>\n",
       "    </tr>\n",
       "    <tr>\n",
       "      <th>12970</th>\n",
       "      <td>-1</td>\n",
       "      <td>3404</td>\n",
       "      <td>50</td>\n",
       "      <td>среднее</td>\n",
       "      <td>1</td>\n",
       "      <td>женат / замужем</td>\n",
       "      <td>0</td>\n",
       "      <td>M</td>\n",
       "      <td>пенсионер</td>\n",
       "      <td>0</td>\n",
       "      <td>170762</td>\n",
       "      <td>покупка своего жилья</td>\n",
       "      <td>недвижимость</td>\n",
       "      <td>средний доход</td>\n",
       "      <td>взрослые</td>\n",
       "    </tr>\n",
       "    <tr>\n",
       "      <th>13185</th>\n",
       "      <td>-1</td>\n",
       "      <td>3438</td>\n",
       "      <td>59</td>\n",
       "      <td>среднее</td>\n",
       "      <td>1</td>\n",
       "      <td>женат / замужем</td>\n",
       "      <td>0</td>\n",
       "      <td>F</td>\n",
       "      <td>сотрудник</td>\n",
       "      <td>0</td>\n",
       "      <td>219874</td>\n",
       "      <td>операции с жильем</td>\n",
       "      <td>недвижимость</td>\n",
       "      <td>высокий доход</td>\n",
       "      <td>взрослые</td>\n",
       "    </tr>\n",
       "    <tr>\n",
       "      <th>13292</th>\n",
       "      <td>-1</td>\n",
       "      <td>3457</td>\n",
       "      <td>63</td>\n",
       "      <td>высшее</td>\n",
       "      <td>0</td>\n",
       "      <td>вдовец / вдова</td>\n",
       "      <td>2</td>\n",
       "      <td>F</td>\n",
       "      <td>пенсионер</td>\n",
       "      <td>0</td>\n",
       "      <td>170762</td>\n",
       "      <td>строительство жилой недвижимости</td>\n",
       "      <td>недвижимость</td>\n",
       "      <td>средний доход</td>\n",
       "      <td>взрослые</td>\n",
       "    </tr>\n",
       "    <tr>\n",
       "      <th>13563</th>\n",
       "      <td>-1</td>\n",
       "      <td>3499</td>\n",
       "      <td>54</td>\n",
       "      <td>среднее</td>\n",
       "      <td>1</td>\n",
       "      <td>не женат / не замужем</td>\n",
       "      <td>4</td>\n",
       "      <td>F</td>\n",
       "      <td>пенсионер</td>\n",
       "      <td>0</td>\n",
       "      <td>86293</td>\n",
       "      <td>дополнительное образование</td>\n",
       "      <td>образование</td>\n",
       "      <td>низкий доход</td>\n",
       "      <td>взрослые</td>\n",
       "    </tr>\n",
       "    <tr>\n",
       "      <th>13582</th>\n",
       "      <td>-1</td>\n",
       "      <td>3503</td>\n",
       "      <td>28</td>\n",
       "      <td>среднее</td>\n",
       "      <td>1</td>\n",
       "      <td>в разводе</td>\n",
       "      <td>3</td>\n",
       "      <td>F</td>\n",
       "      <td>пенсионер</td>\n",
       "      <td>0</td>\n",
       "      <td>52872</td>\n",
       "      <td>автомобили</td>\n",
       "      <td>автомобиль</td>\n",
       "      <td>низкий доход</td>\n",
       "      <td>взрослые</td>\n",
       "    </tr>\n",
       "    <tr>\n",
       "      <th>13867</th>\n",
       "      <td>-1</td>\n",
       "      <td>3551</td>\n",
       "      <td>69</td>\n",
       "      <td>среднее</td>\n",
       "      <td>1</td>\n",
       "      <td>не женат / не замужем</td>\n",
       "      <td>4</td>\n",
       "      <td>F</td>\n",
       "      <td>пенсионер</td>\n",
       "      <td>0</td>\n",
       "      <td>116521</td>\n",
       "      <td>операции с недвижимостью</td>\n",
       "      <td>недвижимость</td>\n",
       "      <td>низкий доход</td>\n",
       "      <td>пенсионеры</td>\n",
       "    </tr>\n",
       "    <tr>\n",
       "      <th>14024</th>\n",
       "      <td>-1</td>\n",
       "      <td>3575</td>\n",
       "      <td>33</td>\n",
       "      <td>среднее</td>\n",
       "      <td>1</td>\n",
       "      <td>женат / замужем</td>\n",
       "      <td>0</td>\n",
       "      <td>F</td>\n",
       "      <td>сотрудник</td>\n",
       "      <td>0</td>\n",
       "      <td>128362</td>\n",
       "      <td>высшее образование</td>\n",
       "      <td>образование</td>\n",
       "      <td>низкий доход</td>\n",
       "      <td>взрослые</td>\n",
       "    </tr>\n",
       "    <tr>\n",
       "      <th>14259</th>\n",
       "      <td>-1</td>\n",
       "      <td>3614</td>\n",
       "      <td>40</td>\n",
       "      <td>высшее</td>\n",
       "      <td>0</td>\n",
       "      <td>гражданский брак</td>\n",
       "      <td>1</td>\n",
       "      <td>F</td>\n",
       "      <td>сотрудник</td>\n",
       "      <td>0</td>\n",
       "      <td>98127</td>\n",
       "      <td>сыграть свадьбу</td>\n",
       "      <td>свадьба</td>\n",
       "      <td>низкий доход</td>\n",
       "      <td>взрослые</td>\n",
       "    </tr>\n",
       "    <tr>\n",
       "      <th>14802</th>\n",
       "      <td>-1</td>\n",
       "      <td>3702</td>\n",
       "      <td>48</td>\n",
       "      <td>среднее</td>\n",
       "      <td>1</td>\n",
       "      <td>вдовец / вдова</td>\n",
       "      <td>2</td>\n",
       "      <td>F</td>\n",
       "      <td>пенсионер</td>\n",
       "      <td>0</td>\n",
       "      <td>36052</td>\n",
       "      <td>образование</td>\n",
       "      <td>образование</td>\n",
       "      <td>низкий доход</td>\n",
       "      <td>взрослые</td>\n",
       "    </tr>\n",
       "    <tr>\n",
       "      <th>16448</th>\n",
       "      <td>-1</td>\n",
       "      <td>3980</td>\n",
       "      <td>64</td>\n",
       "      <td>среднее</td>\n",
       "      <td>1</td>\n",
       "      <td>женат / замужем</td>\n",
       "      <td>0</td>\n",
       "      <td>F</td>\n",
       "      <td>пенсионер</td>\n",
       "      <td>0</td>\n",
       "      <td>163264</td>\n",
       "      <td>покупка недвижимости</td>\n",
       "      <td>недвижимость</td>\n",
       "      <td>низкий доход</td>\n",
       "      <td>пенсионеры</td>\n",
       "    </tr>\n",
       "    <tr>\n",
       "      <th>17084</th>\n",
       "      <td>-1</td>\n",
       "      <td>4417</td>\n",
       "      <td>46</td>\n",
       "      <td>среднее</td>\n",
       "      <td>1</td>\n",
       "      <td>гражданский брак</td>\n",
       "      <td>1</td>\n",
       "      <td>F</td>\n",
       "      <td>сотрудник</td>\n",
       "      <td>0</td>\n",
       "      <td>102816</td>\n",
       "      <td>профильное образование</td>\n",
       "      <td>образование</td>\n",
       "      <td>низкий доход</td>\n",
       "      <td>взрослые</td>\n",
       "    </tr>\n",
       "    <tr>\n",
       "      <th>17238</th>\n",
       "      <td>-1</td>\n",
       "      <td>4571</td>\n",
       "      <td>41</td>\n",
       "      <td>среднее</td>\n",
       "      <td>1</td>\n",
       "      <td>женат / замужем</td>\n",
       "      <td>0</td>\n",
       "      <td>F</td>\n",
       "      <td>сотрудник</td>\n",
       "      <td>0</td>\n",
       "      <td>122105</td>\n",
       "      <td>операции со своей недвижимостью</td>\n",
       "      <td>недвижимость</td>\n",
       "      <td>низкий доход</td>\n",
       "      <td>взрослые</td>\n",
       "    </tr>\n",
       "    <tr>\n",
       "      <th>18151</th>\n",
       "      <td>-1</td>\n",
       "      <td>5928</td>\n",
       "      <td>34</td>\n",
       "      <td>среднее</td>\n",
       "      <td>1</td>\n",
       "      <td>женат / замужем</td>\n",
       "      <td>0</td>\n",
       "      <td>M</td>\n",
       "      <td>сотрудник</td>\n",
       "      <td>0</td>\n",
       "      <td>184315</td>\n",
       "      <td>приобретение автомобиля</td>\n",
       "      <td>автомобиль</td>\n",
       "      <td>средний доход</td>\n",
       "      <td>взрослые</td>\n",
       "    </tr>\n",
       "    <tr>\n",
       "      <th>18869</th>\n",
       "      <td>-1</td>\n",
       "      <td>8493</td>\n",
       "      <td>61</td>\n",
       "      <td>неоконченное высшее</td>\n",
       "      <td>2</td>\n",
       "      <td>женат / замужем</td>\n",
       "      <td>0</td>\n",
       "      <td>M</td>\n",
       "      <td>сотрудник</td>\n",
       "      <td>0</td>\n",
       "      <td>315006</td>\n",
       "      <td>недвижимость</td>\n",
       "      <td>недвижимость</td>\n",
       "      <td>высокий доход</td>\n",
       "      <td>взрослые</td>\n",
       "    </tr>\n",
       "    <tr>\n",
       "      <th>19070</th>\n",
       "      <td>-1</td>\n",
       "      <td>9851</td>\n",
       "      <td>44</td>\n",
       "      <td>среднее</td>\n",
       "      <td>1</td>\n",
       "      <td>в разводе</td>\n",
       "      <td>3</td>\n",
       "      <td>F</td>\n",
       "      <td>сотрудник</td>\n",
       "      <td>0</td>\n",
       "      <td>110990</td>\n",
       "      <td>свой автомобиль</td>\n",
       "      <td>автомобиль</td>\n",
       "      <td>низкий доход</td>\n",
       "      <td>взрослые</td>\n",
       "    </tr>\n",
       "    <tr>\n",
       "      <th>19444</th>\n",
       "      <td>-1</td>\n",
       "      <td>3650</td>\n",
       "      <td>57</td>\n",
       "      <td>среднее</td>\n",
       "      <td>1</td>\n",
       "      <td>женат / замужем</td>\n",
       "      <td>0</td>\n",
       "      <td>F</td>\n",
       "      <td>пенсионер</td>\n",
       "      <td>0</td>\n",
       "      <td>137127</td>\n",
       "      <td>на покупку своего автомобиля</td>\n",
       "      <td>автомобиль</td>\n",
       "      <td>низкий доход</td>\n",
       "      <td>взрослые</td>\n",
       "    </tr>\n",
       "    <tr>\n",
       "      <th>20078</th>\n",
       "      <td>-1</td>\n",
       "      <td>2326</td>\n",
       "      <td>35</td>\n",
       "      <td>среднее</td>\n",
       "      <td>1</td>\n",
       "      <td>женат / замужем</td>\n",
       "      <td>0</td>\n",
       "      <td>M</td>\n",
       "      <td>сотрудник</td>\n",
       "      <td>0</td>\n",
       "      <td>161380</td>\n",
       "      <td>образование</td>\n",
       "      <td>образование</td>\n",
       "      <td>низкий доход</td>\n",
       "      <td>взрослые</td>\n",
       "    </tr>\n",
       "    <tr>\n",
       "      <th>20676</th>\n",
       "      <td>-1</td>\n",
       "      <td>2111</td>\n",
       "      <td>42</td>\n",
       "      <td>среднее</td>\n",
       "      <td>1</td>\n",
       "      <td>не женат / не замужем</td>\n",
       "      <td>4</td>\n",
       "      <td>M</td>\n",
       "      <td>компаньон</td>\n",
       "      <td>0</td>\n",
       "      <td>202417</td>\n",
       "      <td>автомобиль</td>\n",
       "      <td>автомобиль</td>\n",
       "      <td>высокий доход</td>\n",
       "      <td>взрослые</td>\n",
       "    </tr>\n",
       "  </tbody>\n",
       "</table>\n",
       "</div>"
      ],
      "text/plain": [
       "       children  days_employed  dob_years            education  education_id  \\\n",
       "705          -1            195         31              среднее             1   \n",
       "1252         -1            268         23              среднее             1   \n",
       "1860         -1            370         27              среднее             1   \n",
       "1865         -1            372         43              среднее             1   \n",
       "2385         -1            457         33              среднее             1   \n",
       "2755         -1            526         51              среднее             1   \n",
       "3230         -1            617         38              среднее             1   \n",
       "3463         -1            661         32               высшее             0   \n",
       "4666         -1            895         37              среднее             1   \n",
       "4700         -1            901         41              среднее             1   \n",
       "4705         -1            902         50              среднее             1   \n",
       "5492         -1           1048         30               высшее             0   \n",
       "5946         -1           1143         46              среднее             1   \n",
       "6183         -1           1195         55              среднее             1   \n",
       "6920         -1           1361         46               высшее             0   \n",
       "7145         -1           1422         44              среднее             1   \n",
       "7295         -1           1461         38              среднее             1   \n",
       "8361         -1           1743         37              среднее             1   \n",
       "8572         -1           1803         54               высшее             0   \n",
       "8600         -1           1811         32              среднее             1   \n",
       "10592        -1           2539         42              среднее             1   \n",
       "10983        -1           2710         28               высшее             0   \n",
       "11178        -1           2802         40               высшее             0   \n",
       "11199        -1           2809         34              среднее             1   \n",
       "11390        -1           2896         34               высшее             0   \n",
       "11713        -1           3045         26              среднее             1   \n",
       "11843        -1           3113         31              среднее             1   \n",
       "11969        -1           3174         57              среднее             1   \n",
       "12097        -1           3237         53              среднее             1   \n",
       "12970        -1           3404         50              среднее             1   \n",
       "13185        -1           3438         59              среднее             1   \n",
       "13292        -1           3457         63               высшее             0   \n",
       "13563        -1           3499         54              среднее             1   \n",
       "13582        -1           3503         28              среднее             1   \n",
       "13867        -1           3551         69              среднее             1   \n",
       "14024        -1           3575         33              среднее             1   \n",
       "14259        -1           3614         40               высшее             0   \n",
       "14802        -1           3702         48              среднее             1   \n",
       "16448        -1           3980         64              среднее             1   \n",
       "17084        -1           4417         46              среднее             1   \n",
       "17238        -1           4571         41              среднее             1   \n",
       "18151        -1           5928         34              среднее             1   \n",
       "18869        -1           8493         61  неоконченное высшее             2   \n",
       "19070        -1           9851         44              среднее             1   \n",
       "19444        -1           3650         57              среднее             1   \n",
       "20078        -1           2326         35              среднее             1   \n",
       "20676        -1           2111         42              среднее             1   \n",
       "\n",
       "               family_status  family_status_id gender  income_type  debt  \\\n",
       "705          женат / замужем                 0      F    сотрудник     0   \n",
       "1252               в разводе                 3      F    компаньон     0   \n",
       "1860         женат / замужем                 0      F    компаньон     0   \n",
       "1865         женат / замужем                 0      M    сотрудник     0   \n",
       "2385         женат / замужем                 0      F    сотрудник     1   \n",
       "2755         женат / замужем                 0      F    сотрудник     0   \n",
       "3230   не женат / не замужем                 4      M    сотрудник     0   \n",
       "3463         женат / замужем                 0      F    сотрудник     0   \n",
       "4666         женат / замужем                 0      F    компаньон     0   \n",
       "4700         женат / замужем                 0      F  госслужащий     0   \n",
       "4705         женат / замужем                 0      F  госслужащий     0   \n",
       "5492        гражданский брак                 1      F    компаньон     0   \n",
       "5946          вдовец / вдова                 2      F    сотрудник     0   \n",
       "6183         женат / замужем                 0      F    компаньон     0   \n",
       "6920         женат / замужем                 0      F    сотрудник     0   \n",
       "7145         женат / замужем                 0      F    компаньон     0   \n",
       "7295   не женат / не замужем                 4      M    сотрудник     0   \n",
       "8361         женат / замужем                 0      M    сотрудник     0   \n",
       "8572         женат / замужем                 0      F    компаньон     0   \n",
       "8600         женат / замужем                 0      F    сотрудник     0   \n",
       "10592              в разводе                 3      F    компаньон     0   \n",
       "10983        женат / замужем                 0      M  госслужащий     0   \n",
       "11178        женат / замужем                 0      M    сотрудник     0   \n",
       "11199        женат / замужем                 0      F    сотрудник     0   \n",
       "11390        женат / замужем                 0      M    сотрудник     0   \n",
       "11713       гражданский брак                 1      F  госслужащий     0   \n",
       "11843       гражданский брак                 1      F    сотрудник     0   \n",
       "11969        женат / замужем                 0      F    сотрудник     0   \n",
       "12097         вдовец / вдова                 2      F    сотрудник     0   \n",
       "12970        женат / замужем                 0      M    пенсионер     0   \n",
       "13185        женат / замужем                 0      F    сотрудник     0   \n",
       "13292         вдовец / вдова                 2      F    пенсионер     0   \n",
       "13563  не женат / не замужем                 4      F    пенсионер     0   \n",
       "13582              в разводе                 3      F    пенсионер     0   \n",
       "13867  не женат / не замужем                 4      F    пенсионер     0   \n",
       "14024        женат / замужем                 0      F    сотрудник     0   \n",
       "14259       гражданский брак                 1      F    сотрудник     0   \n",
       "14802         вдовец / вдова                 2      F    пенсионер     0   \n",
       "16448        женат / замужем                 0      F    пенсионер     0   \n",
       "17084       гражданский брак                 1      F    сотрудник     0   \n",
       "17238        женат / замужем                 0      F    сотрудник     0   \n",
       "18151        женат / замужем                 0      M    сотрудник     0   \n",
       "18869        женат / замужем                 0      M    сотрудник     0   \n",
       "19070              в разводе                 3      F    сотрудник     0   \n",
       "19444        женат / замужем                 0      F    пенсионер     0   \n",
       "20078        женат / замужем                 0      M    сотрудник     0   \n",
       "20676  не женат / не замужем                 4      M    компаньон     0   \n",
       "\n",
       "       total_income                                 purpose         lemma  \\\n",
       "705          145577                            ремонт жилью  недвижимость   \n",
       "1252          92257              покупка жилой недвижимости  недвижимость   \n",
       "1860         164591                 покупка жилья для сдачи  недвижимость   \n",
       "1865         155588        сделка с подержанным автомобилем    автомобиль   \n",
       "2385         149641                              автомобиль    автомобиль   \n",
       "2755         146928   операции с коммерческой недвижимостью  недвижимость   \n",
       "3230         122205        строительство жилой недвижимости  недвижимость   \n",
       "3463         137405              покупка жилой недвижимости  недвижимость   \n",
       "4666         214814                                   жилье  недвижимость   \n",
       "4700         226375         операции со своей недвижимостью  недвижимость   \n",
       "4705         137882                 приобретение автомобиля    автомобиль   \n",
       "5492         321603                   на покупку автомобиля    автомобиль   \n",
       "5946         278708                    покупка недвижимости  недвижимость   \n",
       "6183          69550                  профильное образование   образование   \n",
       "6920         143008  строительство собственной недвижимости  недвижимость   \n",
       "7145         169562         операции со своей недвижимостью  недвижимость   \n",
       "7295         109121                           покупка жилья  недвижимость   \n",
       "8361         310367                   получение образования   образование   \n",
       "8572         138809                    покупка недвижимости  недвижимость   \n",
       "8600         160544                             образование   образование   \n",
       "10592        162638                           покупка жилья  недвижимость   \n",
       "10983        303137   получение дополнительного образования   образование   \n",
       "11178        111984                           покупка жилья  недвижимость   \n",
       "11199        182543      на покупку подержанного автомобиля    автомобиль   \n",
       "11390        126754                операции с недвижимостью  недвижимость   \n",
       "11713        131892                   на проведение свадьбы       свадьба   \n",
       "11843         54412                         свой автомобиль    автомобиль   \n",
       "11969         64268              дополнительное образование   образование   \n",
       "12097        159676        строительство жилой недвижимости  недвижимость   \n",
       "12970        170762                    покупка своего жилья  недвижимость   \n",
       "13185        219874                       операции с жильем  недвижимость   \n",
       "13292        170762        строительство жилой недвижимости  недвижимость   \n",
       "13563         86293              дополнительное образование   образование   \n",
       "13582         52872                              автомобили    автомобиль   \n",
       "13867        116521                операции с недвижимостью  недвижимость   \n",
       "14024        128362                      высшее образование   образование   \n",
       "14259         98127                         сыграть свадьбу       свадьба   \n",
       "14802         36052                             образование   образование   \n",
       "16448        163264                    покупка недвижимости  недвижимость   \n",
       "17084        102816                  профильное образование   образование   \n",
       "17238        122105         операции со своей недвижимостью  недвижимость   \n",
       "18151        184315                 приобретение автомобиля    автомобиль   \n",
       "18869        315006                            недвижимость  недвижимость   \n",
       "19070        110990                         свой автомобиль    автомобиль   \n",
       "19444        137127            на покупку своего автомобиля    автомобиль   \n",
       "20078        161380                             образование   образование   \n",
       "20676        202417                              автомобиль    автомобиль   \n",
       "\n",
       "      income_category age_category  \n",
       "705      низкий доход     взрослые  \n",
       "1252     низкий доход     взрослые  \n",
       "1860     низкий доход     взрослые  \n",
       "1865     низкий доход     взрослые  \n",
       "2385     низкий доход     взрослые  \n",
       "2755     низкий доход     взрослые  \n",
       "3230     низкий доход     взрослые  \n",
       "3463     низкий доход     взрослые  \n",
       "4666    высокий доход     взрослые  \n",
       "4700    высокий доход     взрослые  \n",
       "4705     низкий доход     взрослые  \n",
       "5492    высокий доход     взрослые  \n",
       "5946    высокий доход     взрослые  \n",
       "6183     низкий доход     взрослые  \n",
       "6920     низкий доход     взрослые  \n",
       "7145    средний доход     взрослые  \n",
       "7295     низкий доход     взрослые  \n",
       "8361    высокий доход     взрослые  \n",
       "8572     низкий доход     взрослые  \n",
       "8600     низкий доход     взрослые  \n",
       "10592    низкий доход     взрослые  \n",
       "10983   высокий доход     взрослые  \n",
       "11178    низкий доход     взрослые  \n",
       "11199   средний доход     взрослые  \n",
       "11390    низкий доход     взрослые  \n",
       "11713    низкий доход     взрослые  \n",
       "11843    низкий доход     взрослые  \n",
       "11969    низкий доход     взрослые  \n",
       "12097    низкий доход     взрослые  \n",
       "12970   средний доход     взрослые  \n",
       "13185   высокий доход     взрослые  \n",
       "13292   средний доход     взрослые  \n",
       "13563    низкий доход     взрослые  \n",
       "13582    низкий доход     взрослые  \n",
       "13867    низкий доход   пенсионеры  \n",
       "14024    низкий доход     взрослые  \n",
       "14259    низкий доход     взрослые  \n",
       "14802    низкий доход     взрослые  \n",
       "16448    низкий доход   пенсионеры  \n",
       "17084    низкий доход     взрослые  \n",
       "17238    низкий доход     взрослые  \n",
       "18151   средний доход     взрослые  \n",
       "18869   высокий доход     взрослые  \n",
       "19070    низкий доход     взрослые  \n",
       "19444    низкий доход     взрослые  \n",
       "20078    низкий доход     взрослые  \n",
       "20676   высокий доход     взрослые  "
      ]
     },
     "execution_count": 53,
     "metadata": {},
     "output_type": "execute_result"
    }
   ],
   "source": [
    "# посмотрим у кого же получилось отрицательное число детей\n",
    "df.loc[df['children']==-1]"
   ]
  },
  {
   "cell_type": "code",
   "execution_count": 54,
   "metadata": {},
   "outputs": [],
   "source": [
    "# конвертируем отрицательное количество детей в положительное\n",
    "df['children'] = abs(df['children'])"
   ]
  },
  {
   "cell_type": "code",
   "execution_count": 55,
   "metadata": {},
   "outputs": [
    {
     "data": {
      "text/plain": [
       "строительство собственной недвижимости    6\n",
       "на покупку подержанного автомобиля        6\n",
       "высшее образование                        5\n",
       "сыграть свадьбу                           4\n",
       "на проведение свадьбы                     4\n",
       "сделка с подержанным автомобилем          4\n",
       "операции с жильем                         4\n",
       "операции с коммерческой недвижимостью     4\n",
       "жилье                                     4\n",
       "покупка коммерческой недвижимости         3\n",
       "покупка жилья                             3\n",
       "свой автомобиль                           3\n",
       "дополнительное образование                3\n",
       "покупка недвижимости                      2\n",
       "образование                               2\n",
       "профильное образование                    2\n",
       "покупка жилой недвижимости                2\n",
       "ремонт жилью                              2\n",
       "недвижимость                              1\n",
       "автомобили                                1\n",
       "свадьба                                   1\n",
       "автомобиль                                1\n",
       "покупка жилья для семьи                   1\n",
       "получение образования                     1\n",
       "на покупку автомобиля                     1\n",
       "получение высшего образования             1\n",
       "строительство жилой недвижимости          1\n",
       "операции со своей недвижимостью           1\n",
       "получение дополнительного образования     1\n",
       "покупка жилья для сдачи                   1\n",
       "операции с недвижимостью                  1\n",
       "Name: purpose, dtype: int64"
      ]
     },
     "execution_count": 55,
     "metadata": {},
     "output_type": "execute_result"
    }
   ],
   "source": [
    "# посмотрим на цели получения кредита многодетных клиентов\n",
    "df.loc[df['children']==20]['purpose'].value_counts()"
   ]
  },
  {
   "cell_type": "markdown",
   "metadata": {},
   "source": [
    "Если бы на самом деле было 20 детей, то скорее данные клиенты обращались бы за кредитов с целью приобретения жилья для благоприятного проживания большой семьи. Однако, исходя из вышеприведенной таблицы, можно скорее предположить то, что наличие многодетных детей обусловлено технической ошибкой при заполнении. Также, как было указано ранее, наблюдаем резкий переход от 5 к 20 детям!"
   ]
  },
  {
   "cell_type": "code",
   "execution_count": 56,
   "metadata": {},
   "outputs": [],
   "source": [
    "# вероятнее всего в контексте детей лишним в числе 20 является 0\n",
    "df.loc[df['children']==20] = df.loc[df['children']==2]"
   ]
  },
  {
   "cell_type": "code",
   "execution_count": 57,
   "metadata": {},
   "outputs": [
    {
     "data": {
      "text/plain": [
       "0.0    14091\n",
       "1.0     4855\n",
       "2.0     2052\n",
       "3.0      330\n",
       "4.0       41\n",
       "5.0        9\n",
       "Name: children, dtype: int64"
      ]
     },
     "execution_count": 57,
     "metadata": {},
     "output_type": "execute_result"
    }
   ],
   "source": [
    "# вновь, произведем подсчет количества детей по клиентам\n",
    "df['children'].value_counts()"
   ]
  },
  {
   "cell_type": "code",
   "execution_count": 58,
   "metadata": {},
   "outputs": [
    {
     "data": {
      "text/html": [
       "<div>\n",
       "<style scoped>\n",
       "    .dataframe tbody tr th:only-of-type {\n",
       "        vertical-align: middle;\n",
       "    }\n",
       "\n",
       "    .dataframe tbody tr th {\n",
       "        vertical-align: top;\n",
       "    }\n",
       "\n",
       "    .dataframe thead th {\n",
       "        text-align: right;\n",
       "    }\n",
       "</style>\n",
       "<table border=\"1\" class=\"dataframe\">\n",
       "  <thead>\n",
       "    <tr style=\"text-align: right;\">\n",
       "      <th>debt</th>\n",
       "      <th>0.0</th>\n",
       "      <th>1.0</th>\n",
       "    </tr>\n",
       "    <tr>\n",
       "      <th>children</th>\n",
       "      <th></th>\n",
       "      <th></th>\n",
       "    </tr>\n",
       "  </thead>\n",
       "  <tbody>\n",
       "    <tr>\n",
       "      <th>0.0</th>\n",
       "      <td>13028.0</td>\n",
       "      <td>1063.0</td>\n",
       "    </tr>\n",
       "    <tr>\n",
       "      <th>1.0</th>\n",
       "      <td>4410.0</td>\n",
       "      <td>445.0</td>\n",
       "    </tr>\n",
       "    <tr>\n",
       "      <th>2.0</th>\n",
       "      <td>1858.0</td>\n",
       "      <td>194.0</td>\n",
       "    </tr>\n",
       "    <tr>\n",
       "      <th>3.0</th>\n",
       "      <td>303.0</td>\n",
       "      <td>27.0</td>\n",
       "    </tr>\n",
       "    <tr>\n",
       "      <th>4.0</th>\n",
       "      <td>37.0</td>\n",
       "      <td>4.0</td>\n",
       "    </tr>\n",
       "    <tr>\n",
       "      <th>5.0</th>\n",
       "      <td>9.0</td>\n",
       "      <td>NaN</td>\n",
       "    </tr>\n",
       "  </tbody>\n",
       "</table>\n",
       "</div>"
      ],
      "text/plain": [
       "debt          0.0     1.0\n",
       "children                 \n",
       "0.0       13028.0  1063.0\n",
       "1.0        4410.0   445.0\n",
       "2.0        1858.0   194.0\n",
       "3.0         303.0    27.0\n",
       "4.0          37.0     4.0\n",
       "5.0           9.0     NaN"
      ]
     },
     "execution_count": 58,
     "metadata": {},
     "output_type": "execute_result"
    }
   ],
   "source": [
    "# произведем подсчет наличия/отсутствия задолженностей в зависимости от количества детей\n",
    "df.groupby('children')['debt'].value_counts().unstack()"
   ]
  },
  {
   "cell_type": "markdown",
   "metadata": {},
   "source": [
    "С одной стороны, значительная часть клиентов не имеют детей. С другой стороны, многодетные клиенты несмотря на большое семейство редко обращаются за приобретением кредита...даже если и приобретают, то зачастую своевременно выплачивают долговые обязательства."
   ]
  },
  {
   "cell_type": "code",
   "execution_count": 59,
   "metadata": {},
   "outputs": [
    {
     "data": {
      "text/html": [
       "<div>\n",
       "<style scoped>\n",
       "    .dataframe tbody tr th:only-of-type {\n",
       "        vertical-align: middle;\n",
       "    }\n",
       "\n",
       "    .dataframe tbody tr th {\n",
       "        vertical-align: top;\n",
       "    }\n",
       "\n",
       "    .dataframe thead th {\n",
       "        text-align: right;\n",
       "    }\n",
       "</style>\n",
       "<table border=\"1\" class=\"dataframe\">\n",
       "  <thead>\n",
       "    <tr style=\"text-align: right;\">\n",
       "      <th></th>\n",
       "      <th>debt</th>\n",
       "    </tr>\n",
       "    <tr>\n",
       "      <th>children</th>\n",
       "      <th></th>\n",
       "    </tr>\n",
       "  </thead>\n",
       "  <tbody>\n",
       "    <tr>\n",
       "      <th>0.0</th>\n",
       "      <td>0.075438</td>\n",
       "    </tr>\n",
       "    <tr>\n",
       "      <th>1.0</th>\n",
       "      <td>0.091658</td>\n",
       "    </tr>\n",
       "    <tr>\n",
       "      <th>2.0</th>\n",
       "      <td>0.094542</td>\n",
       "    </tr>\n",
       "    <tr>\n",
       "      <th>3.0</th>\n",
       "      <td>0.081818</td>\n",
       "    </tr>\n",
       "    <tr>\n",
       "      <th>4.0</th>\n",
       "      <td>0.097561</td>\n",
       "    </tr>\n",
       "    <tr>\n",
       "      <th>5.0</th>\n",
       "      <td>0.000000</td>\n",
       "    </tr>\n",
       "  </tbody>\n",
       "</table>\n",
       "</div>"
      ],
      "text/plain": [
       "              debt\n",
       "children          \n",
       "0.0       0.075438\n",
       "1.0       0.091658\n",
       "2.0       0.094542\n",
       "3.0       0.081818\n",
       "4.0       0.097561\n",
       "5.0       0.000000"
      ]
     },
     "execution_count": 59,
     "metadata": {},
     "output_type": "execute_result"
    }
   ],
   "source": [
    "# определим сводную таблицу количества клиентов с задолженностью в разрезе количества детей\n",
    "debt_children = df.pivot_table(index='children', values='debt')\n",
    "debt_children"
   ]
  },
  {
   "cell_type": "code",
   "execution_count": 60,
   "metadata": {},
   "outputs": [
    {
     "data": {
      "text/html": [
       "<div>\n",
       "<style scoped>\n",
       "    .dataframe tbody tr th:only-of-type {\n",
       "        vertical-align: middle;\n",
       "    }\n",
       "\n",
       "    .dataframe tbody tr th {\n",
       "        vertical-align: top;\n",
       "    }\n",
       "\n",
       "    .dataframe thead th {\n",
       "        text-align: right;\n",
       "    }\n",
       "</style>\n",
       "<table border=\"1\" class=\"dataframe\">\n",
       "  <thead>\n",
       "    <tr style=\"text-align: right;\">\n",
       "      <th></th>\n",
       "      <th>debt</th>\n",
       "      <th>debt_presence_ratio</th>\n",
       "    </tr>\n",
       "    <tr>\n",
       "      <th>children</th>\n",
       "      <th></th>\n",
       "      <th></th>\n",
       "    </tr>\n",
       "  </thead>\n",
       "  <tbody>\n",
       "    <tr>\n",
       "      <th>0.0</th>\n",
       "      <td>0.075438</td>\n",
       "      <td>7.543822</td>\n",
       "    </tr>\n",
       "    <tr>\n",
       "      <th>1.0</th>\n",
       "      <td>0.091658</td>\n",
       "      <td>9.165808</td>\n",
       "    </tr>\n",
       "    <tr>\n",
       "      <th>2.0</th>\n",
       "      <td>0.094542</td>\n",
       "      <td>9.454191</td>\n",
       "    </tr>\n",
       "    <tr>\n",
       "      <th>3.0</th>\n",
       "      <td>0.081818</td>\n",
       "      <td>8.181818</td>\n",
       "    </tr>\n",
       "    <tr>\n",
       "      <th>4.0</th>\n",
       "      <td>0.097561</td>\n",
       "      <td>9.756098</td>\n",
       "    </tr>\n",
       "    <tr>\n",
       "      <th>5.0</th>\n",
       "      <td>0.000000</td>\n",
       "      <td>0.000000</td>\n",
       "    </tr>\n",
       "  </tbody>\n",
       "</table>\n",
       "</div>"
      ],
      "text/plain": [
       "              debt  debt_presence_ratio\n",
       "children                               \n",
       "0.0       0.075438             7.543822\n",
       "1.0       0.091658             9.165808\n",
       "2.0       0.094542             9.454191\n",
       "3.0       0.081818             8.181818\n",
       "4.0       0.097561             9.756098\n",
       "5.0       0.000000             0.000000"
      ]
     },
     "execution_count": 60,
     "metadata": {},
     "output_type": "execute_result"
    }
   ],
   "source": [
    "# переведем полученные значения наличия задолженности клиентов в разрезе количества детей в проценты\n",
    "debt_children['debt_presence_ratio'] = debt_children['debt'] * 100\n",
    "debt_children"
   ]
  },
  {
   "cell_type": "markdown",
   "metadata": {},
   "source": [
    "### Вывод"
   ]
  },
  {
   "cell_type": "markdown",
   "metadata": {},
   "source": [
    "Согласно вышеприведенной таблице, строгой зависимости между количеством детей и возвратом кредита в срок не наблюдается: клиенты как без детей, так и многодетные клиенты более чем в 90% случаев своевременно выполняют долговые обязательства."
   ]
  },
  {
   "cell_type": "markdown",
   "metadata": {},
   "source": [
    "- Есть ли зависимость между семейным положением и возвратом кредита в срок?"
   ]
  },
  {
   "cell_type": "code",
   "execution_count": 61,
   "metadata": {},
   "outputs": [
    {
     "data": {
      "text/html": [
       "<div>\n",
       "<style scoped>\n",
       "    .dataframe tbody tr th:only-of-type {\n",
       "        vertical-align: middle;\n",
       "    }\n",
       "\n",
       "    .dataframe tbody tr th {\n",
       "        vertical-align: top;\n",
       "    }\n",
       "\n",
       "    .dataframe thead th {\n",
       "        text-align: right;\n",
       "    }\n",
       "</style>\n",
       "<table border=\"1\" class=\"dataframe\">\n",
       "  <thead>\n",
       "    <tr style=\"text-align: right;\">\n",
       "      <th>debt</th>\n",
       "      <th>0.0</th>\n",
       "      <th>1.0</th>\n",
       "    </tr>\n",
       "    <tr>\n",
       "      <th>family_status</th>\n",
       "      <th></th>\n",
       "      <th></th>\n",
       "    </tr>\n",
       "  </thead>\n",
       "  <tbody>\n",
       "    <tr>\n",
       "      <th>в разводе</th>\n",
       "      <td>1109</td>\n",
       "      <td>84</td>\n",
       "    </tr>\n",
       "    <tr>\n",
       "      <th>вдовец / вдова</th>\n",
       "      <td>892</td>\n",
       "      <td>63</td>\n",
       "    </tr>\n",
       "    <tr>\n",
       "      <th>гражданский брак</th>\n",
       "      <td>3754</td>\n",
       "      <td>385</td>\n",
       "    </tr>\n",
       "    <tr>\n",
       "      <th>женат / замужем</th>\n",
       "      <td>11362</td>\n",
       "      <td>928</td>\n",
       "    </tr>\n",
       "    <tr>\n",
       "      <th>не женат / не замужем</th>\n",
       "      <td>2528</td>\n",
       "      <td>273</td>\n",
       "    </tr>\n",
       "  </tbody>\n",
       "</table>\n",
       "</div>"
      ],
      "text/plain": [
       "debt                     0.0  1.0\n",
       "family_status                    \n",
       "в разводе               1109   84\n",
       "вдовец / вдова           892   63\n",
       "гражданский брак        3754  385\n",
       "женат / замужем        11362  928\n",
       "не женат / не замужем   2528  273"
      ]
     },
     "execution_count": 61,
     "metadata": {},
     "output_type": "execute_result"
    }
   ],
   "source": [
    "# осуществим общий подсчет наличия/отсутствия задолженностей у клиентов в разрезе семейного положения\n",
    "df.groupby('family_status')['debt'].value_counts().unstack()"
   ]
  },
  {
   "cell_type": "markdown",
   "metadata": {},
   "source": [
    "С одной стороны, наибольшая часть клиентов являются женатыми / замужними. С другой стороны, клиенты, потерявшие супруга / супругу составляют наименьшую долю в выборочной совокупности."
   ]
  },
  {
   "cell_type": "code",
   "execution_count": 62,
   "metadata": {},
   "outputs": [
    {
     "data": {
      "text/html": [
       "<div>\n",
       "<style scoped>\n",
       "    .dataframe tbody tr th:only-of-type {\n",
       "        vertical-align: middle;\n",
       "    }\n",
       "\n",
       "    .dataframe tbody tr th {\n",
       "        vertical-align: top;\n",
       "    }\n",
       "\n",
       "    .dataframe thead th {\n",
       "        text-align: right;\n",
       "    }\n",
       "</style>\n",
       "<table border=\"1\" class=\"dataframe\">\n",
       "  <thead>\n",
       "    <tr style=\"text-align: right;\">\n",
       "      <th></th>\n",
       "      <th>debt</th>\n",
       "    </tr>\n",
       "    <tr>\n",
       "      <th>family_status</th>\n",
       "      <th></th>\n",
       "    </tr>\n",
       "  </thead>\n",
       "  <tbody>\n",
       "    <tr>\n",
       "      <th>в разводе</th>\n",
       "      <td>0.070411</td>\n",
       "    </tr>\n",
       "    <tr>\n",
       "      <th>вдовец / вдова</th>\n",
       "      <td>0.065969</td>\n",
       "    </tr>\n",
       "    <tr>\n",
       "      <th>гражданский брак</th>\n",
       "      <td>0.093018</td>\n",
       "    </tr>\n",
       "    <tr>\n",
       "      <th>женат / замужем</th>\n",
       "      <td>0.075509</td>\n",
       "    </tr>\n",
       "    <tr>\n",
       "      <th>не женат / не замужем</th>\n",
       "      <td>0.097465</td>\n",
       "    </tr>\n",
       "  </tbody>\n",
       "</table>\n",
       "</div>"
      ],
      "text/plain": [
       "                           debt\n",
       "family_status                  \n",
       "в разводе              0.070411\n",
       "вдовец / вдова         0.065969\n",
       "гражданский брак       0.093018\n",
       "женат / замужем        0.075509\n",
       "не женат / не замужем  0.097465"
      ]
     },
     "execution_count": 62,
     "metadata": {},
     "output_type": "execute_result"
    }
   ],
   "source": [
    "# осуществим подсчет количества клиентов с задолженностью в разрезе семейного положения\n",
    "family_status_debt = df.pivot_table(index='family_status', values='debt')\n",
    "family_status_debt"
   ]
  },
  {
   "cell_type": "code",
   "execution_count": 63,
   "metadata": {},
   "outputs": [
    {
     "data": {
      "text/html": [
       "<div>\n",
       "<style scoped>\n",
       "    .dataframe tbody tr th:only-of-type {\n",
       "        vertical-align: middle;\n",
       "    }\n",
       "\n",
       "    .dataframe tbody tr th {\n",
       "        vertical-align: top;\n",
       "    }\n",
       "\n",
       "    .dataframe thead th {\n",
       "        text-align: right;\n",
       "    }\n",
       "</style>\n",
       "<table border=\"1\" class=\"dataframe\">\n",
       "  <thead>\n",
       "    <tr style=\"text-align: right;\">\n",
       "      <th></th>\n",
       "      <th>debt</th>\n",
       "      <th>debt_presence_ration</th>\n",
       "    </tr>\n",
       "    <tr>\n",
       "      <th>family_status</th>\n",
       "      <th></th>\n",
       "      <th></th>\n",
       "    </tr>\n",
       "  </thead>\n",
       "  <tbody>\n",
       "    <tr>\n",
       "      <th>в разводе</th>\n",
       "      <td>0.070411</td>\n",
       "      <td>7.041073</td>\n",
       "    </tr>\n",
       "    <tr>\n",
       "      <th>вдовец / вдова</th>\n",
       "      <td>0.065969</td>\n",
       "      <td>6.596859</td>\n",
       "    </tr>\n",
       "    <tr>\n",
       "      <th>гражданский брак</th>\n",
       "      <td>0.093018</td>\n",
       "      <td>9.301764</td>\n",
       "    </tr>\n",
       "    <tr>\n",
       "      <th>женат / замужем</th>\n",
       "      <td>0.075509</td>\n",
       "      <td>7.550854</td>\n",
       "    </tr>\n",
       "    <tr>\n",
       "      <th>не женат / не замужем</th>\n",
       "      <td>0.097465</td>\n",
       "      <td>9.746519</td>\n",
       "    </tr>\n",
       "  </tbody>\n",
       "</table>\n",
       "</div>"
      ],
      "text/plain": [
       "                           debt  debt_presence_ration\n",
       "family_status                                        \n",
       "в разводе              0.070411              7.041073\n",
       "вдовец / вдова         0.065969              6.596859\n",
       "гражданский брак       0.093018              9.301764\n",
       "женат / замужем        0.075509              7.550854\n",
       "не женат / не замужем  0.097465              9.746519"
      ]
     },
     "execution_count": 63,
     "metadata": {},
     "output_type": "execute_result"
    }
   ],
   "source": [
    "# переведем полученные значения наличия задолженности в разрезе семейного положения в проценты\n",
    "family_status_debt['debt_presence_ration'] = family_status_debt['debt'] * 100\n",
    "family_status_debt"
   ]
  },
  {
   "cell_type": "markdown",
   "metadata": {},
   "source": [
    "Строгой зависимости между семейный положением и возвратом кредита в срок не наблюдается. Поскольку как не женатые и не замужние, так и женатые и замужние клиенты в большинстве случаев не имеют задолженности. Аналогично, клиенты, которые в разводе, или потерявшие супруга или супругу также своевременно выплачивают долговые обязательства. Клиенты, состоящие в гражданском браке также зачастую не имеют задолженности.\\\n",
    "Таким образом, значительная часть клиентов независимо от семейного положения в более 90% случаев не имеет проблем со своевременным выполнением долговых обязательств."
   ]
  },
  {
   "cell_type": "markdown",
   "metadata": {},
   "source": [
    "- Есть ли зависимость между уровнем дохода и возвратом кредита в срок?"
   ]
  },
  {
   "cell_type": "code",
   "execution_count": 64,
   "metadata": {},
   "outputs": [
    {
     "data": {
      "text/html": [
       "<div>\n",
       "<style scoped>\n",
       "    .dataframe tbody tr th:only-of-type {\n",
       "        vertical-align: middle;\n",
       "    }\n",
       "\n",
       "    .dataframe tbody tr th {\n",
       "        vertical-align: top;\n",
       "    }\n",
       "\n",
       "    .dataframe thead th {\n",
       "        text-align: right;\n",
       "    }\n",
       "</style>\n",
       "<table border=\"1\" class=\"dataframe\">\n",
       "  <thead>\n",
       "    <tr style=\"text-align: right;\">\n",
       "      <th>debt</th>\n",
       "      <th>0.0</th>\n",
       "      <th>1.0</th>\n",
       "    </tr>\n",
       "    <tr>\n",
       "      <th>income_category</th>\n",
       "      <th></th>\n",
       "      <th></th>\n",
       "    </tr>\n",
       "  </thead>\n",
       "  <tbody>\n",
       "    <tr>\n",
       "      <th>высокий доход</th>\n",
       "      <td>5015</td>\n",
       "      <td>373</td>\n",
       "    </tr>\n",
       "    <tr>\n",
       "      <th>низкий доход</th>\n",
       "      <td>12172</td>\n",
       "      <td>1132</td>\n",
       "    </tr>\n",
       "    <tr>\n",
       "      <th>средний доход</th>\n",
       "      <td>2458</td>\n",
       "      <td>228</td>\n",
       "    </tr>\n",
       "  </tbody>\n",
       "</table>\n",
       "</div>"
      ],
      "text/plain": [
       "debt               0.0   1.0\n",
       "income_category             \n",
       "высокий доход     5015   373\n",
       "низкий доход     12172  1132\n",
       "средний доход     2458   228"
      ]
     },
     "execution_count": 64,
     "metadata": {},
     "output_type": "execute_result"
    }
   ],
   "source": [
    "# осуществим подсчет наличия/отсутствия задолженности в зависимости от типа доходов:\n",
    "df.groupby('income_category')['debt'].value_counts().unstack()"
   ]
  },
  {
   "cell_type": "markdown",
   "metadata": {},
   "source": [
    "Наибольшая доля клиентов имеет доходы ниже среднего уровня. Наверное, поэтому и обращаются за дополнительными заемными средства."
   ]
  },
  {
   "cell_type": "code",
   "execution_count": 65,
   "metadata": {},
   "outputs": [
    {
     "data": {
      "text/html": [
       "<div>\n",
       "<style scoped>\n",
       "    .dataframe tbody tr th:only-of-type {\n",
       "        vertical-align: middle;\n",
       "    }\n",
       "\n",
       "    .dataframe tbody tr th {\n",
       "        vertical-align: top;\n",
       "    }\n",
       "\n",
       "    .dataframe thead th {\n",
       "        text-align: right;\n",
       "    }\n",
       "</style>\n",
       "<table border=\"1\" class=\"dataframe\">\n",
       "  <thead>\n",
       "    <tr style=\"text-align: right;\">\n",
       "      <th></th>\n",
       "      <th>debt</th>\n",
       "    </tr>\n",
       "    <tr>\n",
       "      <th>income_category</th>\n",
       "      <th></th>\n",
       "    </tr>\n",
       "  </thead>\n",
       "  <tbody>\n",
       "    <tr>\n",
       "      <th>высокий доход</th>\n",
       "      <td>0.069228</td>\n",
       "    </tr>\n",
       "    <tr>\n",
       "      <th>низкий доход</th>\n",
       "      <td>0.085087</td>\n",
       "    </tr>\n",
       "    <tr>\n",
       "      <th>средний доход</th>\n",
       "      <td>0.084885</td>\n",
       "    </tr>\n",
       "  </tbody>\n",
       "</table>\n",
       "</div>"
      ],
      "text/plain": [
       "                     debt\n",
       "income_category          \n",
       "высокий доход    0.069228\n",
       "низкий доход     0.085087\n",
       "средний доход    0.084885"
      ]
     },
     "execution_count": 65,
     "metadata": {},
     "output_type": "execute_result"
    }
   ],
   "source": [
    "# определим сводную таблицу количества клиентов с задолженностью в разрезе уровня доходов\n",
    "income_category_debt = df.pivot_table(index='income_category', values='debt')\n",
    "income_category_debt"
   ]
  },
  {
   "cell_type": "code",
   "execution_count": 66,
   "metadata": {},
   "outputs": [
    {
     "data": {
      "text/html": [
       "<div>\n",
       "<style scoped>\n",
       "    .dataframe tbody tr th:only-of-type {\n",
       "        vertical-align: middle;\n",
       "    }\n",
       "\n",
       "    .dataframe tbody tr th {\n",
       "        vertical-align: top;\n",
       "    }\n",
       "\n",
       "    .dataframe thead th {\n",
       "        text-align: right;\n",
       "    }\n",
       "</style>\n",
       "<table border=\"1\" class=\"dataframe\">\n",
       "  <thead>\n",
       "    <tr style=\"text-align: right;\">\n",
       "      <th></th>\n",
       "      <th>debt</th>\n",
       "      <th>debt_presence_ratio</th>\n",
       "    </tr>\n",
       "    <tr>\n",
       "      <th>income_category</th>\n",
       "      <th></th>\n",
       "      <th></th>\n",
       "    </tr>\n",
       "  </thead>\n",
       "  <tbody>\n",
       "    <tr>\n",
       "      <th>высокий доход</th>\n",
       "      <td>0.069228</td>\n",
       "      <td>6.922791</td>\n",
       "    </tr>\n",
       "    <tr>\n",
       "      <th>низкий доход</th>\n",
       "      <td>0.085087</td>\n",
       "      <td>8.508719</td>\n",
       "    </tr>\n",
       "    <tr>\n",
       "      <th>средний доход</th>\n",
       "      <td>0.084885</td>\n",
       "      <td>8.488459</td>\n",
       "    </tr>\n",
       "  </tbody>\n",
       "</table>\n",
       "</div>"
      ],
      "text/plain": [
       "                     debt  debt_presence_ratio\n",
       "income_category                               \n",
       "высокий доход    0.069228             6.922791\n",
       "низкий доход     0.085087             8.508719\n",
       "средний доход    0.084885             8.488459"
      ]
     },
     "execution_count": 66,
     "metadata": {},
     "output_type": "execute_result"
    }
   ],
   "source": [
    "# переведем полученные значения наличия задолженностей в разрезе уровня дохода в проценты\n",
    "income_category_debt['debt_presence_ratio'] = income_category_debt['debt'] * 100\n",
    "income_category_debt"
   ]
  },
  {
   "cell_type": "markdown",
   "metadata": {},
   "source": [
    "### Вывод"
   ]
  },
  {
   "cell_type": "markdown",
   "metadata": {},
   "source": [
    "Строгой зависимости между уровнем дохода и возвратом кредита в срок нет: клиенты как с низкими, так и со средними и высокими доходами в более 90% случаев своевременно выполняют долговые обязательства."
   ]
  },
  {
   "cell_type": "markdown",
   "metadata": {},
   "source": [
    "- Как разные цели кредита влияют на его возврат в срок?"
   ]
  },
  {
   "cell_type": "code",
   "execution_count": 67,
   "metadata": {},
   "outputs": [
    {
     "data": {
      "text/html": [
       "<div>\n",
       "<style scoped>\n",
       "    .dataframe tbody tr th:only-of-type {\n",
       "        vertical-align: middle;\n",
       "    }\n",
       "\n",
       "    .dataframe tbody tr th {\n",
       "        vertical-align: top;\n",
       "    }\n",
       "\n",
       "    .dataframe thead th {\n",
       "        text-align: right;\n",
       "    }\n",
       "</style>\n",
       "<table border=\"1\" class=\"dataframe\">\n",
       "  <thead>\n",
       "    <tr style=\"text-align: right;\">\n",
       "      <th>debt</th>\n",
       "      <th>0.0</th>\n",
       "      <th>1.0</th>\n",
       "    </tr>\n",
       "    <tr>\n",
       "      <th>lemma</th>\n",
       "      <th></th>\n",
       "      <th></th>\n",
       "    </tr>\n",
       "  </thead>\n",
       "  <tbody>\n",
       "    <tr>\n",
       "      <th>автомобиль</th>\n",
       "      <td>3889</td>\n",
       "      <td>401</td>\n",
       "    </tr>\n",
       "    <tr>\n",
       "      <th>недвижимость</th>\n",
       "      <td>9995</td>\n",
       "      <td>780</td>\n",
       "    </tr>\n",
       "    <tr>\n",
       "      <th>образование</th>\n",
       "      <td>3629</td>\n",
       "      <td>369</td>\n",
       "    </tr>\n",
       "    <tr>\n",
       "      <th>свадьба</th>\n",
       "      <td>2132</td>\n",
       "      <td>183</td>\n",
       "    </tr>\n",
       "  </tbody>\n",
       "</table>\n",
       "</div>"
      ],
      "text/plain": [
       "debt           0.0  1.0\n",
       "lemma                  \n",
       "автомобиль    3889  401\n",
       "недвижимость  9995  780\n",
       "образование   3629  369\n",
       "свадьба       2132  183"
      ]
     },
     "execution_count": 67,
     "metadata": {},
     "output_type": "execute_result"
    }
   ],
   "source": [
    "# осуществим общий подсчет наличия/отсутсвия задолженности в разрезе целей получения кредита\n",
    "df.groupby('lemma')['debt'].value_counts().unstack()"
   ]
  },
  {
   "cell_type": "markdown",
   "metadata": {},
   "source": [
    "Клиенты целью получения кредита которых является приобретение недвижимости составляют наибольшую долю."
   ]
  },
  {
   "cell_type": "code",
   "execution_count": 68,
   "metadata": {},
   "outputs": [
    {
     "data": {
      "text/html": [
       "<div>\n",
       "<style scoped>\n",
       "    .dataframe tbody tr th:only-of-type {\n",
       "        vertical-align: middle;\n",
       "    }\n",
       "\n",
       "    .dataframe tbody tr th {\n",
       "        vertical-align: top;\n",
       "    }\n",
       "\n",
       "    .dataframe thead th {\n",
       "        text-align: right;\n",
       "    }\n",
       "</style>\n",
       "<table border=\"1\" class=\"dataframe\">\n",
       "  <thead>\n",
       "    <tr style=\"text-align: right;\">\n",
       "      <th></th>\n",
       "      <th>debt</th>\n",
       "    </tr>\n",
       "    <tr>\n",
       "      <th>lemma</th>\n",
       "      <th></th>\n",
       "    </tr>\n",
       "  </thead>\n",
       "  <tbody>\n",
       "    <tr>\n",
       "      <th>автомобиль</th>\n",
       "      <td>0.093473</td>\n",
       "    </tr>\n",
       "    <tr>\n",
       "      <th>недвижимость</th>\n",
       "      <td>0.072390</td>\n",
       "    </tr>\n",
       "    <tr>\n",
       "      <th>образование</th>\n",
       "      <td>0.092296</td>\n",
       "    </tr>\n",
       "    <tr>\n",
       "      <th>свадьба</th>\n",
       "      <td>0.079050</td>\n",
       "    </tr>\n",
       "  </tbody>\n",
       "</table>\n",
       "</div>"
      ],
      "text/plain": [
       "                  debt\n",
       "lemma                 \n",
       "автомобиль    0.093473\n",
       "недвижимость  0.072390\n",
       "образование   0.092296\n",
       "свадьба       0.079050"
      ]
     },
     "execution_count": 68,
     "metadata": {},
     "output_type": "execute_result"
    }
   ],
   "source": [
    "# определим сводную таблицу задолженностей клиентов в разрезе целей получения кредита\n",
    "purpose_lemma_debt = df.pivot_table(index='lemma', values='debt')\n",
    "purpose_lemma_debt"
   ]
  },
  {
   "cell_type": "code",
   "execution_count": 69,
   "metadata": {},
   "outputs": [
    {
     "data": {
      "text/html": [
       "<div>\n",
       "<style scoped>\n",
       "    .dataframe tbody tr th:only-of-type {\n",
       "        vertical-align: middle;\n",
       "    }\n",
       "\n",
       "    .dataframe tbody tr th {\n",
       "        vertical-align: top;\n",
       "    }\n",
       "\n",
       "    .dataframe thead th {\n",
       "        text-align: right;\n",
       "    }\n",
       "</style>\n",
       "<table border=\"1\" class=\"dataframe\">\n",
       "  <thead>\n",
       "    <tr style=\"text-align: right;\">\n",
       "      <th></th>\n",
       "      <th>debt</th>\n",
       "      <th>debt_presence_ratio</th>\n",
       "    </tr>\n",
       "    <tr>\n",
       "      <th>lemma</th>\n",
       "      <th></th>\n",
       "      <th></th>\n",
       "    </tr>\n",
       "  </thead>\n",
       "  <tbody>\n",
       "    <tr>\n",
       "      <th>автомобиль</th>\n",
       "      <td>0.093473</td>\n",
       "      <td>9.347319</td>\n",
       "    </tr>\n",
       "    <tr>\n",
       "      <th>недвижимость</th>\n",
       "      <td>0.072390</td>\n",
       "      <td>7.238979</td>\n",
       "    </tr>\n",
       "    <tr>\n",
       "      <th>образование</th>\n",
       "      <td>0.092296</td>\n",
       "      <td>9.229615</td>\n",
       "    </tr>\n",
       "    <tr>\n",
       "      <th>свадьба</th>\n",
       "      <td>0.079050</td>\n",
       "      <td>7.904968</td>\n",
       "    </tr>\n",
       "  </tbody>\n",
       "</table>\n",
       "</div>"
      ],
      "text/plain": [
       "                  debt  debt_presence_ratio\n",
       "lemma                                      \n",
       "автомобиль    0.093473             9.347319\n",
       "недвижимость  0.072390             7.238979\n",
       "образование   0.092296             9.229615\n",
       "свадьба       0.079050             7.904968"
      ]
     },
     "execution_count": 69,
     "metadata": {},
     "output_type": "execute_result"
    }
   ],
   "source": [
    "# полученные величины наличия задолженностей в разрезе целей получения кредита переведем в проценты\n",
    "purpose_lemma_debt['debt_presence_ratio'] = purpose_lemma_debt['debt'] * 100\n",
    "purpose_lemma_debt"
   ]
  },
  {
   "cell_type": "markdown",
   "metadata": {},
   "source": [
    "### Вывод"
   ]
  },
  {
   "cell_type": "markdown",
   "metadata": {},
   "source": [
    "Строгой зависимости между целями получения кредита и наличием/отсутствием задолженностей не наблюдается: начиная от клиентов целью которых является приобретение необходимого актива как жилье, так и для дополнительных торжественных мероприятий, в частности, проведение свадьбы в более 90% случаев своевременно выполняют долговые обязательства."
   ]
  },
  {
   "cell_type": "markdown",
   "metadata": {},
   "source": [
    "### Шаг 4. Общий вывод"
   ]
  },
  {
   "cell_type": "markdown",
   "metadata": {},
   "source": [
    "### Таким образом, завершая данный проект, стоит отметить следующие моменты:\n",
    "\n",
    "* общая выборочная совокупность составляет 21 525 клиентов, по каждому из которых имеются 12 показателей, начиная от трудового стажа и заканчивая количеством детей.\n",
    "* пропущенные значения, преимущественно, наблюдаются в двух показателях: трудовой стаж в днях, ежемесячный доход. Причины данных пропусков могут нести как технический характер (ошибки при заполнении), так и неслучайный характер (клиенты с низкими доходами могут осознавать что малый достаток препятствует получению кредита в силу чего не декларируют фактический доход). В отношении пропуска по трудовому стажу, могут быть следующие причины: у пенсионеров могут не сохраниться трудовые книжки, что затрудняет оценивание фактического стажа; 'партнеры' могут быть заняты на неофициальных сферах деятельности: семейный бизнес, товарищество (в которых они участвуют как партнеры).\n",
    "* доля пропущенных значений в общей выборочной совокупности составляет 10.10%;\n",
    "* в выборочной совокупности присутсвует 54 дублированных значения, однако при приведении столбцов \"образование\",\"семейный статус\", \"тип занятости\", \"цель получения кредита\", общее количество дублированных значений (клонов) составило 71 наблюдение;\n",
    "* выделены следующие **леммы** причин получения кредитов: (а) недвижимость, (б) образование, (в) свадьба, (г) автомобиль.\n",
    "\n",
    "#### Ответы на вопросы:\n",
    "* строгой  зависимости между количеством детей и возвратом кредита не наблюдается: клиенты как без детей, так и многодетные (5 детей) в 90% случаев своевременно выполняют долговые обязательства;\n",
    "* аналогично, строгой зависимость между семейный положением и возвратом кредита в срок не наблюдается: клиенты, которые как и состоящие, так и не состоящие в официальном браке в 90% случаев не имеют задолженности. Аналогичная ситуация имеет место в отношении клиентов, состоящих в гражданском браке.\n",
    "* строгой зависимости между уровнем доходам и выплатой кредита в срок не наблюдается: клиенты как с низкими, так и со средними и высокими ежемесячными доходами в 90% случаев своевременно выплачивают кредит;\n",
    "* клиенты как приобретающие кредит для покупки необходимого актива как недвижимость, так и для проведения торжественного мероприятия как свадьба в более 90% случаев своевременного выполняют долговые обязательства."
   ]
  },
  {
   "cell_type": "code",
   "execution_count": null,
   "metadata": {},
   "outputs": [],
   "source": []
  }
 ],
 "metadata": {
  "kernelspec": {
   "display_name": "Python 3",
   "language": "python",
   "name": "python3"
  },
  "language_info": {
   "codemirror_mode": {
    "name": "ipython",
    "version": 3
   },
   "file_extension": ".py",
   "mimetype": "text/x-python",
   "name": "python",
   "nbconvert_exporter": "python",
   "pygments_lexer": "ipython3",
   "version": "3.7.6"
  }
 },
 "nbformat": 4,
 "nbformat_minor": 2
}
