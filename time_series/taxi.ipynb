{
 "cells": [
  {
   "cell_type": "markdown",
   "metadata": {},
   "source": [
    "## Описание проекта\n"
   ]
  },
  {
   "cell_type": "markdown",
   "metadata": {},
   "source": [
    "# 1. Подготовка"
   ]
  },
  {
   "cell_type": "code",
   "execution_count": 1,
   "metadata": {},
   "outputs": [],
   "source": [
    "# загрузка библитек\n",
    "# осуществление операций в массивом данных\n",
    "import pandas as pd\n",
    "import numpy as np\n",
    "# модели\n",
    "from sklearn.linear_model import LinearRegression\n",
    "from sklearn.dummy import DummyRegressor\n",
    "from sklearn.ensemble import RandomForestRegressor\n",
    "# разделение выборки, поиск оптимальных гиперпараметров модели\n",
    "from sklearn.model_selection import train_test_split, GridSearchCV\n",
    "from sklearn.metrics import mean_squared_error\n",
    "# проверка (не)стационарности временного ряда\n",
    "from statsmodels.tsa.stattools import adfuller\n",
    "# графическая иллюстрация данных\n",
    "import matplotlib.pyplot as plt\n",
    "# изменение темы диаграммы\n",
    "plt.style.use('ggplot')\n",
    "%matplotlib inline"
   ]
  },
  {
   "cell_type": "code",
   "execution_count": 2,
   "metadata": {},
   "outputs": [],
   "source": [
    "# загрузка данных\n",
    "taxi = pd.read_csv('taxi.csv', parse_dates=[0], index_col='datetime')"
   ]
  },
  {
   "cell_type": "code",
   "execution_count": 3,
   "metadata": {},
   "outputs": [
    {
     "data": {
      "text/html": [
       "<div>\n",
       "<style scoped>\n",
       "    .dataframe tbody tr th:only-of-type {\n",
       "        vertical-align: middle;\n",
       "    }\n",
       "\n",
       "    .dataframe tbody tr th {\n",
       "        vertical-align: top;\n",
       "    }\n",
       "\n",
       "    .dataframe thead th {\n",
       "        text-align: right;\n",
       "    }\n",
       "</style>\n",
       "<table border=\"1\" class=\"dataframe\">\n",
       "  <thead>\n",
       "    <tr style=\"text-align: right;\">\n",
       "      <th></th>\n",
       "      <th>num_orders</th>\n",
       "    </tr>\n",
       "    <tr>\n",
       "      <th>datetime</th>\n",
       "      <th></th>\n",
       "    </tr>\n",
       "  </thead>\n",
       "  <tbody>\n",
       "    <tr>\n",
       "      <th>2018-03-01 00:00:00</th>\n",
       "      <td>9</td>\n",
       "    </tr>\n",
       "    <tr>\n",
       "      <th>2018-03-01 00:10:00</th>\n",
       "      <td>14</td>\n",
       "    </tr>\n",
       "    <tr>\n",
       "      <th>2018-03-01 00:20:00</th>\n",
       "      <td>28</td>\n",
       "    </tr>\n",
       "    <tr>\n",
       "      <th>2018-03-01 00:30:00</th>\n",
       "      <td>20</td>\n",
       "    </tr>\n",
       "    <tr>\n",
       "      <th>2018-03-01 00:40:00</th>\n",
       "      <td>32</td>\n",
       "    </tr>\n",
       "  </tbody>\n",
       "</table>\n",
       "</div>"
      ],
      "text/plain": [
       "                     num_orders\n",
       "datetime                       \n",
       "2018-03-01 00:00:00           9\n",
       "2018-03-01 00:10:00          14\n",
       "2018-03-01 00:20:00          28\n",
       "2018-03-01 00:30:00          20\n",
       "2018-03-01 00:40:00          32"
      ]
     },
     "execution_count": 3,
     "metadata": {},
     "output_type": "execute_result"
    }
   ],
   "source": [
    "# вывод первых пяти наблюдений\n",
    "taxi.head()"
   ]
  },
  {
   "cell_type": "code",
   "execution_count": 4,
   "metadata": {},
   "outputs": [
    {
     "name": "stdout",
     "output_type": "stream",
     "text": [
      "<class 'pandas.core.frame.DataFrame'>\n",
      "DatetimeIndex: 26496 entries, 2018-03-01 00:00:00 to 2018-08-31 23:50:00\n",
      "Data columns (total 1 columns):\n",
      " #   Column      Non-Null Count  Dtype\n",
      "---  ------      --------------  -----\n",
      " 0   num_orders  26496 non-null  int64\n",
      "dtypes: int64(1)\n",
      "memory usage: 414.0 KB\n"
     ]
    }
   ],
   "source": [
    "# вывод общей информации по выборочной совокупности\n",
    "taxi.info()"
   ]
  },
  {
   "cell_type": "code",
   "execution_count": 5,
   "metadata": {},
   "outputs": [
    {
     "data": {
      "text/plain": [
       "<matplotlib.axes._subplots.AxesSubplot at 0x7f499de86d90>"
      ]
     },
     "execution_count": 5,
     "metadata": {},
     "output_type": "execute_result"
    },
    {
     "data": {
      "image/png": "[encoded data removed]",
      "text/plain": [
       "<Figure size 432x288 with 1 Axes>"
      ]
     },
     "metadata": {
      "needs_background": "light"
     },
     "output_type": "display_data"
    }
   ],
   "source": [
    "# графическая иллюстрация динамики суммарного количества заказов такси в течение одного часа\n",
    "taxi.resample('1H').sum().plot()"
   ]
  },
  {
   "cell_type": "markdown",
   "metadata": {},
   "source": [
    "- наблюдается восходящий тренд. Временной ряд является нестационарным."
   ]
  },
  {
   "cell_type": "code",
   "execution_count": 6,
   "metadata": {},
   "outputs": [
    {
     "data": {
      "text/plain": [
       "(-37.19854091683216,\n",
       " 0.0,\n",
       " 1,\n",
       " 4414,\n",
       " {'1%': -3.9608224574767696,\n",
       "  '5%': -3.411485117682747,\n",
       "  '10%': -3.1276359742557323},\n",
       " 30876.529590578197)"
      ]
     },
     "execution_count": 6,
     "metadata": {},
     "output_type": "execute_result"
    }
   ],
   "source": [
    "# численная проверка (не)стационарности временного ряда (с константой и трендом)\n",
    "adfuller(x=taxi['num_orders'].asfreq(freq='1H'),maxlag=1, regression='ct')"
   ]
  },
  {
   "cell_type": "markdown",
   "metadata": {},
   "source": [
    "- согласно p-значению (равное нулю), нулевую гипотезу о нестационарности не отклоняем. Временной ряд по количеству заказов является нестационарным."
   ]
  },
  {
   "cell_type": "code",
   "execution_count": 7,
   "metadata": {},
   "outputs": [],
   "source": [
    "# Формирование выборки по суммарному количеству заказов в течение одного часа\n",
    "taxi_by_hour = taxi.resample('1H').sum()"
   ]
  },
  {
   "cell_type": "code",
   "execution_count": 8,
   "metadata": {},
   "outputs": [],
   "source": [
    "# Определим функцию, которая выделяет дополнительные признаки:\n",
    "# час, день недели, день месяца, месяц, лаг количества заказов такси\n",
    "def make_features(data, max_lag):\n",
    "    '''\n",
    "    Функция сортирует данные по индексам. \n",
    "    Далее, формирует 5 выделяет дополнительных переменных:\n",
    "    час, день недели, день месяца, месяц, лаг количества заказов.\n",
    "    В итоговом массиве данных удаляются пропущенные наблюдения.\n",
    "    '''\n",
    "    # сортировка данных по индексам\n",
    "    data.sort_index(inplace=True)\n",
    "    # выделение часа\n",
    "    data['hour'] = data.index.hour\n",
    "    # выделение дня недели\n",
    "    data['dayofweek'] = data.index.dayofweek\n",
    "    # выделение дня месяца\n",
    "    data['dayofmonth'] = data.index.day\n",
    "    # выделение месяца\n",
    "    data['month'] = data.index.month\n",
    "    # выделение лага количества заказов такси\n",
    "    for lag in range(1, max_lag + 1):\n",
    "        data['lag_{}'.format(lag)] = data['num_orders'].shift(lag)\n",
    "    # возвращаем итоговый массив данных с удалением пропущенных наблюдений\n",
    "    return data.dropna(inplace=True)"
   ]
  },
  {
   "cell_type": "code",
   "execution_count": 9,
   "metadata": {},
   "outputs": [
    {
     "name": "stdout",
     "output_type": "stream",
     "text": [
      "Преобразование данных выполнено\n"
     ]
    }
   ],
   "source": [
    "# При апробации функции make_features воспользуемся исключениями\n",
    "try:\n",
    "    make_features(taxi_by_hour, max_lag=1)\n",
    "except:\n",
    "    print('Возникла ошибка')\n",
    "else:\n",
    "    print('Преобразование данных выполнено')"
   ]
  },
  {
   "cell_type": "code",
   "execution_count": 10,
   "metadata": {},
   "outputs": [
    {
     "data": {
      "text/html": [
       "<div>\n",
       "<style scoped>\n",
       "    .dataframe tbody tr th:only-of-type {\n",
       "        vertical-align: middle;\n",
       "    }\n",
       "\n",
       "    .dataframe tbody tr th {\n",
       "        vertical-align: top;\n",
       "    }\n",
       "\n",
       "    .dataframe thead th {\n",
       "        text-align: right;\n",
       "    }\n",
       "</style>\n",
       "<table border=\"1\" class=\"dataframe\">\n",
       "  <thead>\n",
       "    <tr style=\"text-align: right;\">\n",
       "      <th></th>\n",
       "      <th>num_orders</th>\n",
       "      <th>hour</th>\n",
       "      <th>dayofweek</th>\n",
       "      <th>dayofmonth</th>\n",
       "      <th>month</th>\n",
       "      <th>lag_1</th>\n",
       "    </tr>\n",
       "    <tr>\n",
       "      <th>datetime</th>\n",
       "      <th></th>\n",
       "      <th></th>\n",
       "      <th></th>\n",
       "      <th></th>\n",
       "      <th></th>\n",
       "      <th></th>\n",
       "    </tr>\n",
       "  </thead>\n",
       "  <tbody>\n",
       "    <tr>\n",
       "      <th>2018-03-01 01:00:00</th>\n",
       "      <td>85</td>\n",
       "      <td>1</td>\n",
       "      <td>3</td>\n",
       "      <td>1</td>\n",
       "      <td>3</td>\n",
       "      <td>124.0</td>\n",
       "    </tr>\n",
       "    <tr>\n",
       "      <th>2018-03-01 02:00:00</th>\n",
       "      <td>71</td>\n",
       "      <td>2</td>\n",
       "      <td>3</td>\n",
       "      <td>1</td>\n",
       "      <td>3</td>\n",
       "      <td>85.0</td>\n",
       "    </tr>\n",
       "    <tr>\n",
       "      <th>2018-03-01 03:00:00</th>\n",
       "      <td>66</td>\n",
       "      <td>3</td>\n",
       "      <td>3</td>\n",
       "      <td>1</td>\n",
       "      <td>3</td>\n",
       "      <td>71.0</td>\n",
       "    </tr>\n",
       "    <tr>\n",
       "      <th>2018-03-01 04:00:00</th>\n",
       "      <td>43</td>\n",
       "      <td>4</td>\n",
       "      <td>3</td>\n",
       "      <td>1</td>\n",
       "      <td>3</td>\n",
       "      <td>66.0</td>\n",
       "    </tr>\n",
       "    <tr>\n",
       "      <th>2018-03-01 05:00:00</th>\n",
       "      <td>6</td>\n",
       "      <td>5</td>\n",
       "      <td>3</td>\n",
       "      <td>1</td>\n",
       "      <td>3</td>\n",
       "      <td>43.0</td>\n",
       "    </tr>\n",
       "  </tbody>\n",
       "</table>\n",
       "</div>"
      ],
      "text/plain": [
       "                     num_orders  hour  dayofweek  dayofmonth  month  lag_1\n",
       "datetime                                                                  \n",
       "2018-03-01 01:00:00          85     1          3           1      3  124.0\n",
       "2018-03-01 02:00:00          71     2          3           1      3   85.0\n",
       "2018-03-01 03:00:00          66     3          3           1      3   71.0\n",
       "2018-03-01 04:00:00          43     4          3           1      3   66.0\n",
       "2018-03-01 05:00:00           6     5          3           1      3   43.0"
      ]
     },
     "execution_count": 10,
     "metadata": {},
     "output_type": "execute_result"
    }
   ],
   "source": [
    "# вывод первых пяти наблюдений выборочной совокупности с учетом дополнительных признаков.\n",
    "taxi_by_hour.head()"
   ]
  },
  {
   "cell_type": "markdown",
   "metadata": {},
   "source": [
    "### Промежуточные итоги\n",
    "- исходные статистические данные `taxi` имеют 10-ти минутную периодичность.\n",
    "- рассматриваемый период: 1 марта - 31 августа 2018 года.\n",
    "- временной ряд по количеству заказов такси является нестационарным.\n",
    "- выборка `taxi_by_hour` содержит информацию по суммарному количеству заказов в течение одного часа\n",
    "- к исходным данным добавили 5 переменных: час `hour`, день недели `dayofweek`, день месяца `dayofmonth`, месяц `month`, смещение на 1 час назад `lag_1`."
   ]
  },
  {
   "cell_type": "markdown",
   "metadata": {},
   "source": [
    "# 2. Анализ"
   ]
  },
  {
   "cell_type": "markdown",
   "metadata": {},
   "source": [
    "Просмотрим на динамику временного ряда графически."
   ]
  },
  {
   "cell_type": "code",
   "execution_count": 11,
   "metadata": {},
   "outputs": [],
   "source": [
    "# Определим функцию, которая иллюстрирует суммарное количество заказов \n",
    "# в зависимости от частоты времени\n",
    "def plot_by_freq(data, freq):\n",
    "    '''\n",
    "    Функция строит диаграммы суммарного количества заказов \n",
    "    в зависимости от указанной частоты времени.\n",
    "    data - массив данных\n",
    "    freq - частота времени: минута, час, день, месяц\n",
    "    '''\n",
    "    plt.figure(figsize=(8,4))\n",
    "    plt.ylabel('количество_заказов')\n",
    "    # построим суммарное число заказов в зависимости от указанной периодичности\n",
    "    data.groupby(freq)['num_orders'].mean().plot()"
   ]
  },
  {
   "cell_type": "code",
   "execution_count": 12,
   "metadata": {},
   "outputs": [],
   "source": [
    "# определим словарь временной периодичности заказов такси\n",
    "freq_dict = {'час':'hour',\n",
    "             'день_недели':'dayofweek',\n",
    "             'день_месяца':'dayofmonth',\n",
    "             'месяц':'month'}"
   ]
  },
  {
   "cell_type": "code",
   "execution_count": 13,
   "metadata": {},
   "outputs": [
    {
     "data": {
      "image/png": "[encoded data removed]",
      "text/plain": [
       "<Figure size 576x288 with 1 Axes>"
      ]
     },
     "metadata": {
      "needs_background": "light"
     },
     "output_type": "display_data"
    },
    {
     "data": {
      "image/png": "[encoded data removed]",
      "text/plain": [
       "<Figure size 576x288 with 1 Axes>"
      ]
     },
     "metadata": {
      "needs_background": "light"
     },
     "output_type": "display_data"
    },
    {
     "data": {
      "image/png": "[encoded data removed]",
      "text/plain": [
       "<Figure size 576x288 with 1 Axes>"
      ]
     },
     "metadata": {
      "needs_background": "light"
     },
     "output_type": "display_data"
    },
    {
     "data": {
      "image/png": "[encoded data removed]",
      "text/plain": [
       "<Figure size 576x288 with 1 Axes>"
      ]
     },
     "metadata": {
      "needs_background": "light"
     },
     "output_type": "display_data"
    }
   ],
   "source": [
    "# Через цикл for \n",
    "for freq_name, freq_format in freq_dict.items():\n",
    "    # для каждой периодичности построим суммарное число заказов такси\n",
    "    plot_by_freq(taxi_by_hour, freq_format)\n",
    "    # определим заголовок диаграммы\n",
    "    plt.title(freq_name)\n",
    "    # отображение диаграммы\n",
    "    plt.show()"
   ]
  },
  {
   "cell_type": "markdown",
   "metadata": {},
   "source": [
    "Суммарное число заказов такси в течение часа:\n",
    "- **час:** наибольшее значение достигает в полночь. Наименьшее значение в 06:00 утра. После обеда больше заказов, чем до 12:00 часов дня.\n",
    "- **день недели:** в понедельник и четверг имеем наибольшее число заказов. Меньше всего заказов наблюдается во вторник.\n",
    "- **день месяца:** на начало месяца около 74 заказов. Затем повышается число заказов такси, достигая максимального значения к концу месяца - около 120 заказов.\n",
    "- **месяц:** Весной меньше заказов, чем летом. Это может объясняться пляжным сезоном. Также повышение количества заказов в августе может объясняться перелетами новых студентов, мигрантов для трудоустройства."
   ]
  },
  {
   "cell_type": "markdown",
   "metadata": {},
   "source": [
    "# 3. Обучение"
   ]
  },
  {
   "cell_type": "code",
   "execution_count": 14,
   "metadata": {},
   "outputs": [],
   "source": [
    "# выделение матрицы признаков\n",
    "features = taxi_by_hour.drop(labels='num_orders', axis=1)\n",
    "# выделение вектора целевых значений суммарного количества заказов в течение одного часа\n",
    "target = taxi_by_hour['num_orders']"
   ]
  },
  {
   "cell_type": "code",
   "execution_count": 15,
   "metadata": {},
   "outputs": [],
   "source": [
    "# разделение матрицы признаков и вектора целевых значений на тренировочное и тестовое множества\n",
    "features_train, features_test, target_train, target_test = train_test_split(features,target, shuffle=False)"
   ]
  },
  {
   "cell_type": "code",
   "execution_count": 16,
   "metadata": {},
   "outputs": [],
   "source": [
    "# Определим функцию, которая обучает модели\n",
    "def train(model, features_train, target_train, features_predict=None, target_predict=None, grid_params=None, cv=5):\n",
    "    '''\n",
    "    model: модель обучения (1) 'dummy': простейшая модель на основе среднего значения, \n",
    "                           (2) 'linear': линейная модель, \n",
    "                           (3) 'random_forest': модель случайного леса.\n",
    "    features_train: матрица признаков тренировочного множества\n",
    "    target_train: вектор целевых значений тренировочного множеств\n",
    "    features_predict: матрица признаков на котором вычисляем прогноз\n",
    "    target_predict: вектор фактических значений с которым сравниваем прогноз\n",
    "    grid_params: множество гиперпараметров для моделей\n",
    "    cv: количество блоков кросс-валидации\n",
    "    '''\n",
    "    # для каждого типа моделей вычислим прогноз количества такси\n",
    "    # (1) простейшая (наивная) модель\n",
    "    if model == 'dummy':\n",
    "        dum = DummyRegressor(strategy='mean').fit(features_train, target_train)\n",
    "        pred = dum.predict(features_predict)\n",
    "    # (2) модель линейной регрессии\n",
    "    elif model == 'linear':\n",
    "        lin = LinearRegression(n_jobs=-1).fit(features_train, target_train)\n",
    "        pred = lin.predict(features_predict)\n",
    "    # (3) модель случайного леса\n",
    "    elif model == 'random_forest':\n",
    "        rf = RandomForestRegressor(random_state=42)\n",
    "        # определение множества гиперпараметров\n",
    "        grid = GridSearchCV(estimator=rf, param_grid=grid_params,cv=cv, \n",
    "                            n_jobs=-1, scoring='neg_mean_squared_error')\n",
    "        grid_rf = grid.fit(features_train, target_train)\n",
    "        # прогнозируем суммарное число заказов на следующий час на основе наилучшей модели случайного леса\n",
    "        pred = grid_rf.best_estimator_.predict(features_predict)\n",
    "        # отображение (гипер)параметров наилучшей модели случайного леса\n",
    "        print('-' * len('Наилучшая модель случайного леса'))\n",
    "        print('Наилучшая модель случайного леса:')\n",
    "        print(grid_rf.best_estimator_)\n",
    "    # вывод квадрата среднеквадратической ошибки\n",
    "    return mean_squared_error(pred, target_predict) ** 0.5"
   ]
  },
  {
   "cell_type": "code",
   "execution_count": 17,
   "metadata": {},
   "outputs": [],
   "source": [
    "# определим словарь моделей\n",
    "models_dict = {'дамми_среднее':'dummy',\n",
    "               'линейная_модель':'linear',\n",
    "               'случайный_лес':'random_forest'}"
   ]
  },
  {
   "cell_type": "code",
   "execution_count": 18,
   "metadata": {},
   "outputs": [],
   "source": [
    "# определим множество гиперпараметров, \n",
    "# чтобы определить лучшую (с точки зрения среднеквадратической ошибки) модель случайного леса\n",
    "rf_params = {'n_estimators':np.arange(100,131,10),'max_depth':np.arange(10,31,10)}"
   ]
  },
  {
   "cell_type": "code",
   "execution_count": 19,
   "metadata": {},
   "outputs": [
    {
     "name": "stdout",
     "output_type": "stream",
     "text": [
      "--------------------------------\n",
      "Наилучшая модель случайного леса:\n",
      "RandomForestRegressor(max_depth=30, n_estimators=120, random_state=42)\n",
      "-------------------------------------------------------------\n",
      "Квадрат среднеквадратической ошибки (тренировочное множество):\n",
      "                 RMSE_train\n",
      "дамми_среднее     34.767087\n",
      "линейная_модель   28.621590\n",
      "случайный_лес      7.721534\n"
     ]
    }
   ],
   "source": [
    "# Через цикл for для трех моделей вычислим прогноз суммарного количества заказов такси на следующий час.\n",
    "# Прогноз вычисляется на основе тренировочного множества.\n",
    "# Итоговый параметр - квадрат среднеквадратической ошибки.\n",
    "# Воспользуемся исключениями.\n",
    "try:\n",
    "    rmse_train = []\n",
    "    for model_name, model_type in models_dict.items():\n",
    "        model = train(model=model_type, features_train=features_train, target_train=target_train,\n",
    "                      features_predict=features_train, target_predict=target_train, grid_params=rf_params)\n",
    "        rmse_train.append(model)\n",
    "except:\n",
    "    print('Возникла ошибка')\n",
    "else:\n",
    "    print('-' * len('Квадрат среднеквадратической ошибки (тренировочное множество)'))\n",
    "    # Отображение таблицы, которая содержит квадрат средеквадратической ошибки на основе тренировочного множества\n",
    "    print('Квадрат среднеквадратической ошибки (тренировочное множество):')\n",
    "    print(pd.DataFrame(data=dict(RMSE_train=rmse_train), index=models_dict.keys()) )"
   ]
  },
  {
   "cell_type": "markdown",
   "metadata": {},
   "source": [
    "### Промежуточные итоги\n",
    "- определили функцию `train`, которая вычисляет квадрат среднеквадратической ошибки (`rmse`).\n",
    "- наилучшая модель случайного леса имеет 120 деревьев `n_estimators=120`. У деревьев максимальная глубина составляет 30 `max_depth=30`.\n",
    "- `rmse`: у модели случайного леса (7.72). Далее, у модели линейной регресси (28.62). У фиктивной модели (34.77). "
   ]
  },
  {
   "cell_type": "markdown",
   "metadata": {},
   "source": [
    "# 4. Тестирование"
   ]
  },
  {
   "cell_type": "code",
   "execution_count": 20,
   "metadata": {},
   "outputs": [
    {
     "name": "stdout",
     "output_type": "stream",
     "text": [
      "--------------------------------\n",
      "Наилучшая модель случайного леса:\n",
      "RandomForestRegressor(max_depth=30, n_estimators=120, random_state=42)\n",
      "---------------------------------------------------------\n",
      "Квадрат среднеквадратической ошибки (тестовое множество):\n",
      "                 RMSE_test\n",
      "дамми_среднее    71.121425\n",
      "линейная_модель  45.815218\n",
      "случайный_лес    45.383194\n"
     ]
    }
   ],
   "source": [
    "# Аналогично, через цикл for для трех моделей вычислим прогноз суммарного кол-ва заказов такси на следующий час.\n",
    "# В данном случае, прогноз вычисляется на основе тестового множества.\n",
    "# Итоговый параметр - квадрат среднеквадратической ошибки.\n",
    "# Воспользуемся исключениями.\n",
    "try:\n",
    "    rmse_test = []\n",
    "    for model_name, model_type in models_dict.items():\n",
    "        model = train(model=model_type, features_train=features_train, target_train=target_train,\n",
    "                      features_predict=features_test, target_predict=target_test, grid_params=rf_params)\n",
    "        rmse_test.append(model)\n",
    "except:\n",
    "    print('Возникла ошибка')\n",
    "else:\n",
    "    # Отображение таблицы, которая содержит квадрат среднеквадратической ошибки на основе тестового множества\n",
    "    print('-' * len('Квадрат среднеквадратической ошибки (тестовое множество):'))\n",
    "    print('Квадрат среднеквадратической ошибки (тестовое множество):')\n",
    "    print(pd.DataFrame(data=dict(RMSE_test=rmse_test), index=models_dict.keys()) )"
   ]
  },
  {
   "cell_type": "markdown",
   "metadata": {},
   "source": [
    "### Промежуточные итоги\n",
    "- Вычислили прогноз суммарного количества такси на следующий час на основе тестового множества.\n",
    "- `rmse` для трех моделей: модель случайного леса (45.38), модель линейной регрессии (45.81), фиктивной модели (71.12). "
   ]
  },
  {
   "cell_type": "code",
   "execution_count": null,
   "metadata": {},
   "outputs": [],
   "source": []
  }
 ],
 "metadata": {
  "kernelspec": {
   "display_name": "Python 3",
   "language": "python",
   "name": "python3"
  },
  "language_info": {
   "codemirror_mode": {
    "name": "ipython",
    "version": 3
   },
   "file_extension": ".py",
   "mimetype": "text/x-python",
   "name": "python",
   "nbconvert_exporter": "python",
   "pygments_lexer": "ipython3",
   "version": "3.7.6"
  }
 },
 "nbformat": 4,
 "nbformat_minor": 2
}
