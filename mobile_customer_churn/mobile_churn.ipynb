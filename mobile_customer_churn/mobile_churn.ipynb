{
 "cells": [
  {
   "cell_type": "markdown",
   "metadata": {},
   "source": [
    "### Постановка задачи\n",
    "Оператор связи «Ниединогоразрыва.ком» хочет научиться прогнозировать отток клиентов. Если выяснится, что пользователь планирует уйти, ему будут предложены промокоды и специальные условия. Команда оператора собрала персональные данные о некоторых клиентах, информацию об их тарифах и договорах."
   ]
  },
  {
   "cell_type": "markdown",
   "metadata": {},
   "source": [
    "### Шаг 1. Загрузка библиотек и массивов статистических данных"
   ]
  },
  {
   "cell_type": "code",
   "execution_count": 1,
   "metadata": {},
   "outputs": [],
   "source": [
    "# загрузка необходимых библиотек\n",
    "import pandas as pd\n",
    "import numpy as np\n",
    "import seaborn as sns\n",
    "import matplotlib.pyplot as plt\n",
    "from sklearn.ensemble import RandomForestClassifier\n",
    "from sklearn.linear_model import LogisticRegression\n",
    "from sklearn.model_selection import train_test_split, GridSearchCV\n",
    "from sklearn.utils import shuffle\n",
    "from sklearn.metrics import roc_auc_score, accuracy_score, make_scorer, classification_report\n",
    "from datetime import datetime\n",
    "import lightgbm as lgb\n",
    "import warnings\n",
    "warnings.simplefilter(action='ignore', category=FutureWarning)\n",
    "# изменение стиля построения диаграмм\n",
    "plt.style.use('ggplot')\n",
    "# зафиксируем генератор псевдослучайных чисел \n",
    "RandomState = 42"
   ]
  },
  {
   "cell_type": "code",
   "execution_count": 4,
   "metadata": {},
   "outputs": [],
   "source": [
    "# загрузка данных:\n",
    "# по довогору\n",
    "contract = pd.read_csv('contract.csv')\n",
    "# по персональных данных клиентов\n",
    "personal = pd.read_csv('personal.csv')\n",
    "# по интернет-услугам\n",
    "internet = pd.read_csv('internet_final.csv')\n",
    "# по услугам телефонии\n",
    "phone = pd.read_csv('phone.csv')"
   ]
  },
  {
   "cell_type": "markdown",
   "metadata": {},
   "source": [
    "### Шаг 2. Подготовка данных к моделированию"
   ]
  },
  {
   "cell_type": "code",
   "execution_count": 5,
   "metadata": {},
   "outputs": [],
   "source": [
    "# Объединим отдельные массивы в единую выборочную совокупность по идентификационному номеру пользователей\n",
    "# при этом используем внешнее объединение.\n",
    "X = (\n",
    "    # массив по договорам соединяем с информацией по :\n",
    "    contract\\\n",
    "    # (1) персональным данным\n",
    "    .merge(personal, on=['customerID'], how='outer')\\\n",
    "    # (2) интернет-услугам\n",
    "    .merge(internet, on=['customerID'], how='outer')\\\n",
    "    # (3) услугам телефонии\n",
    "    .merge(phone, on=['customerID'], how='outer')\n",
    ")"
   ]
  },
  {
   "cell_type": "code",
   "execution_count": 6,
   "metadata": {
    "scrolled": true
   },
   "outputs": [
    {
     "name": "stdout",
     "output_type": "stream",
     "text": [
      "<class 'pandas.core.frame.DataFrame'>\n",
      "Int64Index: 7043 entries, 0 to 7042\n",
      "Data columns (total 20 columns):\n",
      " #   Column            Non-Null Count  Dtype  \n",
      "---  ------            --------------  -----  \n",
      " 0   customerID        7043 non-null   object \n",
      " 1   BeginDate         7043 non-null   object \n",
      " 2   EndDate           7043 non-null   object \n",
      " 3   Type              7043 non-null   object \n",
      " 4   PaperlessBilling  7043 non-null   object \n",
      " 5   PaymentMethod     7043 non-null   object \n",
      " 6   MonthlyCharges    7043 non-null   float64\n",
      " 7   TotalCharges      7043 non-null   object \n",
      " 8   gender            7043 non-null   object \n",
      " 9   SeniorCitizen     7043 non-null   int64  \n",
      " 10  Partner           7043 non-null   object \n",
      " 11  Dependents        7043 non-null   object \n",
      " 12  InternetService   5517 non-null   object \n",
      " 13  OnlineSecurity    5517 non-null   object \n",
      " 14  OnlineBackup      5517 non-null   object \n",
      " 15  DeviceProtection  5517 non-null   object \n",
      " 16  TechSupport       5517 non-null   object \n",
      " 17  StreamingTV       5517 non-null   object \n",
      " 18  StreamingMovies   5517 non-null   object \n",
      " 19  MultipleLines     6361 non-null   object \n",
      "dtypes: float64(1), int64(1), object(18)\n",
      "memory usage: 1.1+ MB\n"
     ]
    }
   ],
   "source": [
    "# вывод общей информации по выборочной совокупности\n",
    "X.info()"
   ]
  },
  {
   "cell_type": "code",
   "execution_count": 7,
   "metadata": {},
   "outputs": [
    {
     "data": {
      "text/plain": [
       "StreamingTV         1526\n",
       "TechSupport         1526\n",
       "DeviceProtection    1526\n",
       "OnlineBackup        1526\n",
       "OnlineSecurity      1526\n",
       "InternetService     1526\n",
       "StreamingMovies     1526\n",
       "MultipleLines        682\n",
       "PaymentMethod          0\n",
       "BeginDate              0\n",
       "EndDate                0\n",
       "Type                   0\n",
       "PaperlessBilling       0\n",
       "SeniorCitizen          0\n",
       "MonthlyCharges         0\n",
       "TotalCharges           0\n",
       "gender                 0\n",
       "Partner                0\n",
       "Dependents             0\n",
       "customerID             0\n",
       "dtype: int64"
      ]
     },
     "execution_count": 7,
     "metadata": {},
     "output_type": "execute_result"
    }
   ],
   "source": [
    "# Определим количество пропущенных наблюдений \n",
    "X.isnull().sum().sort_values(ascending=False)"
   ]
  },
  {
   "cell_type": "code",
   "execution_count": 8,
   "metadata": {},
   "outputs": [
    {
     "data": {
      "text/plain": [
       "0"
      ]
     },
     "execution_count": 8,
     "metadata": {},
     "output_type": "execute_result"
    }
   ],
   "source": [
    "# Вычислим количество дублирующих наблюдений\n",
    "X.duplicated().sum()"
   ]
  },
  {
   "cell_type": "code",
   "execution_count": 9,
   "metadata": {},
   "outputs": [],
   "source": [
    "# Заполним пропущенные наблюдения меткой 'No'\n",
    "X = X.fillna(value='No')"
   ]
  },
  {
   "cell_type": "code",
   "execution_count": 10,
   "metadata": {},
   "outputs": [],
   "source": [
    "# Через цикл for\n",
    "for row in range(len(X)):\n",
    "    # наблюдения у которых есть пробелы в столбце TotalCharges \n",
    "    if X.loc[row,'TotalCharges'] == ' ':\n",
    "        # заменим на метку отсутствия информации, т.е. NaN\n",
    "        X.loc[row,'TotalCharges'] = np.NaN"
   ]
  },
  {
   "cell_type": "code",
   "execution_count": 11,
   "metadata": {},
   "outputs": [],
   "source": [
    "# Две корректировки в переменной TotalCharges:\n",
    "# (1) заполнение пропущенных наблюдений медианным значением\n",
    "# (2) преобразование со строкового формата в формат с плавающей точкой\n",
    "X['TotalCharges'] = (\n",
    "    X['TotalCharges']\\\n",
    "    .fillna(value=X['TotalCharges'].median()).astype(float)  \n",
    ")"
   ]
  },
  {
   "cell_type": "code",
   "execution_count": 12,
   "metadata": {},
   "outputs": [],
   "source": [
    "# Создадим столбец is_active_customer, где единичное значение обозначает действующего пользователя, \n",
    "# нулевое значение - это недействующий пользователь\n",
    "X['is_active_customer'] = X['EndDate'].apply(lambda x: 1 if x=='No' else 0)"
   ]
  },
  {
   "cell_type": "code",
   "execution_count": 13,
   "metadata": {},
   "outputs": [],
   "source": [
    "# Создадим столбец даты начала заключения договора begin_date в формате datetime\n",
    "X['begin_date'] = pd.to_datetime(X['BeginDate'])\n",
    "# Создадим столбец даты завершения действия довогора end_date.\n",
    "# Заполним наблюдения где отсутствует дата завершения договора на 1 февраля 2020 года (исходя из условия задания)\n",
    "X['end_date'] = X['EndDate'].apply(lambda x: datetime(2020,3,1) if x=='No' else x)"
   ]
  },
  {
   "cell_type": "code",
   "execution_count": 14,
   "metadata": {},
   "outputs": [],
   "source": [
    "# Создадим столбец duration, который отражает продолжительность срока действия договора в днях\n",
    "X['duration'] = (\n",
    "    pd.to_timedelta(X['end_date'] - X['begin_date'])\\\n",
    "    .dt\\\n",
    "    .days # выделяем количество дней\n",
    ")"
   ]
  },
  {
   "cell_type": "code",
   "execution_count": 15,
   "metadata": {},
   "outputs": [],
   "source": [
    "def plot_customers_by_feature(feature):\n",
    "    # Создадим фигура для построения диаграммы\n",
    "    fig, ax = plt.subplots(nrows=1, ncols=1, figsize=(10,6))\n",
    "    # Построим плотностную гистограмму продолжительности срока действия договора для действующих пользователей\n",
    "    X.loc[X['is_active_customer']==1,feature].plot(ax=ax, kind='hist', density=True, histtype='step',\n",
    "                                                  color='green', label='active', lw=5)\n",
    "    # Построим плотностную гистограмму продолжительности срока действия договора для недействующих пользователей\n",
    "    X.loc[X['is_active_customer']==0, feature].plot(ax=ax, kind='hist', density=True, histtype='step',\n",
    "                                                   color='red', label='inactive', lw=5)\n",
    "    # Вывод легенды\n",
    "    plt.legend()"
   ]
  },
  {
   "cell_type": "code",
   "execution_count": 16,
   "metadata": {},
   "outputs": [
    {
     "data": {
      "image/png": "[encoded data removed]",
      "text/plain": [
       "<Figure size 720x432 with 1 Axes>"
      ]
     },
     "metadata": {},
     "output_type": "display_data"
    },
    {
     "data": {
      "image/png": "[encoded data removed]",
      "text/plain": [
       "<Figure size 720x432 with 1 Axes>"
      ]
     },
     "metadata": {},
     "output_type": "display_data"
    },
    {
     "data": {
      "image/png": "[encoded data removed]",
      "text/plain": [
       "<Figure size 720x432 with 1 Axes>"
      ]
     },
     "metadata": {},
     "output_type": "display_data"
    }
   ],
   "source": [
    "# В разрезе классов целевого признака построим плотностные гистограммы по трем переменным\n",
    "# (1) продолжительность срока договора, (2) ежемесячные и (3) совокупные выплаты\n",
    "for feature in ['duration','MonthlyCharges','TotalCharges']:\n",
    "    plot_customers_by_feature(feature)\n",
    "    # обозначение заголовка диаграммы\n",
    "    plt.title(feature)\n",
    "    # отображение диаграммы\n",
    "    plt.show()"
   ]
  },
  {
   "cell_type": "markdown",
   "metadata": {},
   "source": [
    "- большая часть уже недействующих пользователей были клиентами менее 250 дней. То есть, более частый срок \"жизни\" недействующих клиентов равен менее 250-ти дням).\n",
    "- наблюдается большая доля индивидов, которые являются действующими клиентами уже более 2000 дней (от начала подписания договора до 1 февраля 2020 года).\n",
    "- действующие пользователи зачастую имеют ежемесячные выплаты от 20 до 30 у.е.\n",
    "- недействующие пользователи зачастую имеют ежемесячные выплаты от 70 до 110 у.е.\n",
    "- по совокупным выплатам действующие и недействующие пользователи весьма схожи кроме того, что по недействующим пользователям более вероятны выплаты менее 1000 у.е."
   ]
  },
  {
   "cell_type": "code",
   "execution_count": 17,
   "metadata": {},
   "outputs": [],
   "source": [
    "# Создадим массив X_reduced через удаление неинформативных переменных из исходной выборочной совокупности\n",
    "X_reduced = X.drop(labels=['customerID','BeginDate','EndDate',\n",
    "                           'begin_date','end_date','is_active_customer'], axis=1)"
   ]
  },
  {
   "cell_type": "code",
   "execution_count": 18,
   "metadata": {},
   "outputs": [
    {
     "data": {
      "text/plain": [
       "<matplotlib.axes._subplots.AxesSubplot at 0x7f0f2db118d0>"
      ]
     },
     "execution_count": 18,
     "metadata": {},
     "output_type": "execute_result"
    },
    {
     "data": {
      "image/png": "[encoded data removed]",
      "text/plain": [
       "<Figure size 720x432 with 2 Axes>"
      ]
     },
     "metadata": {},
     "output_type": "display_data"
    }
   ],
   "source": [
    "# Построим тепловую диаграмму корреляционной матрицы выборочной совокупности\n",
    "plt.figure(figsize=(10,6))\n",
    "sns.heatmap(X_reduced.corr(), annot=True, cmap='coolwarm')"
   ]
  },
  {
   "cell_type": "code",
   "execution_count": 19,
   "metadata": {},
   "outputs": [],
   "source": [
    "# Создадим массив характеристик с конвертацией некоторых переменных в индикаторный формат (0 либо 1)\n",
    "features = pd.get_dummies(X_reduced, drop_first=True)"
   ]
  },
  {
   "cell_type": "code",
   "execution_count": 20,
   "metadata": {},
   "outputs": [],
   "source": [
    "# Удалим лишний массив данных\n",
    "del X_reduced"
   ]
  },
  {
   "cell_type": "code",
   "execution_count": 21,
   "metadata": {},
   "outputs": [
    {
     "data": {
      "text/html": [
       "<div>\n",
       "<style scoped>\n",
       "    .dataframe tbody tr th:only-of-type {\n",
       "        vertical-align: middle;\n",
       "    }\n",
       "\n",
       "    .dataframe tbody tr th {\n",
       "        vertical-align: top;\n",
       "    }\n",
       "\n",
       "    .dataframe thead th {\n",
       "        text-align: right;\n",
       "    }\n",
       "</style>\n",
       "<table border=\"1\" class=\"dataframe\">\n",
       "  <thead>\n",
       "    <tr style=\"text-align: right;\">\n",
       "      <th></th>\n",
       "      <th>MonthlyCharges</th>\n",
       "      <th>TotalCharges</th>\n",
       "      <th>SeniorCitizen</th>\n",
       "      <th>duration</th>\n",
       "      <th>Type_One year</th>\n",
       "      <th>Type_Two year</th>\n",
       "      <th>PaperlessBilling_Yes</th>\n",
       "      <th>PaymentMethod_Credit card (automatic)</th>\n",
       "      <th>PaymentMethod_Electronic check</th>\n",
       "      <th>PaymentMethod_Mailed check</th>\n",
       "      <th>...</th>\n",
       "      <th>Dependents_Yes</th>\n",
       "      <th>InternetService_Fiber optic</th>\n",
       "      <th>InternetService_No</th>\n",
       "      <th>OnlineSecurity_Yes</th>\n",
       "      <th>OnlineBackup_Yes</th>\n",
       "      <th>DeviceProtection_Yes</th>\n",
       "      <th>TechSupport_Yes</th>\n",
       "      <th>StreamingTV_Yes</th>\n",
       "      <th>StreamingMovies_Yes</th>\n",
       "      <th>MultipleLines_Yes</th>\n",
       "    </tr>\n",
       "  </thead>\n",
       "  <tbody>\n",
       "    <tr>\n",
       "      <th>0</th>\n",
       "      <td>29.85</td>\n",
       "      <td>29.85</td>\n",
       "      <td>0</td>\n",
       "      <td>60</td>\n",
       "      <td>0</td>\n",
       "      <td>0</td>\n",
       "      <td>1</td>\n",
       "      <td>0</td>\n",
       "      <td>1</td>\n",
       "      <td>0</td>\n",
       "      <td>...</td>\n",
       "      <td>0</td>\n",
       "      <td>0</td>\n",
       "      <td>0</td>\n",
       "      <td>0</td>\n",
       "      <td>1</td>\n",
       "      <td>0</td>\n",
       "      <td>0</td>\n",
       "      <td>0</td>\n",
       "      <td>0</td>\n",
       "      <td>0</td>\n",
       "    </tr>\n",
       "    <tr>\n",
       "      <th>1</th>\n",
       "      <td>56.95</td>\n",
       "      <td>1889.50</td>\n",
       "      <td>0</td>\n",
       "      <td>1065</td>\n",
       "      <td>1</td>\n",
       "      <td>0</td>\n",
       "      <td>0</td>\n",
       "      <td>0</td>\n",
       "      <td>0</td>\n",
       "      <td>1</td>\n",
       "      <td>...</td>\n",
       "      <td>0</td>\n",
       "      <td>0</td>\n",
       "      <td>0</td>\n",
       "      <td>1</td>\n",
       "      <td>0</td>\n",
       "      <td>1</td>\n",
       "      <td>0</td>\n",
       "      <td>0</td>\n",
       "      <td>0</td>\n",
       "      <td>0</td>\n",
       "    </tr>\n",
       "    <tr>\n",
       "      <th>2</th>\n",
       "      <td>53.85</td>\n",
       "      <td>108.15</td>\n",
       "      <td>0</td>\n",
       "      <td>61</td>\n",
       "      <td>0</td>\n",
       "      <td>0</td>\n",
       "      <td>1</td>\n",
       "      <td>0</td>\n",
       "      <td>0</td>\n",
       "      <td>1</td>\n",
       "      <td>...</td>\n",
       "      <td>0</td>\n",
       "      <td>0</td>\n",
       "      <td>0</td>\n",
       "      <td>1</td>\n",
       "      <td>1</td>\n",
       "      <td>0</td>\n",
       "      <td>0</td>\n",
       "      <td>0</td>\n",
       "      <td>0</td>\n",
       "      <td>0</td>\n",
       "    </tr>\n",
       "    <tr>\n",
       "      <th>3</th>\n",
       "      <td>42.30</td>\n",
       "      <td>1840.75</td>\n",
       "      <td>0</td>\n",
       "      <td>1400</td>\n",
       "      <td>1</td>\n",
       "      <td>0</td>\n",
       "      <td>0</td>\n",
       "      <td>0</td>\n",
       "      <td>0</td>\n",
       "      <td>0</td>\n",
       "      <td>...</td>\n",
       "      <td>0</td>\n",
       "      <td>0</td>\n",
       "      <td>0</td>\n",
       "      <td>1</td>\n",
       "      <td>0</td>\n",
       "      <td>1</td>\n",
       "      <td>1</td>\n",
       "      <td>0</td>\n",
       "      <td>0</td>\n",
       "      <td>0</td>\n",
       "    </tr>\n",
       "    <tr>\n",
       "      <th>4</th>\n",
       "      <td>70.70</td>\n",
       "      <td>151.65</td>\n",
       "      <td>0</td>\n",
       "      <td>61</td>\n",
       "      <td>0</td>\n",
       "      <td>0</td>\n",
       "      <td>1</td>\n",
       "      <td>0</td>\n",
       "      <td>1</td>\n",
       "      <td>0</td>\n",
       "      <td>...</td>\n",
       "      <td>0</td>\n",
       "      <td>1</td>\n",
       "      <td>0</td>\n",
       "      <td>0</td>\n",
       "      <td>0</td>\n",
       "      <td>0</td>\n",
       "      <td>0</td>\n",
       "      <td>0</td>\n",
       "      <td>0</td>\n",
       "      <td>0</td>\n",
       "    </tr>\n",
       "  </tbody>\n",
       "</table>\n",
       "<p>5 rows × 22 columns</p>\n",
       "</div>"
      ],
      "text/plain": [
       "   MonthlyCharges  TotalCharges  SeniorCitizen  duration  Type_One year  \\\n",
       "0           29.85         29.85              0        60              0   \n",
       "1           56.95       1889.50              0      1065              1   \n",
       "2           53.85        108.15              0        61              0   \n",
       "3           42.30       1840.75              0      1400              1   \n",
       "4           70.70        151.65              0        61              0   \n",
       "\n",
       "   Type_Two year  PaperlessBilling_Yes  PaymentMethod_Credit card (automatic)  \\\n",
       "0              0                     1                                      0   \n",
       "1              0                     0                                      0   \n",
       "2              0                     1                                      0   \n",
       "3              0                     0                                      0   \n",
       "4              0                     1                                      0   \n",
       "\n",
       "   PaymentMethod_Electronic check  PaymentMethod_Mailed check  ...  \\\n",
       "0                               1                           0  ...   \n",
       "1                               0                           1  ...   \n",
       "2                               0                           1  ...   \n",
       "3                               0                           0  ...   \n",
       "4                               1                           0  ...   \n",
       "\n",
       "   Dependents_Yes  InternetService_Fiber optic  InternetService_No  \\\n",
       "0               0                            0                   0   \n",
       "1               0                            0                   0   \n",
       "2               0                            0                   0   \n",
       "3               0                            0                   0   \n",
       "4               0                            1                   0   \n",
       "\n",
       "   OnlineSecurity_Yes  OnlineBackup_Yes  DeviceProtection_Yes  \\\n",
       "0                   0                 1                     0   \n",
       "1                   1                 0                     1   \n",
       "2                   1                 1                     0   \n",
       "3                   1                 0                     1   \n",
       "4                   0                 0                     0   \n",
       "\n",
       "   TechSupport_Yes  StreamingTV_Yes  StreamingMovies_Yes  MultipleLines_Yes  \n",
       "0                0                0                    0                  0  \n",
       "1                0                0                    0                  0  \n",
       "2                0                0                    0                  0  \n",
       "3                1                0                    0                  0  \n",
       "4                0                0                    0                  0  \n",
       "\n",
       "[5 rows x 22 columns]"
      ]
     },
     "execution_count": 21,
     "metadata": {},
     "output_type": "execute_result"
    }
   ],
   "source": [
    "# Вывод итогового массива характеристик\n",
    "features.head()"
   ]
  },
  {
   "cell_type": "code",
   "execution_count": 22,
   "metadata": {},
   "outputs": [
    {
     "name": "stdout",
     "output_type": "stream",
     "text": [
      "<class 'pandas.core.frame.DataFrame'>\n",
      "Int64Index: 7043 entries, 0 to 7042\n",
      "Data columns (total 22 columns):\n",
      " #   Column                                 Non-Null Count  Dtype  \n",
      "---  ------                                 --------------  -----  \n",
      " 0   MonthlyCharges                         7043 non-null   float64\n",
      " 1   TotalCharges                           7043 non-null   float64\n",
      " 2   SeniorCitizen                          7043 non-null   int64  \n",
      " 3   duration                               7043 non-null   int64  \n",
      " 4   Type_One year                          7043 non-null   uint8  \n",
      " 5   Type_Two year                          7043 non-null   uint8  \n",
      " 6   PaperlessBilling_Yes                   7043 non-null   uint8  \n",
      " 7   PaymentMethod_Credit card (automatic)  7043 non-null   uint8  \n",
      " 8   PaymentMethod_Electronic check         7043 non-null   uint8  \n",
      " 9   PaymentMethod_Mailed check             7043 non-null   uint8  \n",
      " 10  gender_Male                            7043 non-null   uint8  \n",
      " 11  Partner_Yes                            7043 non-null   uint8  \n",
      " 12  Dependents_Yes                         7043 non-null   uint8  \n",
      " 13  InternetService_Fiber optic            7043 non-null   uint8  \n",
      " 14  InternetService_No                     7043 non-null   uint8  \n",
      " 15  OnlineSecurity_Yes                     7043 non-null   uint8  \n",
      " 16  OnlineBackup_Yes                       7043 non-null   uint8  \n",
      " 17  DeviceProtection_Yes                   7043 non-null   uint8  \n",
      " 18  TechSupport_Yes                        7043 non-null   uint8  \n",
      " 19  StreamingTV_Yes                        7043 non-null   uint8  \n",
      " 20  StreamingMovies_Yes                    7043 non-null   uint8  \n",
      " 21  MultipleLines_Yes                      7043 non-null   uint8  \n",
      "dtypes: float64(2), int64(2), uint8(18)\n",
      "memory usage: 718.9 KB\n"
     ]
    }
   ],
   "source": [
    "# Вывод общей информации по массиву характеристик\n",
    "features.info()"
   ]
  },
  {
   "cell_type": "markdown",
   "metadata": {},
   "source": [
    "Матрица характеристик содержит 22 переменные."
   ]
  },
  {
   "cell_type": "code",
   "execution_count": 23,
   "metadata": {},
   "outputs": [],
   "source": [
    "# Определение вектора целевого признака\n",
    "target = X['is_active_customer']"
   ]
  },
  {
   "cell_type": "markdown",
   "metadata": {},
   "source": [
    "### Шаг 3. Обучение моделей"
   ]
  },
  {
   "cell_type": "code",
   "execution_count": 24,
   "metadata": {
    "scrolled": true
   },
   "outputs": [
    {
     "data": {
      "text/plain": [
       "1    0.73463\n",
       "0    0.26537\n",
       "Name: is_active_customer, dtype: float64"
      ]
     },
     "execution_count": 24,
     "metadata": {},
     "output_type": "execute_result"
    }
   ],
   "source": [
    "# Подсчет количества классов в векторе целевого признака\n",
    "target.value_counts(normalize=True)"
   ]
  },
  {
   "cell_type": "markdown",
   "metadata": {},
   "source": [
    "Имеем несбалансированность классов целевого признака почти втрое. Для решения данной проблемы увеличим долю наблюдений недостающего класса целевого признака."
   ]
  },
  {
   "cell_type": "code",
   "execution_count": 25,
   "metadata": {},
   "outputs": [],
   "source": [
    "# Определим функцию upsample, которая увеличивает выборку с наименьшим количеством величин целевого признака.\n",
    "# В частности увеличивается выборка недействующих пользователей.\n",
    "def upsample(features, target, repeat):\n",
    "    '''\n",
    "    features: массив данных, содержащий характеристики клиентов\n",
    "    target: массив данных целевого признака\n",
    "    repeat: количество раз увеличения выборки с наименьшим количеством величин целевого признака\n",
    "    ------\n",
    "    output: (1) features_upsampled: увеличенная выборка, (2) target_upsampled: увеличенный вектор целевого признака\n",
    "    '''\n",
    "    # Массив характеристик, у которых целевой признак является нулевым\n",
    "    features_zeros = features[target == 0]\n",
    "    # Массив характеристик, у которых целевой признак равен единице\n",
    "    features_ones = features[target == 1]\n",
    "    # Вектор значений с нулевым целевым признаком\n",
    "    target_zeros = target[target == 0]\n",
    "    # Вектор значений с единичным целевым признаком\n",
    "    target_ones = target[target == 1]\n",
    "    # Соединяем (1) исходную выборку с преобладающим числом целевого признака, \n",
    "    # (2) увеличенной выборкой с наименьшим числом целевого признака\n",
    "    # в контексте массива характеристик\n",
    "    features_upsampled = pd.concat([features_ones] + [features_zeros]*repeat)\n",
    "    # в контексте вектора целевого признака\n",
    "    target_upsampled = pd.concat([target_ones] + [target_zeros] * repeat)\n",
    "    # Перемешиваем наблюдения\n",
    "    features_upsampled, target_upsampled = shuffle(features_upsampled, target_upsampled, random_state=RandomState)\n",
    "    # Возвращаем результирующие массивы данных\n",
    "    return features_upsampled, target_upsampled"
   ]
  },
  {
   "cell_type": "code",
   "execution_count": 26,
   "metadata": {},
   "outputs": [],
   "source": [
    "# Разделение исходного массива характеристик и вектора целевого признака на обучающее и тестовое множества\n",
    "X_train, X_test, y_train, y_test = train_test_split(features, target, test_size=0.25, random_state=RandomState)"
   ]
  },
  {
   "cell_type": "code",
   "execution_count": 27,
   "metadata": {},
   "outputs": [],
   "source": [
    "# Создание расширенного массива характеристик и вектора целевого признака\n",
    "X_upsample, y_upsample = upsample(X_train, y_train, repeat=3)"
   ]
  },
  {
   "cell_type": "code",
   "execution_count": 28,
   "metadata": {},
   "outputs": [
    {
     "data": {
      "text/plain": [
       "0    0.517241\n",
       "1    0.482759\n",
       "Name: is_active_customer, dtype: float64"
      ]
     },
     "execution_count": 28,
     "metadata": {},
     "output_type": "execute_result"
    }
   ],
   "source": [
    "# Вычислим количества классов в векторе целевого признака\n",
    "y_upsample.value_counts(normalize=True)"
   ]
  },
  {
   "cell_type": "markdown",
   "metadata": {},
   "source": [
    "Получили приблизительно одинаковое процентное соотношение двух классов в векторе целевого признака"
   ]
  },
  {
   "cell_type": "markdown",
   "metadata": {},
   "source": [
    "Следующий способ балансирования: сокращение доли преобладающего класса в векторе целевого признака."
   ]
  },
  {
   "cell_type": "code",
   "execution_count": 29,
   "metadata": {},
   "outputs": [],
   "source": [
    "# Определим функцию downsample, которая\n",
    "# случайным образом отбирает указанную долю выборки с преобладающим количеством величин целевого признака.\n",
    "# В частности, сокращаем выборку индивидов, которые еще являются действующими пользователями.\n",
    "def downsample(features, target, fraction):\n",
    "    '''\n",
    "    features: массив данных, содержащий характеристики клиентов\n",
    "    target: массив данных целевого признака\n",
    "    fraction: доля выборки с преобладающим количеством величин целевого признака\n",
    "    ------\n",
    "    output: (1) features_downsampled: усеченная выборка, (2) target_downsampled: усеченный вектор целевого признака\n",
    "    '''\n",
    "    # Массив характеристик, у которых целевой признак является нулевым\n",
    "    features_zeros = features[target == 0]\n",
    "    # Массив характеристик, у которых целевой признак равен единице\n",
    "    features_ones = features[target == 1]\n",
    "    # Вектор значений с нулевым целевым признаком\n",
    "    target_zeros = target[target == 0]\n",
    "    # Вектор значений с единичным целевым признаком\n",
    "    target_ones = target[target == 1]\n",
    "    # Соединение (1) усеченной выборки с преобладающим количеством целевого признака,\n",
    "    # (2) исходной выборкой с меньшим количеством целевого признака\n",
    "    # для массива с характеристиками клиентов\n",
    "    features_downsampled = pd.concat(\n",
    "        [features_ones.sample(frac=fraction, random_state=0)] + [features_zeros])\n",
    "    # для вектора целевого признака\n",
    "    target_downsampled = pd.concat(\n",
    "    [target_ones.sample(frac=fraction, random_state=0)] + [target_zeros])\n",
    "    # Перемешиваем массив характеристик и вектор целевого признака\n",
    "    features_downsampled, target_downsampled = shuffle(features_downsampled, target_downsampled, \n",
    "                                                       random_state=RandomState)\n",
    "    \n",
    "    return features_downsampled, target_downsampled"
   ]
  },
  {
   "cell_type": "code",
   "execution_count": 30,
   "metadata": {},
   "outputs": [],
   "source": [
    "# Создание сокращенного массива характеристик и вектора целевого признака\n",
    "X_downsample, y_downsample = downsample(X_train, y_train, fraction=0.35)"
   ]
  },
  {
   "cell_type": "code",
   "execution_count": 31,
   "metadata": {},
   "outputs": [
    {
     "data": {
      "text/plain": [
       "0    0.505087\n",
       "1    0.494913\n",
       "Name: is_active_customer, dtype: float64"
      ]
     },
     "execution_count": 31,
     "metadata": {},
     "output_type": "execute_result"
    }
   ],
   "source": [
    "# Подсчет количества классов в векторе целевого признака\n",
    "y_downsample.value_counts(normalize=True)"
   ]
  },
  {
   "cell_type": "markdown",
   "metadata": {},
   "source": [
    "### Промежуточные итоги\n",
    "- объединили отдельные массивы в единую выборочную совокупность\n",
    "- создали новую переменную продолжительности срока действия договора `duration` (в днях)\n",
    "- преобразовали переменные об интернет-услугах, услугах телефонии и персональных данных в индикаторный формат (0 либо 1)\n",
    "- создали два столбца, которые отображают отсутсвие информации по (1) интернет-услугам и (2) услугам телефонии\n",
    "- итоговый массив характеристик содержит 24 переменных\n",
    "- способы балансирования целевого признака: (1) `upsample`: в три раза увеличили долю наименьшего класса в векторе целевого признака: долю недействующих пользователей, (2) `downsample`: отобрали 35 процентов преобладающего класса в векторе целевого признака."
   ]
  },
  {
   "cell_type": "markdown",
   "metadata": {},
   "source": [
    "### Шаг 4. Обучение моделей"
   ]
  },
  {
   "cell_type": "markdown",
   "metadata": {},
   "source": [
    "Обучим 3 модели (1) с учетом аргумента `class_weight='balanced'`, (2) на сокращенной, (3) на расширенной выборках:\n",
    "- модель случайного леса\n",
    "- `LightGBM`\n",
    "- модель логистической регрессии\n",
    "\n",
    "В итоге, получим 9 моделей."
   ]
  },
  {
   "cell_type": "code",
   "execution_count": 32,
   "metadata": {},
   "outputs": [],
   "source": [
    "# Определение диапазона гиперпараметров для модели случайного леса\n",
    "params_rf = {'n_estimators': np.arange(110,300,10),\n",
    "             'max_depth': np.arange(10,40,10)}"
   ]
  },
  {
   "cell_type": "code",
   "execution_count": 33,
   "metadata": {},
   "outputs": [],
   "source": [
    "# Определение диапазона гиперпараметров для модели LightGBM\n",
    "params_lgbm = {'learning_rate':[0.01,0.05, 0.1],\n",
    "              'n_estimators':np.arange(110, 200, 10)}"
   ]
  },
  {
   "cell_type": "code",
   "execution_count": 34,
   "metadata": {},
   "outputs": [],
   "source": [
    "# Определение диапазона гиперпараметров для модели логистической регрессии\n",
    "params_logreg = {'C':np.arange(1,10), \n",
    "                 'penalty':['l1','l2']}"
   ]
  },
  {
   "cell_type": "code",
   "execution_count": 35,
   "metadata": {},
   "outputs": [],
   "source": [
    "# Зададим словарь оценочных метрик в сетке обучения моделей\n",
    "grid_scoring = {'ROC_AUC': make_scorer(roc_auc_score), 'Accuracy': make_scorer(accuracy_score)}"
   ]
  },
  {
   "cell_type": "code",
   "execution_count": 36,
   "metadata": {},
   "outputs": [],
   "source": [
    "# Определим функцию, которая создает таблицу с двумя результирующими метриками:\n",
    "# (1) среднее значение точности по кросс-валидации, (2) среднее значение метрики ROC-AUC по кросс-валидации\n",
    "def mean_cv_results(grid_dict, features_train, features_test, target_train, target_test):\n",
    "    '''\n",
    "    grid_dict - словарь сеток моделей\n",
    "    features_train - обучающее множество \n",
    "    features_test - тестовое множество\n",
    "    target_train - вектор целевого признака из тренировочного множества\n",
    "    target_test - вектор целевого признака из тестового множества\n",
    "    \n",
    "    Результирующая таблица содержит (1) наименование моделей, (2) результирующие метрики\n",
    "    \n",
    "    '''\n",
    "    # Инициализация пустых листов\n",
    "    roc_auc_list, accuracy_list, mean_cv_accuracy_list, mean_cv_roc_auc_list, model_name_list = [], [], [], [], []\n",
    "    # Через цилк for для сеток с обученными моделями\n",
    "    for grid_name, grid_model in grid_dict.items():\n",
    "        # Вывод среднего значения точности моделей по кросс-валидации\n",
    "        mean_cv_accuracy = round(pd.DataFrame(grid_model.cv_results_['mean_test_Accuracy']).mean()[0],3)\n",
    "        # Вывод среднего значения метрики ROC-AUC по кросс-валидации\n",
    "        mean_cv_roc_auc = round(pd.DataFrame(grid_model.cv_results_['mean_test_ROC_AUC']).mean()[0],3)\n",
    "        # Включение величины очередной метрики в соответствующий пустой лист\n",
    "        mean_cv_accuracy_list.append(mean_cv_accuracy)\n",
    "        mean_cv_roc_auc_list.append(mean_cv_roc_auc)\n",
    "        # Включение наименования модели\n",
    "        model_name_list.append(grid_name)\n",
    "    \n",
    "    # Создадим таблицу с наименованиями моделей и соответствующими метриками\n",
    "    metrics_dataframe = pd.DataFrame({'mean_cv_accuracy': mean_cv_accuracy_list,\n",
    "                                      'mean_cv_roc_auc': mean_cv_roc_auc_list,\n",
    "                                      'model_name': model_name_list})\n",
    "    # Возращает итоговую таблицу\n",
    "    return metrics_dataframe"
   ]
  },
  {
   "cell_type": "markdown",
   "metadata": {},
   "source": [
    "#### С учетом аргумента `class_weight='balanced'`"
   ]
  },
  {
   "cell_type": "markdown",
   "metadata": {},
   "source": [
    "Аргумент `class_weight='balanced'` позволяет автоматически корректировать веса обратно пропорционально частоте класса целевого признака согласно формуле `количество_наблюдений / (количество_классов * np.bincount(целевой_признак))`."
   ]
  },
  {
   "cell_type": "code",
   "execution_count": 37,
   "metadata": {},
   "outputs": [],
   "source": [
    "# Инициализация модели случайного леса\n",
    "rf_balance = RandomForestClassifier(random_state=RandomState, class_weight='balanced', n_jobs=-1)"
   ]
  },
  {
   "cell_type": "code",
   "execution_count": 38,
   "metadata": {},
   "outputs": [],
   "source": [
    "# Определение сетки моделей случайного леса\n",
    "# Так как ввели две оценочных метрики, то укажем refit='ROC_AUC', чтобы переоценить модель на всей выборке\n",
    "# с настройками гиперпараметров, которые имеют наибольшее значение метрики ROC-AUC на кросс-валидации\n",
    "grid_rf_balance = GridSearchCV(estimator=rf_balance, param_grid=params_rf, cv=5, n_jobs=-1, \n",
    "                               scoring=grid_scoring, refit='ROC_AUC')"
   ]
  },
  {
   "cell_type": "code",
   "execution_count": 39,
   "metadata": {},
   "outputs": [
    {
     "data": {
      "text/plain": [
       "GridSearchCV(cv=5,\n",
       "             estimator=RandomForestClassifier(class_weight='balanced',\n",
       "                                              n_jobs=-1, random_state=42),\n",
       "             n_jobs=-1,\n",
       "             param_grid={'max_depth': array([10, 20, 30]),\n",
       "                         'n_estimators': array([110, 120, 130, 140, 150, 160, 170, 180, 190, 200, 210, 220, 230,\n",
       "       240, 250, 260, 270, 280, 290])},\n",
       "             refit='ROC_AUC',\n",
       "             scoring={'Accuracy': make_scorer(accuracy_score),\n",
       "                      'ROC_AUC': make_scorer(roc_auc_score)})"
      ]
     },
     "execution_count": 39,
     "metadata": {},
     "output_type": "execute_result"
    }
   ],
   "source": [
    "# Обучение моделей случайного леса\n",
    "grid_rf_balance.fit(X_train, y_train)"
   ]
  },
  {
   "cell_type": "code",
   "execution_count": 40,
   "metadata": {},
   "outputs": [],
   "source": [
    "# Инициализация модели LightGBM\n",
    "lgbm_balance = lgb.LGBMClassifier(random_state=RandomState, class_weight='balanced', n_jobs=-1)"
   ]
  },
  {
   "cell_type": "code",
   "execution_count": 41,
   "metadata": {},
   "outputs": [],
   "source": [
    "# Определение сетки моделей LightGBM\n",
    "grid_lgbm_balance = GridSearchCV(estimator=lgbm_balance, param_grid=params_lgbm, cv=5, n_jobs=-1,\n",
    "                                scoring=grid_scoring, refit='ROC_AUC')"
   ]
  },
  {
   "cell_type": "code",
   "execution_count": 42,
   "metadata": {},
   "outputs": [
    {
     "data": {
      "text/plain": [
       "GridSearchCV(cv=5,\n",
       "             estimator=LGBMClassifier(class_weight='balanced', random_state=42),\n",
       "             n_jobs=-1,\n",
       "             param_grid={'learning_rate': [0.01, 0.05, 0.1],\n",
       "                         'n_estimators': array([110, 120, 130, 140, 150, 160, 170, 180, 190])},\n",
       "             refit='ROC_AUC',\n",
       "             scoring={'Accuracy': make_scorer(accuracy_score),\n",
       "                      'ROC_AUC': make_scorer(roc_auc_score)})"
      ]
     },
     "execution_count": 42,
     "metadata": {},
     "output_type": "execute_result"
    }
   ],
   "source": [
    "# Обучение моделей LightGBM\n",
    "grid_lgbm_balance.fit(X_train, y_train)"
   ]
  },
  {
   "cell_type": "code",
   "execution_count": 43,
   "metadata": {},
   "outputs": [],
   "source": [
    "# Инициализация модели логистической регрессии\n",
    "logreg_balance = LogisticRegression(random_state=RandomState, class_weight='balanced', n_jobs=-1)"
   ]
  },
  {
   "cell_type": "code",
   "execution_count": 44,
   "metadata": {},
   "outputs": [],
   "source": [
    "# Определение сетки моделей логистической регрессии\n",
    "grid_logreg_balance = GridSearchCV(estimator=logreg_balance, param_grid=params_logreg, cv=5, n_jobs=-1,\n",
    "                                   scoring=grid_scoring, refit='ROC_AUC')"
   ]
  },
  {
   "cell_type": "code",
   "execution_count": 45,
   "metadata": {},
   "outputs": [
    {
     "data": {
      "text/plain": [
       "GridSearchCV(cv=5,\n",
       "             estimator=LogisticRegression(class_weight='balanced', n_jobs=-1,\n",
       "                                          random_state=42),\n",
       "             n_jobs=-1,\n",
       "             param_grid={'C': array([1, 2, 3, 4, 5, 6, 7, 8, 9]),\n",
       "                         'penalty': ['l1', 'l2']},\n",
       "             refit='ROC_AUC',\n",
       "             scoring={'Accuracy': make_scorer(accuracy_score),\n",
       "                      'ROC_AUC': make_scorer(roc_auc_score)})"
      ]
     },
     "execution_count": 45,
     "metadata": {},
     "output_type": "execute_result"
    }
   ],
   "source": [
    "# Обучение моделей логистической регрессии\n",
    "grid_logreg_balance.fit(X_train, y_train)"
   ]
  },
  {
   "cell_type": "code",
   "execution_count": 46,
   "metadata": {},
   "outputs": [],
   "source": [
    "# Определим словарь моделей, обученных с учетом аргумента class_weight='balanced'\n",
    "grid_dict_balance = {'rf_balance':grid_rf_balance,\n",
    "                     'lgbm_balance': grid_lgbm_balance,\n",
    "                     'logreg_balance': grid_logreg_balance}"
   ]
  },
  {
   "cell_type": "code",
   "execution_count": 47,
   "metadata": {},
   "outputs": [],
   "source": [
    "# Определим таблицу результирующих метрик\n",
    "mean_cv_balance = mean_cv_results(grid_dict=grid_dict_balance,\n",
    "                                  features_train=X_train, features_test=X_test,\n",
    "                                  target_train=y_train, target_test=y_test)"
   ]
  },
  {
   "cell_type": "markdown",
   "metadata": {},
   "source": [
    "#### Сокращенная выборка"
   ]
  },
  {
   "cell_type": "code",
   "execution_count": 48,
   "metadata": {},
   "outputs": [],
   "source": [
    "# Инициализация модели случайного леса\n",
    "rf_downsample = RandomForestClassifier(random_state=RandomState, n_jobs=-1)"
   ]
  },
  {
   "cell_type": "code",
   "execution_count": 49,
   "metadata": {},
   "outputs": [],
   "source": [
    "# Определение сетки моделей случайного леса\n",
    "grid_rf_downsample = GridSearchCV(estimator=rf_downsample, param_grid=params_rf, cv=5, n_jobs=-1,\n",
    "                                  scoring=grid_scoring, refit='ROC_AUC')"
   ]
  },
  {
   "cell_type": "code",
   "execution_count": 50,
   "metadata": {},
   "outputs": [
    {
     "data": {
      "text/plain": [
       "GridSearchCV(cv=5, estimator=RandomForestClassifier(n_jobs=-1, random_state=42),\n",
       "             n_jobs=-1,\n",
       "             param_grid={'max_depth': array([10, 20, 30]),\n",
       "                         'n_estimators': array([110, 120, 130, 140, 150, 160, 170, 180, 190, 200, 210, 220, 230,\n",
       "       240, 250, 260, 270, 280, 290])},\n",
       "             refit='ROC_AUC',\n",
       "             scoring={'Accuracy': make_scorer(accuracy_score),\n",
       "                      'ROC_AUC': make_scorer(roc_auc_score)})"
      ]
     },
     "execution_count": 50,
     "metadata": {},
     "output_type": "execute_result"
    }
   ],
   "source": [
    "# Обучение моделей случайного леса\n",
    "grid_rf_downsample.fit(X_downsample, y_downsample)"
   ]
  },
  {
   "cell_type": "code",
   "execution_count": 51,
   "metadata": {},
   "outputs": [],
   "source": [
    "# Инициализация модели LightGBM\n",
    "lgbm_downsample = lgb.LGBMClassifier(random_state=RandomState, n_jobs=-1)"
   ]
  },
  {
   "cell_type": "code",
   "execution_count": 52,
   "metadata": {},
   "outputs": [],
   "source": [
    "# Определение сетки моделей LightGBM\n",
    "grid_lgbm_downsample = GridSearchCV(estimator=lgbm_downsample, param_grid=params_lgbm, cv=5, n_jobs=-1,\n",
    "                                    scoring=grid_scoring, refit='ROC_AUC')"
   ]
  },
  {
   "cell_type": "code",
   "execution_count": 53,
   "metadata": {},
   "outputs": [
    {
     "data": {
      "text/plain": [
       "GridSearchCV(cv=5, estimator=LGBMClassifier(random_state=42), n_jobs=-1,\n",
       "             param_grid={'learning_rate': [0.01, 0.05, 0.1],\n",
       "                         'n_estimators': array([110, 120, 130, 140, 150, 160, 170, 180, 190])},\n",
       "             refit='ROC_AUC',\n",
       "             scoring={'Accuracy': make_scorer(accuracy_score),\n",
       "                      'ROC_AUC': make_scorer(roc_auc_score)})"
      ]
     },
     "execution_count": 53,
     "metadata": {},
     "output_type": "execute_result"
    }
   ],
   "source": [
    "# Обучение моделей LightGBM\n",
    "grid_lgbm_downsample.fit(X_downsample, y_downsample)"
   ]
  },
  {
   "cell_type": "code",
   "execution_count": 54,
   "metadata": {},
   "outputs": [],
   "source": [
    "# Инициализация модели логистической регрессии\n",
    "logreg_downsample = LogisticRegression(random_state=RandomState, n_jobs=-1)"
   ]
  },
  {
   "cell_type": "code",
   "execution_count": 55,
   "metadata": {},
   "outputs": [],
   "source": [
    "# Определение сетки моделей логистической регрессии\n",
    "grid_logreg_downsample = GridSearchCV(estimator=logreg_downsample, param_grid=params_logreg, cv=5, n_jobs=-1,\n",
    "                                      scoring=grid_scoring, refit='ROC_AUC')"
   ]
  },
  {
   "cell_type": "code",
   "execution_count": 56,
   "metadata": {},
   "outputs": [
    {
     "data": {
      "text/plain": [
       "GridSearchCV(cv=5, estimator=LogisticRegression(n_jobs=-1, random_state=42),\n",
       "             n_jobs=-1,\n",
       "             param_grid={'C': array([1, 2, 3, 4, 5, 6, 7, 8, 9]),\n",
       "                         'penalty': ['l1', 'l2']},\n",
       "             refit='ROC_AUC',\n",
       "             scoring={'Accuracy': make_scorer(accuracy_score),\n",
       "                      'ROC_AUC': make_scorer(roc_auc_score)})"
      ]
     },
     "execution_count": 56,
     "metadata": {},
     "output_type": "execute_result"
    }
   ],
   "source": [
    "# Обучение моделей логистической регрессии\n",
    "grid_logreg_downsample.fit(X_downsample, y_downsample)"
   ]
  },
  {
   "cell_type": "code",
   "execution_count": 57,
   "metadata": {},
   "outputs": [],
   "source": [
    "# Сформируем словарь моделей, обученных на сокращенной выборке\n",
    "grid_dict_downsample = {'rf_downsample': grid_rf_downsample,\n",
    "                        'lgbm_downsample': grid_lgbm_downsample,\n",
    "                        'logreg_downsample': grid_logreg_downsample}"
   ]
  },
  {
   "cell_type": "code",
   "execution_count": 58,
   "metadata": {},
   "outputs": [],
   "source": [
    "# Определим таблицу результирующих метрик\n",
    "mean_cv_downsample = mean_cv_results(grid_dict=grid_dict_downsample, \n",
    "                                     features_train=X_downsample, features_test=X_test,\n",
    "                                     target_train=y_downsample, target_test=y_test)"
   ]
  },
  {
   "cell_type": "markdown",
   "metadata": {},
   "source": [
    "#### Расширенная выборка"
   ]
  },
  {
   "cell_type": "code",
   "execution_count": 59,
   "metadata": {},
   "outputs": [],
   "source": [
    "# Инициализация модели случайного леса\n",
    "rf_upsample = RandomForestClassifier(random_state=RandomState, n_jobs=-1)"
   ]
  },
  {
   "cell_type": "code",
   "execution_count": 60,
   "metadata": {},
   "outputs": [],
   "source": [
    "# Определение сетки моделей случайного леса\n",
    "grid_rf_upsample = GridSearchCV(estimator=rf_upsample, param_grid=params_rf, cv=5, n_jobs=-1,\n",
    "                                scoring=grid_scoring, refit='ROC_AUC')"
   ]
  },
  {
   "cell_type": "code",
   "execution_count": 61,
   "metadata": {},
   "outputs": [
    {
     "data": {
      "text/plain": [
       "GridSearchCV(cv=5, estimator=RandomForestClassifier(n_jobs=-1, random_state=42),\n",
       "             n_jobs=-1,\n",
       "             param_grid={'max_depth': array([10, 20, 30]),\n",
       "                         'n_estimators': array([110, 120, 130, 140, 150, 160, 170, 180, 190, 200, 210, 220, 230,\n",
       "       240, 250, 260, 270, 280, 290])},\n",
       "             refit='ROC_AUC',\n",
       "             scoring={'Accuracy': make_scorer(accuracy_score),\n",
       "                      'ROC_AUC': make_scorer(roc_auc_score)})"
      ]
     },
     "execution_count": 61,
     "metadata": {},
     "output_type": "execute_result"
    }
   ],
   "source": [
    "# Обучение моделей случайного леса\n",
    "grid_rf_upsample.fit(X_upsample, y_upsample)"
   ]
  },
  {
   "cell_type": "code",
   "execution_count": 62,
   "metadata": {},
   "outputs": [],
   "source": [
    "# Инициализация модели LightGBM\n",
    "lgbm_upsample = lgb.LGBMClassifier(random_state=RandomState, n_jobs=-1)"
   ]
  },
  {
   "cell_type": "code",
   "execution_count": 63,
   "metadata": {},
   "outputs": [],
   "source": [
    "# Определение сетки моделей LightGBM\n",
    "grid_lgbm_upsample = GridSearchCV(estimator=lgbm_upsample, param_grid=params_lgbm, cv=5, n_jobs=-1,\n",
    "                                  scoring=grid_scoring, refit='ROC_AUC')"
   ]
  },
  {
   "cell_type": "code",
   "execution_count": 64,
   "metadata": {},
   "outputs": [
    {
     "data": {
      "text/plain": [
       "GridSearchCV(cv=5, estimator=LGBMClassifier(random_state=42), n_jobs=-1,\n",
       "             param_grid={'learning_rate': [0.01, 0.05, 0.1],\n",
       "                         'n_estimators': array([110, 120, 130, 140, 150, 160, 170, 180, 190])},\n",
       "             refit='ROC_AUC',\n",
       "             scoring={'Accuracy': make_scorer(accuracy_score),\n",
       "                      'ROC_AUC': make_scorer(roc_auc_score)})"
      ]
     },
     "execution_count": 64,
     "metadata": {},
     "output_type": "execute_result"
    }
   ],
   "source": [
    "# Обучение моделей LightGBM\n",
    "grid_lgbm_upsample.fit(X_upsample, y_upsample)"
   ]
  },
  {
   "cell_type": "code",
   "execution_count": 65,
   "metadata": {},
   "outputs": [],
   "source": [
    "# Инициализация модели логистической регрессии\n",
    "logreg_upsample = LogisticRegression(random_state=RandomState, class_weight='balanced', n_jobs=-1)"
   ]
  },
  {
   "cell_type": "code",
   "execution_count": 66,
   "metadata": {},
   "outputs": [],
   "source": [
    "# Определение сетки моделей логистической регрессии\n",
    "grid_logreg_upsample = GridSearchCV(estimator=logreg_upsample, param_grid=params_logreg, cv=5, n_jobs=-1,\n",
    "                                    scoring=grid_scoring, refit='ROC_AUC')"
   ]
  },
  {
   "cell_type": "code",
   "execution_count": 67,
   "metadata": {},
   "outputs": [
    {
     "data": {
      "text/plain": [
       "GridSearchCV(cv=5,\n",
       "             estimator=LogisticRegression(class_weight='balanced', n_jobs=-1,\n",
       "                                          random_state=42),\n",
       "             n_jobs=-1,\n",
       "             param_grid={'C': array([1, 2, 3, 4, 5, 6, 7, 8, 9]),\n",
       "                         'penalty': ['l1', 'l2']},\n",
       "             refit='ROC_AUC',\n",
       "             scoring={'Accuracy': make_scorer(accuracy_score),\n",
       "                      'ROC_AUC': make_scorer(roc_auc_score)})"
      ]
     },
     "execution_count": 67,
     "metadata": {},
     "output_type": "execute_result"
    }
   ],
   "source": [
    "# Обучение моделей логистической регрессии\n",
    "grid_logreg_upsample.fit(X_upsample, y_upsample)"
   ]
  },
  {
   "cell_type": "code",
   "execution_count": 68,
   "metadata": {},
   "outputs": [],
   "source": [
    "# Сформируем словарь моделей, обученных на расширенной выборке\n",
    "grid_dict_upsample = {'rf_upsample': grid_rf_upsample,\n",
    "                      'lgbm_upsample': grid_lgbm_upsample,\n",
    "                      'logreg_upsample': grid_logreg_upsample}"
   ]
  },
  {
   "cell_type": "code",
   "execution_count": 69,
   "metadata": {},
   "outputs": [],
   "source": [
    "# Определим таблицу результирующих метрик\n",
    "mean_cv_upsample = mean_cv_results(grid_dict=grid_dict_upsample, features_train=X_upsample,\n",
    "                                   features_test=X_test, target_train=y_upsample, target_test=y_test)"
   ]
  },
  {
   "cell_type": "code",
   "execution_count": 70,
   "metadata": {},
   "outputs": [],
   "source": [
    "# Объединение таблиц с результирующими метриками\n",
    "mean_cv_whole = pd.concat([mean_cv_balance, mean_cv_downsample, mean_cv_upsample],\n",
    "                                     axis=0)"
   ]
  },
  {
   "cell_type": "code",
   "execution_count": 71,
   "metadata": {},
   "outputs": [
    {
     "data": {
      "text/html": [
       "<div>\n",
       "<style scoped>\n",
       "    .dataframe tbody tr th:only-of-type {\n",
       "        vertical-align: middle;\n",
       "    }\n",
       "\n",
       "    .dataframe tbody tr th {\n",
       "        vertical-align: top;\n",
       "    }\n",
       "\n",
       "    .dataframe thead th {\n",
       "        text-align: right;\n",
       "    }\n",
       "</style>\n",
       "<table border=\"1\" class=\"dataframe\">\n",
       "  <thead>\n",
       "    <tr style=\"text-align: right;\">\n",
       "      <th></th>\n",
       "      <th>mean_cv_accuracy</th>\n",
       "      <th>mean_cv_roc_auc</th>\n",
       "      <th>model_name</th>\n",
       "    </tr>\n",
       "  </thead>\n",
       "  <tbody>\n",
       "    <tr>\n",
       "      <th>1</th>\n",
       "      <td>0.910</td>\n",
       "      <td>0.910</td>\n",
       "      <td>lgbm_upsample</td>\n",
       "    </tr>\n",
       "    <tr>\n",
       "      <th>0</th>\n",
       "      <td>0.904</td>\n",
       "      <td>0.901</td>\n",
       "      <td>rf_upsample</td>\n",
       "    </tr>\n",
       "    <tr>\n",
       "      <th>1</th>\n",
       "      <td>0.866</td>\n",
       "      <td>0.852</td>\n",
       "      <td>lgbm_balance</td>\n",
       "    </tr>\n",
       "    <tr>\n",
       "      <th>1</th>\n",
       "      <td>0.821</td>\n",
       "      <td>0.821</td>\n",
       "      <td>lgbm_downsample</td>\n",
       "    </tr>\n",
       "    <tr>\n",
       "      <th>0</th>\n",
       "      <td>0.780</td>\n",
       "      <td>0.780</td>\n",
       "      <td>rf_downsample</td>\n",
       "    </tr>\n",
       "    <tr>\n",
       "      <th>2</th>\n",
       "      <td>0.762</td>\n",
       "      <td>0.762</td>\n",
       "      <td>logreg_downsample</td>\n",
       "    </tr>\n",
       "    <tr>\n",
       "      <th>2</th>\n",
       "      <td>0.761</td>\n",
       "      <td>0.761</td>\n",
       "      <td>logreg_upsample</td>\n",
       "    </tr>\n",
       "    <tr>\n",
       "      <th>2</th>\n",
       "      <td>0.746</td>\n",
       "      <td>0.758</td>\n",
       "      <td>logreg_balance</td>\n",
       "    </tr>\n",
       "    <tr>\n",
       "      <th>0</th>\n",
       "      <td>0.823</td>\n",
       "      <td>0.750</td>\n",
       "      <td>rf_balance</td>\n",
       "    </tr>\n",
       "  </tbody>\n",
       "</table>\n",
       "</div>"
      ],
      "text/plain": [
       "   mean_cv_accuracy  mean_cv_roc_auc         model_name\n",
       "1             0.910            0.910      lgbm_upsample\n",
       "0             0.904            0.901        rf_upsample\n",
       "1             0.866            0.852       lgbm_balance\n",
       "1             0.821            0.821    lgbm_downsample\n",
       "0             0.780            0.780      rf_downsample\n",
       "2             0.762            0.762  logreg_downsample\n",
       "2             0.761            0.761    logreg_upsample\n",
       "2             0.746            0.758     logreg_balance\n",
       "0             0.823            0.750         rf_balance"
      ]
     },
     "execution_count": 71,
     "metadata": {},
     "output_type": "execute_result"
    }
   ],
   "source": [
    "# Сортировка по среднему значению ROC-AUC по кросс-валидации в убывающем порядке\n",
    "mean_cv_whole.sort_values(by=['mean_cv_roc_auc'], ascending=False)"
   ]
  },
  {
   "cell_type": "markdown",
   "metadata": {},
   "source": [
    "По кросс-валидации наибольшие средние значения метрик `ROC-AUC`:\n",
    "- в модели `LightGBM` на расширенной выборке (`0.910`)\n",
    "- в модели случайного леса на расширенной выборке (`0.901`)\n",
    "- в модели `LightGBM` с автоматической корректировкой классов целевого признака (`0.852`)"
   ]
  },
  {
   "cell_type": "code",
   "execution_count": 72,
   "metadata": {},
   "outputs": [
    {
     "data": {
      "text/html": [
       "<div>\n",
       "<style scoped>\n",
       "    .dataframe tbody tr th:only-of-type {\n",
       "        vertical-align: middle;\n",
       "    }\n",
       "\n",
       "    .dataframe tbody tr th {\n",
       "        vertical-align: top;\n",
       "    }\n",
       "\n",
       "    .dataframe thead th {\n",
       "        text-align: right;\n",
       "    }\n",
       "</style>\n",
       "<table border=\"1\" class=\"dataframe\">\n",
       "  <thead>\n",
       "    <tr style=\"text-align: right;\">\n",
       "      <th></th>\n",
       "      <th>mean_cv_accuracy</th>\n",
       "      <th>mean_cv_roc_auc</th>\n",
       "      <th>model_name</th>\n",
       "    </tr>\n",
       "  </thead>\n",
       "  <tbody>\n",
       "    <tr>\n",
       "      <th>1</th>\n",
       "      <td>0.910</td>\n",
       "      <td>0.910</td>\n",
       "      <td>lgbm_upsample</td>\n",
       "    </tr>\n",
       "    <tr>\n",
       "      <th>0</th>\n",
       "      <td>0.904</td>\n",
       "      <td>0.901</td>\n",
       "      <td>rf_upsample</td>\n",
       "    </tr>\n",
       "    <tr>\n",
       "      <th>1</th>\n",
       "      <td>0.866</td>\n",
       "      <td>0.852</td>\n",
       "      <td>lgbm_balance</td>\n",
       "    </tr>\n",
       "    <tr>\n",
       "      <th>0</th>\n",
       "      <td>0.823</td>\n",
       "      <td>0.750</td>\n",
       "      <td>rf_balance</td>\n",
       "    </tr>\n",
       "    <tr>\n",
       "      <th>1</th>\n",
       "      <td>0.821</td>\n",
       "      <td>0.821</td>\n",
       "      <td>lgbm_downsample</td>\n",
       "    </tr>\n",
       "    <tr>\n",
       "      <th>0</th>\n",
       "      <td>0.780</td>\n",
       "      <td>0.780</td>\n",
       "      <td>rf_downsample</td>\n",
       "    </tr>\n",
       "    <tr>\n",
       "      <th>2</th>\n",
       "      <td>0.762</td>\n",
       "      <td>0.762</td>\n",
       "      <td>logreg_downsample</td>\n",
       "    </tr>\n",
       "    <tr>\n",
       "      <th>2</th>\n",
       "      <td>0.761</td>\n",
       "      <td>0.761</td>\n",
       "      <td>logreg_upsample</td>\n",
       "    </tr>\n",
       "    <tr>\n",
       "      <th>2</th>\n",
       "      <td>0.746</td>\n",
       "      <td>0.758</td>\n",
       "      <td>logreg_balance</td>\n",
       "    </tr>\n",
       "  </tbody>\n",
       "</table>\n",
       "</div>"
      ],
      "text/plain": [
       "   mean_cv_accuracy  mean_cv_roc_auc         model_name\n",
       "1             0.910            0.910      lgbm_upsample\n",
       "0             0.904            0.901        rf_upsample\n",
       "1             0.866            0.852       lgbm_balance\n",
       "0             0.823            0.750         rf_balance\n",
       "1             0.821            0.821    lgbm_downsample\n",
       "0             0.780            0.780      rf_downsample\n",
       "2             0.762            0.762  logreg_downsample\n",
       "2             0.761            0.761    logreg_upsample\n",
       "2             0.746            0.758     logreg_balance"
      ]
     },
     "execution_count": 72,
     "metadata": {},
     "output_type": "execute_result"
    }
   ],
   "source": [
    "# Сортировка по среднему значению точности по кросс-валидации в убывающем порядке\n",
    "mean_cv_whole.sort_values(by=['mean_cv_accuracy'], ascending=False)"
   ]
  },
  {
   "cell_type": "markdown",
   "metadata": {},
   "source": [
    "По кросс-валидации наибольшие средние значения точности:\n",
    "- в модели `LightGBM` на расширенной выборке (`0.910`)\n",
    "- в модели случайного леса на расширенной выборке (`0.904`)\n",
    "- в модели `LightGBM` с автоматической корректировкой классов целевого признака (`0.866`)"
   ]
  },
  {
   "cell_type": "code",
   "execution_count": 73,
   "metadata": {},
   "outputs": [
    {
     "data": {
      "text/plain": [
       "{'learning_rate': 0.1, 'n_estimators': 190}"
      ]
     },
     "execution_count": 73,
     "metadata": {},
     "output_type": "execute_result"
    }
   ],
   "source": [
    "# Инициализация модели с оптимальными гиперпараметрами у которой\n",
    "# наблюдаются наибольшие средние величины (1) метрики ROC-AUC, (2) точности\n",
    "best_model = grid_lgbm_upsample.best_estimator_\n",
    "# Вывод гиперпараметров выбранной наилучшей модели\n",
    "grid_lgbm_upsample.best_params_"
   ]
  },
  {
   "cell_type": "markdown",
   "metadata": {},
   "source": [
    "### Промежуточные итоги\n",
    "- обучили 3 модели (`RandomForestClassifier`,`LightGBMClassifier`,`LogisticRegression`) в разрезе трех способов балансирования классов целевого признака (`class_weight='balanced'`, `downsample`, `upsample`):\n",
    "- наибольшие средние величины метрики `ROC-AUC` по кросс-валидации: `LightGBM` на расширенной выборке составляет `0.910`\n",
    "- наибольшие средние величины точности по кросс-валидации: `LightGBM` на расширенной выборке составляет `0.910`\n",
    "- гиперпараметры выбранной наилучшей модели `LightGBMCLassifier` на расширенной выборке: шаг обучения составляет `0.1`, количество деревьев составляет `190`."
   ]
  },
  {
   "cell_type": "markdown",
   "metadata": {},
   "source": [
    "### Шаг 5. Проверка качества обученных моделей"
   ]
  },
  {
   "cell_type": "code",
   "execution_count": 74,
   "metadata": {},
   "outputs": [],
   "source": [
    "# Определим функцию которая строит столбиковую диаграмму значимости переменных в убывающем порядке\n",
    "def plot_feature_importance(model, features_train, target_train):\n",
    "    '''\n",
    "    Функция строим столбиковую диаграмму значимости переменных в убывающем порядке\n",
    "    model - модель с оптимальными гипепараметрами\n",
    "    '''\n",
    "    # Построим таблицу, которая содержит наименования переменных \n",
    "    # с соответствующей степенью важности в убывающем порядке\n",
    "    importance_table = (\n",
    "        pd.DataFrame({'feature_name': features_train.columns, 'importance': model.feature_importances_})\\\n",
    "        .sort_values(by=['importance'], ascending=False)\n",
    "    )\n",
    "    # Построим столбиковую диаграмму. Метками оси абсцисс являются наименования переменных с величиной значимости\n",
    "    importance_table.plot(kind='bar', figsize=(10,6)).set(xticklabels=importance_table['feature_name'])"
   ]
  },
  {
   "cell_type": "code",
   "execution_count": 75,
   "metadata": {},
   "outputs": [
    {
     "data": {
      "image/png": "[encoded data removed]",
      "text/plain": [
       "<Figure size 720x432 with 1 Axes>"
      ]
     },
     "metadata": {},
     "output_type": "display_data"
    }
   ],
   "source": [
    "# Построение диаграммы значимости переменных в модели с оптимальными гиперпараметрами\n",
    "plot_feature_importance(model=best_model, features_train=X_upsample, target_train=y_upsample)"
   ]
  },
  {
   "cell_type": "markdown",
   "metadata": {},
   "source": [
    "- *наиболее значимые переменные*: продолжительность срока договора, совокупные выплаты, ежемесячные выплаты\n",
    "- *наименее значимы переменные*: способ подключения интернета (телефонная линия, либо оптоволоконный кабель), тип оплаты по почте, является ли индивид пенсионером"
   ]
  },
  {
   "cell_type": "code",
   "execution_count": 76,
   "metadata": {},
   "outputs": [],
   "source": [
    "# Определим функцию, которая выводит результирующие метрики выбранной модели\n",
    "def print_final_metrics(model, features_test, target_test):\n",
    "    '''\n",
    "    model - выбранная модель с оптимальными гиперпараметрами\n",
    "    features_test - матрица характеристи тестового множества\n",
    "    target_test - вектор целевого признака тестового множества\n",
    "    \n",
    "    Вывод метрики ROC-AUC, точности, классификационного отчета\n",
    "    '''\n",
    "    # По выбранной модели определим прогнозные значения на основе тестового множества\n",
    "    predictions = model.predict(features_test)\n",
    "    # Вычисление метрики ROC-AUC по выбранной модели\n",
    "    roc_auc = roc_auc_score(target_test, predictions)\n",
    "    # Вычисление точности по выбранной модели\n",
    "    accuracy = accuracy_score(target_test, predictions)\n",
    "    cls_report = classification_report(target_test, predictions)\n",
    "    print('-'*53)\n",
    "    print('Метрика ROC-AUC: {:.3f}'.format(roc_auc))\n",
    "    print('-'*53)\n",
    "    print('Точность: {:.3f}'.format(accuracy))\n",
    "    print('-'*53)\n",
    "    print('Классификационный отчет: \\n{}'.format(cls_report))"
   ]
  },
  {
   "cell_type": "code",
   "execution_count": 77,
   "metadata": {},
   "outputs": [
    {
     "name": "stdout",
     "output_type": "stream",
     "text": [
      "-----------------------------------------------------\n",
      "Метрика ROC-AUC: 0.950\n",
      "-----------------------------------------------------\n",
      "Точность: 0.964\n",
      "-----------------------------------------------------\n",
      "Классификационный отчет: \n",
      "              precision    recall  f1-score   support\n",
      "\n",
      "           0       0.94      0.92      0.93       479\n",
      "           1       0.97      0.98      0.98      1282\n",
      "\n",
      "    accuracy                           0.96      1761\n",
      "   macro avg       0.96      0.95      0.95      1761\n",
      "weighted avg       0.96      0.96      0.96      1761\n",
      "\n"
     ]
    }
   ],
   "source": [
    "# Вывод результирующих метрик\n",
    "# для модели LightGBMClassifier(learning_rate=0.1, n_estimators=190) на расширенной выборке\n",
    "print_final_metrics(model=best_model, features_test=X_test, target_test=y_test)"
   ]
  },
  {
   "cell_type": "markdown",
   "metadata": {},
   "source": [
    "- *f1_score*: среднее гармоническое полноты и точности варьирует от `0.93` (для \"отрицательного\" класса) до `0.98` (\"положительного\" класса). "
   ]
  },
  {
   "cell_type": "markdown",
   "metadata": {},
   "source": [
    "### Выводы"
   ]
  },
  {
   "cell_type": "markdown",
   "metadata": {},
   "source": [
    "- способы балансирования целевого признака: (1) `upsample`: в три раза увеличили долю наименьшего класса в векторе целевого признака: долю недействующих пользователей, (2) `downsample`: отобрали 35 процентов преобладающего класса в векторе целевого признака.\n",
    "- *наиболее значимые переменные*: продолжительность срока договора, совокупные выплаты, ежемесячные выплаты\n",
    "- *наименее значимы переменные*: способ подключения интернета (телефонная линия, либо оптоволоконный кабель), тип оплаты по почте, является ли индивид пенсионером\n",
    "- наибольшие средние величины метрики `ROC-AUC` по кросс-валидации: `LightGBM` на расширенной выборке составляет `0.910`\n",
    "- наибольшие средние величины точности по кросс-валидации: `LightGBM` на расширенной выборке составляет `0.910`\n",
    "- гиперпараметры выбранной наилучшей модели `LightGBMCLassifier` на расширенной выборке: шаг обучения составляет `0.1`, количество деревьев составляет `190`.\n",
    "- **результирующие метрики выбранной модели:** `ROC-AUC` составляет `0.950`, точность составляет `0.964`, `f1_score` среднее гармоническое полноты и точности варьирует от `0.93` (для \"отрицательного\" класса) до `0.98` (для \"положительного\" класса)."
   ]
  },
  {
   "cell_type": "markdown",
   "metadata": {},
   "source": [
    "- **итоговая модель** $-$ `LightGBMClassifier` со следующими гиперпараметрами: количество деревьев `n_estimators` составляет `190`, шаг обучения `learning_rate` равен `0.1`, генератор псевдослучайных чисел `random_state` равен `42`. Модель обучена на расширенной выборочной совокупности (`upsampling`).\n",
    "- **качество итоговой модели**: метрика `ROC-AUC` составляет `0.950`, метрика `accuracy` составляет `0.964`, метрика `f1_score` составляет `0.93` для отрицательного класса и `0.98` для положительного класса."
   ]
  }
 ],
 "metadata": {
  "kernelspec": {
   "display_name": "Python 3",
   "language": "python",
   "name": "python3"
  },
  "language_info": {
   "codemirror_mode": {
    "name": "ipython",
    "version": 3
   },
   "file_extension": ".py",
   "mimetype": "text/x-python",
   "name": "python",
   "nbconvert_exporter": "python",
   "pygments_lexer": "ipython3",
   "version": "3.7.6"
  }
 },
 "nbformat": 4,
 "nbformat_minor": 2
}
