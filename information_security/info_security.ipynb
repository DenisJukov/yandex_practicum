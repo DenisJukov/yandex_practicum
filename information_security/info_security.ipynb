{
 "cells": [
  {
   "cell_type": "markdown",
   "metadata": {},
   "source": [
    "## 1. Загрузка данных"
   ]
  },
  {
   "cell_type": "code",
   "execution_count": 1,
   "metadata": {},
   "outputs": [],
   "source": [
    "import pandas as pd\n",
    "import numpy as np\n",
    "from sklearn.linear_model import LinearRegression\n",
    "from sklearn.model_selection import train_test_split\n",
    "from sklearn.preprocessing import MinMaxScaler\n",
    "from sklearn.metrics import r2_score"
   ]
  },
  {
   "cell_type": "code",
   "execution_count": 2,
   "metadata": {},
   "outputs": [],
   "source": [
    "# загрузка данных\n",
    "insurance = pd.read_csv('insurance.csv')"
   ]
  },
  {
   "cell_type": "code",
   "execution_count": 3,
   "metadata": {},
   "outputs": [
    {
     "data": {
      "text/html": [
       "<div>\n",
       "<style scoped>\n",
       "    .dataframe tbody tr th:only-of-type {\n",
       "        vertical-align: middle;\n",
       "    }\n",
       "\n",
       "    .dataframe tbody tr th {\n",
       "        vertical-align: top;\n",
       "    }\n",
       "\n",
       "    .dataframe thead th {\n",
       "        text-align: right;\n",
       "    }\n",
       "</style>\n",
       "<table border=\"1\" class=\"dataframe\">\n",
       "  <thead>\n",
       "    <tr style=\"text-align: right;\">\n",
       "      <th></th>\n",
       "      <th>Пол</th>\n",
       "      <th>Возраст</th>\n",
       "      <th>Зарплата</th>\n",
       "      <th>Члены семьи</th>\n",
       "      <th>Страховые выплаты</th>\n",
       "    </tr>\n",
       "  </thead>\n",
       "  <tbody>\n",
       "    <tr>\n",
       "      <th>0</th>\n",
       "      <td>1</td>\n",
       "      <td>41.0</td>\n",
       "      <td>49600.0</td>\n",
       "      <td>1</td>\n",
       "      <td>0</td>\n",
       "    </tr>\n",
       "    <tr>\n",
       "      <th>1</th>\n",
       "      <td>0</td>\n",
       "      <td>46.0</td>\n",
       "      <td>38000.0</td>\n",
       "      <td>1</td>\n",
       "      <td>1</td>\n",
       "    </tr>\n",
       "    <tr>\n",
       "      <th>2</th>\n",
       "      <td>0</td>\n",
       "      <td>29.0</td>\n",
       "      <td>21000.0</td>\n",
       "      <td>0</td>\n",
       "      <td>0</td>\n",
       "    </tr>\n",
       "    <tr>\n",
       "      <th>3</th>\n",
       "      <td>0</td>\n",
       "      <td>21.0</td>\n",
       "      <td>41700.0</td>\n",
       "      <td>2</td>\n",
       "      <td>0</td>\n",
       "    </tr>\n",
       "    <tr>\n",
       "      <th>4</th>\n",
       "      <td>1</td>\n",
       "      <td>28.0</td>\n",
       "      <td>26100.0</td>\n",
       "      <td>0</td>\n",
       "      <td>0</td>\n",
       "    </tr>\n",
       "  </tbody>\n",
       "</table>\n",
       "</div>"
      ],
      "text/plain": [
       "   Пол  Возраст  Зарплата  Члены семьи  Страховые выплаты\n",
       "0    1     41.0   49600.0            1                  0\n",
       "1    0     46.0   38000.0            1                  1\n",
       "2    0     29.0   21000.0            0                  0\n",
       "3    0     21.0   41700.0            2                  0\n",
       "4    1     28.0   26100.0            0                  0"
      ]
     },
     "execution_count": 3,
     "metadata": {},
     "output_type": "execute_result"
    }
   ],
   "source": [
    "# просмотр первых 5-ти наблюдений\n",
    "insurance.head()"
   ]
  },
  {
   "cell_type": "code",
   "execution_count": 4,
   "metadata": {},
   "outputs": [
    {
     "name": "stdout",
     "output_type": "stream",
     "text": [
      "<class 'pandas.core.frame.DataFrame'>\n",
      "RangeIndex: 5000 entries, 0 to 4999\n",
      "Data columns (total 5 columns):\n",
      " #   Column             Non-Null Count  Dtype  \n",
      "---  ------             --------------  -----  \n",
      " 0   Пол                5000 non-null   int64  \n",
      " 1   Возраст            5000 non-null   float64\n",
      " 2   Зарплата           5000 non-null   float64\n",
      " 3   Члены семьи        5000 non-null   int64  \n",
      " 4   Страховые выплаты  5000 non-null   int64  \n",
      "dtypes: float64(2), int64(3)\n",
      "memory usage: 195.4 KB\n"
     ]
    }
   ],
   "source": [
    "# просмотр общей информации о массиве данных\n",
    "insurance.info()"
   ]
  },
  {
   "cell_type": "markdown",
   "metadata": {},
   "source": [
    "- имеем информацию по 5000 клиентам. Каждый индивид характеризуется 5-ю показателями: пол, возраст, зарплата, член, семьи и страховые выплаты. Страховые выплаты выступает в качестве целевого признака."
   ]
  },
  {
   "cell_type": "markdown",
   "metadata": {},
   "source": [
    "## 2. Умножение матриц"
   ]
  },
  {
   "cell_type": "markdown",
   "metadata": {},
   "source": [
    "Обозначения:\n",
    "\n",
    "- $X$ — матрица признаков (нулевой столбец состоит из единиц)\n",
    "\n",
    "- $y$ — вектор целевого признака\n",
    "\n",
    "- $P$ — матрица, на которую умножаются признаки\n",
    "\n",
    "- $w$ — вектор весов линейной регрессии (нулевой элемент равен сдвигу)"
   ]
  },
  {
   "cell_type": "markdown",
   "metadata": {},
   "source": [
    "Предсказания:\n",
    "\n",
    "$$\n",
    "a = Xw\n",
    "$$\n",
    "\n",
    "Задача обучения:\n",
    "\n",
    "$$\n",
    "w = \\arg\\min_w MSE(Xw, y)\n",
    "$$\n",
    "\n",
    "Формула обучения:\n",
    "\n",
    "$$\n",
    "w = (X^T X)^{-1} X^T y\n",
    "$$"
   ]
  },
  {
   "cell_type": "markdown",
   "metadata": {},
   "source": [
    "Имеем 5000 наблюдений и 4 признака. Тем самым, размерность матрицы признаков $X$ составляет 5000х4. Для выполнения матричного умножения, размерность матрицы преобразования $P$ соответствует 4х4. Размерность новой матрицы признаков $XP$ составляет 5000х4.\\\n",
    "Далее, сформулируем условие первого порядка задачи минимизации квадрата ошибок:\n",
    "$$\n",
    "\\frac{\\partial \\Big(y - (XP)w \\Big)^2}{\\partial w} = 2 \\Big(y-(XP)w \\Big)(-XP)^T=0.\n",
    "$$\n",
    "\n",
    "Сокращая $-2$ в вышеприведенной формуле, получим:\n",
    "$$\n",
    "\\Big(y - (XP) w \\Big)(XP)^T=0\n",
    "$$\n",
    "Далее, перенесем $ (XP)^T (XP) w $ в правую часть:\n",
    "$$\n",
    "(XP)^T y = (XP)^T (XP) w\n",
    "$$\n",
    "Выразим $w$:\n",
    "$$\n",
    "w =\\Big((XP)^T (XP) \\Big)^{-1} (XP)^T y = \\Big(P^T X^T XP \\Big)^{-1} P^T X^T y\n",
    "$$\n",
    "Далее, для получения предсказаний умножим новую матрицу признаков $XP$ на новый результирующий параметр $w$:\n",
    "$$\n",
    "a_{XP} = XP \\Big( w \\Big) = XP \\Big( \\big(P^T X^T XP \\big)^{-1} P^T X^T y \\Big) = \n",
    "XP \\Big( P^{-1} X^{-1} (X^T)^{-1} (P^T)^{-1} P^T X^T y  \\Big) =  \n",
    "X P P^{-1} X^{-1} (X^T)^{-1} (P^T)^{-1} P^T X^T y\n",
    "$$\n",
    "Так как матрица $P$ квадратная, то $(P^T)^{-1}=(P^{-1})^T$.\\\n",
    "Также, примем во внимание следующие равенства:\n",
    "$$\n",
    "(XP)^{-1}=P^{-1} X^{-1}; (XP)^T=P^T X^T; PP^{-1}=I,\n",
    "$$\n",
    "где $I-$ матрица с единицами. В итоге, получим:\n",
    "$\n",
    "a_{XP}=\n",
    "X \\big(P P^{-1} \\big) X^{-1} (X^T)^{-1} \\big( P P^{-1} \\big)^T X^T y\n",
    "= X \\big(I \\big) \\big( X^T X \\big)^{-1} \\big( I \\big)^T X^T y\n",
    "= X \\big( X^T X \\big)^{-1} X^T y\n",
    "$.\\\n",
    "Сравним с исходной задачей:\n",
    "$$\n",
    "a = X (X^T X)^{-1} X^T y \n",
    "$$\n",
    "Тем самым, умножение признаков $X$ на матрицу преобразования $P$ не меняет предсказания модели линейной регрессии."
   ]
  },
  {
   "cell_type": "markdown",
   "metadata": {},
   "source": [
    "## 3. Алгоритм преобразования"
   ]
  },
  {
   "cell_type": "markdown",
   "metadata": {},
   "source": [
    "**Алгоритм**\\\n",
    "В качестве алгоритма преобразования можно предложить матрицу со случайными величинами, распределенными по нормальному закону $\\xi \\sim N(0, \\sigma^{2})$, у которой существует обратная к ней матрица. Для этого, можно воспользоваться функцией `numpy.random.randn`."
   ]
  },
  {
   "cell_type": "markdown",
   "metadata": {},
   "source": [
    "**Обоснование**\\\n",
    "Выбор данной матрицы преобразования со случайными величинами $\\xi \\sim N(0, \\sigma^{2})$ может объясняться тем, что при увеличении размера выборочной совокупности, статистические наблюдения достаточно хорошо описываются распределением Гаусса. Для проверки обратимости матрицы воспользуемся функцией `np.linalg.inv()`.\\\n",
    "Для обоснования неизменности качества линейной регрессии, вспомним функциональную форму нашей метрики, коэффициента детерминации:\n",
    "$$\n",
    "R^2 = \\frac{\\sum_{i=1}^{N} (a_{i}-\\bar{y})^2}{\\sum_{i=1}^{N} (y_{i}-\\bar{y})^2}=\n",
    "\\frac{ (a-\\bar{y})^T (a-\\bar{y}) }{ (y-\\bar{y})^T (y-\\bar{y}) }=\n",
    "\\frac{ (Xw-\\bar{y})^T (Xw-\\bar{y}) }{ (y-\\bar{y})^T (y-\\bar{y}) },\n",
    "$$\n",
    "где $a_{i}, y_{i}-$ прогнозные, фактические величины целевого признака, соответственно; $\\bar{y}-$ среднее значение целевого признака.\\\n",
    "Ранее, было выявлено что преобразование матрицы признаков не меняет вектор прогнозных значений $a=Xw=XPw, \\forall P$.\\\n",
    "Тем самым, имеет место равенство коэффициентов детерминации для исходной и преобразованной матриц признаков:\n",
    "$$\n",
    "R^2_{X} = \\frac{ (Xw-\\bar{y})^T (Xw-\\bar{y}) }{ (y-\\bar{y})^T (y-\\bar{y}) }=\n",
    "\\frac{ (XPw-\\bar{y})^T (XPw-\\bar{y}) }{ (y-\\bar{y})^T (y-\\bar{y}) }=R^2_{XP}.\n",
    "$$\n"
   ]
  },
  {
   "cell_type": "markdown",
   "metadata": {},
   "source": [
    "## 4. Проверка алгоритма"
   ]
  },
  {
   "cell_type": "code",
   "execution_count": 5,
   "metadata": {},
   "outputs": [],
   "source": [
    "# выделим целевой признак\n",
    "target_label = 'Страховые выплаты'\n",
    "target = insurance[target_label]\n",
    "# выделим остальные признаки индивидов\n",
    "features = insurance.drop(labels=target_label, axis=1)"
   ]
  },
  {
   "cell_type": "code",
   "execution_count": 6,
   "metadata": {},
   "outputs": [
    {
     "name": "stdout",
     "output_type": "stream",
     "text": [
      "Вычисление обратной матрицы преобразования inv_randn_matrix выполнено\n"
     ]
    }
   ],
   "source": [
    "# сгенерируем матрицу преобразования\n",
    "randn_matrix = np.random.randn(features.shape[1], features.shape[1])\n",
    "# при вычислении обратной матрицы преобразования воспользуемся исключениями\n",
    "try:\n",
    "    inv_randn_matrix = np.linalg.inv(randn_matrix)\n",
    "except:\n",
    "    print('Матрица преобразования является необратимой (не имеет обратную матрицу)')\n",
    "else:\n",
    "    print('Вычисление обратной матрицы преобразования inv_randn_matrix выполнено')"
   ]
  },
  {
   "cell_type": "markdown",
   "metadata": {},
   "source": [
    "Таким образом, подтверждается целесообразность использования выбранной матрицы преобразования."
   ]
  },
  {
   "cell_type": "code",
   "execution_count": 7,
   "metadata": {},
   "outputs": [],
   "source": [
    "# Через матричное умножение исходной матрицы признаков Х на матрицу преобразования Р\n",
    "# сформируем новую матрицу признаков XP\n",
    "new_features = features.values.dot(randn_matrix)"
   ]
  },
  {
   "cell_type": "code",
   "execution_count": 8,
   "metadata": {},
   "outputs": [],
   "source": [
    "# Определим функцию, которая принимает матрицу признаков и вектор целевых значений, а\n",
    "# на выходе получаем коэффиициент детерминации по модели линейной регрессии\n",
    "def train_lin_model(features, target, test_size=0.25):\n",
    "    '''\n",
    "    featurez: матрица признаков\n",
    "    target: вектор целевых значений\n",
    "    test_size: процентная доля валидационного множества\n",
    "    '''\n",
    "    # поделим матрицу признаков и вектор целевых значений на обучающее и валидационное множества\n",
    "    features_train, features_valid, target_train, target_valid =  train_test_split(features,\n",
    "                                                                                   target,\n",
    "                                                                                   test_size=test_size,\n",
    "                                                                                   random_state=42)\n",
    "    # инициализируем модель линейной регрессии\n",
    "    model = LinearRegression(n_jobs=-1)\n",
    "    # (1) обучим модель на тренировочном множестве,\n",
    "    # (2) определим прогнозные значения на валидационном множестве\n",
    "    predictions = model.fit(features_train, target_train).predict(features_valid)\n",
    "    # вывод коэффициента детерминации\n",
    "    return r2_score(target_valid, predictions)"
   ]
  },
  {
   "cell_type": "code",
   "execution_count": 9,
   "metadata": {},
   "outputs": [
    {
     "data": {
      "text/plain": [
       "0.4254778540696311"
      ]
     },
     "execution_count": 9,
     "metadata": {},
     "output_type": "execute_result"
    }
   ],
   "source": [
    "# апробируем функцию train_lin_model на исходной матрице признаков\n",
    "train_lin_model(features, target)"
   ]
  },
  {
   "cell_type": "code",
   "execution_count": 10,
   "metadata": {},
   "outputs": [
    {
     "data": {
      "text/plain": [
       "0.42547785406939875"
      ]
     },
     "execution_count": 10,
     "metadata": {},
     "output_type": "execute_result"
    }
   ],
   "source": [
    "# апробируем функцию train_lin_model на преобразованной матрице признаков\n",
    "train_lin_model(new_features, target)"
   ]
  },
  {
   "cell_type": "code",
   "execution_count": null,
   "metadata": {},
   "outputs": [],
   "source": []
  }
 ],
 "metadata": {
  "kernelspec": {
   "display_name": "Python 3",
   "language": "python",
   "name": "python3"
  },
  "language_info": {
   "codemirror_mode": {
    "name": "ipython",
    "version": 3
   },
   "file_extension": ".py",
   "mimetype": "text/x-python",
   "name": "python",
   "nbconvert_exporter": "python",
   "pygments_lexer": "ipython3",
   "version": "3.7.6"
  }
 },
 "nbformat": 4,
 "nbformat_minor": 2
}
