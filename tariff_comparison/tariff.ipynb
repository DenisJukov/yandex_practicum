{
 "cells": [
  {
   "cell_type": "code",
   "execution_count": 1,
   "metadata": {},
   "outputs": [],
   "source": [
    "# загрузка необходимых библиотек\n",
    "# для осуществления операций с массивом данных\n",
    "import pandas as pd\n",
    "# для математических и статистических вычислений\n",
    "import numpy as np\n",
    "from scipy import stats as st\n",
    "# для графического анализа данных\n",
    "import seaborn as sns\n",
    "import matplotlib.pyplot as plt\n",
    "%matplotlib inline"
   ]
  },
  {
   "cell_type": "code",
   "execution_count": 2,
   "metadata": {},
   "outputs": [],
   "source": [
    "# установим стили построения диаграмм\n",
    "sns.set_style('darkgrid')\n",
    "plt.style.use('ggplot')"
   ]
  },
  {
   "cell_type": "markdown",
   "metadata": {},
   "source": [
    "### Шаг 1. Откройте файл с данными и изучите общую информацию"
   ]
  },
  {
   "cell_type": "markdown",
   "metadata": {},
   "source": [
    "Постановка задачи на данном шаге исследования:\n",
    "\n",
    "(а) Открыть файлы с данными;\n",
    "\n",
    "(б) Изучить общую информацию, которая содержится в массивах данных.\n"
   ]
  },
  {
   "cell_type": "markdown",
   "metadata": {},
   "source": [
    "Загрузим массивы данных, опишем переменные."
   ]
  },
  {
   "cell_type": "code",
   "execution_count": 3,
   "metadata": {},
   "outputs": [],
   "source": [
    "# информация о пользователях\n",
    "users = pd.read_csv('users.csv')"
   ]
  },
  {
   "cell_type": "code",
   "execution_count": 4,
   "metadata": {},
   "outputs": [
    {
     "data": {
      "text/html": [
       "<div>\n",
       "<style scoped>\n",
       "    .dataframe tbody tr th:only-of-type {\n",
       "        vertical-align: middle;\n",
       "    }\n",
       "\n",
       "    .dataframe tbody tr th {\n",
       "        vertical-align: top;\n",
       "    }\n",
       "\n",
       "    .dataframe thead th {\n",
       "        text-align: right;\n",
       "    }\n",
       "</style>\n",
       "<table border=\"1\" class=\"dataframe\">\n",
       "  <thead>\n",
       "    <tr style=\"text-align: right;\">\n",
       "      <th></th>\n",
       "      <th>user_id</th>\n",
       "      <th>age</th>\n",
       "      <th>churn_date</th>\n",
       "      <th>city</th>\n",
       "      <th>first_name</th>\n",
       "      <th>last_name</th>\n",
       "      <th>reg_date</th>\n",
       "      <th>tariff</th>\n",
       "    </tr>\n",
       "  </thead>\n",
       "  <tbody>\n",
       "    <tr>\n",
       "      <th>0</th>\n",
       "      <td>1000</td>\n",
       "      <td>52</td>\n",
       "      <td>NaN</td>\n",
       "      <td>Краснодар</td>\n",
       "      <td>Рафаил</td>\n",
       "      <td>Верещагин</td>\n",
       "      <td>2018-05-25</td>\n",
       "      <td>ultra</td>\n",
       "    </tr>\n",
       "    <tr>\n",
       "      <th>1</th>\n",
       "      <td>1001</td>\n",
       "      <td>41</td>\n",
       "      <td>NaN</td>\n",
       "      <td>Москва</td>\n",
       "      <td>Иван</td>\n",
       "      <td>Ежов</td>\n",
       "      <td>2018-11-01</td>\n",
       "      <td>smart</td>\n",
       "    </tr>\n",
       "    <tr>\n",
       "      <th>2</th>\n",
       "      <td>1002</td>\n",
       "      <td>59</td>\n",
       "      <td>NaN</td>\n",
       "      <td>Стерлитамак</td>\n",
       "      <td>Евгений</td>\n",
       "      <td>Абрамович</td>\n",
       "      <td>2018-06-17</td>\n",
       "      <td>smart</td>\n",
       "    </tr>\n",
       "    <tr>\n",
       "      <th>3</th>\n",
       "      <td>1003</td>\n",
       "      <td>23</td>\n",
       "      <td>NaN</td>\n",
       "      <td>Москва</td>\n",
       "      <td>Белла</td>\n",
       "      <td>Белякова</td>\n",
       "      <td>2018-08-17</td>\n",
       "      <td>ultra</td>\n",
       "    </tr>\n",
       "    <tr>\n",
       "      <th>4</th>\n",
       "      <td>1004</td>\n",
       "      <td>68</td>\n",
       "      <td>NaN</td>\n",
       "      <td>Новокузнецк</td>\n",
       "      <td>Татьяна</td>\n",
       "      <td>Авдеенко</td>\n",
       "      <td>2018-05-14</td>\n",
       "      <td>ultra</td>\n",
       "    </tr>\n",
       "  </tbody>\n",
       "</table>\n",
       "</div>"
      ],
      "text/plain": [
       "   user_id  age churn_date         city first_name  last_name    reg_date  \\\n",
       "0     1000   52        NaN    Краснодар     Рафаил  Верещагин  2018-05-25   \n",
       "1     1001   41        NaN       Москва       Иван       Ежов  2018-11-01   \n",
       "2     1002   59        NaN  Стерлитамак    Евгений  Абрамович  2018-06-17   \n",
       "3     1003   23        NaN       Москва      Белла   Белякова  2018-08-17   \n",
       "4     1004   68        NaN  Новокузнецк    Татьяна   Авдеенко  2018-05-14   \n",
       "\n",
       "  tariff  \n",
       "0  ultra  \n",
       "1  smart  \n",
       "2  smart  \n",
       "3  ultra  \n",
       "4  ultra  "
      ]
     },
     "execution_count": 4,
     "metadata": {},
     "output_type": "execute_result"
    }
   ],
   "source": [
    "# вывод первых 5-ти абонентов сети \"Мегалайн\"\n",
    "users.head()"
   ]
  },
  {
   "cell_type": "code",
   "execution_count": 5,
   "metadata": {},
   "outputs": [
    {
     "data": {
      "text/plain": [
       "smart    351\n",
       "ultra    149\n",
       "Name: tariff, dtype: int64"
      ]
     },
     "execution_count": 5,
     "metadata": {},
     "output_type": "execute_result"
    }
   ],
   "source": [
    "# осуществим подсчет количества абонентов в зависимости от тарифа\n",
    "users['tariff'].value_counts()"
   ]
  },
  {
   "cell_type": "markdown",
   "metadata": {},
   "source": [
    "У значительной части абонентов (351 абонент) подключен тариф \"Смарт\". У 149-ти абонентов - тариф \"Ультра\"."
   ]
  },
  {
   "cell_type": "code",
   "execution_count": 6,
   "metadata": {},
   "outputs": [
    {
     "name": "stdout",
     "output_type": "stream",
     "text": [
      "<class 'pandas.core.frame.DataFrame'>\n",
      "RangeIndex: 500 entries, 0 to 499\n",
      "Data columns (total 8 columns):\n",
      " #   Column      Non-Null Count  Dtype \n",
      "---  ------      --------------  ----- \n",
      " 0   user_id     500 non-null    int64 \n",
      " 1   age         500 non-null    int64 \n",
      " 2   churn_date  38 non-null     object\n",
      " 3   city        500 non-null    object\n",
      " 4   first_name  500 non-null    object\n",
      " 5   last_name   500 non-null    object\n",
      " 6   reg_date    500 non-null    object\n",
      " 7   tariff      500 non-null    object\n",
      "dtypes: int64(2), object(6)\n",
      "memory usage: 31.4+ KB\n"
     ]
    }
   ],
   "source": [
    "# вывод общего описания информации о пользователях\n",
    "users.info()"
   ]
  },
  {
   "cell_type": "markdown",
   "metadata": {},
   "source": [
    "В общей сложности имеем 500 наблюдений (клиентов \"Мегалайн\").\n",
    "\n",
    "В таблице с информацией о пользователях имеем следующие переменные (здесь и далее, в скобках указан тип переменных):\n",
    "- user_id — уникальный идентификатор пользователя (целочисленный формат)\n",
    "- first_name — имя пользователя (текстовый формат)\n",
    "- last_name — фамилия пользователя (текстовый формат)\n",
    "- age — возраст пользователя в годах (целочисленный формат)\n",
    "- reg_date — дата подключения тарифа, а именно день, месяц, год (текстовый формат)\n",
    "- churn_date — дата прекращения пользования тарифом: если значение пропущено, то тариф ещё действовал на момент выгрузки данных (текстовый формат)\n",
    "- city — город проживания пользователя (текстовый формат)\n",
    "- tariff — название тарифного плана (текстовый формат)\n",
    "\n",
    "Стоит преобразовать текстовый формат даты подключения тарифа reg_date и даты прекращения пользования тарифом churn_date в формат времени datetime.\n",
    "\n",
    "Имеем 462 пропущенных наблюдения в дате подключения тарифа churn_date."
   ]
  },
  {
   "cell_type": "code",
   "execution_count": 7,
   "metadata": {},
   "outputs": [],
   "source": [
    "# Информация о звонках\n",
    "calls = pd.read_csv('calls.csv')"
   ]
  },
  {
   "cell_type": "code",
   "execution_count": 8,
   "metadata": {},
   "outputs": [
    {
     "name": "stdout",
     "output_type": "stream",
     "text": [
      "<class 'pandas.core.frame.DataFrame'>\n",
      "RangeIndex: 202607 entries, 0 to 202606\n",
      "Data columns (total 4 columns):\n",
      " #   Column     Non-Null Count   Dtype  \n",
      "---  ------     --------------   -----  \n",
      " 0   id         202607 non-null  object \n",
      " 1   call_date  202607 non-null  object \n",
      " 2   duration   202607 non-null  float64\n",
      " 3   user_id    202607 non-null  int64  \n",
      "dtypes: float64(1), int64(1), object(2)\n",
      "memory usage: 6.2+ MB\n"
     ]
    }
   ],
   "source": [
    "# вывод общего описания информации о звонках\n",
    "calls.info()"
   ]
  },
  {
   "cell_type": "markdown",
   "metadata": {},
   "source": [
    "В таблицей с информацией о звонках имеем следующие переменные:\n",
    "- id — уникальный номер звонка (текстовый формат)\n",
    "- call_date — дата звонка (текстовый формат)\n",
    "- duration — длительность звонка в минутах (формат с плавающей точкой)\n",
    "- user_id — идентификатор пользователя, сделавшего звонок (целочисленный формат).\n",
    "\n",
    "Стоит преобразовать текстовый формат переменной дата звонка call_date в формат даты datetime.\n",
    "\n",
    "В данном случае, пропущенных наблюдений не имеем."
   ]
  },
  {
   "cell_type": "code",
   "execution_count": 9,
   "metadata": {},
   "outputs": [],
   "source": [
    "# информация об интернет-сессиях\n",
    "internet = pd.read_csv('internet.csv')"
   ]
  },
  {
   "cell_type": "code",
   "execution_count": 10,
   "metadata": {},
   "outputs": [
    {
     "name": "stdout",
     "output_type": "stream",
     "text": [
      "<class 'pandas.core.frame.DataFrame'>\n",
      "RangeIndex: 149396 entries, 0 to 149395\n",
      "Data columns (total 5 columns):\n",
      " #   Column        Non-Null Count   Dtype  \n",
      "---  ------        --------------   -----  \n",
      " 0   Unnamed: 0    149396 non-null  int64  \n",
      " 1   id            149396 non-null  object \n",
      " 2   mb_used       149396 non-null  float64\n",
      " 3   session_date  149396 non-null  object \n",
      " 4   user_id       149396 non-null  int64  \n",
      "dtypes: float64(1), int64(2), object(2)\n",
      "memory usage: 5.7+ MB\n"
     ]
    }
   ],
   "source": [
    "# вывод общего описания информации об интернет-сессиях\n",
    "internet.info()"
   ]
  },
  {
   "cell_type": "markdown",
   "metadata": {},
   "source": [
    "В таблице с информацией об интернет-сессиях имеем следующие переменные:\n",
    "- id — уникальный номер сессии (текстовый формат)\n",
    "- mb_used — объём потраченного за сессию интернет-трафика в мегабайтах (формат с плавающей точкой)\n",
    "- session_date — дата интернет-сессии (текстовый формат)\n",
    "- user_id — идентификатор пользователя (целочисленный формат).\n",
    "\n",
    "Стоит преобразовать текстовый формат даты интернет-сессии session_date в формат даты datetime."
   ]
  },
  {
   "cell_type": "code",
   "execution_count": 11,
   "metadata": {},
   "outputs": [],
   "source": [
    "# информация о сообщениях\n",
    "messages = pd.read_csv('messages.csv')"
   ]
  },
  {
   "cell_type": "code",
   "execution_count": 12,
   "metadata": {},
   "outputs": [
    {
     "name": "stdout",
     "output_type": "stream",
     "text": [
      "<class 'pandas.core.frame.DataFrame'>\n",
      "RangeIndex: 123036 entries, 0 to 123035\n",
      "Data columns (total 3 columns):\n",
      " #   Column        Non-Null Count   Dtype \n",
      "---  ------        --------------   ----- \n",
      " 0   id            123036 non-null  object\n",
      " 1   message_date  123036 non-null  object\n",
      " 2   user_id       123036 non-null  int64 \n",
      "dtypes: int64(1), object(2)\n",
      "memory usage: 2.8+ MB\n"
     ]
    }
   ],
   "source": [
    "# вывод общего описания информации о сообщениях\n",
    "messages.info()"
   ]
  },
  {
   "cell_type": "markdown",
   "metadata": {},
   "source": [
    "В таблице с информацией о сообщениях имеем следующие переменные:\n",
    "- id — уникальный номер сообщения (текстовый формат)\n",
    "- message_date — дата сообщения (текстовый формат)\n",
    "- user_id — идентификатор пользователя, отправившего сообщение (целочисленный формат).\n",
    "\n",
    "Стоит преобразовать текстовый формат даты сообщения message_date в формат даты datetime."
   ]
  },
  {
   "cell_type": "code",
   "execution_count": 13,
   "metadata": {},
   "outputs": [],
   "source": [
    "# информация о тарифах\n",
    "tariffs = pd.read_csv('tariffs.csv')"
   ]
  },
  {
   "cell_type": "code",
   "execution_count": 14,
   "metadata": {},
   "outputs": [
    {
     "name": "stdout",
     "output_type": "stream",
     "text": [
      "<class 'pandas.core.frame.DataFrame'>\n",
      "RangeIndex: 2 entries, 0 to 1\n",
      "Data columns (total 8 columns):\n",
      " #   Column                 Non-Null Count  Dtype \n",
      "---  ------                 --------------  ----- \n",
      " 0   messages_included      2 non-null      int64 \n",
      " 1   mb_per_month_included  2 non-null      int64 \n",
      " 2   minutes_included       2 non-null      int64 \n",
      " 3   rub_monthly_fee        2 non-null      int64 \n",
      " 4   rub_per_gb             2 non-null      int64 \n",
      " 5   rub_per_message        2 non-null      int64 \n",
      " 6   rub_per_minute         2 non-null      int64 \n",
      " 7   tariff_name            2 non-null      object\n",
      "dtypes: int64(7), object(1)\n",
      "memory usage: 256.0+ bytes\n"
     ]
    }
   ],
   "source": [
    "# вывод общего описания информации о тарифах\n",
    "tariffs.info()"
   ]
  },
  {
   "cell_type": "markdown",
   "metadata": {},
   "source": [
    "В таблице с информацией о тарифах имеем следующие переменные:\n",
    "- tariff_name — название тарифа (текстовый формат)\n",
    "- rub_monthly_fee — ежемесячная абонентская плата в рублях (целочисленный формат)\n",
    "- minutes_included — количество минут разговора в месяц, включённых в абонентскую плату (целочисленный формат)\n",
    "- messages_included — количество сообщений в месяц, включённых в абонентскую плату (целочисленный формат)\n",
    "- mb_per_month_included — объём интернет-трафика, включённого в абонентскую плату в мегабайтах (целочисленный формат)\n",
    "- rub_per_minute — стоимость минуты разговора сверх тарифного пакета: например, если в тарифе 100 минут разговора в месяц, то со 101 минуты будет взиматься плата (целочисленный формат)\n",
    "- rub_per_message — стоимость отправки сообщения сверх тарифного пакета (целочисленный формат)\n",
    "- rub_per_gb — стоимость дополнительного гигабайта интернет-трафика сверх тарифного пакета: 1 гигабайт = 1024 мегабайта (целочисленный формат)"
   ]
  },
  {
   "cell_type": "markdown",
   "metadata": {},
   "source": [
    "### Промежуточные выводы 1-го шага исследования:"
   ]
  },
  {
   "cell_type": "markdown",
   "metadata": {},
   "source": [
    "- имеем 500 наблюдений: пользователи сети \"Мегалайн\": 351 абонент с тарифом \"Смарт\", 149 абонент - тариф \"Ультра\"\n",
    "- имеем три дополнительных массива данных, содержащие информацию в отношении (1) звонков и минут переговоров, (2) сообщений, (3) интернет-трафика.\n",
    "- имеем 462 пропущенных наблюдения в дате подключения тарифа churn_date.\n",
    "- такие переменные как дата (а) подлючения тарифа, (б) прекращения пользования тарифом, (в) интернет-сессии, (в) звонка, (г) сообщения носят текстовый формат object, который (формат) следует преобразовать в формат даты datetime."
   ]
  },
  {
   "cell_type": "markdown",
   "metadata": {},
   "source": [
    "### Шаг 2. Подготовьте данные"
   ]
  },
  {
   "cell_type": "markdown",
   "metadata": {},
   "source": [
    "Постановка задачи на данном шаге:\\\n",
    "(а) Приведите данные к нужным типам.\\\n",
    "(б) Найдите и исправьте ошибки в данных. Поясните, какие ошибки вы нашли и как их исправили. Обратите внимание, что у большого количества звонков длительность — 0.0 минут. Это проблема в данных, нужна предобработка.\\\n",
    "(в) Посчитайте для каждого пользователя:\n",
    "- количество сделанных звонков и израсходованных минут разговора по месяцам;\n",
    "- количество отправленных сообщений по месяцам;\n",
    "- объем израсходованного интернет-трафика по месяцам;\n",
    "- помесячную выручку с каждого пользователя (вычтите бесплатный лимит из суммарного количества звонков, сообщений и интернет-трафика; остаток умножьте на значение из тарифного плана; прибавьте абонентскую плату, соответствующую тарифному плану).\n"
   ]
  },
  {
   "cell_type": "markdown",
   "metadata": {},
   "source": [
    "#### Приведем данные к нужным типам."
   ]
  },
  {
   "cell_type": "markdown",
   "metadata": {},
   "source": [
    "Ранее, было выявлено наличие 462 пропущенных наблюдения по переменной дата прекращения пользования тарифом churn_date. Для замены подобных пропущенных наблюдений определим дату на момент выгрузки массива данных на основе даты последнего звонка, сообщения и последней интернет-сессии."
   ]
  },
  {
   "cell_type": "code",
   "execution_count": 15,
   "metadata": {},
   "outputs": [
    {
     "data": {
      "text/plain": [
       "131114    2018-12-31\n",
       "Name: call_date, dtype: object"
      ]
     },
     "execution_count": 15,
     "metadata": {},
     "output_type": "execute_result"
    }
   ],
   "source": [
    "# осуществим сортировку по дате последнего звонка в убывающем порядке, и выведем первое наблюдение\n",
    "calls['call_date'].sort_values(ascending=False).head(1)"
   ]
  },
  {
   "cell_type": "code",
   "execution_count": 16,
   "metadata": {},
   "outputs": [
    {
     "data": {
      "text/plain": [
       "98381    2018-12-31\n",
       "Name: message_date, dtype: object"
      ]
     },
     "execution_count": 16,
     "metadata": {},
     "output_type": "execute_result"
    }
   ],
   "source": [
    "# осуществим сортировку по дате последнего сообщения в убывающем порядке и выведем первое наблюдение\n",
    "messages['message_date'].sort_values(ascending=False).head(1)"
   ]
  },
  {
   "cell_type": "code",
   "execution_count": 17,
   "metadata": {},
   "outputs": [
    {
     "data": {
      "text/plain": [
       "101144    2018-12-31\n",
       "Name: session_date, dtype: object"
      ]
     },
     "execution_count": 17,
     "metadata": {},
     "output_type": "execute_result"
    }
   ],
   "source": [
    "# осуществим сортировку по дате последней интернет сессии и выведем первое наблюдение\n",
    "internet['session_date'].sort_values(ascending=False).head(1)"
   ]
  },
  {
   "cell_type": "markdown",
   "metadata": {},
   "source": [
    "Таким образом, момент выгрузки массива данных датируется 31 декабря 2018 года."
   ]
  },
  {
   "cell_type": "code",
   "execution_count": 18,
   "metadata": {},
   "outputs": [
    {
     "name": "stdout",
     "output_type": "stream",
     "text": [
      "Заполнение пропущенных наблюдений по дате прекращения пользования тарифом успешно выполнено\n"
     ]
    }
   ],
   "source": [
    "# заполним пропущенные наблюдения по дате прекращения пользования тарифом churn_date\n",
    "# датой на момент выгрузки данных (31-12-2018)\n",
    "try:\n",
    "    users['churn_date'] = users['churn_date'].transform(lambda x: x.fillna(value='2018-12-31'), axis=0)\n",
    "    print('Заполнение пропущенных наблюдений по дате прекращения пользования тарифом успешно выполнено')\n",
    "except:\n",
    "    print('Возникла ошибка, стоит изменить способ замены')"
   ]
  },
  {
   "cell_type": "code",
   "execution_count": 19,
   "metadata": {},
   "outputs": [
    {
     "data": {
      "text/html": [
       "<div>\n",
       "<style scoped>\n",
       "    .dataframe tbody tr th:only-of-type {\n",
       "        vertical-align: middle;\n",
       "    }\n",
       "\n",
       "    .dataframe tbody tr th {\n",
       "        vertical-align: top;\n",
       "    }\n",
       "\n",
       "    .dataframe thead th {\n",
       "        text-align: right;\n",
       "    }\n",
       "</style>\n",
       "<table border=\"1\" class=\"dataframe\">\n",
       "  <thead>\n",
       "    <tr style=\"text-align: right;\">\n",
       "      <th></th>\n",
       "      <th>reg_date</th>\n",
       "      <th>churn_date</th>\n",
       "    </tr>\n",
       "  </thead>\n",
       "  <tbody>\n",
       "    <tr>\n",
       "      <th>0</th>\n",
       "      <td>2018-05-25</td>\n",
       "      <td>2018-12-31</td>\n",
       "    </tr>\n",
       "    <tr>\n",
       "      <th>1</th>\n",
       "      <td>2018-11-01</td>\n",
       "      <td>2018-12-31</td>\n",
       "    </tr>\n",
       "    <tr>\n",
       "      <th>2</th>\n",
       "      <td>2018-06-17</td>\n",
       "      <td>2018-12-31</td>\n",
       "    </tr>\n",
       "    <tr>\n",
       "      <th>3</th>\n",
       "      <td>2018-08-17</td>\n",
       "      <td>2018-12-31</td>\n",
       "    </tr>\n",
       "    <tr>\n",
       "      <th>4</th>\n",
       "      <td>2018-05-14</td>\n",
       "      <td>2018-12-31</td>\n",
       "    </tr>\n",
       "  </tbody>\n",
       "</table>\n",
       "</div>"
      ],
      "text/plain": [
       "     reg_date  churn_date\n",
       "0  2018-05-25  2018-12-31\n",
       "1  2018-11-01  2018-12-31\n",
       "2  2018-06-17  2018-12-31\n",
       "3  2018-08-17  2018-12-31\n",
       "4  2018-05-14  2018-12-31"
      ]
     },
     "execution_count": 19,
     "metadata": {},
     "output_type": "execute_result"
    }
   ],
   "source": [
    "# вывод информации по первым 5-ти клиентам для определения формата дат\n",
    "users[['reg_date','churn_date']].head()"
   ]
  },
  {
   "cell_type": "markdown",
   "metadata": {},
   "source": [
    "Видим, что даты стоит преобразовать в формат **год-месяц-день**."
   ]
  },
  {
   "cell_type": "code",
   "execution_count": 20,
   "metadata": {},
   "outputs": [],
   "source": [
    "# осуществим преобразование формат переменных:\n",
    "# дата подключения тарифа\n",
    "users['reg_date'] = pd.to_datetime(users['reg_date'],format='%Y-%m-%d')\n",
    "# дата прекращения пользования тарифом\n",
    "users['churn_date'] = pd.to_datetime(users['churn_date'],format='%Y-%m-%d')\n",
    "# дата звонка\n",
    "calls['call_date'] = pd.to_datetime(calls['call_date'], format='%Y-%m-%d')\n",
    "# дата интернет-сессии\n",
    "internet['session_date'] = pd.to_datetime(internet['session_date'], format='%Y-%m-%d')\n",
    "# дата сообщения\n",
    "messages['message_date'] = pd.to_datetime(messages['message_date'], format='%Y-%m-%d')"
   ]
  },
  {
   "cell_type": "code",
   "execution_count": 21,
   "metadata": {},
   "outputs": [],
   "source": [
    "# преобразуем текстовый формат идентификатора звонка, интернет-сессии, сообщения в целочисленный формат\n",
    "for database in [calls, internet, messages]:\n",
    "    database['id'] = database['id'].astype('int')"
   ]
  },
  {
   "cell_type": "markdown",
   "metadata": {},
   "source": [
    "#### Найдем и исправим ошибки в данных."
   ]
  },
  {
   "cell_type": "code",
   "execution_count": 22,
   "metadata": {},
   "outputs": [
    {
     "data": {
      "text/plain": [
       "[Text(0.5, 1.0, 'Потребление интернета')]"
      ]
     },
     "execution_count": 22,
     "metadata": {},
     "output_type": "execute_result"
    },
    {
     "data": {
      "image/png": "[encoded data removed]",
      "text/plain": [
       "<Figure size 864x432 with 2 Axes>"
      ]
     },
     "metadata": {},
     "output_type": "display_data"
    }
   ],
   "source": [
    "# определим два подграфика, увеличим размер диаграмм\n",
    "fig, axes = plt.subplots(nrows=1, ncols=2, figsize=(12,6))\n",
    "# построим гистограмму распределения длительности звонков\n",
    "calls['duration'].hist(ax=axes[0]).set(title='Длительность звонков')\n",
    "# построим гистограмму распределения потребления интернета\n",
    "internet['mb_used'].hist(ax=axes[1],color='blue').set(title='Потребление интернета')"
   ]
  },
  {
   "cell_type": "markdown",
   "metadata": {},
   "source": [
    "Видим наличие нулевых величин (а) длительности звонков, (б) объема потребляемого интернет-трафика."
   ]
  },
  {
   "cell_type": "code",
   "execution_count": 23,
   "metadata": {},
   "outputs": [
    {
     "data": {
      "text/plain": [
       "[Text(0.5, 1.0, 'Потребление интернета')]"
      ]
     },
     "execution_count": 23,
     "metadata": {},
     "output_type": "execute_result"
    },
    {
     "data": {
      "image/png": "[encoded data removed]",
      "text/plain": [
       "<Figure size 864x432 with 2 Axes>"
      ]
     },
     "metadata": {},
     "output_type": "display_data"
    }
   ],
   "source": [
    "# аналогично, определим два подграфика, увеличим размер диаграмм\n",
    "fig, axes = plt.subplots(nrows=1, ncols=2, figsize=(12,6))\n",
    "# построим коробчатую диаграмму длительности звонков\n",
    "sns.boxplot(x='duration', data=calls, ax=axes[0]).set(title='Длительность звонков')\n",
    "# построим коробчатую диаграмму потребления интернета\n",
    "sns.boxplot(x='mb_used', data=internet, color='blue', ax=axes[1]).set(title='Потребление интернета')"
   ]
  },
  {
   "cell_type": "markdown",
   "metadata": {},
   "source": [
    "*Статистически* выбивающимися являются величины (а) длительности звонков, превышающих 25 минут, (б) объемов потребляемого интернет-трафика, превышающих 1200 мб.\n",
    "\n",
    "Подобные *статистически* выбивающиеся величины весьма оправданы, так как пользователь может (а) переговаривать с близкими людьми, обсуждать деловые вопросы, которые требуют большего времени, (б) скачивать большие файлы наподобие фильмов."
   ]
  },
  {
   "cell_type": "markdown",
   "metadata": {},
   "source": [
    "Воспользуемся следующей подсказкой: *«Мегалайн» всегда округляет вверх значения минут и мегабайтов. Если пользователь проговорил всего 1 секунду, в тарифе засчитывается целая минута*.\n",
    "\n",
    "Тем самым, длительность звонка **duration**, объём потраченного интернет-трафика **mb_used**, которые указаны как нулевые значения, заменим на единицу."
   ]
  },
  {
   "cell_type": "code",
   "execution_count": 24,
   "metadata": {},
   "outputs": [],
   "source": [
    "# замена (на месте) нулевых значений переменной длительность звонка duration на единицу\n",
    "calls['duration'].replace(0,1, inplace=True)"
   ]
  },
  {
   "cell_type": "code",
   "execution_count": 25,
   "metadata": {},
   "outputs": [],
   "source": [
    "# замена (на месте) нулевых значений переменной объем потраченного интернет-трафика на единицу\n",
    "internet['mb_used'].replace(0,1, inplace=True)"
   ]
  },
  {
   "cell_type": "markdown",
   "metadata": {},
   "source": [
    "#### Подсчитаем дополнительные переменные."
   ]
  },
  {
   "cell_type": "markdown",
   "metadata": {},
   "source": [
    "#### *Количество сделанных звонков и израсходованных минут разговора по месяцам*"
   ]
  },
  {
   "cell_type": "code",
   "execution_count": 26,
   "metadata": {},
   "outputs": [],
   "source": [
    "# определим столбец month, значения которого отражают месяц осуществления звонка\n",
    "calls['month'] = calls['call_date'].dt.month"
   ]
  },
  {
   "cell_type": "code",
   "execution_count": 27,
   "metadata": {},
   "outputs": [],
   "source": [
    "# Далее, определим сводную таблицу,\n",
    "# индексы которой отражают месяц\n",
    "# с последующим вычислением количества звонков count и суммы потраченных минут sum\n",
    "pivot_users_calls = calls.pivot_table(index=['user_id','month'],\n",
    "                                      values='duration',\n",
    "                                      aggfunc=['count','sum']) "
   ]
  },
  {
   "cell_type": "code",
   "execution_count": 28,
   "metadata": {},
   "outputs": [
    {
     "data": {
      "text/html": [
       "<div>\n",
       "<style scoped>\n",
       "    .dataframe tbody tr th:only-of-type {\n",
       "        vertical-align: middle;\n",
       "    }\n",
       "\n",
       "    .dataframe tbody tr th {\n",
       "        vertical-align: top;\n",
       "    }\n",
       "\n",
       "    .dataframe thead tr th {\n",
       "        text-align: left;\n",
       "    }\n",
       "\n",
       "    .dataframe thead tr:last-of-type th {\n",
       "        text-align: right;\n",
       "    }\n",
       "</style>\n",
       "<table border=\"1\" class=\"dataframe\">\n",
       "  <thead>\n",
       "    <tr>\n",
       "      <th></th>\n",
       "      <th></th>\n",
       "      <th>count</th>\n",
       "      <th>sum</th>\n",
       "    </tr>\n",
       "    <tr>\n",
       "      <th></th>\n",
       "      <th></th>\n",
       "      <th>duration</th>\n",
       "      <th>duration</th>\n",
       "    </tr>\n",
       "    <tr>\n",
       "      <th>user_id</th>\n",
       "      <th>month</th>\n",
       "      <th></th>\n",
       "      <th></th>\n",
       "    </tr>\n",
       "  </thead>\n",
       "  <tbody>\n",
       "    <tr>\n",
       "      <th rowspan=\"5\" valign=\"top\">1000</th>\n",
       "      <th>5</th>\n",
       "      <td>22</td>\n",
       "      <td>155.06</td>\n",
       "    </tr>\n",
       "    <tr>\n",
       "      <th>6</th>\n",
       "      <td>43</td>\n",
       "      <td>173.90</td>\n",
       "    </tr>\n",
       "    <tr>\n",
       "      <th>7</th>\n",
       "      <td>47</td>\n",
       "      <td>324.80</td>\n",
       "    </tr>\n",
       "    <tr>\n",
       "      <th>8</th>\n",
       "      <td>52</td>\n",
       "      <td>399.87</td>\n",
       "    </tr>\n",
       "    <tr>\n",
       "      <th>9</th>\n",
       "      <td>58</td>\n",
       "      <td>452.14</td>\n",
       "    </tr>\n",
       "  </tbody>\n",
       "</table>\n",
       "</div>"
      ],
      "text/plain": [
       "                 count      sum\n",
       "              duration duration\n",
       "user_id month                  \n",
       "1000    5           22   155.06\n",
       "        6           43   173.90\n",
       "        7           47   324.80\n",
       "        8           52   399.87\n",
       "        9           58   452.14"
      ]
     },
     "execution_count": 28,
     "metadata": {},
     "output_type": "execute_result"
    }
   ],
   "source": [
    "# отображение сводной таблицы количества звонков и минут разговора пользователя в разрезе месяцев\n",
    "# первые 5 наблюдений\n",
    "pivot_users_calls.head()"
   ]
  },
  {
   "cell_type": "code",
   "execution_count": 29,
   "metadata": {},
   "outputs": [],
   "source": [
    "# переименовываем столбцы сводной таблицы количества звонков calls_amount и минут разговора calls_duration абонента\n",
    "pivot_users_calls.columns = ['calls_amount','calls_duration']"
   ]
  },
  {
   "cell_type": "code",
   "execution_count": 30,
   "metadata": {},
   "outputs": [
    {
     "data": {
      "text/plain": [
       "(3174, 2)"
      ]
     },
     "execution_count": 30,
     "metadata": {},
     "output_type": "execute_result"
    }
   ],
   "source": [
    "# определим размерность сводной таблицы количества звонков, длительности телефоннных разговоров\n",
    "pivot_users_calls.shape"
   ]
  },
  {
   "cell_type": "markdown",
   "metadata": {},
   "source": [
    "#### *Количество отправленных сообщений по месяцам*"
   ]
  },
  {
   "cell_type": "code",
   "execution_count": 31,
   "metadata": {},
   "outputs": [],
   "source": [
    "# определим столбец month, значения которого отображают месяц отправления сообщения\n",
    "messages['month'] = messages['message_date'].dt.month"
   ]
  },
  {
   "cell_type": "code",
   "execution_count": 32,
   "metadata": {},
   "outputs": [],
   "source": [
    "# определим сводную таблицу, \n",
    "# индексы которой отображают месяц\n",
    "# с вычислением количества отправленных сообщений\n",
    "pivot_users_messages =  messages.pivot_table(index=['user_id','month'],\n",
    "                                             values='message_date',\n",
    "                                             aggfunc='count')"
   ]
  },
  {
   "cell_type": "code",
   "execution_count": 33,
   "metadata": {},
   "outputs": [
    {
     "data": {
      "text/html": [
       "<div>\n",
       "<style scoped>\n",
       "    .dataframe tbody tr th:only-of-type {\n",
       "        vertical-align: middle;\n",
       "    }\n",
       "\n",
       "    .dataframe tbody tr th {\n",
       "        vertical-align: top;\n",
       "    }\n",
       "\n",
       "    .dataframe thead th {\n",
       "        text-align: right;\n",
       "    }\n",
       "</style>\n",
       "<table border=\"1\" class=\"dataframe\">\n",
       "  <thead>\n",
       "    <tr style=\"text-align: right;\">\n",
       "      <th></th>\n",
       "      <th></th>\n",
       "      <th>message_date</th>\n",
       "    </tr>\n",
       "    <tr>\n",
       "      <th>user_id</th>\n",
       "      <th>month</th>\n",
       "      <th></th>\n",
       "    </tr>\n",
       "  </thead>\n",
       "  <tbody>\n",
       "    <tr>\n",
       "      <th rowspan=\"5\" valign=\"top\">1000</th>\n",
       "      <th>5</th>\n",
       "      <td>22</td>\n",
       "    </tr>\n",
       "    <tr>\n",
       "      <th>6</th>\n",
       "      <td>60</td>\n",
       "    </tr>\n",
       "    <tr>\n",
       "      <th>7</th>\n",
       "      <td>75</td>\n",
       "    </tr>\n",
       "    <tr>\n",
       "      <th>8</th>\n",
       "      <td>81</td>\n",
       "    </tr>\n",
       "    <tr>\n",
       "      <th>9</th>\n",
       "      <td>57</td>\n",
       "    </tr>\n",
       "  </tbody>\n",
       "</table>\n",
       "</div>"
      ],
      "text/plain": [
       "               message_date\n",
       "user_id month              \n",
       "1000    5                22\n",
       "        6                60\n",
       "        7                75\n",
       "        8                81\n",
       "        9                57"
      ]
     },
     "execution_count": 33,
     "metadata": {},
     "output_type": "execute_result"
    }
   ],
   "source": [
    "# отображение сводной таблицы количества сообщений каждого пользователя в разрезе месяцев\n",
    "# первые 5 наблюдений\n",
    "pivot_users_messages.head()"
   ]
  },
  {
   "cell_type": "code",
   "execution_count": 34,
   "metadata": {},
   "outputs": [],
   "source": [
    "# переименовываем столбец сводной таблицы количества сообщений messages_amount\n",
    "pivot_users_messages.columns = ['messages_amount']"
   ]
  },
  {
   "cell_type": "code",
   "execution_count": 35,
   "metadata": {},
   "outputs": [
    {
     "data": {
      "text/plain": [
       "(2717, 1)"
      ]
     },
     "execution_count": 35,
     "metadata": {},
     "output_type": "execute_result"
    }
   ],
   "source": [
    "# определим размерность сводной таблицы количества отправленных сообщений\n",
    "pivot_users_messages.shape"
   ]
  },
  {
   "cell_type": "markdown",
   "metadata": {},
   "source": [
    "#### *Объем израсходованного интернет-трафика по месяцам*"
   ]
  },
  {
   "cell_type": "code",
   "execution_count": 36,
   "metadata": {},
   "outputs": [],
   "source": [
    "# определим столбец month, значения которого отображают месяц использования интернет-трафика\n",
    "internet['month'] = internet['session_date'].dt.month"
   ]
  },
  {
   "cell_type": "code",
   "execution_count": 37,
   "metadata": {},
   "outputs": [],
   "source": [
    "# построим сводную таблицу,\n",
    "# индексы которой отображают месяц использования интернета\n",
    "# с вычислением общей суммы израсходованного интернет-трафика \n",
    "pivot_users_internet = internet.pivot_table(index=['user_id','month'], \n",
    "                                            values='mb_used',\n",
    "                                            aggfunc=['sum']) "
   ]
  },
  {
   "cell_type": "code",
   "execution_count": 38,
   "metadata": {},
   "outputs": [
    {
     "data": {
      "text/html": [
       "<div>\n",
       "<style scoped>\n",
       "    .dataframe tbody tr th:only-of-type {\n",
       "        vertical-align: middle;\n",
       "    }\n",
       "\n",
       "    .dataframe tbody tr th {\n",
       "        vertical-align: top;\n",
       "    }\n",
       "\n",
       "    .dataframe thead tr th {\n",
       "        text-align: left;\n",
       "    }\n",
       "\n",
       "    .dataframe thead tr:last-of-type th {\n",
       "        text-align: right;\n",
       "    }\n",
       "</style>\n",
       "<table border=\"1\" class=\"dataframe\">\n",
       "  <thead>\n",
       "    <tr>\n",
       "      <th></th>\n",
       "      <th></th>\n",
       "      <th>sum</th>\n",
       "    </tr>\n",
       "    <tr>\n",
       "      <th></th>\n",
       "      <th></th>\n",
       "      <th>mb_used</th>\n",
       "    </tr>\n",
       "    <tr>\n",
       "      <th>user_id</th>\n",
       "      <th>month</th>\n",
       "      <th></th>\n",
       "    </tr>\n",
       "  </thead>\n",
       "  <tbody>\n",
       "    <tr>\n",
       "      <th rowspan=\"5\" valign=\"top\">1000</th>\n",
       "      <th>5</th>\n",
       "      <td>2254.49</td>\n",
       "    </tr>\n",
       "    <tr>\n",
       "      <th>6</th>\n",
       "      <td>23238.77</td>\n",
       "    </tr>\n",
       "    <tr>\n",
       "      <th>7</th>\n",
       "      <td>14004.64</td>\n",
       "    </tr>\n",
       "    <tr>\n",
       "      <th>8</th>\n",
       "      <td>14057.93</td>\n",
       "    </tr>\n",
       "    <tr>\n",
       "      <th>9</th>\n",
       "      <td>14570.91</td>\n",
       "    </tr>\n",
       "  </tbody>\n",
       "</table>\n",
       "</div>"
      ],
      "text/plain": [
       "                    sum\n",
       "                mb_used\n",
       "user_id month          \n",
       "1000    5       2254.49\n",
       "        6      23238.77\n",
       "        7      14004.64\n",
       "        8      14057.93\n",
       "        9      14570.91"
      ]
     },
     "execution_count": 38,
     "metadata": {},
     "output_type": "execute_result"
    }
   ],
   "source": [
    "# отображение сводной таблицы использования интернета пользователем в разрезе месяцев\n",
    "# первые 5 наблюдений\n",
    "pivot_users_internet.head()"
   ]
  },
  {
   "cell_type": "code",
   "execution_count": 39,
   "metadata": {},
   "outputs": [],
   "source": [
    "# переименовываем столбец сводной таблицы использования интернета в sum_mb_used\n",
    "pivot_users_internet.columns = ['sum_mb_used']"
   ]
  },
  {
   "cell_type": "code",
   "execution_count": 40,
   "metadata": {},
   "outputs": [
    {
     "data": {
      "text/plain": [
       "(3203, 1)"
      ]
     },
     "execution_count": 40,
     "metadata": {},
     "output_type": "execute_result"
    }
   ],
   "source": [
    "# определим размерность сводной таблицы использованного интернет-трафика\n",
    "pivot_users_internet.shape"
   ]
  },
  {
   "cell_type": "markdown",
   "metadata": {},
   "source": [
    "#### *Помесячная выручка с каждого пользователя:*"
   ]
  },
  {
   "cell_type": "markdown",
   "metadata": {},
   "source": [
    "Соединим сводные таблицы с друг другом и с массивом данных общей информации абонентов users. Начнем со сводной таблицы с большей размерности для сохранения большего количества наблюдений."
   ]
  },
  {
   "cell_type": "code",
   "execution_count": 41,
   "metadata": {},
   "outputs": [
    {
     "name": "stdout",
     "output_type": "stream",
     "text": [
      "Соединение таблиц выполнено успешно, итоговая таблица user_data готова\n"
     ]
    }
   ],
   "source": [
    "# при соединении таблиц также воспользуемся исключениями\n",
    "try:\n",
    "    users_data = (\n",
    "        # здесь и далее, в сводных таблицах переводим индексы в столбцы\n",
    "        pivot_users_internet.reset_index() \n",
    "        # соединяем сводную таблицу использования интернета со сводной таблицей звонков по следующим переменным:\n",
    "        # идентификатор абонента user_id, месяц использования услуги month\n",
    "        .merge(pivot_users_calls.reset_index(), on=['user_id','month'])\n",
    "        # соединяем предыдущую сводную таблицу со сводной таблицей сообщений\n",
    "        .merge(pivot_users_messages.reset_index(), on=['user_id','month'])\n",
    "        # соединяем предыдущую сводную таблицу с таблицей общей информации абонентов\n",
    "        .merge(users, on='user_id') #\n",
    "    )\n",
    "    print('Соединение таблиц выполнено успешно, итоговая таблица user_data готова')\n",
    "except:\n",
    "    print('При соединении таблиц возникла ошибка')"
   ]
  },
  {
   "cell_type": "code",
   "execution_count": 42,
   "metadata": {},
   "outputs": [],
   "source": [
    "# определим столбец gb_used, отражающие кол-во израсходованного интернет-трафика в Гб\n",
    "users_data['gb_used'] = users_data['sum_mb_used'] / 1024"
   ]
  },
  {
   "cell_type": "code",
   "execution_count": 43,
   "metadata": {},
   "outputs": [
    {
     "data": {
      "text/html": [
       "<div>\n",
       "<style scoped>\n",
       "    .dataframe tbody tr th:only-of-type {\n",
       "        vertical-align: middle;\n",
       "    }\n",
       "\n",
       "    .dataframe tbody tr th {\n",
       "        vertical-align: top;\n",
       "    }\n",
       "\n",
       "    .dataframe thead th {\n",
       "        text-align: right;\n",
       "    }\n",
       "</style>\n",
       "<table border=\"1\" class=\"dataframe\">\n",
       "  <thead>\n",
       "    <tr style=\"text-align: right;\">\n",
       "      <th></th>\n",
       "      <th>user_id</th>\n",
       "      <th>month</th>\n",
       "      <th>sum_mb_used</th>\n",
       "      <th>calls_amount</th>\n",
       "      <th>calls_duration</th>\n",
       "      <th>messages_amount</th>\n",
       "      <th>age</th>\n",
       "      <th>churn_date</th>\n",
       "      <th>city</th>\n",
       "      <th>first_name</th>\n",
       "      <th>last_name</th>\n",
       "      <th>reg_date</th>\n",
       "      <th>tariff</th>\n",
       "      <th>gb_used</th>\n",
       "    </tr>\n",
       "  </thead>\n",
       "  <tbody>\n",
       "    <tr>\n",
       "      <th>0</th>\n",
       "      <td>1000</td>\n",
       "      <td>5</td>\n",
       "      <td>2254.49</td>\n",
       "      <td>22</td>\n",
       "      <td>155.06</td>\n",
       "      <td>22</td>\n",
       "      <td>52</td>\n",
       "      <td>2018-12-31</td>\n",
       "      <td>Краснодар</td>\n",
       "      <td>Рафаил</td>\n",
       "      <td>Верещагин</td>\n",
       "      <td>2018-05-25</td>\n",
       "      <td>ultra</td>\n",
       "      <td>2.201650</td>\n",
       "    </tr>\n",
       "    <tr>\n",
       "      <th>1</th>\n",
       "      <td>1000</td>\n",
       "      <td>6</td>\n",
       "      <td>23238.77</td>\n",
       "      <td>43</td>\n",
       "      <td>173.90</td>\n",
       "      <td>60</td>\n",
       "      <td>52</td>\n",
       "      <td>2018-12-31</td>\n",
       "      <td>Краснодар</td>\n",
       "      <td>Рафаил</td>\n",
       "      <td>Верещагин</td>\n",
       "      <td>2018-05-25</td>\n",
       "      <td>ultra</td>\n",
       "      <td>22.694111</td>\n",
       "    </tr>\n",
       "    <tr>\n",
       "      <th>2</th>\n",
       "      <td>1000</td>\n",
       "      <td>7</td>\n",
       "      <td>14004.64</td>\n",
       "      <td>47</td>\n",
       "      <td>324.80</td>\n",
       "      <td>75</td>\n",
       "      <td>52</td>\n",
       "      <td>2018-12-31</td>\n",
       "      <td>Краснодар</td>\n",
       "      <td>Рафаил</td>\n",
       "      <td>Верещагин</td>\n",
       "      <td>2018-05-25</td>\n",
       "      <td>ultra</td>\n",
       "      <td>13.676406</td>\n",
       "    </tr>\n",
       "    <tr>\n",
       "      <th>3</th>\n",
       "      <td>1000</td>\n",
       "      <td>8</td>\n",
       "      <td>14057.93</td>\n",
       "      <td>52</td>\n",
       "      <td>399.87</td>\n",
       "      <td>81</td>\n",
       "      <td>52</td>\n",
       "      <td>2018-12-31</td>\n",
       "      <td>Краснодар</td>\n",
       "      <td>Рафаил</td>\n",
       "      <td>Верещагин</td>\n",
       "      <td>2018-05-25</td>\n",
       "      <td>ultra</td>\n",
       "      <td>13.728447</td>\n",
       "    </tr>\n",
       "    <tr>\n",
       "      <th>4</th>\n",
       "      <td>1000</td>\n",
       "      <td>9</td>\n",
       "      <td>14570.91</td>\n",
       "      <td>58</td>\n",
       "      <td>452.14</td>\n",
       "      <td>57</td>\n",
       "      <td>52</td>\n",
       "      <td>2018-12-31</td>\n",
       "      <td>Краснодар</td>\n",
       "      <td>Рафаил</td>\n",
       "      <td>Верещагин</td>\n",
       "      <td>2018-05-25</td>\n",
       "      <td>ultra</td>\n",
       "      <td>14.229404</td>\n",
       "    </tr>\n",
       "  </tbody>\n",
       "</table>\n",
       "</div>"
      ],
      "text/plain": [
       "   user_id  month  sum_mb_used  calls_amount  calls_duration  messages_amount  \\\n",
       "0     1000      5      2254.49            22          155.06               22   \n",
       "1     1000      6     23238.77            43          173.90               60   \n",
       "2     1000      7     14004.64            47          324.80               75   \n",
       "3     1000      8     14057.93            52          399.87               81   \n",
       "4     1000      9     14570.91            58          452.14               57   \n",
       "\n",
       "   age churn_date       city first_name  last_name   reg_date tariff  \\\n",
       "0   52 2018-12-31  Краснодар     Рафаил  Верещагин 2018-05-25  ultra   \n",
       "1   52 2018-12-31  Краснодар     Рафаил  Верещагин 2018-05-25  ultra   \n",
       "2   52 2018-12-31  Краснодар     Рафаил  Верещагин 2018-05-25  ultra   \n",
       "3   52 2018-12-31  Краснодар     Рафаил  Верещагин 2018-05-25  ultra   \n",
       "4   52 2018-12-31  Краснодар     Рафаил  Верещагин 2018-05-25  ultra   \n",
       "\n",
       "     gb_used  \n",
       "0   2.201650  \n",
       "1  22.694111  \n",
       "2  13.676406  \n",
       "3  13.728447  \n",
       "4  14.229404  "
      ]
     },
     "execution_count": 43,
     "metadata": {},
     "output_type": "execute_result"
    }
   ],
   "source": [
    "# вывод первых 5-ти абонентов из итоговой таблицы users_data\n",
    "users_data.head()"
   ]
  },
  {
   "cell_type": "markdown",
   "metadata": {},
   "source": [
    "Для подсчета выручки определим следующие функции:"
   ]
  },
  {
   "cell_type": "code",
   "execution_count": 44,
   "metadata": {},
   "outputs": [],
   "source": [
    "# функция определения выручки от количества минут, израсходованных сверх бесплатного лимита\n",
    "def excess_calls_revenue(data):\n",
    "    \n",
    "    # выделям столбец, отражащий тип подключенного тарифа\n",
    "    tariff = data['tariff']\n",
    "    # определяем фактическое количество проговоренных минут\n",
    "    actual_calls = data['calls_duration']\n",
    "    # определяем бесплатный лимит количества минут в рамках тарифа \"Смарт\"\n",
    "    smart_free_calls = 500 \n",
    "    # определяем бесплатный лимит количества минут в рамках тарифа \"Ультра\"\n",
    "    ultra_free_calls = 3000\n",
    "    \n",
    "    # вычисляем выручку от количества минут, проговоренных сверх бесплатного лимита в случае тарифа \"Смарт\"\n",
    "    if tariff == 'smart':\n",
    "        # если количество фактических минут не превышает бесплатный лимит, то\n",
    "        if (actual_calls - smart_free_calls) < 0:\n",
    "            # дополнительную прибыль и не получаем\n",
    "            excess_calls_revenue = 0\n",
    "        # если количество проговоренных минут превышает бесплатный лимит, то\n",
    "        else:\n",
    "            # количество минут, превышающих бесплатный лимит умножаем на стоимость минуты сверх бесплатного лимита\n",
    "            excess_calls_revenue = (actual_calls - smart_free_calls) * 3\n",
    "        # возвращаем выручку от количества проговоренных минут, превышающих бесплатный лимит\n",
    "        return excess_calls_revenue\n",
    "    \n",
    "    # вычисляем выручку от количества минут, проговоренных сверх бесплатного лимита в случае тарифа \"Ультра\"\n",
    "    else:\n",
    "        # если количество фактических минут не превышает бесплатный лимит, то\n",
    "        if (actual_calls - ultra_free_calls) < 0:\n",
    "            # дополнительную прибыль и не получаем\n",
    "            excess_calls_revenue = 0\n",
    "        # если количество проговоренных минут превышает бесплатный лимит, то\n",
    "        else:\n",
    "            # количество минут, превышающих бесплатный лимит умножаем на стоимость минуты сверх бесплатного лимита\n",
    "            excess_calls_revenue = (actual_calls - ultra_free_calls) * 1\n",
    "        # возвращаем выручку от количества проговоренных минут, превышающих бесплатный лимит\n",
    "        return excess_calls_revenue"
   ]
  },
  {
   "cell_type": "code",
   "execution_count": 45,
   "metadata": {},
   "outputs": [],
   "source": [
    "# функция определения выручки от количества сообщений, израсходованных сверх бесплатного лимита\n",
    "def excess_messages_revenue(data):\n",
    "    \n",
    "    # выделям столбец, отражащий тип подключенного тарифа\n",
    "    tariff = data['tariff']\n",
    "    # определяем фактическое количество отправленных сообщений\n",
    "    actual_messages = data['messages_amount']\n",
    "    # определяем бесплатный лимит количества сообщений в рамках тарифа \"Смарт\"\n",
    "    smart_free_messages = 50\n",
    "    # определяем бесплатный лимит количества сообщений в рамках тарифа \"Ультра\"\n",
    "    ultra_free_messages = 1000\n",
    "    \n",
    "    # вычисляем выручку от количества сообщений, израсходованных сверх бесплатного лимита в случае тарифа \"Смарт\"\n",
    "    if tariff == 'smart':\n",
    "        # если количество фактических сообщений не превышает бесплатный лимит, то\n",
    "        if (actual_messages - smart_free_messages) < 0:\n",
    "            # дополнительную прибыль и не получаем\n",
    "            excess_messages_revenue = 0\n",
    "        # если количество израсходованных сообщений превышает бесплатный лимит, то\n",
    "        else:\n",
    "            # кол-во сообщений, превышающих бесплатный лимит умножаем на ст-ть сообщений сверх бесплатного лимита\n",
    "            excess_messages_revenue = (actual_messages - smart_free_messages) * 3\n",
    "        # возвращаем выручку от количества израсходованных сообщений, превышающих бесплатный лимит\n",
    "        return excess_messages_revenue\n",
    "    \n",
    "    # вычисляем выручку от количества сообщений, израсходованных сверх бесплатного лимита в случае тарифа \"Ультра\"\n",
    "    else:\n",
    "        # если количество фактических сообщений не превышает бесплатный лимит, то\n",
    "        if (actual_messages - ultra_free_messages) < 0:\n",
    "            # дополнительную прибыль и не получаем\n",
    "            excess_messages_revenue = 0\n",
    "        # если количество фактических сообщений превышает бесплатный лимит, то\n",
    "        else:\n",
    "            # кол-во сообщений, превышающих бесплатный лимит умножаем на ст-ть сообщений сверх бесплатного лимита\n",
    "            excess_messages_revenue = (actual_messages - ultra_free_messages) * 1\n",
    "        # возвращаем выручку от количества израсходованных сообщений, превышающих бесплатный лимит\n",
    "        return excess_messages_revenue"
   ]
  },
  {
   "cell_type": "code",
   "execution_count": 46,
   "metadata": {},
   "outputs": [],
   "source": [
    "# функция определения выручки от количества интернета, израсходованного сверх бесплатного лимита\n",
    "def excess_internet_revenue(data):\n",
    "    \n",
    "    # выделям столбец, отражащий тип подключенного тарифа\n",
    "    tariff = data['tariff']\n",
    "    # определяем фактическое количество израсходованного интернета\n",
    "    actual_internet = data['gb_used']\n",
    "    # определяем бесплатный лимит количества интернета в рамках тарифа \"Смарт\"\n",
    "    smart_free_internet = 15\n",
    "    # определяем бесплатный лимит количества интернета в рамках тарифа \"Ультра\"\n",
    "    ultra_free_internet = 30\n",
    "    \n",
    "    # вычисляем выручку от количества интернета, израсходованного сверх бесплатного лимита в случае тарифа \"Смарт\"\n",
    "    if tariff == 'smart':\n",
    "        # если количество фактического интернета не превышает бесплатный лимит, то\n",
    "        if (actual_internet - smart_free_internet) < 0:\n",
    "            # дополнительную прибыль и не получаем\n",
    "            excess_internet_revenue = 0\n",
    "        # если количество израсходованного интернета превышает бесплатный лимит, то\n",
    "        else:\n",
    "            # кол-во интернета, превышающего бесплатный лимит умножаем на ст-ть интернета сверх бесплатного лимита\n",
    "            excess_internet_revenue = (actual_internet - smart_free_internet) * 200\n",
    "        # возвращаем выручку от количества израсходованного интернета, превышающего бесплатный лимит\n",
    "        return excess_internet_revenue\n",
    "    \n",
    "    # вычисляем выручку от количества интернета, израсходованного сверх бесплатного лимита в случае тарифа \"Ультра\"\n",
    "    else:\n",
    "        # если количество фактического интернета не превышает бесплатный лимит, то\n",
    "        if (actual_internet - ultra_free_internet) < 0:\n",
    "            # дополнительную прибыль и не получаем\n",
    "            excess_internet_revenue = 0\n",
    "        # если количество фактического интернета превышает бесплатный лимит, то\n",
    "        else:\n",
    "            # кол-во интернета, превышающего бесплатный лимит умножаем на ст-ть интернета сверх бесплатного лимита\n",
    "            excess_internet_revenue = (actual_internet - ultra_free_internet) * 150\n",
    "        # возвращаем выручку от количества израсходованного интернета, превышающего бесплатный лимит\n",
    "        return excess_internet_revenue"
   ]
  },
  {
   "cell_type": "code",
   "execution_count": 47,
   "metadata": {},
   "outputs": [
    {
     "name": "stdout",
     "output_type": "stream",
     "text": [
      "Вычисление выручки от израсходованных минут, превышающих бесплатный лимит выполнено успешно\n"
     ]
    }
   ],
   "source": [
    "# при применении функции excess_call_revenue воспользуемся исключениями\n",
    "try:\n",
    "    # определим столбец excess_calls_revenue,\n",
    "    # отражающий выручку от израсходованных минут, превышающих бесплатный лимит\n",
    "    users_data['excess_calls_revenue'] = users_data.apply(excess_calls_revenue, axis=1)\n",
    "    print('Вычисление выручки от израсходованных минут, превышающих бесплатный лимит выполнено успешно')\n",
    "except:\n",
    "    print('При вычислении выручки от израсходованных минут, превышающих бесплатный лимит возникла ошибка')"
   ]
  },
  {
   "cell_type": "code",
   "execution_count": 48,
   "metadata": {},
   "outputs": [
    {
     "name": "stdout",
     "output_type": "stream",
     "text": [
      "Вычисление выручки от израсходованного интернета, превышающего бесплатный лимит выполнено успешно\n"
     ]
    }
   ],
   "source": [
    "try:\n",
    "    # определим столбец excess_internet_revenue,\n",
    "    # отражающий выручку от израсходованного интернета, превышающего бесплатный лимит\n",
    "    users_data['excess_internet_revenue'] = users_data.apply(excess_internet_revenue, axis=1)\n",
    "    print('Вычисление выручки от израсходованного интернета, превышающего бесплатный лимит выполнено успешно')\n",
    "except:\n",
    "    print('При вычислении выручки от израсходованного интернета, превышающего бесплатный лимит возникла ошибка')"
   ]
  },
  {
   "cell_type": "code",
   "execution_count": 49,
   "metadata": {},
   "outputs": [
    {
     "name": "stdout",
     "output_type": "stream",
     "text": [
      "Вычисление выручки от израсходованных сообщений, превышающих бесплатный лимит выполнено успешно\n"
     ]
    }
   ],
   "source": [
    "try:\n",
    "    # определим столбец excess_messages_revenue,\n",
    "    # отражающий выручку от израсходованных сообщений, превышающих бесплатный лимит\n",
    "    users_data['excess_messages_revenue'] = users_data.apply(excess_messages_revenue, axis=1)\n",
    "    print('Вычисление выручки от израсходованных сообщений, превышающих бесплатный лимит выполнено успешно')\n",
    "except:\n",
    "    print('При вычислении выручки от израсходованных сообщений, превышающих бесплатный лимит возникла ошибка')"
   ]
  },
  {
   "cell_type": "code",
   "execution_count": 50,
   "metadata": {},
   "outputs": [],
   "source": [
    "# функция определения совокупной ежемесячной выручки от абонентов\n",
    "def revenue(data):\n",
    "    # выделяем столбец, отражающий выручку от израсходованных минут, превышающих бесплатный лимит\n",
    "    excess_calls_revenue = data['excess_calls_revenue']\n",
    "    # выделяем столбец, отражающий выручку от израсходованных сообщений, превышающих бесплатный лимит\n",
    "    excess_messages_revenue = data['excess_messages_revenue']\n",
    "    # выделяем столбец, отражающий выручку от израсходованного интернета, превышающего бесплатный лимит\n",
    "    excess_internet_revenue = data['excess_internet_revenue']\n",
    "    # выделям столбец, отражащий тип подключенного тарифа\n",
    "    tariff = data['tariff']\n",
    "    # определяем величину ежемесячного платежа в рамках тарифа \"Смарт\"\n",
    "    smart_monthly_pay = 550\n",
    "    # определяем величину ежемесячного платежа в рамках тарифа \"Ультра\"\n",
    "    ultra_monthly_pay = 1950\n",
    "    # если у абонента подключен тариф \"Смарт\",\n",
    "    if tariff == 'smart':\n",
    "        # к дополнительный выручке от каждой услуги (звонки, сообщения, интернет) суммируем ежемесячный платеж\n",
    "        return (excess_calls_revenue + excess_messages_revenue + excess_internet_revenue + smart_monthly_pay)\n",
    "    # если у абонента подключен тариф \"Ультра\",\n",
    "    else:\n",
    "        # к дополнительный выручке от каждой услуги (звонки, сообщения, интернет) суммируем ежемесячный платеж\n",
    "        return (excess_calls_revenue + excess_messages_revenue + excess_internet_revenue + ultra_monthly_pay)"
   ]
  },
  {
   "cell_type": "code",
   "execution_count": 51,
   "metadata": {},
   "outputs": [
    {
     "name": "stdout",
     "output_type": "stream",
     "text": [
      "Вычисление ежемесячной выручки monthly_revenue выполнено успешно\n"
     ]
    }
   ],
   "source": [
    "# определяем столбец monthly_revenue, отражающий величину суммарной выручки от\n",
    "# услуг (минуты звонков, кол-во сообщений, интернет-трафика), превышающих бесплатный лимит и ежемесячного платежа\n",
    "try:\n",
    "    users_data['monthly_revenue'] = users_data.apply(revenue, axis=1)\n",
    "    print('Вычисление ежемесячной выручки monthly_revenue выполнено успешно')\n",
    "except:\n",
    "    print('При вычислении ежемесячной выручки monthly_revenue возникла ошибка')"
   ]
  },
  {
   "cell_type": "code",
   "execution_count": 52,
   "metadata": {},
   "outputs": [
    {
     "data": {
      "text/html": [
       "<div>\n",
       "<style scoped>\n",
       "    .dataframe tbody tr th:only-of-type {\n",
       "        vertical-align: middle;\n",
       "    }\n",
       "\n",
       "    .dataframe tbody tr th {\n",
       "        vertical-align: top;\n",
       "    }\n",
       "\n",
       "    .dataframe thead th {\n",
       "        text-align: right;\n",
       "    }\n",
       "</style>\n",
       "<table border=\"1\" class=\"dataframe\">\n",
       "  <thead>\n",
       "    <tr style=\"text-align: right;\">\n",
       "      <th></th>\n",
       "      <th>user_id</th>\n",
       "      <th>month</th>\n",
       "      <th>sum_mb_used</th>\n",
       "      <th>calls_amount</th>\n",
       "      <th>calls_duration</th>\n",
       "      <th>messages_amount</th>\n",
       "      <th>age</th>\n",
       "      <th>churn_date</th>\n",
       "      <th>city</th>\n",
       "      <th>first_name</th>\n",
       "      <th>last_name</th>\n",
       "      <th>reg_date</th>\n",
       "      <th>tariff</th>\n",
       "      <th>gb_used</th>\n",
       "      <th>excess_calls_revenue</th>\n",
       "      <th>excess_internet_revenue</th>\n",
       "      <th>excess_messages_revenue</th>\n",
       "      <th>monthly_revenue</th>\n",
       "    </tr>\n",
       "  </thead>\n",
       "  <tbody>\n",
       "    <tr>\n",
       "      <th>0</th>\n",
       "      <td>1000</td>\n",
       "      <td>5</td>\n",
       "      <td>2254.49</td>\n",
       "      <td>22</td>\n",
       "      <td>155.06</td>\n",
       "      <td>22</td>\n",
       "      <td>52</td>\n",
       "      <td>2018-12-31</td>\n",
       "      <td>Краснодар</td>\n",
       "      <td>Рафаил</td>\n",
       "      <td>Верещагин</td>\n",
       "      <td>2018-05-25</td>\n",
       "      <td>ultra</td>\n",
       "      <td>2.201650</td>\n",
       "      <td>0.0</td>\n",
       "      <td>0.000000</td>\n",
       "      <td>0</td>\n",
       "      <td>1950.000000</td>\n",
       "    </tr>\n",
       "    <tr>\n",
       "      <th>1</th>\n",
       "      <td>1000</td>\n",
       "      <td>6</td>\n",
       "      <td>23238.77</td>\n",
       "      <td>43</td>\n",
       "      <td>173.90</td>\n",
       "      <td>60</td>\n",
       "      <td>52</td>\n",
       "      <td>2018-12-31</td>\n",
       "      <td>Краснодар</td>\n",
       "      <td>Рафаил</td>\n",
       "      <td>Верещагин</td>\n",
       "      <td>2018-05-25</td>\n",
       "      <td>ultra</td>\n",
       "      <td>22.694111</td>\n",
       "      <td>0.0</td>\n",
       "      <td>0.000000</td>\n",
       "      <td>0</td>\n",
       "      <td>1950.000000</td>\n",
       "    </tr>\n",
       "    <tr>\n",
       "      <th>2</th>\n",
       "      <td>1000</td>\n",
       "      <td>7</td>\n",
       "      <td>14004.64</td>\n",
       "      <td>47</td>\n",
       "      <td>324.80</td>\n",
       "      <td>75</td>\n",
       "      <td>52</td>\n",
       "      <td>2018-12-31</td>\n",
       "      <td>Краснодар</td>\n",
       "      <td>Рафаил</td>\n",
       "      <td>Верещагин</td>\n",
       "      <td>2018-05-25</td>\n",
       "      <td>ultra</td>\n",
       "      <td>13.676406</td>\n",
       "      <td>0.0</td>\n",
       "      <td>0.000000</td>\n",
       "      <td>0</td>\n",
       "      <td>1950.000000</td>\n",
       "    </tr>\n",
       "    <tr>\n",
       "      <th>3</th>\n",
       "      <td>1000</td>\n",
       "      <td>8</td>\n",
       "      <td>14057.93</td>\n",
       "      <td>52</td>\n",
       "      <td>399.87</td>\n",
       "      <td>81</td>\n",
       "      <td>52</td>\n",
       "      <td>2018-12-31</td>\n",
       "      <td>Краснодар</td>\n",
       "      <td>Рафаил</td>\n",
       "      <td>Верещагин</td>\n",
       "      <td>2018-05-25</td>\n",
       "      <td>ultra</td>\n",
       "      <td>13.728447</td>\n",
       "      <td>0.0</td>\n",
       "      <td>0.000000</td>\n",
       "      <td>0</td>\n",
       "      <td>1950.000000</td>\n",
       "    </tr>\n",
       "    <tr>\n",
       "      <th>4</th>\n",
       "      <td>1000</td>\n",
       "      <td>9</td>\n",
       "      <td>14570.91</td>\n",
       "      <td>58</td>\n",
       "      <td>452.14</td>\n",
       "      <td>57</td>\n",
       "      <td>52</td>\n",
       "      <td>2018-12-31</td>\n",
       "      <td>Краснодар</td>\n",
       "      <td>Рафаил</td>\n",
       "      <td>Верещагин</td>\n",
       "      <td>2018-05-25</td>\n",
       "      <td>ultra</td>\n",
       "      <td>14.229404</td>\n",
       "      <td>0.0</td>\n",
       "      <td>0.000000</td>\n",
       "      <td>0</td>\n",
       "      <td>1950.000000</td>\n",
       "    </tr>\n",
       "    <tr>\n",
       "      <th>5</th>\n",
       "      <td>1000</td>\n",
       "      <td>10</td>\n",
       "      <td>14702.49</td>\n",
       "      <td>57</td>\n",
       "      <td>341.45</td>\n",
       "      <td>73</td>\n",
       "      <td>52</td>\n",
       "      <td>2018-12-31</td>\n",
       "      <td>Краснодар</td>\n",
       "      <td>Рафаил</td>\n",
       "      <td>Верещагин</td>\n",
       "      <td>2018-05-25</td>\n",
       "      <td>ultra</td>\n",
       "      <td>14.357900</td>\n",
       "      <td>0.0</td>\n",
       "      <td>0.000000</td>\n",
       "      <td>0</td>\n",
       "      <td>1950.000000</td>\n",
       "    </tr>\n",
       "    <tr>\n",
       "      <th>6</th>\n",
       "      <td>1000</td>\n",
       "      <td>11</td>\n",
       "      <td>14757.47</td>\n",
       "      <td>43</td>\n",
       "      <td>325.04</td>\n",
       "      <td>58</td>\n",
       "      <td>52</td>\n",
       "      <td>2018-12-31</td>\n",
       "      <td>Краснодар</td>\n",
       "      <td>Рафаил</td>\n",
       "      <td>Верещагин</td>\n",
       "      <td>2018-05-25</td>\n",
       "      <td>ultra</td>\n",
       "      <td>14.411592</td>\n",
       "      <td>0.0</td>\n",
       "      <td>0.000000</td>\n",
       "      <td>0</td>\n",
       "      <td>1950.000000</td>\n",
       "    </tr>\n",
       "    <tr>\n",
       "      <th>7</th>\n",
       "      <td>1000</td>\n",
       "      <td>12</td>\n",
       "      <td>9819.61</td>\n",
       "      <td>46</td>\n",
       "      <td>320.98</td>\n",
       "      <td>70</td>\n",
       "      <td>52</td>\n",
       "      <td>2018-12-31</td>\n",
       "      <td>Краснодар</td>\n",
       "      <td>Рафаил</td>\n",
       "      <td>Верещагин</td>\n",
       "      <td>2018-05-25</td>\n",
       "      <td>ultra</td>\n",
       "      <td>9.589463</td>\n",
       "      <td>0.0</td>\n",
       "      <td>0.000000</td>\n",
       "      <td>0</td>\n",
       "      <td>1950.000000</td>\n",
       "    </tr>\n",
       "    <tr>\n",
       "      <th>8</th>\n",
       "      <td>1002</td>\n",
       "      <td>6</td>\n",
       "      <td>10863.82</td>\n",
       "      <td>15</td>\n",
       "      <td>111.37</td>\n",
       "      <td>4</td>\n",
       "      <td>59</td>\n",
       "      <td>2018-12-31</td>\n",
       "      <td>Стерлитамак</td>\n",
       "      <td>Евгений</td>\n",
       "      <td>Абрамович</td>\n",
       "      <td>2018-06-17</td>\n",
       "      <td>smart</td>\n",
       "      <td>10.609199</td>\n",
       "      <td>0.0</td>\n",
       "      <td>0.000000</td>\n",
       "      <td>0</td>\n",
       "      <td>550.000000</td>\n",
       "    </tr>\n",
       "    <tr>\n",
       "      <th>9</th>\n",
       "      <td>1002</td>\n",
       "      <td>7</td>\n",
       "      <td>17594.10</td>\n",
       "      <td>26</td>\n",
       "      <td>209.75</td>\n",
       "      <td>11</td>\n",
       "      <td>59</td>\n",
       "      <td>2018-12-31</td>\n",
       "      <td>Стерлитамак</td>\n",
       "      <td>Евгений</td>\n",
       "      <td>Абрамович</td>\n",
       "      <td>2018-06-17</td>\n",
       "      <td>smart</td>\n",
       "      <td>17.181738</td>\n",
       "      <td>0.0</td>\n",
       "      <td>436.347656</td>\n",
       "      <td>0</td>\n",
       "      <td>986.347656</td>\n",
       "    </tr>\n",
       "  </tbody>\n",
       "</table>\n",
       "</div>"
      ],
      "text/plain": [
       "   user_id  month  sum_mb_used  calls_amount  calls_duration  messages_amount  \\\n",
       "0     1000      5      2254.49            22          155.06               22   \n",
       "1     1000      6     23238.77            43          173.90               60   \n",
       "2     1000      7     14004.64            47          324.80               75   \n",
       "3     1000      8     14057.93            52          399.87               81   \n",
       "4     1000      9     14570.91            58          452.14               57   \n",
       "5     1000     10     14702.49            57          341.45               73   \n",
       "6     1000     11     14757.47            43          325.04               58   \n",
       "7     1000     12      9819.61            46          320.98               70   \n",
       "8     1002      6     10863.82            15          111.37                4   \n",
       "9     1002      7     17594.10            26          209.75               11   \n",
       "\n",
       "   age churn_date         city first_name  last_name   reg_date tariff  \\\n",
       "0   52 2018-12-31    Краснодар     Рафаил  Верещагин 2018-05-25  ultra   \n",
       "1   52 2018-12-31    Краснодар     Рафаил  Верещагин 2018-05-25  ultra   \n",
       "2   52 2018-12-31    Краснодар     Рафаил  Верещагин 2018-05-25  ultra   \n",
       "3   52 2018-12-31    Краснодар     Рафаил  Верещагин 2018-05-25  ultra   \n",
       "4   52 2018-12-31    Краснодар     Рафаил  Верещагин 2018-05-25  ultra   \n",
       "5   52 2018-12-31    Краснодар     Рафаил  Верещагин 2018-05-25  ultra   \n",
       "6   52 2018-12-31    Краснодар     Рафаил  Верещагин 2018-05-25  ultra   \n",
       "7   52 2018-12-31    Краснодар     Рафаил  Верещагин 2018-05-25  ultra   \n",
       "8   59 2018-12-31  Стерлитамак    Евгений  Абрамович 2018-06-17  smart   \n",
       "9   59 2018-12-31  Стерлитамак    Евгений  Абрамович 2018-06-17  smart   \n",
       "\n",
       "     gb_used  excess_calls_revenue  excess_internet_revenue  \\\n",
       "0   2.201650                   0.0                 0.000000   \n",
       "1  22.694111                   0.0                 0.000000   \n",
       "2  13.676406                   0.0                 0.000000   \n",
       "3  13.728447                   0.0                 0.000000   \n",
       "4  14.229404                   0.0                 0.000000   \n",
       "5  14.357900                   0.0                 0.000000   \n",
       "6  14.411592                   0.0                 0.000000   \n",
       "7   9.589463                   0.0                 0.000000   \n",
       "8  10.609199                   0.0                 0.000000   \n",
       "9  17.181738                   0.0               436.347656   \n",
       "\n",
       "   excess_messages_revenue  monthly_revenue  \n",
       "0                        0      1950.000000  \n",
       "1                        0      1950.000000  \n",
       "2                        0      1950.000000  \n",
       "3                        0      1950.000000  \n",
       "4                        0      1950.000000  \n",
       "5                        0      1950.000000  \n",
       "6                        0      1950.000000  \n",
       "7                        0      1950.000000  \n",
       "8                        0       550.000000  \n",
       "9                        0       986.347656  "
      ]
     },
     "execution_count": 52,
     "metadata": {},
     "output_type": "execute_result"
    }
   ],
   "source": [
    "# вывод первых 10-ти наблюдений итоговой таблицы users_data\n",
    "users_data.head(10)"
   ]
  },
  {
   "cell_type": "markdown",
   "metadata": {},
   "source": [
    "### Промежуточные выводы 2-го шага исследования"
   ]
  },
  {
   "cell_type": "markdown",
   "metadata": {},
   "source": [
    "- преобразовали текстовый формат в формат даты datetime в следующих переменных: дата (а) подключения тарифа; (б) прекращения пользования тарифом; (в) звонка; (г) интернет-сессии; (д) сообщения.\n",
    "- заменили нулевые величины на единицы в следующих переменных: (i) минуты разговора, (ii) объем израсходованного интернета.\n",
    "- вычислили объем израсходованного интернет-трафика в Гб (столбец gb_used)\n",
    "- подсчитали дополнительные переменные: выручка от (1) количества минут разговора, (2) количества сообщений, (3) количества интернет-трафика, превышающих бесплатный лимит. Также вычислили (4) совокупную ежемесячную выручку от абонентов monthly_revenue."
   ]
  },
  {
   "cell_type": "markdown",
   "metadata": {},
   "source": [
    "### Шаг 3. Проанализируйте данные"
   ]
  },
  {
   "cell_type": "markdown",
   "metadata": {},
   "source": [
    "Постановка задачи на данном шаге исследования:\n",
    "- Опишите поведение клиентов оператора, исходя из выборки. Сколько минут разговора, сколько сообщений и какой объём интернет-трафика требуется пользователям каждого тарифа в месяц? Посчитайте среднее количество, дисперсию и стандартное отклонение.\n",
    "- Постройте гистограммы. Опишите распределения.\n"
   ]
  },
  {
   "cell_type": "code",
   "execution_count": 53,
   "metadata": {},
   "outputs": [],
   "source": [
    "# сгруппируем абонентов в зависимости от подключенного тарифа\n",
    "groupby_tariff = users_data.groupby('tariff')"
   ]
  },
  {
   "cell_type": "code",
   "execution_count": 54,
   "metadata": {},
   "outputs": [
    {
     "name": "stdout",
     "output_type": "stream",
     "text": [
      "Минуты разговора:\n",
      "tariff                        \n",
      "smart   Средняя величина            408.967368\n",
      "        Дисперсия                 33140.061273\n",
      "        Стандартное отклонение      182.044119\n",
      "ultra   Средняя величина            540.644894\n",
      "        Дисперсия                 91457.555820\n",
      "        Стандартное отклонение      302.419503\n",
      "Name: calls_duration, dtype: float64\n",
      "\n",
      "Количество сообщений:\n",
      "tariff                        \n",
      "smart   Средняя величина            38.767102\n",
      "        Дисперсия                  718.803619\n",
      "        Стандартное отклонение      26.810513\n",
      "ultra   Средняя величина            61.640957\n",
      "        Дисперсия                 2008.550011\n",
      "        Стандартное отклонение      44.816850\n",
      "Name: messages_amount, dtype: float64\n",
      "\n",
      "Объем интернет-трафика:\n",
      "tariff                        \n",
      "smart   Средняя величина          15.872301\n",
      "        Дисперсия                 32.028788\n",
      "        Стандартное отклонение     5.659398\n",
      "ultra   Средняя величина          19.138825\n",
      "        Дисперсия                 88.445650\n",
      "        Стандартное отклонение     9.404555\n",
      "Name: gb_used, dtype: float64\n",
      "\n"
     ]
    }
   ],
   "source": [
    "#определим словарь, включающий минуты разговора, кол-во сообщений, объем интернет-трафика (характеристики абонента)\n",
    "features = {'Минуты разговора':'calls_duration',\n",
    "            'Количество сообщений':'messages_amount',\n",
    "            'Объем интернет-трафика':'gb_used'}\n",
    "# для каждого словаря и значения из вышеопределенного словаря\n",
    "for key, value in features.items():\n",
    "    # выведем название характеристики абонента\n",
    "    print(key + ':')\n",
    "    # в разрезе вида подключенного тарифа для каждой характеристики вычислим \n",
    "    print(groupby_tariff[value].apply(lambda x: {'Средняя величина':x.mean(), # среднее значение\n",
    "                                                 'Дисперсия':x.var(), # дисперсию\n",
    "                                                 'Стандартное отклонение':x.std()})) # стандартное отклонение \n",
    "    # отступ для наглядности\n",
    "    print()"
   ]
  },
  {
   "cell_type": "markdown",
   "metadata": {},
   "source": [
    "Согласно вышеприведенной таблице в месяц:\n",
    "#### в контексте  телефонных разговоров\n",
    "- абоненты тарифа \"Смарт\" в расходуют приблизительно 409 минут, с отклонением от средней величины в размере 182 минут\n",
    "- абоненты тарифа \"Ультра\" в среднем расходуют приблизительно 540 минут, с отклонением от средней величины в размере 302 минут\n",
    "\n",
    "#### в контексте количества сообщений\n",
    "- абоненты тарифа \"Смарт\" в среднем отправляют 39 сообщений, с отклонением от средней вличины в размере 26 сообщений\n",
    "- абоненты тарифа \"Ультра\" в среднем отправляют 62 сообщения, с отклонением от средней величины в размере 45 сообщений\n",
    "\n",
    "#### в контексте  интернет-трафика\n",
    "- абоненты тарифа \"Смарт\" в среднем расходуют 15.87 Гб интернета, с отклонением от средней величины в размере 5.65 Гб интернета\n",
    "- абоненты тарифа \"Ультра\" в среднем расходуют 19.14 Гб интернета с отклонением от средней величины в размере 9.4 Гб интернета"
   ]
  },
  {
   "cell_type": "code",
   "execution_count": 55,
   "metadata": {},
   "outputs": [
    {
     "data": {
      "image/png": "[encoded data removed]",
      "text/plain": [
       "<Figure size 720x360 with 1 Axes>"
      ]
     },
     "metadata": {},
     "output_type": "display_data"
    }
   ],
   "source": [
    "fig, ax = plt.subplots(figsize=(10,5))\n",
    "# построим стандартную гистограмму распределения количества сообщений,\n",
    "# так как последнее является дискретной величиной (счетно)\n",
    "# определим гистограммы в ступенчатом более прозрачном виде с большей толщиной линий; увеличим размер диаграмм\n",
    "users_data.query('tariff==\"smart\"')['messages_amount'].hist(color='green',label='smart', alpha=0.5,\n",
    "                                                            ax=ax, histtype='step', lw=5)\n",
    "users_data.query('tariff==\"ultra\"')['messages_amount'].hist(color='gold', label='ultra', alpha=0.5,\n",
    "                                                            ax=ax, histtype='step', lw=5)\n",
    "# отображение легенды диаграммы\n",
    "plt.legend()\n",
    "# определим заголовок гистограммы\n",
    "plt.title('Количество сообщений в месяц')\n",
    "plt.show()"
   ]
  },
  {
   "cell_type": "markdown",
   "metadata": {},
   "source": [
    "- значительная часть абонентов тарифа \"Смарт\" отправляют менее 40 сообщений в месяц.\n",
    "- абоненты тарифа \"Ультра\" в течение месяца отправляют больше текстовых сообщений по сравнению с абонентами тарифа \"Смарт\", что отражено тяжелым правым хвостом распределения для абонентов тарифа \"Ультра\"."
   ]
  },
  {
   "cell_type": "code",
   "execution_count": 56,
   "metadata": {},
   "outputs": [
    {
     "data": {
      "image/png": "[encoded data removed]",
      "text/plain": [
       "<Figure size 720x360 with 1 Axes>"
      ]
     },
     "metadata": {},
     "output_type": "display_data"
    }
   ],
   "source": [
    "fig, ax = plt.subplots(figsize=(10,5))\n",
    "# построим плотностную гистограмму распределения количества интернета,\n",
    "# так как последнее является непрерывной величиной\n",
    "# определим гистограммы в ступенчатом более прозрачном виде с большей толщиной линий; увеличим размер диаграмм\n",
    "users_data.query('tariff==\"smart\"')['gb_used'].hist(color='green',label='smart', alpha=0.5, density=True,\n",
    "                                                            ax=ax, histtype='step', lw=5)\n",
    "users_data.query('tariff==\"ultra\"')['gb_used'].hist(color='gold', label='ultra', alpha=0.5, density=True,\n",
    "                                                            ax=ax, histtype='step', lw=5)\n",
    "# отображение легенды диаграммы\n",
    "plt.legend()\n",
    "# определим заголовок гистограммы\n",
    "plt.title('Интернет-трафик в месяц')\n",
    "plt.show()"
   ]
  },
  {
   "cell_type": "markdown",
   "metadata": {},
   "source": [
    "- наибольшая концентрация использования интернет-трафика абонентами тарифа \"Смарт\" лежит в интервале от 15-ти до 18-ти Гб в месяц. Тем самым вероятность того, что абоненты тарифа \"Смарт\" будут использовать интернет-трафик в интервале от 15-ти до 18-ти Гб составляет 21%, так как 0.07 * (18-15) = 0.21.\n",
    "- наибольшая концентрация использования интернет-трафика абонентами тарифа \"Ультра\" лежит в интервале от 15-ти до 19-ти Гб, чуть меньшая концентрация наблюдается в интервале от 20-ти до 29-ти Гб. Тем самым вероятность того, что абоненты тарифа \"Ультра\" будут использовать интернет-трафик в интервале от 15-ти до 19-ти Гб в месяц составляет 16%, т.е. 0.04 * (19-15)=0.16.\n",
    "- наименьшая концентрация использования интернет-трафика в месяц абонентами обоих тарифов \"Смарт\" и \"Ультра\" лежит в интервале от 35 Гб и выше (наблюдается толстый правый хвост плотности распределения интернет-трафика для абонентов обоих тарифов)."
   ]
  },
  {
   "cell_type": "code",
   "execution_count": 57,
   "metadata": {},
   "outputs": [
    {
     "data": {
      "image/png": "[encoded data removed]",
      "text/plain": [
       "<Figure size 720x360 with 1 Axes>"
      ]
     },
     "metadata": {},
     "output_type": "display_data"
    }
   ],
   "source": [
    "fig, ax = plt.subplots(figsize=(10,5))\n",
    "# построим плотностную гистограмму распределения количества минут разговоро,\n",
    "# так как последнее является непрерывной величиной\n",
    "# определим гистограммы в ступенчатом более прозрачном виде с большей толщиной линий; увеличим размер диаграмм\n",
    "users_data.query('tariff==\"smart\"')['calls_duration'].hist(color='green',label='smart', alpha=0.5, density=True,\n",
    "                                                            ax=ax, histtype='step', lw=5)\n",
    "users_data.query('tariff==\"ultra\"')['calls_duration'].hist(color='gold', label='ultra', alpha=0.5, density=True,\n",
    "                                                            ax=ax, histtype='step', lw=5)\n",
    "# отображение легенды диаграммы\n",
    "plt.legend()\n",
    "# определим заголовок гистограммы\n",
    "plt.title('Минуты телефонных разговоров в месяц')\n",
    "plt.show()"
   ]
  },
  {
   "cell_type": "markdown",
   "metadata": {},
   "source": [
    "- наибольшая концентрация минут телефонных разговоров абонентами тарифа \"Смарт\" лежит в интервале от 400 до 580 минут. Тем самым, вероятность того, что абоненты тарифа \"Смарт\" будут разговаривать по телефону от 400 до 580 минут приблизительно составляет 36%, т.к. (580-400) * 0.002 = 180 * 0.002 = 0.18 * 2 = 0.36.\n",
    "- наибольшая концентрация минут телефонных разговоров абонентами тарифа \"Ультра\" лежит в интервале от 500 до 620 минут. Тем самым, вероятность того, что абоненты тарифа \"Ультра\" будут разговаривать по телефону от 500 до 620 минут в месяц составляет 15%, т.к. (620-500) * 0.00125 = 120 * 0.00125 = 1.2 * 0.125 = 0.15.\n",
    "- наименьшая концентрация минут телефонных разговоров абонентами обоих тарифов \"Смарт\" и \"Ультра\" наблюдается в интервале от 1000 минут и выше."
   ]
  },
  {
   "cell_type": "markdown",
   "metadata": {},
   "source": [
    "### Промежуточные выводы 3-го шага исследования"
   ]
  },
  {
   "cell_type": "markdown",
   "metadata": {},
   "source": [
    "#### Абоненты тарифа \"Смарт\" (в месяц):\n",
    "- в среднем расходуют приблизительно 409 минут, с отклонением от средней величины в размере 182 минут \n",
    "- в среднем отправляют 39 сообщений, с отклонением от средней вличины в размере 26 сообщений\n",
    "- в среднем расходуют 15.87 Гб интернета, с отклонением от средней величины в размере 5.65 Гб интернета\n",
    "- в большинстве случаем отправляют менее 40 сообщений.\n",
    "- наибольшая концентрация использования интернет-трафика данными абонентами лежит в интервале от 15-ти до 18-ти Гб.\n",
    "\n",
    "*Тем самым, для клиентов тарифа \"Смарт\" в месяц необходимо 409 минут телефонных переговоров, 39 сообщений и 16 Гб интернета.*\n",
    "\n",
    "#### Абоненты тарифа \"Ультра\" (в месяц):\n",
    "- в среднем расходуют приблизительно 540 минут, с отклонением от средней величины в размере 302 минут\n",
    "- в среднем отправляют 62 сообщения, с отклонением от средней величины в размере 45 сообщений\n",
    "- в среднем расходуют 19.14 Гб интернета с отклонением от средней величины в размере 9.4 Гб интернета\n",
    "- в течение месяца отправляют больше текстовых сообщений по сравнению с абонентами тарифа \"Смарт\", что отражено тяжелым правым хвостом распределения для абонентов тарифа \"Ультра\".\n",
    "- наибольшая концентрация использования интернет-трафика данными абонентами лежит в интервале от 15-ти до 19-ти Гб, чуть меньшая концентрация наблюдается в интервале от 20-ти до 29-ти Гб.\n",
    "\n",
    "*Тем самым, для клиентов тарифа \"Ультра\" в месяц необходимо 540 минут телефонных переговоров, 63 сообщения, чуть более 19 Гб интернета.*"
   ]
  },
  {
   "cell_type": "markdown",
   "metadata": {},
   "source": [
    "### Шаг 4. Проверьте гипотезы"
   ]
  },
  {
   "cell_type": "markdown",
   "metadata": {},
   "source": [
    "Постановка задачи на данном шаге исследования:\n",
    "\n",
    "(а) Проверить следующие гипотезы:\n",
    "- средняя выручка пользователей тарифов «Ультра» и «Смарт» различается;\n",
    "- средняя выручка пользователей из Москвы отличается от выручки пользователей из других регионов;\n",
    "\n",
    "(б) Пояснить:\n",
    "- как вы формулировали нулевую и альтернативную гипотезы;\n",
    "- какой критерий использовали для проверки гипотез и почему.\n",
    "\n",
    "Пороговое значение alpha задать самостоятельно."
   ]
  },
  {
   "cell_type": "markdown",
   "metadata": {},
   "source": [
    "Перейдем к проверке первой гипотезы: *средняя выручка пользователей тарифов «Ультра» и «Смарт» различается;*.\n",
    "\n",
    "Так как предстоит проверить **наличие** разницы между средними величинами двух категорий абонентов, то нулевая гипотеза будет предполагать **отсутствие** разницы между данными категориями абонентов, т.е. исследуемые параметры (в частности средние величины выручки от абонентов \"Смарт\" и \"Ультра\") равны. Исходя из нулевой гипотезы, альтернативная гипотеза, напротив, будет предполагать *наличие* разницы (тем самым альтернативная гипотеза является двухсторонней).\n",
    "\n",
    "Таким образом, нулевая и альтернативные гипотезы имеют следующий вид:\n",
    "- *Нулевая гипотеза*\n",
    "$H_{0}:$ средняя выручка пользователей тарифов \"Смарт\" и \"Ультра\" **не различается**.\n",
    "- *Альтернативная гипотеза*\n",
    "$H_{1}:$ средняя выручка пользователей тарифов \"Смарт\" и \"Ультра\" **различается.**"
   ]
  },
  {
   "cell_type": "code",
   "execution_count": 58,
   "metadata": {},
   "outputs": [],
   "source": [
    "# здесь и далее укажем критический уровень статистической значимости альфа (alpha) в размере 5-ти процентов, т.е.:\n",
    "alpha = 0.05"
   ]
  },
  {
   "cell_type": "code",
   "execution_count": 59,
   "metadata": {},
   "outputs": [],
   "source": [
    "# выделим подвыборку ultra, которая содержит информацию о клиентах тарифа \"Ультра\"\n",
    "ultra = users_data.query('tariff == \"ultra\"')\n",
    "# выдели подвыборку smart, которая содежит информациб о клиентах тарифа \"Смарт\"\n",
    "smart = users_data.query('tariff == \"smart\"')"
   ]
  },
  {
   "cell_type": "code",
   "execution_count": 60,
   "metadata": {},
   "outputs": [
    {
     "data": {
      "text/html": [
       "<div>\n",
       "<style scoped>\n",
       "    .dataframe tbody tr th:only-of-type {\n",
       "        vertical-align: middle;\n",
       "    }\n",
       "\n",
       "    .dataframe tbody tr th {\n",
       "        vertical-align: top;\n",
       "    }\n",
       "\n",
       "    .dataframe thead tr th {\n",
       "        text-align: left;\n",
       "    }\n",
       "\n",
       "    .dataframe thead tr:last-of-type th {\n",
       "        text-align: right;\n",
       "    }\n",
       "</style>\n",
       "<table border=\"1\" class=\"dataframe\">\n",
       "  <thead>\n",
       "    <tr>\n",
       "      <th></th>\n",
       "      <th>var</th>\n",
       "      <th>count</th>\n",
       "    </tr>\n",
       "    <tr>\n",
       "      <th></th>\n",
       "      <th>monthly_revenue</th>\n",
       "      <th>monthly_revenue</th>\n",
       "    </tr>\n",
       "    <tr>\n",
       "      <th>tariff</th>\n",
       "      <th></th>\n",
       "      <th></th>\n",
       "    </tr>\n",
       "  </thead>\n",
       "  <tbody>\n",
       "    <tr>\n",
       "      <th>smart</th>\n",
       "      <td>609925.603313</td>\n",
       "      <td>1915</td>\n",
       "    </tr>\n",
       "    <tr>\n",
       "      <th>ultra</th>\n",
       "      <td>98653.644783</td>\n",
       "      <td>752</td>\n",
       "    </tr>\n",
       "  </tbody>\n",
       "</table>\n",
       "</div>"
      ],
      "text/plain": [
       "                   var           count\n",
       "       monthly_revenue monthly_revenue\n",
       "tariff                                \n",
       "smart    609925.603313            1915\n",
       "ultra     98653.644783             752"
      ]
     },
     "execution_count": 60,
     "metadata": {},
     "output_type": "execute_result"
    }
   ],
   "source": [
    "# определим сводную таблицу, которая отражает\n",
    "# (а) дисперсии ежемесячной выручки от клиентов двух тарифов \"Смарт\" и \"Ультра\",\n",
    "# (б) размерности подвыборок клиентов тарифов \"Смарт\" и \"Ультра\"\n",
    "users_data.pivot_table(index='tariff', values='monthly_revenue', aggfunc=['var','count'])"
   ]
  },
  {
   "cell_type": "markdown",
   "metadata": {},
   "source": [
    "- Подвыборка из клиентов тарифа \"Смарт\" составляет 1915 наблюдений.\n",
    "- Подвыборка из клиентов тарифа \"Ультра\" составляет 752 наблюдения.\n",
    "- Дисперсия ежемесячной выручки от клиентов тарифа \"Смарт\" (609925) значительно превышает дисперсию ежемесячной выручки от клиентов тарифа \"Ультра\" (98653).\n",
    "\n",
    "Таким образом в методе .ttest_ind обозначим разность дисперсий ежемесячной выручки от клиентов двух тарифов \"Смарт\" и \"Ультра\"."
   ]
  },
  {
   "cell_type": "code",
   "execution_count": 61,
   "metadata": {},
   "outputs": [],
   "source": [
    "# применим метод scipy.stats.ttest_ind() для проверки гипотезы о равенстве средних величин\n",
    "# в отношении выручки от абонентов двух тарифов \"Смарт\" и \"Ультра\".\n",
    "# Ранее было выявлено расхождение кол-ва наблюдений и \n",
    "# величины дисперсий ежемесячной выручки между клиентами двух тарифов \"Смарт\" и \"Ультра\"\n",
    "# тем самым, в аргументе equal_var укажем False, т.е. наличие разнородной дисперсии\n",
    "results_tariff = st.ttest_ind(\n",
    "    smart['monthly_revenue'],\n",
    "    ultra['monthly_revenue'],\n",
    "    equal_var=False\n",
    ")"
   ]
  },
  {
   "cell_type": "markdown",
   "metadata": {},
   "source": [
    "- метод .ttest_1samp() в нашем случае не подойдет, так как перед нами не ставилась задача равенства исследуемого параметра **из одной группы** определенной величиной. Напротив, пытаемся исследовать равенство параметров для наблюдений из **двух групп** (в частности абонентов двух тарифов \"Смарт\" и \"\"Ультра).\n",
    "- метод .ttest_rel() в нашем случае не подойдет, так как перед нами не ставилась задача определения равности исследуемых параметров *до* и *после* определенного эксперимента."
   ]
  },
  {
   "cell_type": "code",
   "execution_count": 62,
   "metadata": {},
   "outputs": [
    {
     "name": "stdout",
     "output_type": "stream",
     "text": [
      "p-значение составляет: 3.8709531762016586e-263\n",
      "Отвергаем нулевую гипотезу о равенстве ежемесячной выручки от клиентов двух тарифов \"Смарт\" и \"Ультра\" \n"
     ]
    }
   ],
   "source": [
    "# вывод р-значения\n",
    "print('p-значение составляет:',results_tariff.pvalue)\n",
    "# если р-значение меньше критического уровня статистической значимости\n",
    "if (results_tariff.pvalue < alpha):\n",
    "    print('Отвергаем нулевую гипотезу о равенстве ежемесячной выручки от клиентов двух тарифов \"Смарт\" и \"Ультра\" ')\n",
    "# если, напротив, р-значение больше критического уровня статистической значимости\n",
    "else:\n",
    "    print('Не получилось отвергнуть нулевую гипотезу')"
   ]
  },
  {
   "cell_type": "markdown",
   "metadata": {},
   "source": [
    "Перейдем к проверке второй гипотезы: *средняя выручка пользователей из Москвы отличается от выручки пользователей из других регионов;*.\n",
    "\n",
    "Так как предстоит проверить **наличие** разницы между средними величинами двух категорий абонентов: (а) из Москвы, (б) из других регионов, то нулевая гипотеза будет предполагать **отсутствие** разницы между данными категориями абонентов, т.е. исследуемые параметры (в частности средние величины выручки от абонентов: (а) из Москвы, (б) из других регионов) равны. Исходя из нулевой гипотезы, альтернативная гипотеза, напротив, будет предполагать *наличие* разницы (тем самым, альтернативная гипотеза является двухсторонней).\n",
    "\n",
    "Таким образом, нулевая и альтернативные гипотезы имеют следующий вид:\n",
    "- Нулевая гипотеза\n",
    "$H_{0}:$ средняя выручка пользователей из Москвы **не отличается** от выручки пользователей из других регионов\n",
    "- Альтернативная гипотеза\n",
    "$H_{0}:$ средняя выручка пользователей из Москвы **отличается** от выручки пользователей из других регионов"
   ]
  },
  {
   "cell_type": "code",
   "execution_count": 63,
   "metadata": {},
   "outputs": [],
   "source": [
    "# выделим подвыборку клиентов из Москвы\n",
    "Moscow = users_data.query('city == \"Москва\" ')\n",
    "# выделим подвыборку клиентов не из Москвы, т.е. из других регионов\n",
    "NotMoscow = users_data.query('city != \"Москва\" ')"
   ]
  },
  {
   "cell_type": "code",
   "execution_count": 64,
   "metadata": {
    "scrolled": true
   },
   "outputs": [
    {
     "data": {
      "text/html": [
       "<div>\n",
       "<style scoped>\n",
       "    .dataframe tbody tr th:only-of-type {\n",
       "        vertical-align: middle;\n",
       "    }\n",
       "\n",
       "    .dataframe tbody tr th {\n",
       "        vertical-align: top;\n",
       "    }\n",
       "\n",
       "    .dataframe thead th {\n",
       "        text-align: right;\n",
       "    }\n",
       "</style>\n",
       "<table border=\"1\" class=\"dataframe\">\n",
       "  <thead>\n",
       "    <tr style=\"text-align: right;\">\n",
       "      <th></th>\n",
       "      <th>user_id</th>\n",
       "      <th>month</th>\n",
       "      <th>sum_mb_used</th>\n",
       "      <th>calls_amount</th>\n",
       "      <th>calls_duration</th>\n",
       "      <th>messages_amount</th>\n",
       "      <th>age</th>\n",
       "      <th>churn_date</th>\n",
       "      <th>city</th>\n",
       "      <th>first_name</th>\n",
       "      <th>last_name</th>\n",
       "      <th>reg_date</th>\n",
       "      <th>tariff</th>\n",
       "      <th>gb_used</th>\n",
       "      <th>excess_calls_revenue</th>\n",
       "      <th>excess_internet_revenue</th>\n",
       "      <th>excess_messages_revenue</th>\n",
       "      <th>monthly_revenue</th>\n",
       "    </tr>\n",
       "  </thead>\n",
       "  <tbody>\n",
       "  </tbody>\n",
       "</table>\n",
       "</div>"
      ],
      "text/plain": [
       "Empty DataFrame\n",
       "Columns: [user_id, month, sum_mb_used, calls_amount, calls_duration, messages_amount, age, churn_date, city, first_name, last_name, reg_date, tariff, gb_used, excess_calls_revenue, excess_internet_revenue, excess_messages_revenue, monthly_revenue]\n",
       "Index: []"
      ]
     },
     "execution_count": 64,
     "metadata": {},
     "output_type": "execute_result"
    }
   ],
   "source": [
    "# проверим есть ли абоненты, месторасположение которых \"Москва\" указано через нижний регистр\n",
    "users_data.loc[users_data['city']=='москва']"
   ]
  },
  {
   "cell_type": "markdown",
   "metadata": {},
   "source": [
    "Видим, что нет наблюдений для которых месторасположение \"Москва\" указано через нижний регистр."
   ]
  },
  {
   "cell_type": "code",
   "execution_count": 65,
   "metadata": {},
   "outputs": [
    {
     "name": "stdout",
     "output_type": "stream",
     "text": [
      "Числовые характеристики ежемесячной выручки от абонентов, находящихся в Москве:\n",
      "count     491.000000\n",
      "mean     1506.208491\n",
      "std       753.871808\n",
      "min       550.000000\n",
      "25%       711.660156\n",
      "50%      1728.330078\n",
      "75%      1950.000000\n",
      "max      5081.930547\n",
      "Name: monthly_revenue, dtype: float64\n",
      "\n",
      "Дисперсия ежемесячной выручки от абонентов, находящихся в Москве составляет: 568322.70\n"
     ]
    }
   ],
   "source": [
    "# определим числовые характеристики ежемесячной выручки от абонентов, месторасположение которых является Москва\n",
    "print('Числовые характеристики ежемесячной выручки от абонентов, находящихся в Москве:')\n",
    "print(Moscow['monthly_revenue'].describe())\n",
    "# определим дисперсию ежемесячной выручки от абонентов, месторасположение которых является Москва\n",
    "print()\n",
    "print('Дисперсия ежемесячной выручки от абонентов, находящихся в Москве составляет: {:.2f}'.format(Moscow['monthly_revenue'].var() ))"
   ]
  },
  {
   "cell_type": "code",
   "execution_count": 66,
   "metadata": {},
   "outputs": [
    {
     "name": "stdout",
     "output_type": "stream",
     "text": [
      "Числовые характеристики ежемесячной выручки от абонентов, находящихся в других регионах помимо Москвы:\n",
      "count    2176.000000\n",
      "mean     1433.746875\n",
      "std       781.809817\n",
      "min       550.000000\n",
      "25%       652.804785\n",
      "50%      1416.538594\n",
      "75%      1950.000000\n",
      "max      6600.195703\n",
      "Name: monthly_revenue, dtype: float64\n",
      "\n",
      "Дисперсия ежемесячной выручки от абонентов из других регионов помимо Москвы составляет: 611226.59\n"
     ]
    }
   ],
   "source": [
    "# определим числовые характеристики ежемесячной выручки от абонентов из других регионов помимо Москвы\n",
    "print('Числовые характеристики ежемесячной выручки от абонентов, находящихся в других регионах помимо Москвы:')\n",
    "print(NotMoscow['monthly_revenue'].describe())\n",
    "# определим дисперсию ежемесячной выручки от абонентов из других регионов помимо Москвы\n",
    "print()\n",
    "print('Дисперсия ежемесячной выручки от абонентов из других регионов помимо Москвы составляет: {:.2f}'.format(NotMoscow['monthly_revenue'].var() ))"
   ]
  },
  {
   "cell_type": "markdown",
   "metadata": {},
   "source": [
    "- подвыборка абонентов из Москвы включает 491 наблюдение\n",
    "- подвыборка абонентов из других регионов составляет 2176 наблюдений\n",
    "- дисперсия ежемесячной выручки от клиентов из других регионов (611226.59) превышает дисперсию ежемесячной выручки от клиентов из Москвы (568322.70)."
   ]
  },
  {
   "cell_type": "code",
   "execution_count": 67,
   "metadata": {},
   "outputs": [],
   "source": [
    "# применим метод scipy.stats.ttest_ind() для проверки гипотезы о равенстве средних значений\n",
    "# ежемесячной выручки от абонентов двух месторасположений: \"Москва\" и \"другие регионы помимо Москвы\".\n",
    "# Ранее было выявлено наличие различного количества наблюдений и различных величин дисперсии\n",
    "# ежемесячной выручки от абонентов из Москвы и абонентов из других регионов помимо Москвы,\n",
    "# тем самым, в аргументе equal_var укажем False, т.е. наличие разнородной дисперсии\n",
    "results_location = st.ttest_ind(\n",
    "    Moscow['monthly_revenue'],\n",
    "    NotMoscow['monthly_revenue'],\n",
    "    equal_var=False\n",
    ")"
   ]
  },
  {
   "cell_type": "markdown",
   "metadata": {},
   "source": [
    "- метод .ttest_1samp() в нашем случае не подойдет, так как перед нами не ставилась задача равенства исследуемого параметра **из одной группы** определенной величиной. Напротив, пытаемся исследовать равенство параметров для наблюдений из **двух групп** (в частности, абонентов из двух географических месторасположений \"Москва\" и \"другие регионы\").\n",
    "- метод .ttest_rel() в нашем случае не подойдет, так как перед нами не ставилась задача определения равности исследуемых параметров *до* и *после* определенного эксперимента."
   ]
  },
  {
   "cell_type": "code",
   "execution_count": 68,
   "metadata": {},
   "outputs": [
    {
     "name": "stdout",
     "output_type": "stream",
     "text": [
      "p-значение составляет: 0.05643742369382551\n",
      "Не получилось отвергнуть нулевую гипотезу\n"
     ]
    }
   ],
   "source": [
    "# вывод р-значения\n",
    "print('p-значение составляет:',results_location.pvalue)\n",
    "# если р-значение меньше критического уровня статистической значимости\n",
    "if (results_location.pvalue < alpha):\n",
    "    print('Отвергаем нулевую гипотезу о равенстве ежемесячной выручки от клиентов из Москвы и других регионов ')\n",
    "# если, напротив, р-значение больше критического уровня статистической значимости\n",
    "else:\n",
    "    print('Не получилось отвергнуть нулевую гипотезу')"
   ]
  },
  {
   "cell_type": "markdown",
   "metadata": {},
   "source": [
    "### Промежуточные выводы 4-го шага исследования"
   ]
  },
  {
   "cell_type": "markdown",
   "metadata": {},
   "source": [
    "#### В контексте двух видов тарифов \"Смарт\" и \"Ультра\" определили нулевую и альтерантивную гипотезы, а именно:\n",
    "- *Нулевая гипотеза*\n",
    "$H_{0}:$ средняя выручка пользователей тарифов \"Смарт\" и \"Ультра\" **не различается**.\n",
    "- *Альтернативная гипотеза*\n",
    "$H_{1}:$ средняя выручка пользователей тарифов \"Смарт\" и \"Ультра\" **различается.**\n",
    "\n",
    "Также выявлено следующее:\n",
    "- Подвыборка из клиентов тарифа \"Смарт\" составляет 1915 наблюдений.\n",
    "- Подвыборка из клиентов тарифа \"Ультра\" составляет 752 наблюдения.\n",
    "- Дисперсия ежемесячной выручки от клиентов тарифа \"Смарт\" (609925) значительно превышает дисперсию ежемесячной выручки от клиентов тарифа \"Ультра\" (98653).\n",
    "\n",
    "Так как перед нами стоит задача проверки гипотезы о равенстве исследуемых параметров из двух групп, использовали метод .ttest_ind(), при условии расхождения дисперсий исследуемых величин из двух групп. В результате статистических вычислений **отвергаем нулевую гипотезу о равенстве средней выручки в месяц от абонентов двух тарифов \"Смарт\" и \"Ультра\" в пользу альтернативной гипотезы: средняя выручка в месяц между абонентами тарифа \"Смарт\" и абонентами тарифа \"Ультра\" статистически значимо отличается на 5-ти процентном уровне**.\n",
    "    \n",
    "#### В контексте  двух географических месторасположений \"Москва\" и \"другие регионы\", определили нулевую и альтернативную гипотезы, а именно:\n",
    "- Нулевая гипотеза\n",
    "$H_{0}:$ средняя выручка пользователей из Москвы **не отличается** от выручки пользователей из других регионов\n",
    "- Альтернативная гипотеза\n",
    "$H_{0}:$ средняя выручка пользователей из Москвы **отличается** от выручки пользователей из других регионов\n",
    "\n",
    "Также выявлено следующее:\n",
    "- подвыборка абонентов из Москвы включает 491 наблюдение\n",
    "- подвыборка абонентов из других регионов составляет 2176 наблюдений\n",
    "- дисперсия ежемесячной выручки от клиентов из других регионов (611226.59) превышает дисперсию ежемесячной выручки от клиентов из Москвы (568322.70).\n",
    "\n",
    "Аналогично, так как перед нами стоит задача проверки гипотезы о равенстве исследуемых параметров из двух групп, использовали метод .ttest_ind(), при условии расхождения дисперсий исследуемых величин из двух групп. В результате статистических вычислений, **не получилось отвергнуть нулевую гипотезу о равенстве средней выручки в месяц от абонентов из двух месторасположений \"Москва\" и \"другие регионы\": средняя выручка в месяц между абонентами из Москвы и абонентами из других регионов не отличается на 5-ти процентном уровне значимости**."
   ]
  },
  {
   "cell_type": "markdown",
   "metadata": {},
   "source": [
    "### Шаг 5. Общие выводы"
   ]
  },
  {
   "cell_type": "markdown",
   "metadata": {},
   "source": [
    "(а) в контексте общей информации об абонентах \"Мегалайн\" имеем 500 наблюдений, из которых 351 абонент с тарифом \"Смарт\", 149 абонент - тариф \"Ультра\".\n",
    "\n",
    "(б) абоненты тарифа \"Смарт\":\n",
    "- в среднем расходуют приблизительно 409 минут, с отклонением от средней величины в размере 182 минут \n",
    "- в среднем отправляют 39 сообщений, с отклонением от средней вличины в размере 26 сообщений\n",
    "- в среднем расходуют 15.87 Гб интернета, с отклонением от средней величины в размере 5.65 Гб интернета\n",
    "- в большинстве случаем отправляют менее 40 сообщений.\n",
    "- наибольшая концентрация использования интернет-трафика данными абонентами лежит в интервале от 15-ти до 18-ти Гб.\n",
    "\n",
    "(в) абоненты тарифа \"Ультра\" (в месяц):\n",
    "- в среднем расходуют приблизительно 540 минут, с отклонением от средней величины в размере 302 минут\n",
    "- в среднем отправляют 62 сообщения, с отклонением от средней величины в размере 45 сообщений\n",
    "- в среднем расходуют 19.14 Гб интернета с отклонением от средней величины в размере 9.4 Гб интернета\n",
    "- в течение месяца отправляют больше текстовых сообщений по сравнению с абонентами тарифа \"Смарт\", что отражено тяжелым правым хвостом распределения для абонентов тарифа \"Ультра\".\n",
    "- наибольшая концентрация использования интернет-трафика данными абонентами лежит в интервале от 15-ти до 19-ти Гб, чуть меньшая концентрация наблюдается в интервале от 20-ти до 29-ти Гб.\n",
    "\n",
    "(г) дисперсия ежемесячной выручки от клиентов тарифа \"Смарт\" (609925) значительно превышает дисперсию ежемесячной выручки от клиентов тарифа \"Ультра\" (98653).\n",
    "\n",
    "(д) дисперсия ежемесячной выручки от клиентов из других регионов (611226.59) превышает дисперсию ежемесячной выручки от клиентов из Москвы (568322.70).\n",
    "\n",
    "(е) отвергаем нулевую гипотезу о равенстве средней выручки в месяц от абонентов двух тарифов \"Смарт\" и \"Ультра\" в пользу альтернативной гипотезы: средняя выручка в месяц между абонентами тарифа \"Смарт\" и абонентами тарифа \"Ультра\" статистически значимо отличается на 5-ти процентном уровне.\n",
    "\n",
    "(ж) не получилось отвергнуть нулевую гипотезу о равенстве средней выручки в месяц от абонентов из двух месторасположений \"Москва\" и \"другие регионы\": средняя выручка в месяц между абонентами из Москвы и абонентами из других регионов не отличается на 5-ти процентном уровне значимости."
   ]
  }
 ],
 "metadata": {
  "kernelspec": {
   "display_name": "Python 3",
   "language": "python",
   "name": "python3"
  },
  "language_info": {
   "codemirror_mode": {
    "name": "ipython",
    "version": 3
   },
   "file_extension": ".py",
   "mimetype": "text/x-python",
   "name": "python",
   "nbconvert_exporter": "python",
   "pygments_lexer": "ipython3",
   "version": "3.7.6"
  }
 },
 "nbformat": 4,
 "nbformat_minor": 2
}
