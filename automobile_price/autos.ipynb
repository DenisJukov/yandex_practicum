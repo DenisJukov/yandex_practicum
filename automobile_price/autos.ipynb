{
 "cells": [
  {
   "cell_type": "markdown",
   "metadata": {},
   "source": [
    "Сервис по продаже автомобилей с пробегом «Не бит, не крашен» разрабатывает приложение для привлечения новых клиентов. В нём можно быстро узнать рыночную стоимость своего автомобиля. В вашем распоряжении исторические данные: технические характеристики, комплектации и цены автомобилей. Вам нужно построить модель для определения стоимости. \n",
    "\n",
    "Заказчику важны:\n",
    "\n",
    "- качество предсказания;\n",
    "- скорость предсказания;\n",
    "- время обучения."
   ]
  },
  {
   "cell_type": "markdown",
   "metadata": {},
   "source": [
    "# 1. Подготовка данных"
   ]
  },
  {
   "cell_type": "code",
   "execution_count": 1,
   "metadata": {},
   "outputs": [],
   "source": [
    "# загрузка библиотек:\n",
    "# операции с массивом данных\n",
    "import pandas as pd\n",
    "import numpy as np\n",
    "# градиентный бустинг\n",
    "import lightgbm as lgb\n",
    "from catboost import CatBoostRegressor\n",
    "# разделение выборки на множества\n",
    "from sklearn.model_selection import train_test_split, GridSearchCV\n",
    "# порядковое кодирование\n",
    "from sklearn.preprocessing import OrdinalEncoder\n",
    "# метрика качества моделей\n",
    "from sklearn.metrics import mean_squared_error\n",
    "# построение графических иллюстраций\n",
    "import seaborn as sns\n",
    "import matplotlib.pyplot as plt\n",
    "# изменение темы диаграмм\n",
    "plt.style.use('ggplot')\n",
    "%matplotlib inline"
   ]
  },
  {
   "cell_type": "code",
   "execution_count": 2,
   "metadata": {},
   "outputs": [],
   "source": [
    "# загрузка массива данных\n",
    "autos = pd.read_csv('autos.csv')"
   ]
  },
  {
   "cell_type": "code",
   "execution_count": 3,
   "metadata": {},
   "outputs": [
    {
     "data": {
      "text/html": [
       "<div>\n",
       "<style scoped>\n",
       "    .dataframe tbody tr th:only-of-type {\n",
       "        vertical-align: middle;\n",
       "    }\n",
       "\n",
       "    .dataframe tbody tr th {\n",
       "        vertical-align: top;\n",
       "    }\n",
       "\n",
       "    .dataframe thead th {\n",
       "        text-align: right;\n",
       "    }\n",
       "</style>\n",
       "<table border=\"1\" class=\"dataframe\">\n",
       "  <thead>\n",
       "    <tr style=\"text-align: right;\">\n",
       "      <th></th>\n",
       "      <th>DateCrawled</th>\n",
       "      <th>Price</th>\n",
       "      <th>VehicleType</th>\n",
       "      <th>RegistrationYear</th>\n",
       "      <th>Gearbox</th>\n",
       "      <th>Power</th>\n",
       "      <th>Model</th>\n",
       "      <th>Kilometer</th>\n",
       "      <th>RegistrationMonth</th>\n",
       "      <th>FuelType</th>\n",
       "      <th>Brand</th>\n",
       "      <th>NotRepaired</th>\n",
       "      <th>DateCreated</th>\n",
       "      <th>NumberOfPictures</th>\n",
       "      <th>PostalCode</th>\n",
       "      <th>LastSeen</th>\n",
       "    </tr>\n",
       "  </thead>\n",
       "  <tbody>\n",
       "    <tr>\n",
       "      <th>0</th>\n",
       "      <td>2016-03-24 11:52:17</td>\n",
       "      <td>480</td>\n",
       "      <td>NaN</td>\n",
       "      <td>1993</td>\n",
       "      <td>manual</td>\n",
       "      <td>0</td>\n",
       "      <td>golf</td>\n",
       "      <td>150000</td>\n",
       "      <td>0</td>\n",
       "      <td>petrol</td>\n",
       "      <td>volkswagen</td>\n",
       "      <td>NaN</td>\n",
       "      <td>2016-03-24 00:00:00</td>\n",
       "      <td>0</td>\n",
       "      <td>70435</td>\n",
       "      <td>2016-04-07 03:16:57</td>\n",
       "    </tr>\n",
       "    <tr>\n",
       "      <th>1</th>\n",
       "      <td>2016-03-24 10:58:45</td>\n",
       "      <td>18300</td>\n",
       "      <td>coupe</td>\n",
       "      <td>2011</td>\n",
       "      <td>manual</td>\n",
       "      <td>190</td>\n",
       "      <td>NaN</td>\n",
       "      <td>125000</td>\n",
       "      <td>5</td>\n",
       "      <td>gasoline</td>\n",
       "      <td>audi</td>\n",
       "      <td>yes</td>\n",
       "      <td>2016-03-24 00:00:00</td>\n",
       "      <td>0</td>\n",
       "      <td>66954</td>\n",
       "      <td>2016-04-07 01:46:50</td>\n",
       "    </tr>\n",
       "    <tr>\n",
       "      <th>2</th>\n",
       "      <td>2016-03-14 12:52:21</td>\n",
       "      <td>9800</td>\n",
       "      <td>suv</td>\n",
       "      <td>2004</td>\n",
       "      <td>auto</td>\n",
       "      <td>163</td>\n",
       "      <td>grand</td>\n",
       "      <td>125000</td>\n",
       "      <td>8</td>\n",
       "      <td>gasoline</td>\n",
       "      <td>jeep</td>\n",
       "      <td>NaN</td>\n",
       "      <td>2016-03-14 00:00:00</td>\n",
       "      <td>0</td>\n",
       "      <td>90480</td>\n",
       "      <td>2016-04-05 12:47:46</td>\n",
       "    </tr>\n",
       "    <tr>\n",
       "      <th>3</th>\n",
       "      <td>2016-03-17 16:54:04</td>\n",
       "      <td>1500</td>\n",
       "      <td>small</td>\n",
       "      <td>2001</td>\n",
       "      <td>manual</td>\n",
       "      <td>75</td>\n",
       "      <td>golf</td>\n",
       "      <td>150000</td>\n",
       "      <td>6</td>\n",
       "      <td>petrol</td>\n",
       "      <td>volkswagen</td>\n",
       "      <td>no</td>\n",
       "      <td>2016-03-17 00:00:00</td>\n",
       "      <td>0</td>\n",
       "      <td>91074</td>\n",
       "      <td>2016-03-17 17:40:17</td>\n",
       "    </tr>\n",
       "    <tr>\n",
       "      <th>4</th>\n",
       "      <td>2016-03-31 17:25:20</td>\n",
       "      <td>3600</td>\n",
       "      <td>small</td>\n",
       "      <td>2008</td>\n",
       "      <td>manual</td>\n",
       "      <td>69</td>\n",
       "      <td>fabia</td>\n",
       "      <td>90000</td>\n",
       "      <td>7</td>\n",
       "      <td>gasoline</td>\n",
       "      <td>skoda</td>\n",
       "      <td>no</td>\n",
       "      <td>2016-03-31 00:00:00</td>\n",
       "      <td>0</td>\n",
       "      <td>60437</td>\n",
       "      <td>2016-04-06 10:17:21</td>\n",
       "    </tr>\n",
       "  </tbody>\n",
       "</table>\n",
       "</div>"
      ],
      "text/plain": [
       "           DateCrawled  Price VehicleType  RegistrationYear Gearbox  Power  \\\n",
       "0  2016-03-24 11:52:17    480         NaN              1993  manual      0   \n",
       "1  2016-03-24 10:58:45  18300       coupe              2011  manual    190   \n",
       "2  2016-03-14 12:52:21   9800         suv              2004    auto    163   \n",
       "3  2016-03-17 16:54:04   1500       small              2001  manual     75   \n",
       "4  2016-03-31 17:25:20   3600       small              2008  manual     69   \n",
       "\n",
       "   Model  Kilometer  RegistrationMonth  FuelType       Brand NotRepaired  \\\n",
       "0   golf     150000                  0    petrol  volkswagen         NaN   \n",
       "1    NaN     125000                  5  gasoline        audi         yes   \n",
       "2  grand     125000                  8  gasoline        jeep         NaN   \n",
       "3   golf     150000                  6    petrol  volkswagen          no   \n",
       "4  fabia      90000                  7  gasoline       skoda          no   \n",
       "\n",
       "           DateCreated  NumberOfPictures  PostalCode             LastSeen  \n",
       "0  2016-03-24 00:00:00                 0       70435  2016-04-07 03:16:57  \n",
       "1  2016-03-24 00:00:00                 0       66954  2016-04-07 01:46:50  \n",
       "2  2016-03-14 00:00:00                 0       90480  2016-04-05 12:47:46  \n",
       "3  2016-03-17 00:00:00                 0       91074  2016-03-17 17:40:17  \n",
       "4  2016-03-31 00:00:00                 0       60437  2016-04-06 10:17:21  "
      ]
     },
     "execution_count": 3,
     "metadata": {},
     "output_type": "execute_result"
    }
   ],
   "source": [
    "# просмотр первых пяти наблюдений\n",
    "autos.head()"
   ]
  },
  {
   "cell_type": "code",
   "execution_count": 4,
   "metadata": {},
   "outputs": [
    {
     "name": "stdout",
     "output_type": "stream",
     "text": [
      "<class 'pandas.core.frame.DataFrame'>\n",
      "RangeIndex: 354369 entries, 0 to 354368\n",
      "Data columns (total 16 columns):\n",
      " #   Column             Non-Null Count   Dtype \n",
      "---  ------             --------------   ----- \n",
      " 0   DateCrawled        354369 non-null  object\n",
      " 1   Price              354369 non-null  int64 \n",
      " 2   VehicleType        316879 non-null  object\n",
      " 3   RegistrationYear   354369 non-null  int64 \n",
      " 4   Gearbox            334536 non-null  object\n",
      " 5   Power              354369 non-null  int64 \n",
      " 6   Model              334664 non-null  object\n",
      " 7   Kilometer          354369 non-null  int64 \n",
      " 8   RegistrationMonth  354369 non-null  int64 \n",
      " 9   FuelType           321474 non-null  object\n",
      " 10  Brand              354369 non-null  object\n",
      " 11  NotRepaired        283215 non-null  object\n",
      " 12  DateCreated        354369 non-null  object\n",
      " 13  NumberOfPictures   354369 non-null  int64 \n",
      " 14  PostalCode         354369 non-null  int64 \n",
      " 15  LastSeen           354369 non-null  object\n",
      "dtypes: int64(7), object(9)\n",
      "memory usage: 43.3+ MB\n"
     ]
    }
   ],
   "source": [
    "# просмотр общей информации по переменным\n",
    "autos.info()"
   ]
  },
  {
   "cell_type": "markdown",
   "metadata": {},
   "source": [
    "- имеем переменные как с целочисленным форматом `int64`, так и со строковым форматом `object`.\n",
    "- такие переменные как почтовый индекс владельца `PostalCode`, дата скачивания анкеты `DateCrawled`, месяца регистрации автомобиля `RegistrationMonth`, создания анкеты `DateCreated`, последней активности пользователя `LastSeen` скорее не столь информативны при определении стоимости автомобиля. Удалим данные переменные из матрицы признаков.\n",
    "- год регистрации автомобиля (`RegistrationYear`) является полезной информацией. Если автомобиль давно зарегистрирован но еще не продан, значит есть причины, побуждающие потенциальных клиентов не приобретать данный актив.\n",
    "- остальные переменные как пробег (`Kilometer`), марка, мощность (`Power`) весьма полезны при прогнозировании стоимости автомобиля."
   ]
  },
  {
   "cell_type": "code",
   "execution_count": 5,
   "metadata": {},
   "outputs": [
    {
     "data": {
      "text/plain": [
       "4"
      ]
     },
     "execution_count": 5,
     "metadata": {},
     "output_type": "execute_result"
    }
   ],
   "source": [
    "# проверим наличие дублированных наблюдений\n",
    "autos.duplicated().sum()"
   ]
  },
  {
   "cell_type": "markdown",
   "metadata": {},
   "source": [
    "- имеем четыре идентичных наблюдения."
   ]
  },
  {
   "cell_type": "code",
   "execution_count": 6,
   "metadata": {},
   "outputs": [
    {
     "data": {
      "text/html": [
       "<div>\n",
       "<style scoped>\n",
       "    .dataframe tbody tr th:only-of-type {\n",
       "        vertical-align: middle;\n",
       "    }\n",
       "\n",
       "    .dataframe tbody tr th {\n",
       "        vertical-align: top;\n",
       "    }\n",
       "\n",
       "    .dataframe thead th {\n",
       "        text-align: right;\n",
       "    }\n",
       "</style>\n",
       "<table border=\"1\" class=\"dataframe\">\n",
       "  <thead>\n",
       "    <tr style=\"text-align: right;\">\n",
       "      <th></th>\n",
       "      <th>DateCrawled</th>\n",
       "      <th>Price</th>\n",
       "      <th>VehicleType</th>\n",
       "      <th>RegistrationYear</th>\n",
       "      <th>Gearbox</th>\n",
       "      <th>Power</th>\n",
       "      <th>Model</th>\n",
       "      <th>Kilometer</th>\n",
       "      <th>RegistrationMonth</th>\n",
       "      <th>FuelType</th>\n",
       "      <th>Brand</th>\n",
       "      <th>NotRepaired</th>\n",
       "      <th>DateCreated</th>\n",
       "      <th>NumberOfPictures</th>\n",
       "      <th>PostalCode</th>\n",
       "      <th>LastSeen</th>\n",
       "    </tr>\n",
       "  </thead>\n",
       "  <tbody>\n",
       "    <tr>\n",
       "      <th>171088</th>\n",
       "      <td>2016-03-08 18:42:48</td>\n",
       "      <td>1799</td>\n",
       "      <td>coupe</td>\n",
       "      <td>1999</td>\n",
       "      <td>auto</td>\n",
       "      <td>193</td>\n",
       "      <td>clk</td>\n",
       "      <td>20000</td>\n",
       "      <td>7</td>\n",
       "      <td>petrol</td>\n",
       "      <td>mercedes_benz</td>\n",
       "      <td>no</td>\n",
       "      <td>2016-03-08 00:00:00</td>\n",
       "      <td>0</td>\n",
       "      <td>89518</td>\n",
       "      <td>2016-03-09 09:46:57</td>\n",
       "    </tr>\n",
       "    <tr>\n",
       "      <th>231258</th>\n",
       "      <td>2016-03-28 00:56:10</td>\n",
       "      <td>1000</td>\n",
       "      <td>small</td>\n",
       "      <td>2002</td>\n",
       "      <td>manual</td>\n",
       "      <td>83</td>\n",
       "      <td>other</td>\n",
       "      <td>150000</td>\n",
       "      <td>1</td>\n",
       "      <td>petrol</td>\n",
       "      <td>suzuki</td>\n",
       "      <td>no</td>\n",
       "      <td>2016-03-28 00:00:00</td>\n",
       "      <td>0</td>\n",
       "      <td>66589</td>\n",
       "      <td>2016-03-28 08:46:21</td>\n",
       "    </tr>\n",
       "    <tr>\n",
       "      <th>258109</th>\n",
       "      <td>2016-04-03 09:01:15</td>\n",
       "      <td>4699</td>\n",
       "      <td>coupe</td>\n",
       "      <td>2003</td>\n",
       "      <td>auto</td>\n",
       "      <td>218</td>\n",
       "      <td>clk</td>\n",
       "      <td>125000</td>\n",
       "      <td>6</td>\n",
       "      <td>petrol</td>\n",
       "      <td>mercedes_benz</td>\n",
       "      <td>yes</td>\n",
       "      <td>2016-04-03 00:00:00</td>\n",
       "      <td>0</td>\n",
       "      <td>75196</td>\n",
       "      <td>2016-04-07 09:44:54</td>\n",
       "    </tr>\n",
       "    <tr>\n",
       "      <th>325651</th>\n",
       "      <td>2016-03-18 18:46:15</td>\n",
       "      <td>1999</td>\n",
       "      <td>wagon</td>\n",
       "      <td>2001</td>\n",
       "      <td>manual</td>\n",
       "      <td>131</td>\n",
       "      <td>passat</td>\n",
       "      <td>150000</td>\n",
       "      <td>7</td>\n",
       "      <td>gasoline</td>\n",
       "      <td>volkswagen</td>\n",
       "      <td>no</td>\n",
       "      <td>2016-03-18 00:00:00</td>\n",
       "      <td>0</td>\n",
       "      <td>36391</td>\n",
       "      <td>2016-03-18 18:46:15</td>\n",
       "    </tr>\n",
       "  </tbody>\n",
       "</table>\n",
       "</div>"
      ],
      "text/plain": [
       "                DateCrawled  Price VehicleType  RegistrationYear Gearbox  \\\n",
       "171088  2016-03-08 18:42:48   1799       coupe              1999    auto   \n",
       "231258  2016-03-28 00:56:10   1000       small              2002  manual   \n",
       "258109  2016-04-03 09:01:15   4699       coupe              2003    auto   \n",
       "325651  2016-03-18 18:46:15   1999       wagon              2001  manual   \n",
       "\n",
       "        Power   Model  Kilometer  RegistrationMonth  FuelType          Brand  \\\n",
       "171088    193     clk      20000                  7    petrol  mercedes_benz   \n",
       "231258     83   other     150000                  1    petrol         suzuki   \n",
       "258109    218     clk     125000                  6    petrol  mercedes_benz   \n",
       "325651    131  passat     150000                  7  gasoline     volkswagen   \n",
       "\n",
       "       NotRepaired          DateCreated  NumberOfPictures  PostalCode  \\\n",
       "171088          no  2016-03-08 00:00:00                 0       89518   \n",
       "231258          no  2016-03-28 00:00:00                 0       66589   \n",
       "258109         yes  2016-04-03 00:00:00                 0       75196   \n",
       "325651          no  2016-03-18 00:00:00                 0       36391   \n",
       "\n",
       "                   LastSeen  \n",
       "171088  2016-03-09 09:46:57  \n",
       "231258  2016-03-28 08:46:21  \n",
       "258109  2016-04-07 09:44:54  \n",
       "325651  2016-03-18 18:46:15  "
      ]
     },
     "execution_count": 6,
     "metadata": {},
     "output_type": "execute_result"
    }
   ],
   "source": [
    "# просмотр дублированных наблюдений\n",
    "autos.loc[autos.duplicated()==True,:]"
   ]
  },
  {
   "cell_type": "code",
   "execution_count": 7,
   "metadata": {},
   "outputs": [],
   "source": [
    "# удаление дубликатов\n",
    "autos = autos.drop_duplicates()"
   ]
  },
  {
   "cell_type": "code",
   "execution_count": 8,
   "metadata": {},
   "outputs": [
    {
     "data": {
      "text/plain": [
       "<matplotlib.axes._subplots.AxesSubplot at 0x7fdf3a5f2fd0>"
      ]
     },
     "execution_count": 8,
     "metadata": {},
     "output_type": "execute_result"
    },
    {
     "data": {
      "image/png": "[encoded data removed]",
      "text/plain": [
       "<Figure size 432x288 with 1 Axes>"
      ]
     },
     "metadata": {
      "needs_background": "light"
     },
     "output_type": "display_data"
    }
   ],
   "source": [
    "# просмотр процентной доли пропущенных величин по каждой из переменных\n",
    "(autos.isna().sum().sort_values(ascending=False) / autos.shape[0] * 100).plot(kind='bar')"
   ]
  },
  {
   "cell_type": "markdown",
   "metadata": {},
   "source": [
    "- по наличию или отсутствию ремонтных работ автомобиля (`NotRepaired`) имеем 20% пропусков. Возможно действительно машина не была в ремонте. Владельцы сочли что по картинке станет ясно что с машиной все в порядке. Поэтому не указано отсутствие ремонта. Однако если машина на самом деле ремонтировалась, то это может оттолкнуть потенциальных клиентов к приобретению 'раненного' автомобиля. Поэтому владельцы не указали наличие ремонта.\n",
    "- пропуски по типу кузова (`VehicleType`), типу топлива (`FuelType`), коробке передач (`GearBox`) и модели автомобиля (`Model`) могут объясняться техническими ошибками при заполнении. Ведь владельцы периодически сталкиваются с заправкой и ремонтированием автомобиля. Это побуждает к изучению базовых характеристик машины."
   ]
  },
  {
   "cell_type": "code",
   "execution_count": 9,
   "metadata": {},
   "outputs": [],
   "source": [
    "# создадим список столбцов, по которым есть пропущенные наблюдения\n",
    "cols_with_na = ['NotRepaired','VehicleType','FuelType','Gearbox','Model']"
   ]
  },
  {
   "cell_type": "code",
   "execution_count": 10,
   "metadata": {},
   "outputs": [],
   "source": [
    "# Построим функцию, которая отображает гистограмму распределения цен на автомобиль \n",
    "# в разрезе характеристики машины, по которой отсутствуют наблюдения\n",
    "def plot_price_na(data, feature, bins=10, density=False):\n",
    "    '''\n",
    "    data: массив данных\n",
    "    feature: признак машины, в разрезе которого строится гистограмма распределения цен на автомобиль\n",
    "    bins: количество корзин разбиения гистограммы\n",
    "    density: индикаторная переменная для построения гистограммы плотностей\n",
    "    '''\n",
    "    # построение простой гистограммы\n",
    "    if density==False:\n",
    "        # изменим тип отображения гистограммы\n",
    "        data.loc[data[feature].isna()==True,'Price'].plot(kind='hist', bins=bins, lw=4, figsize=(12,8), \n",
    "                                                          histtype='step',label=feature, legend=True)\n",
    "    # построение гистограммы плотностей\n",
    "    else:\n",
    "        data.loc[data[feature].isna()==True, 'Price'].plot(kind='hist', density=density, figsize=(12,8),\n",
    "                                                           histtype='step', lw=4,\n",
    "                                                           label=feature, legend=True)"
   ]
  },
  {
   "cell_type": "code",
   "execution_count": 11,
   "metadata": {},
   "outputs": [
    {
     "data": {
      "image/png": "[encoded data removed]",
      "text/plain": [
       "<Figure size 864x576 with 1 Axes>"
      ]
     },
     "metadata": {
      "needs_background": "light"
     },
     "output_type": "display_data"
    }
   ],
   "source": [
    "# По характеристикам, у которых есть пропущенные наблюдения построим гистограмму распределения цен на автомобиль \n",
    "for feature in cols_with_na:\n",
    "    plot_price_na(autos, feature)"
   ]
  },
  {
   "cell_type": "markdown",
   "metadata": {},
   "source": [
    "- пропущенные наблюдения в основном имеются по автомобилям, стоимость которых не превышает 5000 у.е.\n",
    "- наверное и поэтому отсутствует информация по наличию ремонта. Так как ремонт говорит о менее качественном автомобиле, что и снижает его стоимость. В целом, распределение цен на автомобиль для пропущенных наблюдений по пяти характеристикам скошено влево, с толстым правым хвостом.\n",
    "- Восстановить наличие/отсутствие ремонта (`NotRepaired`) на основе имеющейся информации весьма трудно. Так как ремонту подвергаются все виды машин: новые, старые; дешевые, дорогие; более престижной и более простой марки.\n",
    "- Заполнение пропущенных наблюдений по типу кузова, топлива, коробки передач также весьма тяжело. Это объясняется обширным множеством комбинаций одних характеристик машины с другими: автомобили с автоматической коробкой передач могут принимать практически любые значения из перечня типа кузова, модели. Аналогичная ситуация и по другим техническим характеристикам автомобиля."
   ]
  },
  {
   "cell_type": "code",
   "execution_count": 12,
   "metadata": {},
   "outputs": [
    {
     "data": {
      "text/plain": [
       "0    354365\n",
       "Name: NumberOfPictures, dtype: int64"
      ]
     },
     "execution_count": 12,
     "metadata": {},
     "output_type": "execute_result"
    }
   ],
   "source": [
    "# весьма интересной переменной является \"количество фотографий\". \n",
    "# Большое количество фотографий может отражать сильное желание продать автомобиль\n",
    "# При малом числе фотографий, владелец может показать лишь лучшие стороны автомобиля\n",
    "autos['NumberOfPictures'].value_counts()"
   ]
  },
  {
   "cell_type": "markdown",
   "metadata": {},
   "source": [
    "- отсутствуют фотографии по автомобилям из выборочной совокупности."
   ]
  },
  {
   "cell_type": "code",
   "execution_count": 13,
   "metadata": {},
   "outputs": [],
   "source": [
    "# создадим список переменных, имеющие малую значимость\n",
    "cols_to_drop = ['Price', 'DateCrawled','RegistrationMonth','DateCreated',\n",
    "                'LastSeen','PostalCode','NumberOfPictures']"
   ]
  },
  {
   "cell_type": "code",
   "execution_count": 14,
   "metadata": {},
   "outputs": [],
   "source": [
    "# Определим матрицу характеристик автомобилей\n",
    "features = autos.drop(labels=cols_to_drop, axis=1)\n",
    "# Определим вектор целевых величин - стоимость автомобиля\n",
    "target = autos['Price']"
   ]
  },
  {
   "cell_type": "code",
   "execution_count": 15,
   "metadata": {},
   "outputs": [
    {
     "data": {
      "text/html": [
       "<div>\n",
       "<style scoped>\n",
       "    .dataframe tbody tr th:only-of-type {\n",
       "        vertical-align: middle;\n",
       "    }\n",
       "\n",
       "    .dataframe tbody tr th {\n",
       "        vertical-align: top;\n",
       "    }\n",
       "\n",
       "    .dataframe thead th {\n",
       "        text-align: right;\n",
       "    }\n",
       "</style>\n",
       "<table border=\"1\" class=\"dataframe\">\n",
       "  <thead>\n",
       "    <tr style=\"text-align: right;\">\n",
       "      <th></th>\n",
       "      <th>VehicleType</th>\n",
       "      <th>RegistrationYear</th>\n",
       "      <th>Gearbox</th>\n",
       "      <th>Power</th>\n",
       "      <th>Model</th>\n",
       "      <th>Kilometer</th>\n",
       "      <th>FuelType</th>\n",
       "      <th>Brand</th>\n",
       "      <th>NotRepaired</th>\n",
       "    </tr>\n",
       "  </thead>\n",
       "  <tbody>\n",
       "    <tr>\n",
       "      <th>0</th>\n",
       "      <td>NaN</td>\n",
       "      <td>1993</td>\n",
       "      <td>manual</td>\n",
       "      <td>0</td>\n",
       "      <td>golf</td>\n",
       "      <td>150000</td>\n",
       "      <td>petrol</td>\n",
       "      <td>volkswagen</td>\n",
       "      <td>NaN</td>\n",
       "    </tr>\n",
       "    <tr>\n",
       "      <th>1</th>\n",
       "      <td>coupe</td>\n",
       "      <td>2011</td>\n",
       "      <td>manual</td>\n",
       "      <td>190</td>\n",
       "      <td>NaN</td>\n",
       "      <td>125000</td>\n",
       "      <td>gasoline</td>\n",
       "      <td>audi</td>\n",
       "      <td>yes</td>\n",
       "    </tr>\n",
       "    <tr>\n",
       "      <th>2</th>\n",
       "      <td>suv</td>\n",
       "      <td>2004</td>\n",
       "      <td>auto</td>\n",
       "      <td>163</td>\n",
       "      <td>grand</td>\n",
       "      <td>125000</td>\n",
       "      <td>gasoline</td>\n",
       "      <td>jeep</td>\n",
       "      <td>NaN</td>\n",
       "    </tr>\n",
       "    <tr>\n",
       "      <th>3</th>\n",
       "      <td>small</td>\n",
       "      <td>2001</td>\n",
       "      <td>manual</td>\n",
       "      <td>75</td>\n",
       "      <td>golf</td>\n",
       "      <td>150000</td>\n",
       "      <td>petrol</td>\n",
       "      <td>volkswagen</td>\n",
       "      <td>no</td>\n",
       "    </tr>\n",
       "    <tr>\n",
       "      <th>4</th>\n",
       "      <td>small</td>\n",
       "      <td>2008</td>\n",
       "      <td>manual</td>\n",
       "      <td>69</td>\n",
       "      <td>fabia</td>\n",
       "      <td>90000</td>\n",
       "      <td>gasoline</td>\n",
       "      <td>skoda</td>\n",
       "      <td>no</td>\n",
       "    </tr>\n",
       "  </tbody>\n",
       "</table>\n",
       "</div>"
      ],
      "text/plain": [
       "  VehicleType  RegistrationYear Gearbox  Power  Model  Kilometer  FuelType  \\\n",
       "0         NaN              1993  manual      0   golf     150000    petrol   \n",
       "1       coupe              2011  manual    190    NaN     125000  gasoline   \n",
       "2         suv              2004    auto    163  grand     125000  gasoline   \n",
       "3       small              2001  manual     75   golf     150000    petrol   \n",
       "4       small              2008  manual     69  fabia      90000  gasoline   \n",
       "\n",
       "        Brand NotRepaired  \n",
       "0  volkswagen         NaN  \n",
       "1        audi         yes  \n",
       "2        jeep         NaN  \n",
       "3  volkswagen          no  \n",
       "4       skoda          no  "
      ]
     },
     "execution_count": 15,
     "metadata": {},
     "output_type": "execute_result"
    }
   ],
   "source": [
    "# просмотр первых пяти наблюдений матрицы признаков\n",
    "features.head()"
   ]
  },
  {
   "cell_type": "code",
   "execution_count": 16,
   "metadata": {},
   "outputs": [],
   "source": [
    "# создадим словарь переменных, которые имеют числовые значения\n",
    "num_features_dict = {'RegistrationYear':'год_регистрации','Power':'мощность_л_с','Kilometer':'пробег_км'}\n",
    "# создадим словарь переменных, которые имеют категориальные значения\n",
    "cat_features_dict = {'VehicleType':'тип_кузова','Gearbox':'тип_коробки_передач',\n",
    "                     'Model':'модель_авто','FuelType':'тип_топлива',\n",
    "                     'NotRepaired':'наличие_ремонта','Brand':'марка_авто'}"
   ]
  },
  {
   "cell_type": "markdown",
   "metadata": {},
   "source": [
    "#### Приступим к преобразованию переменных с числовыми значениями."
   ]
  },
  {
   "cell_type": "code",
   "execution_count": 17,
   "metadata": {},
   "outputs": [
    {
     "name": "stdout",
     "output_type": "stream",
     "text": [
      "Максимальное значение:\n",
      "-----дата_создания_анкеты-----\n",
      "2016-04-07 00:00:00\n",
      "\n",
      "----дата_скачивания_анкеты----\n",
      "2016-04-07 14:36:58\n",
      "\n",
      "--дата_последней_активности---\n",
      "2016-04-07 14:58:51\n",
      "\n"
     ]
    }
   ],
   "source": [
    "# определим последнюю дату (1) создания анкеты, (2) скачивания анкеты, \n",
    "# (3) последней активности владельца автомобиля.\n",
    "# Это поможет скорректировать год регистрации автомобиля.\n",
    "print('Максимальное значение:')\n",
    "for key, value in {'DateCreated':'дата_создания_анкеты',\n",
    "                   'DateCrawled':'дата_скачивания_анкеты',\n",
    "                   'LastSeen':'дата_последней_активности'}.items():\n",
    "    print('{:-^30}'.format(value))\n",
    "    print(autos[key].max())\n",
    "    print()"
   ]
  },
  {
   "cell_type": "markdown",
   "metadata": {},
   "source": [
    "- 2016 год является последним годом в выборочной совокупности."
   ]
  },
  {
   "cell_type": "code",
   "execution_count": 18,
   "metadata": {},
   "outputs": [],
   "source": [
    "# Определим функцию, которая отображает (1) гистограмму плотностей, (2) ящик с усами для заданной переменной\n",
    "def dens_hist_and_box(data, feature):\n",
    "    '''\n",
    "    data: массив данных\n",
    "    feature: переменная по которой строятся диаграммы\n",
    "    '''\n",
    "    # определим два подграфика\n",
    "    fig, axes = plt.subplots(nrows=1, ncols=2, figsize=(10,5))\n",
    "    # на первом подграфике отображена гистограмма плотностей распределения\n",
    "    data[feature].plot(ax=axes[0], kind='hist', density=True)\n",
    "    # на втором - ящик с усами\n",
    "    data[feature].plot(ax=axes[1], kind='box')\n",
    "    plt.tight_layout()"
   ]
  },
  {
   "cell_type": "code",
   "execution_count": 19,
   "metadata": {},
   "outputs": [
    {
     "data": {
      "image/png": "[encoded data removed]",
      "text/plain": [
       "<Figure size 720x360 with 2 Axes>"
      ]
     },
     "metadata": {
      "needs_background": "light"
     },
     "output_type": "display_data"
    },
    {
     "name": "stdout",
     "output_type": "stream",
     "text": [
      "---год_регистрации----\n",
      "count    354365.000000\n",
      "mean       2004.234481\n",
      "std          90.228466\n",
      "min        1000.000000\n",
      "25%        1999.000000\n",
      "50%        2003.000000\n",
      "75%        2008.000000\n",
      "max        9999.000000\n",
      "Name: RegistrationYear, dtype: float64\n",
      "\n"
     ]
    },
    {
     "data": {
      "image/png": "[encoded data removed]",
      "text/plain": [
       "<Figure size 720x360 with 2 Axes>"
      ]
     },
     "metadata": {
      "needs_background": "light"
     },
     "output_type": "display_data"
    },
    {
     "name": "stdout",
     "output_type": "stream",
     "text": [
      "-----мощность_л_с-----\n",
      "count    354365.000000\n",
      "mean        110.093816\n",
      "std         189.851330\n",
      "min           0.000000\n",
      "25%          69.000000\n",
      "50%         105.000000\n",
      "75%         143.000000\n",
      "max       20000.000000\n",
      "Name: Power, dtype: float64\n",
      "\n"
     ]
    },
    {
     "data": {
      "image/png": "[encoded data removed]",
      "text/plain": [
       "<Figure size 720x360 with 2 Axes>"
      ]
     },
     "metadata": {
      "needs_background": "light"
     },
     "output_type": "display_data"
    },
    {
     "name": "stdout",
     "output_type": "stream",
     "text": [
      "------пробег_км-------\n",
      "count    354365.000000\n",
      "mean     128211.363989\n",
      "std       37905.083858\n",
      "min        5000.000000\n",
      "25%      125000.000000\n",
      "50%      150000.000000\n",
      "75%      150000.000000\n",
      "max      150000.000000\n",
      "Name: Kilometer, dtype: float64\n",
      "\n"
     ]
    }
   ],
   "source": [
    "# Для переменных, имеющие количественные значения построим гистограмму плотностей и ящик с усами\n",
    "for key, value in num_features_dict.items():\n",
    "    dens_hist_and_box(features, key)\n",
    "    # отображение заголовка диаграммы\n",
    "    plt.title(value)\n",
    "    # отображение диаграмм\n",
    "    plt.show()\n",
    "    # Определим числовые характеристики переменных\n",
    "    print('{:-^22}'.format(value))\n",
    "    print(features[key].describe())\n",
    "    print()"
   ]
  },
  {
   "cell_type": "markdown",
   "metadata": {},
   "source": [
    "- **год регистрации**: \n",
    "- минимальное и максимальное значение не может принимать 1000 и 9999, соответственно.\n",
    "- если приравнаяем все что больше 2016 к 2016-ти, то можем неправильно увеличить значимость 2016 года (год последней регистрации и активности владельцев автомобилей из выборки).\n",
    "- правдоподобным является 25-й процентиль года регистрации. Он датируется 1999 годом.\n",
    "- правдоподобным является 75-й процентиль года регистрации. Он датируется 2008 годом.\n",
    "- **мощность (лошадиные силы)**:\n",
    "- минимальное и максимальное значение не может принимать 0 и 20 000, соответственно.\n",
    "- весьма правдоподобным является 75-й процентиль равный 143 л.с. Приравняем мощность, которая превышает 143 л.с. на величину 75-го процентиля.\n",
    "- **пробег (км)**:\n",
    "- минимальное и максимальное значения принимают правдоподобные величины: 5000 и 150 000 км. Однако, 50-й, 75-й процентиль равен максмальной величине. Возможно возникли ошибки при заполнении значений. Может быть случайно добавлен ноль в переменной \"пробег\". Например, вместо фактических 12 500 км указано 125 000 км. А это повышает количество машин с большим пробегом."
   ]
  },
  {
   "cell_type": "code",
   "execution_count": 20,
   "metadata": {},
   "outputs": [
    {
     "name": "stdout",
     "output_type": "stream",
     "text": [
      "87500.0\n"
     ]
    }
   ],
   "source": [
    "# Определим нижний предел межквартильного размаха пробега автомобилей по формуле \"Q1 - 1.5 (Q3 - Q1)\"\n",
    "print(\n",
    "    features['Kilometer']\\\n",
    "    .describe()['25%'] - \n",
    "    1.5*(features['Kilometer'].describe()['75%'] -\n",
    "         features['Kilometer'].describe()['25%'])\n",
    ")"
   ]
  },
  {
   "cell_type": "code",
   "execution_count": 21,
   "metadata": {},
   "outputs": [],
   "source": [
    "# Определим функцию, которая удаляет записи с некорректными значениями для трех переменных:\n",
    "# (1) год регистрации RegistrationYear, (2) пробег Kilometer, (3) мощность двигателя Power.\n",
    "# Пропущенные наблюдения заполняются меткой \"unknown\". \n",
    "# Заполнение пропусков модой может привести к смещению результатов на последующих этапах исследования.\n",
    "def clean_outliers(data):\n",
    "    '''\n",
    "    data: массив данных, где необходимо удалить выбивающиеся наблюдения.\n",
    "    Пропущенные наблюдения заполняются меткой \"unknown\".\n",
    "    output: удаление записей в некорректными значениями\n",
    "    '''\n",
    "    # удаление выбивающихся наблюдений\n",
    "    data = data.query('1999 <= RegistrationYear <= 2016')\n",
    "    data = data.query('Kilometer >= 87500')\n",
    "    data = data.query('Power <= 143')\n",
    "    # удаление пропущенных наблюдений\n",
    "    data = data.fillna(value='unknown')\n",
    "    # возвращаем массив, где удалили выбивающиеся наблюдения\n",
    "    return data"
   ]
  },
  {
   "cell_type": "code",
   "execution_count": 22,
   "metadata": {},
   "outputs": [],
   "source": [
    "# Апробация функции clean_outliers на матрице признаков\n",
    "features = clean_outliers(features)"
   ]
  },
  {
   "cell_type": "markdown",
   "metadata": {},
   "source": [
    "### Промежуточные выводы\n",
    "- имеем 354 369 наблюдений. Каждый автомобиль имеем 16 характеристик.\n",
    "- есть пропущенные наблюдений. Большинство, скорее, обусловлено техническими ошибками при заполнении, так как по базовым характеристикам автомобиля владельцы, вероятнее всего, осведомлены. \n",
    "- пропущенные наблюдения заполняются меткой `unknown`.\n",
    "- в матрицу признаков не включены следующие переменные: почтовый индекс владельца `PostalCode`, дата скачивания анкеты `DateCrawled`, месяца регистрации автомобиля `RegistrationMonth`, создания анкеты `DateCreated`, последней активности пользователя `LastSeen`.\n",
    "- удалены 4 дублированных наблюдения.\n",
    "- удалены выбивающиеся значения в трех переменных: год регистрации `RegistrationYear`, мощность `Power`, пробег автомобиля `Kilometer`."
   ]
  },
  {
   "cell_type": "code",
   "execution_count": 23,
   "metadata": {},
   "outputs": [],
   "source": [
    "# инициализация кодирования\n",
    "oe = OrdinalEncoder()"
   ]
  },
  {
   "cell_type": "code",
   "execution_count": 24,
   "metadata": {},
   "outputs": [
    {
     "name": "stdout",
     "output_type": "stream",
     "text": [
      "['VehicleType', 'Gearbox', 'Model', 'FuelType', 'NotRepaired', 'Brand']\n"
     ]
    },
    {
     "data": {
      "text/html": [
       "<div>\n",
       "<style scoped>\n",
       "    .dataframe tbody tr th:only-of-type {\n",
       "        vertical-align: middle;\n",
       "    }\n",
       "\n",
       "    .dataframe tbody tr th {\n",
       "        vertical-align: top;\n",
       "    }\n",
       "\n",
       "    .dataframe thead th {\n",
       "        text-align: right;\n",
       "    }\n",
       "</style>\n",
       "<table border=\"1\" class=\"dataframe\">\n",
       "  <thead>\n",
       "    <tr style=\"text-align: right;\">\n",
       "      <th></th>\n",
       "      <th>VehicleType</th>\n",
       "      <th>RegistrationYear</th>\n",
       "      <th>Gearbox</th>\n",
       "      <th>Power</th>\n",
       "      <th>Model</th>\n",
       "      <th>Kilometer</th>\n",
       "      <th>FuelType</th>\n",
       "      <th>Brand</th>\n",
       "      <th>NotRepaired</th>\n",
       "    </tr>\n",
       "  </thead>\n",
       "  <tbody>\n",
       "    <tr>\n",
       "      <th>3</th>\n",
       "      <td>5.0</td>\n",
       "      <td>2001</td>\n",
       "      <td>1.0</td>\n",
       "      <td>75</td>\n",
       "      <td>112.0</td>\n",
       "      <td>150000</td>\n",
       "      <td>6.0</td>\n",
       "      <td>38.0</td>\n",
       "      <td>0.0</td>\n",
       "    </tr>\n",
       "    <tr>\n",
       "      <th>4</th>\n",
       "      <td>5.0</td>\n",
       "      <td>2008</td>\n",
       "      <td>1.0</td>\n",
       "      <td>69</td>\n",
       "      <td>98.0</td>\n",
       "      <td>90000</td>\n",
       "      <td>2.0</td>\n",
       "      <td>31.0</td>\n",
       "      <td>0.0</td>\n",
       "    </tr>\n",
       "    <tr>\n",
       "      <th>6</th>\n",
       "      <td>1.0</td>\n",
       "      <td>2004</td>\n",
       "      <td>1.0</td>\n",
       "      <td>109</td>\n",
       "      <td>7.0</td>\n",
       "      <td>150000</td>\n",
       "      <td>6.0</td>\n",
       "      <td>25.0</td>\n",
       "      <td>0.0</td>\n",
       "    </tr>\n",
       "    <tr>\n",
       "      <th>10</th>\n",
       "      <td>4.0</td>\n",
       "      <td>2004</td>\n",
       "      <td>1.0</td>\n",
       "      <td>105</td>\n",
       "      <td>9.0</td>\n",
       "      <td>150000</td>\n",
       "      <td>6.0</td>\n",
       "      <td>19.0</td>\n",
       "      <td>0.0</td>\n",
       "    </tr>\n",
       "    <tr>\n",
       "      <th>11</th>\n",
       "      <td>8.0</td>\n",
       "      <td>2005</td>\n",
       "      <td>1.0</td>\n",
       "      <td>140</td>\n",
       "      <td>166.0</td>\n",
       "      <td>150000</td>\n",
       "      <td>2.0</td>\n",
       "      <td>38.0</td>\n",
       "      <td>2.0</td>\n",
       "    </tr>\n",
       "    <tr>\n",
       "      <th>...</th>\n",
       "      <td>...</td>\n",
       "      <td>...</td>\n",
       "      <td>...</td>\n",
       "      <td>...</td>\n",
       "      <td>...</td>\n",
       "      <td>...</td>\n",
       "      <td>...</td>\n",
       "      <td>...</td>\n",
       "      <td>...</td>\n",
       "    </tr>\n",
       "    <tr>\n",
       "      <th>354360</th>\n",
       "      <td>8.0</td>\n",
       "      <td>2005</td>\n",
       "      <td>1.0</td>\n",
       "      <td>3</td>\n",
       "      <td>10.0</td>\n",
       "      <td>150000</td>\n",
       "      <td>2.0</td>\n",
       "      <td>2.0</td>\n",
       "      <td>0.0</td>\n",
       "    </tr>\n",
       "    <tr>\n",
       "      <th>354363</th>\n",
       "      <td>0.0</td>\n",
       "      <td>2000</td>\n",
       "      <td>1.0</td>\n",
       "      <td>0</td>\n",
       "      <td>241.0</td>\n",
       "      <td>150000</td>\n",
       "      <td>6.0</td>\n",
       "      <td>24.0</td>\n",
       "      <td>0.0</td>\n",
       "    </tr>\n",
       "    <tr>\n",
       "      <th>354364</th>\n",
       "      <td>7.0</td>\n",
       "      <td>2005</td>\n",
       "      <td>1.0</td>\n",
       "      <td>0</td>\n",
       "      <td>75.0</td>\n",
       "      <td>150000</td>\n",
       "      <td>6.0</td>\n",
       "      <td>22.0</td>\n",
       "      <td>2.0</td>\n",
       "    </tr>\n",
       "    <tr>\n",
       "      <th>354366</th>\n",
       "      <td>1.0</td>\n",
       "      <td>2000</td>\n",
       "      <td>0.0</td>\n",
       "      <td>101</td>\n",
       "      <td>103.0</td>\n",
       "      <td>125000</td>\n",
       "      <td>6.0</td>\n",
       "      <td>32.0</td>\n",
       "      <td>0.0</td>\n",
       "    </tr>\n",
       "    <tr>\n",
       "      <th>354368</th>\n",
       "      <td>8.0</td>\n",
       "      <td>2002</td>\n",
       "      <td>1.0</td>\n",
       "      <td>100</td>\n",
       "      <td>112.0</td>\n",
       "      <td>150000</td>\n",
       "      <td>2.0</td>\n",
       "      <td>38.0</td>\n",
       "      <td>1.0</td>\n",
       "    </tr>\n",
       "  </tbody>\n",
       "</table>\n",
       "<p>156219 rows × 9 columns</p>\n",
       "</div>"
      ],
      "text/plain": [
       "        VehicleType  RegistrationYear  Gearbox  Power  Model  Kilometer  \\\n",
       "3               5.0              2001      1.0     75  112.0     150000   \n",
       "4               5.0              2008      1.0     69   98.0      90000   \n",
       "6               1.0              2004      1.0    109    7.0     150000   \n",
       "10              4.0              2004      1.0    105    9.0     150000   \n",
       "11              8.0              2005      1.0    140  166.0     150000   \n",
       "...             ...               ...      ...    ...    ...        ...   \n",
       "354360          8.0              2005      1.0      3   10.0     150000   \n",
       "354363          0.0              2000      1.0      0  241.0     150000   \n",
       "354364          7.0              2005      1.0      0   75.0     150000   \n",
       "354366          1.0              2000      0.0    101  103.0     125000   \n",
       "354368          8.0              2002      1.0    100  112.0     150000   \n",
       "\n",
       "        FuelType  Brand  NotRepaired  \n",
       "3            6.0   38.0          0.0  \n",
       "4            2.0   31.0          0.0  \n",
       "6            6.0   25.0          0.0  \n",
       "10           6.0   19.0          0.0  \n",
       "11           2.0   38.0          2.0  \n",
       "...          ...    ...          ...  \n",
       "354360       2.0    2.0          0.0  \n",
       "354363       6.0   24.0          0.0  \n",
       "354364       6.0   22.0          2.0  \n",
       "354366       6.0   32.0          0.0  \n",
       "354368       2.0   38.0          1.0  \n",
       "\n",
       "[156219 rows x 9 columns]"
      ]
     },
     "execution_count": 24,
     "metadata": {},
     "output_type": "execute_result"
    }
   ],
   "source": [
    "cat_list = list(cat_features_dict.keys())\n",
    "print(cat_list)\n",
    "features[cat_list] = oe.fit_transform(features[cat_list])\n",
    "features"
   ]
  },
  {
   "cell_type": "code",
   "execution_count": 25,
   "metadata": {},
   "outputs": [],
   "source": [
    "# Создадим новый массив данных. Значения в новом массиве - закодированные значения категориальные признаков.\n",
    "# Перенесем столбцы и индексы матрицы признаков features на новый массив oe_values.\n",
    "oe_values = pd.DataFrame(data=oe.fit_transform(features[cat_features_dict.keys()]),\n",
    "                         columns=list(cat_features_dict.keys()),\n",
    "                         index=features.index)"
   ]
  },
  {
   "cell_type": "code",
   "execution_count": 26,
   "metadata": {},
   "outputs": [
    {
     "data": {
      "text/html": [
       "<div>\n",
       "<style scoped>\n",
       "    .dataframe tbody tr th:only-of-type {\n",
       "        vertical-align: middle;\n",
       "    }\n",
       "\n",
       "    .dataframe tbody tr th {\n",
       "        vertical-align: top;\n",
       "    }\n",
       "\n",
       "    .dataframe thead th {\n",
       "        text-align: right;\n",
       "    }\n",
       "</style>\n",
       "<table border=\"1\" class=\"dataframe\">\n",
       "  <thead>\n",
       "    <tr style=\"text-align: right;\">\n",
       "      <th></th>\n",
       "      <th>VehicleType</th>\n",
       "      <th>Gearbox</th>\n",
       "      <th>Model</th>\n",
       "      <th>FuelType</th>\n",
       "      <th>NotRepaired</th>\n",
       "      <th>Brand</th>\n",
       "    </tr>\n",
       "  </thead>\n",
       "  <tbody>\n",
       "    <tr>\n",
       "      <th>3</th>\n",
       "      <td>5.0</td>\n",
       "      <td>1.0</td>\n",
       "      <td>112.0</td>\n",
       "      <td>6.0</td>\n",
       "      <td>0.0</td>\n",
       "      <td>38.0</td>\n",
       "    </tr>\n",
       "    <tr>\n",
       "      <th>4</th>\n",
       "      <td>5.0</td>\n",
       "      <td>1.0</td>\n",
       "      <td>98.0</td>\n",
       "      <td>2.0</td>\n",
       "      <td>0.0</td>\n",
       "      <td>31.0</td>\n",
       "    </tr>\n",
       "    <tr>\n",
       "      <th>6</th>\n",
       "      <td>1.0</td>\n",
       "      <td>1.0</td>\n",
       "      <td>7.0</td>\n",
       "      <td>6.0</td>\n",
       "      <td>0.0</td>\n",
       "      <td>25.0</td>\n",
       "    </tr>\n",
       "    <tr>\n",
       "      <th>10</th>\n",
       "      <td>4.0</td>\n",
       "      <td>1.0</td>\n",
       "      <td>9.0</td>\n",
       "      <td>6.0</td>\n",
       "      <td>0.0</td>\n",
       "      <td>19.0</td>\n",
       "    </tr>\n",
       "    <tr>\n",
       "      <th>11</th>\n",
       "      <td>8.0</td>\n",
       "      <td>1.0</td>\n",
       "      <td>166.0</td>\n",
       "      <td>2.0</td>\n",
       "      <td>2.0</td>\n",
       "      <td>38.0</td>\n",
       "    </tr>\n",
       "  </tbody>\n",
       "</table>\n",
       "</div>"
      ],
      "text/plain": [
       "    VehicleType  Gearbox  Model  FuelType  NotRepaired  Brand\n",
       "3           5.0      1.0  112.0       6.0          0.0   38.0\n",
       "4           5.0      1.0   98.0       2.0          0.0   31.0\n",
       "6           1.0      1.0    7.0       6.0          0.0   25.0\n",
       "10          4.0      1.0    9.0       6.0          0.0   19.0\n",
       "11          8.0      1.0  166.0       2.0          2.0   38.0"
      ]
     },
     "execution_count": 26,
     "metadata": {},
     "output_type": "execute_result"
    }
   ],
   "source": [
    "# вывод первых пяти наблюдений массива закодированных значений категориальных признаков\n",
    "oe_values.head()"
   ]
  },
  {
   "cell_type": "code",
   "execution_count": 27,
   "metadata": {},
   "outputs": [],
   "source": [
    "# Объединим новый массив категориальных признаков oe_values с переменными, значения которых имеют числовой формат.\n",
    "features = features[num_features_dict.keys()].join(oe_values)"
   ]
  },
  {
   "cell_type": "code",
   "execution_count": 28,
   "metadata": {},
   "outputs": [
    {
     "data": {
      "text/html": [
       "<div>\n",
       "<style scoped>\n",
       "    .dataframe tbody tr th:only-of-type {\n",
       "        vertical-align: middle;\n",
       "    }\n",
       "\n",
       "    .dataframe tbody tr th {\n",
       "        vertical-align: top;\n",
       "    }\n",
       "\n",
       "    .dataframe thead th {\n",
       "        text-align: right;\n",
       "    }\n",
       "</style>\n",
       "<table border=\"1\" class=\"dataframe\">\n",
       "  <thead>\n",
       "    <tr style=\"text-align: right;\">\n",
       "      <th></th>\n",
       "      <th>RegistrationYear</th>\n",
       "      <th>Power</th>\n",
       "      <th>Kilometer</th>\n",
       "      <th>VehicleType</th>\n",
       "      <th>Gearbox</th>\n",
       "      <th>Model</th>\n",
       "      <th>FuelType</th>\n",
       "      <th>NotRepaired</th>\n",
       "      <th>Brand</th>\n",
       "    </tr>\n",
       "  </thead>\n",
       "  <tbody>\n",
       "    <tr>\n",
       "      <th>3</th>\n",
       "      <td>2001</td>\n",
       "      <td>75</td>\n",
       "      <td>150000</td>\n",
       "      <td>5.0</td>\n",
       "      <td>1.0</td>\n",
       "      <td>112.0</td>\n",
       "      <td>6.0</td>\n",
       "      <td>0.0</td>\n",
       "      <td>38.0</td>\n",
       "    </tr>\n",
       "    <tr>\n",
       "      <th>4</th>\n",
       "      <td>2008</td>\n",
       "      <td>69</td>\n",
       "      <td>90000</td>\n",
       "      <td>5.0</td>\n",
       "      <td>1.0</td>\n",
       "      <td>98.0</td>\n",
       "      <td>2.0</td>\n",
       "      <td>0.0</td>\n",
       "      <td>31.0</td>\n",
       "    </tr>\n",
       "    <tr>\n",
       "      <th>6</th>\n",
       "      <td>2004</td>\n",
       "      <td>109</td>\n",
       "      <td>150000</td>\n",
       "      <td>1.0</td>\n",
       "      <td>1.0</td>\n",
       "      <td>7.0</td>\n",
       "      <td>6.0</td>\n",
       "      <td>0.0</td>\n",
       "      <td>25.0</td>\n",
       "    </tr>\n",
       "    <tr>\n",
       "      <th>10</th>\n",
       "      <td>2004</td>\n",
       "      <td>105</td>\n",
       "      <td>150000</td>\n",
       "      <td>4.0</td>\n",
       "      <td>1.0</td>\n",
       "      <td>9.0</td>\n",
       "      <td>6.0</td>\n",
       "      <td>0.0</td>\n",
       "      <td>19.0</td>\n",
       "    </tr>\n",
       "    <tr>\n",
       "      <th>11</th>\n",
       "      <td>2005</td>\n",
       "      <td>140</td>\n",
       "      <td>150000</td>\n",
       "      <td>8.0</td>\n",
       "      <td>1.0</td>\n",
       "      <td>166.0</td>\n",
       "      <td>2.0</td>\n",
       "      <td>2.0</td>\n",
       "      <td>38.0</td>\n",
       "    </tr>\n",
       "  </tbody>\n",
       "</table>\n",
       "</div>"
      ],
      "text/plain": [
       "    RegistrationYear  Power  Kilometer  VehicleType  Gearbox  Model  FuelType  \\\n",
       "3               2001     75     150000          5.0      1.0  112.0       6.0   \n",
       "4               2008     69      90000          5.0      1.0   98.0       2.0   \n",
       "6               2004    109     150000          1.0      1.0    7.0       6.0   \n",
       "10              2004    105     150000          4.0      1.0    9.0       6.0   \n",
       "11              2005    140     150000          8.0      1.0  166.0       2.0   \n",
       "\n",
       "    NotRepaired  Brand  \n",
       "3           0.0   38.0  \n",
       "4           0.0   31.0  \n",
       "6           0.0   25.0  \n",
       "10          0.0   19.0  \n",
       "11          2.0   38.0  "
      ]
     },
     "execution_count": 28,
     "metadata": {},
     "output_type": "execute_result"
    }
   ],
   "source": [
    "# вывод первых пяти наблюдений матрицы признаков с учетом кодирования категориальных признаков\n",
    "features.head()"
   ]
  },
  {
   "cell_type": "code",
   "execution_count": 29,
   "metadata": {},
   "outputs": [
    {
     "name": "stdout",
     "output_type": "stream",
     "text": [
      "Массив категориальных данных oe_values удален\n"
     ]
    }
   ],
   "source": [
    "# Воспользуемся исключениями при удалении лишнего массива закодированных категориальных данных oe_values\n",
    "try:\n",
    "    del oe_values\n",
    "except:\n",
    "    print('При удалении oe_values возникла ошибка')\n",
    "else:\n",
    "    print('Массив категориальных данных oe_values удален')"
   ]
  },
  {
   "cell_type": "markdown",
   "metadata": {},
   "source": [
    "# 2. Обучение моделей"
   ]
  },
  {
   "cell_type": "code",
   "execution_count": 30,
   "metadata": {},
   "outputs": [],
   "source": [
    "# 80% наблюдений исходной выборки отнесем к тренировочному множеству,\n",
    "# остальные 20% наблюдений приходятся на тестовое множество\n",
    "features_train, features_test, target_train, target_test = train_test_split(features, \n",
    "                                                                            features.join(target)['Price'],\n",
    "                                                                           test_size=0.20, random_state=42)"
   ]
  },
  {
   "cell_type": "code",
   "execution_count": 31,
   "metadata": {},
   "outputs": [],
   "source": [
    "# Функция gbm_train формирует модель на основе LightGBM. \n",
    "# Далее, подбирает гиперпараметры через GridSearchCV.\n",
    "# Квадрат среднеквадратической ошибки вычисляется на основе фактической стоимости автомобиля тестового множества\n",
    "# и предсказаний оптимальной модели LightGBM.\n",
    "def gbm_train(features_train, target_train, features_test, target_test,\n",
    "             min_n_estimators=100, max_n_estimators=121, n_estimators_step=10, \n",
    "             min_num_leaves=30, max_num_leaves=33, num_leaves_step=2, cv=5):\n",
    "    '''\n",
    "    Функция возращает квадрат среднеквадратической ошибки по оптимальной модели LightGBM.\n",
    "    feature_train, target_train: матрица признаков, вектор целевых значений обучающего множества\n",
    "    features_test, target_test: матрица признаков, вектор целевых значений тестового множества\n",
    "    min_n_estimators, max_n_estimators: минимальное, максимальное количество деревьев\n",
    "    n_estimators_step: шаг количества деревьев\n",
    "    min_num_leaves, max_num_leaves: минимальное, максимальное количество листьев деревьев\n",
    "    num_leaves_step: шаг количества листьев деревьев\n",
    "    cv: количество блоков кросс-валидации\n",
    "    '''\n",
    "    # Инициализация модели\n",
    "    gbm = lgb.LGBMRegressor(boosting_type='gbdt',random_state=42, \n",
    "                        cat_features=list(features.select_dtypes('float64').columns))\n",
    "    # формирование сетки гиперпараметров\n",
    "    grid_gbm_params = {'learning_rate':np.arange(0.5,1,0.1),\n",
    "                   'n_estimators':np.arange(100,121,10),\n",
    "                   'num_leaves':np.arange(30,33,2)}\n",
    "    # формирование множества моделей\n",
    "    grid_gbm =  GridSearchCV(estimator=gbm, param_grid=grid_gbm_params,\n",
    "                         scoring='neg_mean_squared_error',cv=cv, n_jobs=-1)\n",
    "    # обучение моделей\n",
    "    grid_gbm.fit(features_train, target_train)\n",
    "    # на основе оптимальной модели вычисляем прогнозные значения стоимости автомобилей\n",
    "    gbm_pred = grid_gbm.best_estimator_.predict(features_test)\n",
    "    # возвращаем квадрат среднеквадратической ошибки в контексте тестового множества\n",
    "    return mean_squared_error(target_test, gbm_pred) ** 0.5"
   ]
  },
  {
   "cell_type": "code",
   "execution_count": 32,
   "metadata": {},
   "outputs": [
    {
     "data": {
      "text/plain": [
       "['VehicleType', 'Gearbox', 'Model', 'FuelType', 'NotRepaired', 'Brand']"
      ]
     },
     "execution_count": 32,
     "metadata": {},
     "output_type": "execute_result"
    }
   ],
   "source": [
    "list(features.select_dtypes('float64').columns)"
   ]
  },
  {
   "cell_type": "markdown",
   "metadata": {},
   "source": [
    "## Промежуточные выводы\n",
    "- из выборочной совокупности выделены тренировочное и тестовое множества.\n",
    "- функция `gbm_train` обучает модели на основе `LightGBMRegressor`. "
   ]
  },
  {
   "cell_type": "markdown",
   "metadata": {},
   "source": [
    "# 3. Анализ моделей"
   ]
  },
  {
   "cell_type": "code",
   "execution_count": 34,
   "metadata": {},
   "outputs": [
    {
     "name": "stdout",
     "output_type": "stream",
     "text": [
      "CPU times: user 6.62 s, sys: 524 ms, total: 7.15 s\n",
      "Wall time: 37.1 s\n"
     ]
    }
   ],
   "source": [
    "%time gbm_rmse = gbm_train(features_train, target_train, features_test, target_test)"
   ]
  },
  {
   "cell_type": "code",
   "execution_count": 39,
   "metadata": {},
   "outputs": [
    {
     "data": {
      "text/plain": [
       "<function __main__.gbm_train(features_train, target_train, features_test, target_test, min_n_estimators=100, max_n_estimators=121, n_estimators_step=10, min_num_leaves=30, max_num_leaves=33, num_leaves_step=2, cv=5)>"
      ]
     },
     "execution_count": 39,
     "metadata": {},
     "output_type": "execute_result"
    }
   ],
   "source": [
    "# Вывод информации по оптимальной модели\n",
    "gbm_train"
   ]
  },
  {
   "cell_type": "code",
   "execution_count": 37,
   "metadata": {},
   "outputs": [
    {
     "data": {
      "text/plain": [
       "1271.0466145836485"
      ]
     },
     "execution_count": 37,
     "metadata": {},
     "output_type": "execute_result"
    }
   ],
   "source": [
    "# Вывод квадрата среднеквадратического отклонения по оптимальной модели\n",
    "gbm_rmse"
   ]
  }
 ],
 "metadata": {
  "kernelspec": {
   "display_name": "Python 3",
   "language": "python",
   "name": "python3"
  },
  "language_info": {
   "codemirror_mode": {
    "name": "ipython",
    "version": 3
   },
   "file_extension": ".py",
   "mimetype": "text/x-python",
   "name": "python",
   "nbconvert_exporter": "python",
   "pygments_lexer": "ipython3",
   "version": "3.7.6"
  }
 },
 "nbformat": 4,
 "nbformat_minor": 2
}
