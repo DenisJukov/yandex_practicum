{
 "cells": [
  {
   "cell_type": "markdown",
   "metadata": {},
   "source": [
    "# Описание проекта\n",
    "\n",
    "Подготовьте прототип модели машинного обучения для «Цифры». Компания разрабатывает решения для эффективной работы промышленных предприятий.\n",
    "\n",
    "Модель должна предсказать коэффициент восстановления золота из золотосодержащей руды. В вашем распоряжении данные с параметрами добычи и очистки. \n",
    "\n",
    "Модель поможет оптимизировать производство, чтобы не запускать предприятие с убыточными характеристиками.\n",
    "\n",
    "Вам нужно:\n",
    "\n",
    "1. Подготовить данные;\n",
    "2. Провести исследовательский анализ данных;\n",
    "3. Построить и обучить модель.\n",
    "\n",
    "Чтобы выполнить проект, обращайтесь к библиотекам *pandas*, *matplotlib* и *sklearn.* Вам поможет их документация."
   ]
  },
  {
   "cell_type": "markdown",
   "metadata": {},
   "source": [
    "# 1. Подготовка данных"
   ]
  },
  {
   "cell_type": "markdown",
   "metadata": {},
   "source": [
    "#### Постановка задачи\n",
    "1.1. Откройте файлы и изучите их.\\\n",
    "1.2. Проверьте, что эффективность обогащения рассчитана правильно. Вычислите её на обучающей выборке для признака `rougher.output.recovery`. Найдите `MAE` между вашими расчётами и значением признака. Опишите выводы.\\\n",
    "1.3. Проанализируйте признаки, недоступные в тестовой выборке. Что это за параметры? К какому типу относятся?\\\n",
    "1.4. Проведите предобработку данных."
   ]
  },
  {
   "cell_type": "code",
   "execution_count": 1,
   "metadata": {},
   "outputs": [],
   "source": [
    "# загрузка библиотек\n",
    "# для осуществления операций с массивами данных\n",
    "import pandas as pd\n",
    "# для графического представления данных\n",
    "import matplotlib.pyplot as plt\n",
    "# загрузка метрики \"среднее абсолютное отклонение\", \"среднеквадратическая ошибка\"\n",
    "from sklearn.metrics import mean_absolute_error, mean_squared_error\n",
    "# загрузка модели линейной регрессии\n",
    "from sklearn.linear_model import LinearRegression\n",
    "# загрузка модели случайного леса\n",
    "from sklearn.ensemble import RandomForestRegressor\n",
    "from sklearn.model_selection import train_test_split, GridSearchCV, cross_val_score\n",
    "# установим максимальное количество столбцов при выводе массивов данных\n",
    "pd.set_option('display.max_columns', 5)\n",
    "# установим тему графической иллюстрации\n",
    "plt.style.use('ggplot')\n",
    "import warnings\n",
    "warnings.simplefilter(action='ignore', category=FutureWarning)\n",
    "%matplotlib inline"
   ]
  },
  {
   "cell_type": "markdown",
   "metadata": {},
   "source": [
    "#### 1.1. Откройте файлы и изучите их."
   ]
  },
  {
   "cell_type": "code",
   "execution_count": 2,
   "metadata": {},
   "outputs": [],
   "source": [
    "# загрузка исходной выборочной совокупности\n",
    "gold_full = pd.read_csv('gold_recovery_full.csv')\n",
    "# загрузка обучающего множества\n",
    "gold_train = pd.read_csv('gold_recovery_train.csv')\n",
    "# загрузка тестового множества\n",
    "gold_test = pd.read_csv('gold_recovery_test.csv')"
   ]
  },
  {
   "cell_type": "code",
   "execution_count": 3,
   "metadata": {},
   "outputs": [],
   "source": [
    "# сформируем словарь, ключами которого являются наименования, значения - статистические данные\n",
    "dataframe_dict = {'исходное_мн_во':gold_full,'обучающее_мн_во':gold_train,'тестовое_мн_во':gold_test}"
   ]
  },
  {
   "cell_type": "code",
   "execution_count": 4,
   "metadata": {},
   "outputs": [
    {
     "name": "stdout",
     "output_type": "stream",
     "text": [
      "----------------\n",
      "* исходное_мн_во\n",
      "                  date  final.output.concentrate_ag  ...  \\\n",
      "0  2016-01-15 00:00:00                     6.055403  ...   \n",
      "1  2016-01-15 01:00:00                     6.029369  ...   \n",
      "2  2016-01-15 02:00:00                     6.055926  ...   \n",
      "3  2016-01-15 03:00:00                     6.047977  ...   \n",
      "4  2016-01-15 04:00:00                     6.148599  ...   \n",
      "\n",
      "   secondary_cleaner.state.floatbank6_a_air  \\\n",
      "0                                 14.151341   \n",
      "1                                 13.998353   \n",
      "2                                 14.028663   \n",
      "3                                 14.005551   \n",
      "4                                 13.996647   \n",
      "\n",
      "   secondary_cleaner.state.floatbank6_a_level  \n",
      "0                                 -605.841980  \n",
      "1                                 -599.787184  \n",
      "2                                 -601.427363  \n",
      "3                                 -599.996129  \n",
      "4                                 -601.496691  \n",
      "\n",
      "[5 rows x 87 columns]\n",
      "<class 'pandas.core.frame.DataFrame'>\n",
      "RangeIndex: 22716 entries, 0 to 22715\n",
      "Data columns (total 87 columns):\n",
      " #   Column                                              Non-Null Count  Dtype  \n",
      "---  ------                                              --------------  -----  \n",
      " 0   date                                                22716 non-null  object \n",
      " 1   final.output.concentrate_ag                         22627 non-null  float64\n",
      " 2   final.output.concentrate_pb                         22629 non-null  float64\n",
      " 3   final.output.concentrate_sol                        22331 non-null  float64\n",
      " 4   final.output.concentrate_au                         22630 non-null  float64\n",
      " 5   final.output.recovery                               20753 non-null  float64\n",
      " 6   final.output.tail_ag                                22633 non-null  float64\n",
      " 7   final.output.tail_pb                                22516 non-null  float64\n",
      " 8   final.output.tail_sol                               22445 non-null  float64\n",
      " 9   final.output.tail_au                                22635 non-null  float64\n",
      " 10  primary_cleaner.input.sulfate                       21107 non-null  float64\n",
      " 11  primary_cleaner.input.depressant                    21170 non-null  float64\n",
      " 12  primary_cleaner.input.feed_size                     22716 non-null  float64\n",
      " 13  primary_cleaner.input.xanthate                      21565 non-null  float64\n",
      " 14  primary_cleaner.output.concentrate_ag               22618 non-null  float64\n",
      " 15  primary_cleaner.output.concentrate_pb               22268 non-null  float64\n",
      " 16  primary_cleaner.output.concentrate_sol              21918 non-null  float64\n",
      " 17  primary_cleaner.output.concentrate_au               22618 non-null  float64\n",
      " 18  primary_cleaner.output.tail_ag                      22614 non-null  float64\n",
      " 19  primary_cleaner.output.tail_pb                      22594 non-null  float64\n",
      " 20  primary_cleaner.output.tail_sol                     22365 non-null  float64\n",
      " 21  primary_cleaner.output.tail_au                      22617 non-null  float64\n",
      " 22  primary_cleaner.state.floatbank8_a_air              22660 non-null  float64\n",
      " 23  primary_cleaner.state.floatbank8_a_level            22667 non-null  float64\n",
      " 24  primary_cleaner.state.floatbank8_b_air              22660 non-null  float64\n",
      " 25  primary_cleaner.state.floatbank8_b_level            22673 non-null  float64\n",
      " 26  primary_cleaner.state.floatbank8_c_air              22662 non-null  float64\n",
      " 27  primary_cleaner.state.floatbank8_c_level            22673 non-null  float64\n",
      " 28  primary_cleaner.state.floatbank8_d_air              22661 non-null  float64\n",
      " 29  primary_cleaner.state.floatbank8_d_level            22673 non-null  float64\n",
      " 30  rougher.calculation.sulfate_to_au_concentrate       22672 non-null  float64\n",
      " 31  rougher.calculation.floatbank10_sulfate_to_au_feed  22672 non-null  float64\n",
      " 32  rougher.calculation.floatbank11_sulfate_to_au_feed  22672 non-null  float64\n",
      " 33  rougher.calculation.au_pb_ratio                     21089 non-null  float64\n",
      " 34  rougher.input.feed_ag                               22618 non-null  float64\n",
      " 35  rougher.input.feed_pb                               22472 non-null  float64\n",
      " 36  rougher.input.feed_rate                             22163 non-null  float64\n",
      " 37  rougher.input.feed_size                             22277 non-null  float64\n",
      " 38  rougher.input.feed_sol                              22357 non-null  float64\n",
      " 39  rougher.input.feed_au                               22617 non-null  float64\n",
      " 40  rougher.input.floatbank10_sulfate                   21415 non-null  float64\n",
      " 41  rougher.input.floatbank10_xanthate                  22247 non-null  float64\n",
      " 42  rougher.input.floatbank11_sulfate                   22038 non-null  float64\n",
      " 43  rougher.input.floatbank11_xanthate                  20459 non-null  float64\n",
      " 44  rougher.output.concentrate_ag                       22618 non-null  float64\n",
      " 45  rougher.output.concentrate_pb                       22618 non-null  float64\n",
      " 46  rougher.output.concentrate_sol                      22526 non-null  float64\n",
      " 47  rougher.output.concentrate_au                       22618 non-null  float64\n",
      " 48  rougher.output.recovery                             19597 non-null  float64\n",
      " 49  rougher.output.tail_ag                              19979 non-null  float64\n",
      " 50  rougher.output.tail_pb                              22618 non-null  float64\n",
      " 51  rougher.output.tail_sol                             19980 non-null  float64\n",
      " 52  rougher.output.tail_au                              19980 non-null  float64\n",
      " 53  rougher.state.floatbank10_a_air                     22646 non-null  float64\n",
      " 54  rougher.state.floatbank10_a_level                   22647 non-null  float64\n",
      " 55  rougher.state.floatbank10_b_air                     22646 non-null  float64\n",
      " 56  rougher.state.floatbank10_b_level                   22647 non-null  float64\n",
      " 57  rougher.state.floatbank10_c_air                     22646 non-null  float64\n",
      " 58  rougher.state.floatbank10_c_level                   22654 non-null  float64\n",
      " 59  rougher.state.floatbank10_d_air                     22641 non-null  float64\n",
      " 60  rougher.state.floatbank10_d_level                   22649 non-null  float64\n",
      " 61  rougher.state.floatbank10_e_air                     22096 non-null  float64\n",
      " 62  rougher.state.floatbank10_e_level                   22649 non-null  float64\n",
      " 63  rougher.state.floatbank10_f_air                     22641 non-null  float64\n",
      " 64  rougher.state.floatbank10_f_level                   22642 non-null  float64\n",
      " 65  secondary_cleaner.output.tail_ag                    22616 non-null  float64\n",
      " 66  secondary_cleaner.output.tail_pb                    22600 non-null  float64\n",
      " 67  secondary_cleaner.output.tail_sol                   20501 non-null  float64\n",
      " 68  secondary_cleaner.output.tail_au                    22618 non-null  float64\n",
      " 69  secondary_cleaner.state.floatbank2_a_air            22333 non-null  float64\n",
      " 70  secondary_cleaner.state.floatbank2_a_level          22591 non-null  float64\n",
      " 71  secondary_cleaner.state.floatbank2_b_air            22538 non-null  float64\n",
      " 72  secondary_cleaner.state.floatbank2_b_level          22588 non-null  float64\n",
      " 73  secondary_cleaner.state.floatbank3_a_air            22585 non-null  float64\n",
      " 74  secondary_cleaner.state.floatbank3_a_level          22587 non-null  float64\n",
      " 75  secondary_cleaner.state.floatbank3_b_air            22592 non-null  float64\n",
      " 76  secondary_cleaner.state.floatbank3_b_level          22590 non-null  float64\n",
      " 77  secondary_cleaner.state.floatbank4_a_air            22571 non-null  float64\n",
      " 78  secondary_cleaner.state.floatbank4_a_level          22587 non-null  float64\n",
      " 79  secondary_cleaner.state.floatbank4_b_air            22608 non-null  float64\n",
      " 80  secondary_cleaner.state.floatbank4_b_level          22607 non-null  float64\n",
      " 81  secondary_cleaner.state.floatbank5_a_air            22615 non-null  float64\n",
      " 82  secondary_cleaner.state.floatbank5_a_level          22615 non-null  float64\n",
      " 83  secondary_cleaner.state.floatbank5_b_air            22615 non-null  float64\n",
      " 84  secondary_cleaner.state.floatbank5_b_level          22616 non-null  float64\n",
      " 85  secondary_cleaner.state.floatbank6_a_air            22597 non-null  float64\n",
      " 86  secondary_cleaner.state.floatbank6_a_level          22615 non-null  float64\n",
      "dtypes: float64(86), object(1)\n",
      "memory usage: 15.1+ MB\n",
      "None\n",
      "----------------\n",
      "* обучающее_мн_во\n",
      "                  date  final.output.concentrate_ag  ...  \\\n",
      "0  2016-01-15 00:00:00                     6.055403  ...   \n",
      "1  2016-01-15 01:00:00                     6.029369  ...   \n",
      "2  2016-01-15 02:00:00                     6.055926  ...   \n",
      "3  2016-01-15 03:00:00                     6.047977  ...   \n",
      "4  2016-01-15 04:00:00                     6.148599  ...   \n",
      "\n",
      "   secondary_cleaner.state.floatbank6_a_air  \\\n",
      "0                                 14.151341   \n",
      "1                                 13.998353   \n",
      "2                                 14.028663   \n",
      "3                                 14.005551   \n",
      "4                                 13.996647   \n",
      "\n",
      "   secondary_cleaner.state.floatbank6_a_level  \n",
      "0                                 -605.841980  \n",
      "1                                 -599.787184  \n",
      "2                                 -601.427363  \n",
      "3                                 -599.996129  \n",
      "4                                 -601.496691  \n",
      "\n",
      "[5 rows x 87 columns]\n",
      "<class 'pandas.core.frame.DataFrame'>\n",
      "RangeIndex: 16860 entries, 0 to 16859\n",
      "Data columns (total 87 columns):\n",
      " #   Column                                              Non-Null Count  Dtype  \n",
      "---  ------                                              --------------  -----  \n",
      " 0   date                                                16860 non-null  object \n",
      " 1   final.output.concentrate_ag                         16788 non-null  float64\n",
      " 2   final.output.concentrate_pb                         16788 non-null  float64\n",
      " 3   final.output.concentrate_sol                        16490 non-null  float64\n",
      " 4   final.output.concentrate_au                         16789 non-null  float64\n",
      " 5   final.output.recovery                               15339 non-null  float64\n",
      " 6   final.output.tail_ag                                16794 non-null  float64\n",
      " 7   final.output.tail_pb                                16677 non-null  float64\n",
      " 8   final.output.tail_sol                               16715 non-null  float64\n",
      " 9   final.output.tail_au                                16794 non-null  float64\n",
      " 10  primary_cleaner.input.sulfate                       15553 non-null  float64\n",
      " 11  primary_cleaner.input.depressant                    15598 non-null  float64\n",
      " 12  primary_cleaner.input.feed_size                     16860 non-null  float64\n",
      " 13  primary_cleaner.input.xanthate                      15875 non-null  float64\n",
      " 14  primary_cleaner.output.concentrate_ag               16778 non-null  float64\n",
      " 15  primary_cleaner.output.concentrate_pb               16502 non-null  float64\n",
      " 16  primary_cleaner.output.concentrate_sol              16224 non-null  float64\n",
      " 17  primary_cleaner.output.concentrate_au               16778 non-null  float64\n",
      " 18  primary_cleaner.output.tail_ag                      16777 non-null  float64\n",
      " 19  primary_cleaner.output.tail_pb                      16761 non-null  float64\n",
      " 20  primary_cleaner.output.tail_sol                     16579 non-null  float64\n",
      " 21  primary_cleaner.output.tail_au                      16777 non-null  float64\n",
      " 22  primary_cleaner.state.floatbank8_a_air              16820 non-null  float64\n",
      " 23  primary_cleaner.state.floatbank8_a_level            16827 non-null  float64\n",
      " 24  primary_cleaner.state.floatbank8_b_air              16820 non-null  float64\n",
      " 25  primary_cleaner.state.floatbank8_b_level            16833 non-null  float64\n",
      " 26  primary_cleaner.state.floatbank8_c_air              16822 non-null  float64\n",
      " 27  primary_cleaner.state.floatbank8_c_level            16833 non-null  float64\n",
      " 28  primary_cleaner.state.floatbank8_d_air              16821 non-null  float64\n",
      " 29  primary_cleaner.state.floatbank8_d_level            16833 non-null  float64\n",
      " 30  rougher.calculation.sulfate_to_au_concentrate       16833 non-null  float64\n",
      " 31  rougher.calculation.floatbank10_sulfate_to_au_feed  16833 non-null  float64\n",
      " 32  rougher.calculation.floatbank11_sulfate_to_au_feed  16833 non-null  float64\n",
      " 33  rougher.calculation.au_pb_ratio                     15618 non-null  float64\n",
      " 34  rougher.input.feed_ag                               16778 non-null  float64\n",
      " 35  rougher.input.feed_pb                               16632 non-null  float64\n",
      " 36  rougher.input.feed_rate                             16347 non-null  float64\n",
      " 37  rougher.input.feed_size                             16443 non-null  float64\n",
      " 38  rougher.input.feed_sol                              16568 non-null  float64\n",
      " 39  rougher.input.feed_au                               16777 non-null  float64\n",
      " 40  rougher.input.floatbank10_sulfate                   15816 non-null  float64\n",
      " 41  rougher.input.floatbank10_xanthate                  16514 non-null  float64\n",
      " 42  rougher.input.floatbank11_sulfate                   16237 non-null  float64\n",
      " 43  rougher.input.floatbank11_xanthate                  14956 non-null  float64\n",
      " 44  rougher.output.concentrate_ag                       16778 non-null  float64\n",
      " 45  rougher.output.concentrate_pb                       16778 non-null  float64\n",
      " 46  rougher.output.concentrate_sol                      16698 non-null  float64\n",
      " 47  rougher.output.concentrate_au                       16778 non-null  float64\n",
      " 48  rougher.output.recovery                             14287 non-null  float64\n",
      " 49  rougher.output.tail_ag                              14610 non-null  float64\n",
      " 50  rougher.output.tail_pb                              16778 non-null  float64\n",
      " 51  rougher.output.tail_sol                             14611 non-null  float64\n",
      " 52  rougher.output.tail_au                              14611 non-null  float64\n",
      " 53  rougher.state.floatbank10_a_air                     16807 non-null  float64\n",
      " 54  rougher.state.floatbank10_a_level                   16807 non-null  float64\n",
      " 55  rougher.state.floatbank10_b_air                     16807 non-null  float64\n",
      " 56  rougher.state.floatbank10_b_level                   16807 non-null  float64\n",
      " 57  rougher.state.floatbank10_c_air                     16807 non-null  float64\n",
      " 58  rougher.state.floatbank10_c_level                   16814 non-null  float64\n",
      " 59  rougher.state.floatbank10_d_air                     16802 non-null  float64\n",
      " 60  rougher.state.floatbank10_d_level                   16809 non-null  float64\n",
      " 61  rougher.state.floatbank10_e_air                     16257 non-null  float64\n",
      " 62  rougher.state.floatbank10_e_level                   16809 non-null  float64\n",
      " 63  rougher.state.floatbank10_f_air                     16802 non-null  float64\n",
      " 64  rougher.state.floatbank10_f_level                   16802 non-null  float64\n",
      " 65  secondary_cleaner.output.tail_ag                    16776 non-null  float64\n",
      " 66  secondary_cleaner.output.tail_pb                    16764 non-null  float64\n",
      " 67  secondary_cleaner.output.tail_sol                   14874 non-null  float64\n",
      " 68  secondary_cleaner.output.tail_au                    16778 non-null  float64\n",
      " 69  secondary_cleaner.state.floatbank2_a_air            16497 non-null  float64\n",
      " 70  secondary_cleaner.state.floatbank2_a_level          16751 non-null  float64\n",
      " 71  secondary_cleaner.state.floatbank2_b_air            16705 non-null  float64\n",
      " 72  secondary_cleaner.state.floatbank2_b_level          16748 non-null  float64\n",
      " 73  secondary_cleaner.state.floatbank3_a_air            16763 non-null  float64\n",
      " 74  secondary_cleaner.state.floatbank3_a_level          16747 non-null  float64\n",
      " 75  secondary_cleaner.state.floatbank3_b_air            16752 non-null  float64\n",
      " 76  secondary_cleaner.state.floatbank3_b_level          16750 non-null  float64\n",
      " 77  secondary_cleaner.state.floatbank4_a_air            16731 non-null  float64\n",
      " 78  secondary_cleaner.state.floatbank4_a_level          16747 non-null  float64\n",
      " 79  secondary_cleaner.state.floatbank4_b_air            16768 non-null  float64\n",
      " 80  secondary_cleaner.state.floatbank4_b_level          16767 non-null  float64\n",
      " 81  secondary_cleaner.state.floatbank5_a_air            16775 non-null  float64\n",
      " 82  secondary_cleaner.state.floatbank5_a_level          16775 non-null  float64\n",
      " 83  secondary_cleaner.state.floatbank5_b_air            16775 non-null  float64\n",
      " 84  secondary_cleaner.state.floatbank5_b_level          16776 non-null  float64\n",
      " 85  secondary_cleaner.state.floatbank6_a_air            16757 non-null  float64\n",
      " 86  secondary_cleaner.state.floatbank6_a_level          16775 non-null  float64\n",
      "dtypes: float64(86), object(1)\n",
      "memory usage: 11.2+ MB\n",
      "None\n",
      "----------------\n",
      "* тестовое_мн_во\n",
      "                  date  primary_cleaner.input.sulfate  ...  \\\n",
      "0  2016-09-01 00:59:59                     210.800909  ...   \n",
      "1  2016-09-01 01:59:59                     215.392455  ...   \n",
      "2  2016-09-01 02:59:59                     215.259946  ...   \n",
      "3  2016-09-01 03:59:59                     215.336236  ...   \n",
      "4  2016-09-01 04:59:59                     199.099327  ...   \n",
      "\n",
      "   secondary_cleaner.state.floatbank6_a_air  \\\n",
      "0                                 26.705889   \n",
      "1                                 25.019940   \n",
      "2                                 24.994862   \n",
      "3                                 24.948919   \n",
      "4                                 25.003331   \n",
      "\n",
      "   secondary_cleaner.state.floatbank6_a_level  \n",
      "0                                 -499.709414  \n",
      "1                                 -499.819438  \n",
      "2                                 -500.622559  \n",
      "3                                 -498.709987  \n",
      "4                                 -500.856333  \n",
      "\n",
      "[5 rows x 53 columns]\n",
      "<class 'pandas.core.frame.DataFrame'>\n",
      "RangeIndex: 5856 entries, 0 to 5855\n",
      "Data columns (total 53 columns):\n",
      " #   Column                                      Non-Null Count  Dtype  \n",
      "---  ------                                      --------------  -----  \n",
      " 0   date                                        5856 non-null   object \n",
      " 1   primary_cleaner.input.sulfate               5554 non-null   float64\n",
      " 2   primary_cleaner.input.depressant            5572 non-null   float64\n",
      " 3   primary_cleaner.input.feed_size             5856 non-null   float64\n",
      " 4   primary_cleaner.input.xanthate              5690 non-null   float64\n",
      " 5   primary_cleaner.state.floatbank8_a_air      5840 non-null   float64\n",
      " 6   primary_cleaner.state.floatbank8_a_level    5840 non-null   float64\n",
      " 7   primary_cleaner.state.floatbank8_b_air      5840 non-null   float64\n",
      " 8   primary_cleaner.state.floatbank8_b_level    5840 non-null   float64\n",
      " 9   primary_cleaner.state.floatbank8_c_air      5840 non-null   float64\n",
      " 10  primary_cleaner.state.floatbank8_c_level    5840 non-null   float64\n",
      " 11  primary_cleaner.state.floatbank8_d_air      5840 non-null   float64\n",
      " 12  primary_cleaner.state.floatbank8_d_level    5840 non-null   float64\n",
      " 13  rougher.input.feed_ag                       5840 non-null   float64\n",
      " 14  rougher.input.feed_pb                       5840 non-null   float64\n",
      " 15  rougher.input.feed_rate                     5816 non-null   float64\n",
      " 16  rougher.input.feed_size                     5834 non-null   float64\n",
      " 17  rougher.input.feed_sol                      5789 non-null   float64\n",
      " 18  rougher.input.feed_au                       5840 non-null   float64\n",
      " 19  rougher.input.floatbank10_sulfate           5599 non-null   float64\n",
      " 20  rougher.input.floatbank10_xanthate          5733 non-null   float64\n",
      " 21  rougher.input.floatbank11_sulfate           5801 non-null   float64\n",
      " 22  rougher.input.floatbank11_xanthate          5503 non-null   float64\n",
      " 23  rougher.state.floatbank10_a_air             5839 non-null   float64\n",
      " 24  rougher.state.floatbank10_a_level           5840 non-null   float64\n",
      " 25  rougher.state.floatbank10_b_air             5839 non-null   float64\n",
      " 26  rougher.state.floatbank10_b_level           5840 non-null   float64\n",
      " 27  rougher.state.floatbank10_c_air             5839 non-null   float64\n",
      " 28  rougher.state.floatbank10_c_level           5840 non-null   float64\n",
      " 29  rougher.state.floatbank10_d_air             5839 non-null   float64\n",
      " 30  rougher.state.floatbank10_d_level           5840 non-null   float64\n",
      " 31  rougher.state.floatbank10_e_air             5839 non-null   float64\n",
      " 32  rougher.state.floatbank10_e_level           5840 non-null   float64\n",
      " 33  rougher.state.floatbank10_f_air             5839 non-null   float64\n",
      " 34  rougher.state.floatbank10_f_level           5840 non-null   float64\n",
      " 35  secondary_cleaner.state.floatbank2_a_air    5836 non-null   float64\n",
      " 36  secondary_cleaner.state.floatbank2_a_level  5840 non-null   float64\n",
      " 37  secondary_cleaner.state.floatbank2_b_air    5833 non-null   float64\n",
      " 38  secondary_cleaner.state.floatbank2_b_level  5840 non-null   float64\n",
      " 39  secondary_cleaner.state.floatbank3_a_air    5822 non-null   float64\n",
      " 40  secondary_cleaner.state.floatbank3_a_level  5840 non-null   float64\n",
      " 41  secondary_cleaner.state.floatbank3_b_air    5840 non-null   float64\n",
      " 42  secondary_cleaner.state.floatbank3_b_level  5840 non-null   float64\n",
      " 43  secondary_cleaner.state.floatbank4_a_air    5840 non-null   float64\n",
      " 44  secondary_cleaner.state.floatbank4_a_level  5840 non-null   float64\n",
      " 45  secondary_cleaner.state.floatbank4_b_air    5840 non-null   float64\n",
      " 46  secondary_cleaner.state.floatbank4_b_level  5840 non-null   float64\n",
      " 47  secondary_cleaner.state.floatbank5_a_air    5840 non-null   float64\n",
      " 48  secondary_cleaner.state.floatbank5_a_level  5840 non-null   float64\n",
      " 49  secondary_cleaner.state.floatbank5_b_air    5840 non-null   float64\n",
      " 50  secondary_cleaner.state.floatbank5_b_level  5840 non-null   float64\n",
      " 51  secondary_cleaner.state.floatbank6_a_air    5840 non-null   float64\n",
      " 52  secondary_cleaner.state.floatbank6_a_level  5840 non-null   float64\n",
      "dtypes: float64(52), object(1)\n",
      "memory usage: 2.4+ MB\n",
      "None\n"
     ]
    }
   ],
   "source": [
    "# Через цикл for осуществим\n",
    "for dataframe_name, dataframe_values in dataframe_dict.items():\n",
    "    # (1) вывод наименования множества\n",
    "    print('----------------')\n",
    "    print('*',dataframe_name)\n",
    "    # (2) вывод первых 5-ти наблюдений множества\n",
    "    print(dataframe_values.head())\n",
    "    # (3) вывод общей информации по переменным множества\n",
    "    print(dataframe_values.info())"
   ]
  },
  {
   "cell_type": "code",
   "execution_count": 5,
   "metadata": {},
   "outputs": [
    {
     "name": "stdout",
     "output_type": "stream",
     "text": [
      "Обучающее / Исходное множество: 0.74\n",
      "Тестовое / Исходное множество 0.26\n"
     ]
    }
   ],
   "source": [
    "# Проверим процентное соотношение между множествами\n",
    "print('Обучающее / Исходное множество: {:.2f}'.format(gold_train.shape[0] / gold_full.shape[0]) )\n",
    "print('Тестовое / Исходное множество {:.2f}'.format(gold_test.shape[0] / gold_full.shape[0]) )"
   ]
  },
  {
   "cell_type": "markdown",
   "metadata": {},
   "source": [
    "- в исходной выборочной совокупности 22 716 наблюдений, в обучающем множестве 16 860 наблюдений, в тестовом множестве 5 856 наблюдений.\n",
    "- в исходном и обучающем множестве имеются 87 признаков. В тестовом множестве имеем 53 признака. Столбец с датами имеет строковый формат `object`. Все остальные переменные имеют формат с плавающей точкой `float64`.\n",
    "- целевыми признаками являются `rougher.output.recovery`, `final.output.recovery`.\n",
    "- наличие пропущенные наблюдений может быть обусловлено техническими причинами при заполнении.\n",
    "- Статистические данные поступают с определенной периодичностью. Тем самым, методом заполнения пропущенных наблюдений может выступать интерполяция по времени посредством `.interpolate(method='time')`."
   ]
  },
  {
   "cell_type": "code",
   "execution_count": 6,
   "metadata": {},
   "outputs": [
    {
     "name": "stdout",
     "output_type": "stream",
     "text": [
      "Установление индекса выполнено\n"
     ]
    }
   ],
   "source": [
    "# Воспользуемся исключениями для того, чтобы\n",
    "try:\n",
    "    # через цикл for\n",
    "    for dataframe in dataframe_dict.values():\n",
    "        # изменить строковый формат столбца date в формат datetime\n",
    "        dataframe['date'] = pd.to_datetime(dataframe['date'], format='%Y-%m-%d %H:%M:%S')\n",
    "        # установить столбец date в качестве индекса множества\n",
    "        dataframe = dataframe.set_index('date', inplace=True)\n",
    "except:\n",
    "    print('Возникла ошибка')\n",
    "else:\n",
    "    print('Установление индекса выполнено')"
   ]
  },
  {
   "cell_type": "markdown",
   "metadata": {},
   "source": [
    "#### 1.2. Проверьте, что эффективность обогащения рассчитана правильно. Вычислите её на обучающей выборке для признака rougher.output.recovery. Найдите MAE между вашими расчётами и значением признака. Опишите выводы."
   ]
  },
  {
   "cell_type": "code",
   "execution_count": 7,
   "metadata": {},
   "outputs": [],
   "source": [
    "# # Через цикл for\n",
    "# for dataframe in dataframe_dict.values():\n",
    "#     # Осуществим заполнение пропущенных наблюдений интеполяцией во времени\n",
    "#     dataframe.interpolate(method='time', inplace=True)"
   ]
  },
  {
   "cell_type": "code",
   "execution_count": 8,
   "metadata": {},
   "outputs": [],
   "source": [
    "# Определим функцию, которая вычисляет среднее абсолютное отклонение\n",
    "# между фактической и расчетной эффективностью обогащения\n",
    "def recovery_mae(dataframe):\n",
    "    '''\n",
    "    dataframe: массив данных\n",
    "    output: среднее абсолютное отклонение между фактической и \n",
    "    расчетной эффективностью обогащения\n",
    "    формула: ( С * (F - T) / F * (C - T) ) * 100\n",
    "    '''\n",
    "    # Выделим массив данных с полным набором наблюдений фактической эффективности обогащения \n",
    "    recov_no_na_subset = dataframe.dropna(subset=['rougher.output.recovery'])\n",
    "    \n",
    "    # Выделим вектор значений доли золота в концентрате до флотации\n",
    "    F = (\n",
    "        recov_no_na_subset['rougher.input.feed_au']\n",
    "    )\n",
    "    \n",
    "    # Выделим вектор значений доли золота в концентрате после флотации\n",
    "    C = (\n",
    "        recov_no_na_subset['rougher.output.concentrate_au']\n",
    "    )\n",
    "    \n",
    "    # Выделим вектор значений доли золота в отвальных хвостах\n",
    "    T = (\n",
    "        recov_no_na_subset['rougher.output.tail_au']\n",
    "    )\n",
    "    \n",
    "    # Вычислим по формуле эффективность обогащения\n",
    "    recovery_formula = ( (C * (F - T) ) / (F * (C - T) ) ) * 100\n",
    "    # Выделим вектор фактической эффективности обогащения\n",
    "    recovery_actual = dataframe['rougher.output.recovery'].dropna()\n",
    "    # Вывод среднего абсолютного отклонения между расчетной и фактической эффективностью обогащения\n",
    "    return mean_absolute_error(recovery_actual, recovery_formula)"
   ]
  },
  {
   "cell_type": "code",
   "execution_count": 9,
   "metadata": {},
   "outputs": [
    {
     "data": {
      "text/plain": [
       "9.444891926100695e-15"
      ]
     },
     "execution_count": 9,
     "metadata": {},
     "output_type": "execute_result"
    }
   ],
   "source": [
    "# Апробация функции recovery_mae на тренировочное множество\n",
    "recovery_mae(gold_train)"
   ]
  },
  {
   "cell_type": "markdown",
   "metadata": {},
   "source": [
    "- в результате, получили весьма малое среднее абсолютное отклонение ($9.4*10^{-15}$) между расчетной и фактической эффективностью обогащения"
   ]
  },
  {
   "cell_type": "markdown",
   "metadata": {},
   "source": [
    "#### 1.3. Проанализируйте признаки, недоступные в тестовой выборке. Что это за параметры? К какому типу относятся?"
   ]
  },
  {
   "cell_type": "code",
   "execution_count": 10,
   "metadata": {
    "scrolled": true
   },
   "outputs": [
    {
     "data": {
      "text/plain": [
       "['final.output.concentrate_ag',\n",
       " 'final.output.concentrate_pb',\n",
       " 'final.output.concentrate_sol',\n",
       " 'final.output.concentrate_au',\n",
       " 'final.output.recovery',\n",
       " 'final.output.tail_ag',\n",
       " 'final.output.tail_pb',\n",
       " 'final.output.tail_sol',\n",
       " 'final.output.tail_au',\n",
       " 'primary_cleaner.output.concentrate_ag',\n",
       " 'primary_cleaner.output.concentrate_pb',\n",
       " 'primary_cleaner.output.concentrate_sol',\n",
       " 'primary_cleaner.output.concentrate_au',\n",
       " 'primary_cleaner.output.tail_ag',\n",
       " 'primary_cleaner.output.tail_pb',\n",
       " 'primary_cleaner.output.tail_sol',\n",
       " 'primary_cleaner.output.tail_au',\n",
       " 'rougher.calculation.sulfate_to_au_concentrate',\n",
       " 'rougher.calculation.floatbank10_sulfate_to_au_feed',\n",
       " 'rougher.calculation.floatbank11_sulfate_to_au_feed',\n",
       " 'rougher.calculation.au_pb_ratio',\n",
       " 'rougher.output.concentrate_ag',\n",
       " 'rougher.output.concentrate_pb',\n",
       " 'rougher.output.concentrate_sol',\n",
       " 'rougher.output.concentrate_au',\n",
       " 'rougher.output.recovery',\n",
       " 'rougher.output.tail_ag',\n",
       " 'rougher.output.tail_pb',\n",
       " 'rougher.output.tail_sol',\n",
       " 'rougher.output.tail_au',\n",
       " 'secondary_cleaner.output.tail_ag',\n",
       " 'secondary_cleaner.output.tail_pb',\n",
       " 'secondary_cleaner.output.tail_sol',\n",
       " 'secondary_cleaner.output.tail_au']"
      ]
     },
     "execution_count": 10,
     "metadata": {},
     "output_type": "execute_result"
    }
   ],
   "source": [
    "# Посредством представления списков осуществим вывод признаков\n",
    "# из исходной выборочной совокупности, которые не содержатся в тестовом множестве\n",
    "col_not_in_test = [col for col in gold_full.columns if col not in gold_test.columns]\n",
    "col_not_in_test"
   ]
  },
  {
   "cell_type": "markdown",
   "metadata": {},
   "source": [
    "- признаки, которые отсутствуют в тестовом множестве: (1) параметры продукта `output`, (2) расчетные характеристики `calculation`.\n",
    "- из параметров продуктов `output` в тестовом множестве отсутствуют: концентрат (i) серебра `concentrate_ag`, (ii) свинца `concentrate_pb`, (iii) сульфата `concentrate_sol`, (iv) золота `concentrate_au`; отвальные хвосты (a) серебра `tail_ag`, (б) свинца `tail_pb`, (в) твердых веществ `tail_sol`, (г) золота `tail_au`.\n",
    "- из расчетных характеристики `calculation` в тестовом множестве отсутствуют: сульфат в исходном сырье золота `sulfate_to_au_feed`, флотационная установка 10 `floatbank_10_sulfate_to_au_feed`, флотационная установка 11 `floatbank_11_sulfate_to_au_feed`, отношение золота к свинцу `au_pb_ratio`."
   ]
  },
  {
   "cell_type": "markdown",
   "metadata": {},
   "source": [
    "#### 1.4. Проведите предобработку данных."
   ]
  },
  {
   "cell_type": "markdown",
   "metadata": {},
   "source": [
    "Осуществим заполнение пропущенных наблюдений посредством интерполяции по времени `.interpolate(method='time')`. Аргументами в пользу данного метода являются (1) временная периодичность поступления информации (каждый час), (2) состояние на последующих этапах зависит от результатов, наблюдаемых на предыдущих стадиях технологического процесса очистки."
   ]
  },
  {
   "cell_type": "code",
   "execution_count": 11,
   "metadata": {},
   "outputs": [],
   "source": [
    "# Через цикл for\n",
    "for dataframe in dataframe_dict.values():\n",
    "    # Осуществим заполнение пропущенных наблюдений интеполяцией во времени\n",
    "    dataframe.interpolate(method='time', inplace=True)"
   ]
  },
  {
   "cell_type": "markdown",
   "metadata": {},
   "source": [
    "# 2. Анализ данных"
   ]
  },
  {
   "cell_type": "markdown",
   "metadata": {},
   "source": [
    "#### Постановка задачи\n",
    "2.1. Посмотрите, как меняется концентрация металлов (Au, Ag, Pb) на различных этапах очистки. Опишите выводы.\\\n",
    "2.2. Сравните распределения размеров гранул сырья на обучающей и тестовой выборках. Если распределения сильно отличаются друг от друга, оценка модели будет неправильной.\\\n",
    "2.3. Исследуйте суммарную концентрацию всех веществ на разных стадиях: в сырье, в черновом и финальном концентратах. Заметили аномальные значения в суммарном распределении или нет? Если они есть, стоит ли их удалять из обеих выборок? Опишите выводы и удалите аномалии."
   ]
  },
  {
   "cell_type": "markdown",
   "metadata": {},
   "source": [
    "#### 2.1. Посмотрите, как меняется концентрация металлов (Au, Ag, Pb) на различных этапах очистки. Опишите выводы."
   ]
  },
  {
   "cell_type": "markdown",
   "metadata": {},
   "source": [
    "Стоит отметить, что не наблюдается информация по концентрации металлов на этапе вторичной очистки `secondary_cleaner`."
   ]
  },
  {
   "cell_type": "code",
   "execution_count": 12,
   "metadata": {},
   "outputs": [],
   "source": [
    "# Определим функцию, которая выводит графическую иллюстрацию изменения концентрации металлов\n",
    "# на различных этапах очистки\n",
    "def plot_concentrate_hist(dataframe, stage, alpha=0.7):\n",
    "    '''\n",
    "    dataframe: массив данных\n",
    "    stage: стадия флотации\n",
    "    output: графическая иллюстрация изменения концентрации металлов\n",
    "    '''\n",
    "    # определим вектор концентрации серебра\n",
    "    ag_concentrate = dataframe[stage+'.output.concentrate_ag']    \n",
    "    # определим вектор концентрации золота\n",
    "    au_concentrate = dataframe[stage+'.output.concentrate_au']\n",
    "    # определим вектор концентрации свинца\n",
    "    pb_concentrate = dataframe[stage+'.output.concentrate_pb']\n",
    "    # объединим вектора финальной концентрации\n",
    "    concentrate_df = pd.DataFrame({'серебро_концентрат':ag_concentrate,\n",
    "                                   'золото_концентрат':au_concentrate,\n",
    "                                   'свинец_концентрат':pb_concentrate})\n",
    "    # на этапе флотации\n",
    "    if stage == 'rougher':\n",
    "        # выделим вектор изначальной концентрации серебра\n",
    "        ag_feed = dataframe[stage+'.input.feed_ag']\n",
    "        # выделим вектор изначальной концентрации золота\n",
    "        au_feed = dataframe[stage+'.input.feed_au']\n",
    "        # выделим вектор изначальной концентрации свинца\n",
    "        pb_feed = dataframe[stage+'.input.feed_pb']\n",
    "        # объединим значения изначальной концентрации металлов в единый массив\n",
    "        feed_df = pd.DataFrame({'серебро_сырье':ag_feed,\n",
    "                                'золото_сырье':au_feed,\n",
    "                                'свинец_сырье':pb_feed})\n",
    "        # определим два подграфика с равными размерностями оси абсцисс и оси ординат\n",
    "        fig, axes_rougher = plt.subplots(nrows=1, ncols=2, figsize=(12,6), sharex=True, sharey=True)\n",
    "        # на первом подграфике отображены плотностные гистограммы изначальной концентрации\n",
    "        feed_df.plot(ax=axes_rougher[0], kind='hist', density=True, histtype='step', lw=5)\n",
    "        # на втором подграфике отображены плотностные гистограммы финальной концентрации\n",
    "        concentrate_df.plot(ax=axes_rougher[1],kind='hist', density=True, histtype='step', lw=5)\n",
    "    # на стадии помимо флотации\n",
    "    else:\n",
    "        # построим плотностные гистограммы финальной концентрации металлов\n",
    "        concentrate_df.plot(kind='hist', density=True, histtype='step', lw=5, label=True, figsize=(12,6))\n",
    "        \n",
    "    plt.tight_layout()"
   ]
  },
  {
   "cell_type": "code",
   "execution_count": 13,
   "metadata": {
    "scrolled": false
   },
   "outputs": [
    {
     "data": {
      "image/png": "[encoded data removed]",
      "text/plain": [
       "<Figure size 864x432 with 2 Axes>"
      ]
     },
     "metadata": {
      "needs_background": "light"
     },
     "output_type": "display_data"
    },
    {
     "data": {
      "image/png": "[encoded data removed]",
      "text/plain": [
       "<Figure size 864x432 with 1 Axes>"
      ]
     },
     "metadata": {
      "needs_background": "light"
     },
     "output_type": "display_data"
    },
    {
     "data": {
      "image/png": "[encoded data removed]",
      "text/plain": [
       "<Figure size 864x432 with 1 Axes>"
      ]
     },
     "metadata": {
      "needs_background": "light"
     },
     "output_type": "display_data"
    }
   ],
   "source": [
    "stage_dict = {'флотация':'rougher','первичная_стадия':'primary_cleaner','финальная_стадия':'final'}\n",
    "# Через цикл for для каждой стадии очистки\n",
    "for label, stage in stage_dict.items():\n",
    "    # построим графическую иллюстрацию концентрации трех металлов (серебра, золота и свинца)\n",
    "    plot_concentrate_hist(gold_full, stage)\n",
    "    # определим заголовок диаграмм\n",
    "    plt.title(label+', концентрация металлов')\n",
    "    # отображение диаграмм\n",
    "    plt.show()"
   ]
  },
  {
   "cell_type": "markdown",
   "metadata": {},
   "source": [
    "- наблюдаем значительное изменение изначальной концентрации металлов после флотации (что видно на первых двух  подграфиках).\n",
    "- на каждой из трех стадий наибольшую долю концентрации имеет золото. Серебро и свинец имеют приблизительно одинаковую концентрацию."
   ]
  },
  {
   "cell_type": "markdown",
   "metadata": {},
   "source": [
    "#### 2.2. Сравните распределения размеров гранул сырья на обучающей и тестовой выборках. Если распределения сильно отличаются друг от друга, оценка модели будет неправильной."
   ]
  },
  {
   "cell_type": "code",
   "execution_count": 14,
   "metadata": {
    "scrolled": true
   },
   "outputs": [
    {
     "data": {
      "image/png": "[encoded data removed]",
      "text/plain": [
       "<Figure size 864x432 with 1 Axes>"
      ]
     },
     "metadata": {
      "needs_background": "light"
     },
     "output_type": "display_data"
    }
   ],
   "source": [
    "# Построим плотностную гистограмму распределения гранул сырья\n",
    "# (1) на обучающем множестве\n",
    "ax = gold_train['rougher.input.feed_size'].plot(kind='hist', density=True, figsize=(12,6),\n",
    "                                                histtype='step', lw=5, label='обучающее_мн-во')\n",
    "# (2) на тестовом множестве\n",
    "gold_test['rougher.input.feed_size'].plot(ax=ax, kind='hist', density=True, \n",
    "                                          histtype='step', lw=5, label='тестовое_мн-во')\n",
    "# зададим заголовок диаграммы\n",
    "plt.title('Распределение размером гранул сырья')\n",
    "# отображение легенды\n",
    "plt.legend()\n",
    "plt.tight_layout()"
   ]
  },
  {
   "cell_type": "markdown",
   "metadata": {},
   "source": [
    "- распределение размеров гранул сырья на обучающей и тестовой выборках сильно не отличаются.\n",
    "- б*о*льшая часть размеров гранул концентрировано в диапазоне от 0 до 100\n",
    "- имеет место тяжелый правый хвост плотностного распределения как в обучающем, так и в тестовом выборках."
   ]
  },
  {
   "cell_type": "markdown",
   "metadata": {},
   "source": [
    "#### 2.3. Исследуйте суммарную концентрацию всех веществ на разных стадиях: в сырье, в черновом и финальном концентратах. Заметили аномальные значения в суммарном распределении или нет? Если они есть, стоит ли их удалять из обеих выборок? Опишите выводы и удалите аномалии."
   ]
  },
  {
   "cell_type": "code",
   "execution_count": 15,
   "metadata": {},
   "outputs": [],
   "source": [
    "# Определим функцию, которая отображает графическую иллюстрацию (ящик с усами или гистограмму) \n",
    "# для всех веществ на разных стадиях\n",
    "def plot_concentrate_box_or_hist(dataframe, stage, plot_kind='box', bins=None, alpha=1):\n",
    "    '''\n",
    "    dataframe: массив данных\n",
    "    stage: стадия технологического процесса (rougher, final)\n",
    "    plot_kind: тип графической иллюстрации (box ящик с усами, hist гистограмма)\n",
    "    bins: количество разбиений (интервалов) гистограммы распределения\n",
    "    alpha: степень прозрачности графиков\n",
    "    output: ящик с усами для всех веществ на разных стадиях\n",
    "    '''\n",
    "    # определим вектор концентрации серебра\n",
    "    ag_concentrate = dataframe[stage+'.output.concentrate_ag']    \n",
    "    # определим вектор концентрации золота\n",
    "    au_concentrate = dataframe[stage+'.output.concentrate_au']\n",
    "    # определим вектор концентрации свинца\n",
    "    pb_concentrate = dataframe[stage+'.output.concentrate_pb']\n",
    "    # определим вектор концентрации твердых веществ\n",
    "    sol_concentrate = dataframe[stage+'.output.concentrate_sol']\n",
    "    # объединим вектора финальной концентрации\n",
    "    concentrate_df = pd.DataFrame({'серебро':ag_concentrate,\n",
    "                                   'золото':au_concentrate,\n",
    "                                   'свинец':pb_concentrate,\n",
    "                                   'твердые_вещества':sol_concentrate})\n",
    "    # если этап флотации\n",
    "    if stage == 'rougher':              \n",
    "        # выделим вектор изначальной концентрации серебра\n",
    "        ag_feed = dataframe[stage+'.input.feed_ag']\n",
    "        # выделим вектор изначальной концентрации золота\n",
    "        au_feed = dataframe[stage+'.input.feed_au']\n",
    "        # выделим вектор изначальной концентрации свинца\n",
    "        pb_feed = dataframe[stage+'.input.feed_pb']\n",
    "        # выделим вектор изначальной концентрации твердых веществ\n",
    "        sol_feed = dataframe[stage+'.input.feed_sol']\n",
    "        # объединим значения изначальной концентрации металлов в единый массив\n",
    "        feed_df = pd.DataFrame({'серебро':ag_feed,\n",
    "                                'золото':au_feed,\n",
    "                                'свинец':pb_feed,\n",
    "                                'твердые_вещества':sol_feed})\n",
    "        # построим ящик с усами\n",
    "        if plot_kind == 'box':\n",
    "            # (1) для изначальной концентрации веществ\n",
    "            feed_df.plot(kind=plot_kind, vert=False, \n",
    "                         figsize=(12,6)).set(title='изначальный_концентрат')\n",
    "            # (2) для черновой концентрации веществ\n",
    "            concentrate_df.plot(kind=plot_kind, vert=False, figsize=(12,6)).set(title='черновой_концентрат')\n",
    "        # построим гистограммы\n",
    "        elif plot_kind == 'hist':\n",
    "            # (1) для изначальной концентрации веществ\n",
    "            feed_df.plot(kind=plot_kind, bins=bins, histtype='step', lw=5, alpha=alpha,\n",
    "                         figsize=(12,6)).set(title='изначальный_концентрат')\n",
    "            # (2) для черновой концентрации веществ\n",
    "            concentrate_df.plot(kind=plot_kind, bins=bins, histtype='step', lw=5,alpha=alpha,\n",
    "                                figsize=(12,6)).set(title='черновой_концентрат')\n",
    "    # если этап финальных характеристик\n",
    "    elif stage == 'final':\n",
    "        # построим ящик с усами для финальной концентрации веществ\n",
    "        if plot_kind == 'box':\n",
    "            concentrate_df.plot(kind=plot_kind, vert=False, figsize=(12,6)).set(title='финальный_концентрат')\n",
    "        # построим гистограмму финальной концентрации веществ\n",
    "        elif plot_kind == 'hist':\n",
    "            concentrate_df.plot(kind=plot_kind, bins=bins, histtype='step', lw=5,alpha=alpha,\n",
    "                                figsize=(12,6)).set(title='финальный_концентрат')\n",
    "    plt.tight_layout()"
   ]
  },
  {
   "cell_type": "code",
   "execution_count": 16,
   "metadata": {},
   "outputs": [
    {
     "data": {
      "image/png": "[encoded data removed]",
      "text/plain": [
       "<Figure size 864x432 with 1 Axes>"
      ]
     },
     "metadata": {
      "needs_background": "light"
     },
     "output_type": "display_data"
    },
    {
     "data": {
      "image/png": "[encoded data removed]",
      "text/plain": [
       "<Figure size 864x432 with 1 Axes>"
      ]
     },
     "metadata": {
      "needs_background": "light"
     },
     "output_type": "display_data"
    },
    {
     "data": {
      "image/png": "[encoded data removed]",
      "text/plain": [
       "<Figure size 864x432 with 1 Axes>"
      ]
     },
     "metadata": {
      "needs_background": "light"
     },
     "output_type": "display_data"
    }
   ],
   "source": [
    "# Через цикл for для каждой стадии очистки\n",
    "for stage in ['rougher','final']:\n",
    "    # построим гистограммы концентрации всех веществ (серебро, золото, свинец, твердые вещества)\n",
    "    plot_concentrate_box_or_hist(gold_full, stage, 'hist', bins=30, alpha=0.7)\n",
    "    # отображение диаграмм\n",
    "    plt.show()"
   ]
  },
  {
   "cell_type": "code",
   "execution_count": 17,
   "metadata": {},
   "outputs": [
    {
     "data": {
      "image/png": "[encoded data removed]",
      "text/plain": [
       "<Figure size 864x432 with 1 Axes>"
      ]
     },
     "metadata": {
      "needs_background": "light"
     },
     "output_type": "display_data"
    },
    {
     "data": {
      "image/png": "[encoded data removed]",
      "text/plain": [
       "<Figure size 864x432 with 1 Axes>"
      ]
     },
     "metadata": {
      "needs_background": "light"
     },
     "output_type": "display_data"
    },
    {
     "data": {
      "image/png": "[encoded data removed]",
      "text/plain": [
       "<Figure size 864x432 with 1 Axes>"
      ]
     },
     "metadata": {
      "needs_background": "light"
     },
     "output_type": "display_data"
    }
   ],
   "source": [
    "# Через цикл for для каждой стадии очистки\n",
    "for stage in ['rougher','final']:\n",
    "    # построим ящик с усами для концентрации всех веществ (серебро, золото, свинец, твердые вещества)\n",
    "    plot_concentrate_box_or_hist(gold_full, stage, 'box')\n",
    "    # отображение диаграмм\n",
    "    plt.show()"
   ]
  },
  {
   "cell_type": "markdown",
   "metadata": {},
   "source": [
    "- на этапе изначального концентрата наблюдается редкие концентрации твердых веществ, превышающие 51 процент.\n",
    "- в отношении остальных веществ, как свинец, серебро, амплитуда значений не столь высокая.\n",
    "- наличие большой доли твердых веществ на этапе изначальной концентрации весьма оправдано, так как на первичных стадиях технологической очистки поступают сырье, содержащее множество веществ помимо свинца, золота и серебра.\n",
    "- на этапе финальной концентрации наблюдаются несколько редких величин концентрации золота, превышающие чуть больше 50 процентов. Вычислим долю данных редких наблюдений."
   ]
  },
  {
   "cell_type": "code",
   "execution_count": 18,
   "metadata": {},
   "outputs": [
    {
     "data": {
      "text/plain": [
       "0.4033214709371293"
      ]
     },
     "execution_count": 18,
     "metadata": {},
     "output_type": "execute_result"
    }
   ],
   "source": [
    "# вычислим долю редких наблюдений финальной концентрации золота в тренировочном множестве\n",
    "gold_train.loc[gold_train['final.output.concentrate_au'] > 50, :].shape[0] / len(gold_train) * 100"
   ]
  },
  {
   "cell_type": "code",
   "execution_count": 19,
   "metadata": {},
   "outputs": [
    {
     "data": {
      "text/plain": [
       "0.44462053178376476"
      ]
     },
     "execution_count": 19,
     "metadata": {},
     "output_type": "execute_result"
    }
   ],
   "source": [
    "# вычислим долю редких наблюдений финальной концентрации золота в исходной выборочной совокупности\n",
    "gold_full.loc[gold_full['final.output.concentrate_au'] > 50, :].shape[0] / len(gold_full) * 100"
   ]
  },
  {
   "cell_type": "markdown",
   "metadata": {},
   "source": [
    "- Доля редких наблюдений финальной концентрации золота в контексте тренировочного множества составляет около 0.4 процента. В контексте исходной выборки: 0.44 процента. Удаление данных наблюдений скорее не приведут к смещению результатов последующего анализа. Тем самым, сохраняем имеющиеся данные в прежнем виде."
   ]
  },
  {
   "cell_type": "markdown",
   "metadata": {},
   "source": [
    "Количество интервалов составляет 30. Согласно гистограммам:\n",
    "- у всех веществ (серебро, золото, свинец, твердые вещества) наблюдается \"горб\" на всех этапах концентрации (изначальный, черновой, финальный) в интервале **от 0 до 2** процентов. Тем самым, удалим данный \"горб\".\n",
    "- *распределения концентрации твердых веществ*: (1) левый тяжелый хвост на этапе изначального и чернового концентрата, (2) правый тяжелый хвост на этапе финального концентрата;\n",
    "- *распределение концентрации свинца*: правый тяжелый хвост на этапе изначального и чернового концентрата\n",
    "- *распредедение концентрации золота*: левый тяжелый хвост на этапе финального концентрата.\n"
   ]
  },
  {
   "cell_type": "code",
   "execution_count": 20,
   "metadata": {},
   "outputs": [],
   "source": [
    "# Определим функцию, которая сохраняет значения превышающие указанный пороговый уровень\n",
    "def del_outliers(dataframe, stage=stage, substance='concentrate_au', threshold=2):\n",
    "    '''\n",
    "    dataframe: массив данных\n",
    "    stage: этап (изначальный rougher.input, черновой rougher.output, финальный final.output)\n",
    "    substance: вещество - (1) серебро feed_ag, concentrace_ag, (2) свинец feed_pb, concentrate_pb\n",
    "    (3) золото feed_au, concentrate_au, (4) твердые вещества feed_sol, concentrate_sol\n",
    "    threshold: пороговый уровень (сохраняются значения справа от указанного уровня)\n",
    "    output: массив данных, сохраняющие значения, которые превышают пороговый уровень\n",
    "    '''\n",
    "    return dataframe.loc[dataframe[stage+'.'+substance] > threshold,:]"
   ]
  },
  {
   "cell_type": "code",
   "execution_count": 21,
   "metadata": {},
   "outputs": [],
   "source": [
    "# Через цикл for на этапе исходной концентрации\n",
    "for feed in ['feed_ag','feed_au','feed_pb','feed_sol']:\n",
    "    # оставим те значения концентрации веществ, которые больше двух процентов\n",
    "    gold_train_no_outliers = del_outliers(gold_train, stage='rougher.input', substance=feed)"
   ]
  },
  {
   "cell_type": "code",
   "execution_count": 22,
   "metadata": {},
   "outputs": [],
   "source": [
    "# Через цикл for на этапе черновой и финальной концентрации\n",
    "for output in ['rougher.output','final.output']:\n",
    "    # аналогично, оставим те значения концентрации веществ, которые больше двух процентов\n",
    "    for concentrate in ['concentrate_ag','concentrate_au','concentrate_pb','concentrate_sol']:\n",
    "        gold_train_no_outliers = del_outliers(gold_train_no_outliers, stage=output, substance=concentrate)"
   ]
  },
  {
   "cell_type": "markdown",
   "metadata": {},
   "source": [
    "# 3. Модель"
   ]
  },
  {
   "cell_type": "markdown",
   "metadata": {},
   "source": [
    "#### Постановка задачи\n",
    "3.1. Напишите функцию для вычисления итоговой sMAPE.\\\n",
    "3.2. Обучите разные модели и оцените их качество кросс-валидацией. Выберите лучшую модель и проверьте её на тестовой выборке. Опишите выводы."
   ]
  },
  {
   "cell_type": "code",
   "execution_count": 23,
   "metadata": {},
   "outputs": [],
   "source": [
    "# Определим функцию sMAPE, которая вычисляет симметричное среднее абсолютное процентное отклонение\n",
    "def sMAPE(target, predictions):\n",
    "    '''\n",
    "    target: фактические величины целевого признака \n",
    "    predictions: прогнозные величины целевого признака\n",
    "    '''\n",
    "    # определим числитель результирующего параметра\n",
    "    smape_numerator = abs(target - predictions)\n",
    "    # определим знаменатель результирующего параметра\n",
    "    smape_denominator = ( (abs(target) + abs(predictions)) / 2)\n",
    "    # находим сумму отношений числителя к знаменателю\n",
    "    ratio = (smape_numerator / smape_denominator).sum()\n",
    "    # вывод результирующего параметра - симметричное среднее абсолютное процентное отклонение\n",
    "    return (ratio / len(target) ) * 100"
   ]
  },
  {
   "cell_type": "code",
   "execution_count": 24,
   "metadata": {},
   "outputs": [],
   "source": [
    "# выделение матрицы характеристик\n",
    "features = gold_train_no_outliers.drop(['rougher.output.recovery','final.output.recovery'], axis=1)\n",
    "# выделение целевых признаков\n",
    "target = gold_train_no_outliers[['rougher.output.recovery','final.output.recovery']]"
   ]
  },
  {
   "cell_type": "code",
   "execution_count": 25,
   "metadata": {},
   "outputs": [],
   "source": [
    "# Определим функцию, которая возвращает оптимальную модель случайного леса\n",
    "def opt_rf_search(features, target, max_depth=[10,15], n_estimators=[120,130], cv=3):\n",
    "    '''\n",
    "    features: матрица характеристик\n",
    "    target: целевой признак\n",
    "    max_depth: максимальная глубина деревьев\n",
    "    n_estimators: количество деревьев в лесу\n",
    "    cv: количество блоков перекрестной кросс-валидации\n",
    "    output: оптимальные гиперпараметры модели\n",
    "    '''\n",
    "    # разделим матрица характеристик и вектор целевого признака на обучающее и валидационное мн-ва, соответственно.\n",
    "    features_train, features_valid, target_train, target_valid = train_test_split(features, target,\n",
    "                                                                                  test_size=0.25,\n",
    "                                                                                  random_state=42)\n",
    "    # Установление гиперпараметров\n",
    "    params = {'max_depth': max_depth, 'n_estimators': n_estimators}\n",
    "    # Инициализация моделей случайного леса\n",
    "    grid_obj = GridSearchCV(estimator=RandomForestRegressor(random_state=42, n_jobs=-1), \n",
    "                      param_grid=params, cv=cv, scoring='neg_mean_squared_error') \n",
    "    # Обучение моделей случайного леса\n",
    "    rf_grid = grid_obj.fit(features_train, target_train)\n",
    "    # вывод оптимальных (1) характеристик, (2) гиперпараметров модели случайного леса\n",
    "    return rf_grid.best_estimator_, rf_grid.best_params_"
   ]
  },
  {
   "cell_type": "code",
   "execution_count": 26,
   "metadata": {
    "scrolled": true
   },
   "outputs": [],
   "source": [
    "# игнорирование FutureWarning\n",
    "warnings.simplefilter(action='ignore', category=FutureWarning)\n",
    "# Поиск оптимальных гиперпараметров модели случайного леса\n",
    "rf_best_est, rf_best_params = opt_rf_search(features, target)"
   ]
  },
  {
   "cell_type": "code",
   "execution_count": 27,
   "metadata": {},
   "outputs": [
    {
     "data": {
      "text/plain": [
       "RandomForestRegressor(max_depth=15, n_estimators=130, n_jobs=-1,\n",
       "                      random_state=42)"
      ]
     },
     "execution_count": 27,
     "metadata": {},
     "output_type": "execute_result"
    }
   ],
   "source": [
    "# вывод оптимальных характеристик модели случайного леса\n",
    "rf_best_est"
   ]
  },
  {
   "cell_type": "code",
   "execution_count": 28,
   "metadata": {},
   "outputs": [
    {
     "data": {
      "text/plain": [
       "{'max_depth': 15, 'n_estimators': 130}"
      ]
     },
     "execution_count": 28,
     "metadata": {},
     "output_type": "execute_result"
    }
   ],
   "source": [
    "# вывод оптимальных гиперпараметров модели случайного леса\n",
    "rf_best_params"
   ]
  },
  {
   "cell_type": "markdown",
   "metadata": {},
   "source": [
    "зафиксируем оптимальные гиперпараметры для вычисления прогнозных значений на основе тестового множества."
   ]
  },
  {
   "cell_type": "code",
   "execution_count": 29,
   "metadata": {},
   "outputs": [],
   "source": [
    "# Инициализация оптимальной модели случайного леса\n",
    "opt_rf_model = RandomForestRegressor(random_state=42, max_depth=15, n_estimators=130, n_jobs=-1)"
   ]
  },
  {
   "cell_type": "code",
   "execution_count": 30,
   "metadata": {},
   "outputs": [],
   "source": [
    "# Выделение матрицы целевого признака\n",
    "test_target = (\n",
    "    # Для этого, соединим по индексам тестовое множество\n",
    "    gold_test\\\n",
    "    # с исходной выборкой\n",
    "    .join(gold_full, how='left', lsuffix='_test',rsuffix='_full')\\\n",
    "    # и выделим черновой и финальный концентраты золота\n",
    "    [['rougher.output.recovery','final.output.recovery']]\n",
    ")"
   ]
  },
  {
   "cell_type": "code",
   "execution_count": 31,
   "metadata": {},
   "outputs": [],
   "source": [
    "# Отбор тех показателей, которые имеются как в обучающем, так и в тестовом множествах\n",
    "train_and_test_cols = [col for col in gold_train.columns if col in gold_test.columns]"
   ]
  },
  {
   "cell_type": "code",
   "execution_count": 32,
   "metadata": {},
   "outputs": [],
   "source": [
    "# Определим функцию, которая возвращает\n",
    "# (1) таблицу, содержащую квадрат среднеквадратической ошибки (с т.з. scoring) на основе тренировочного множества\n",
    "# (2) прогнозные значения модели на основе тестового множества\n",
    "def model_rmse_and_pred(model, features, target, test_dataframe, cv=3):\n",
    "    '''\n",
    "    model: оптимальная модель машинного обучения\n",
    "    features: массив характеристик\n",
    "    target: целевые признаки \n",
    "    cv: количество разбиений кросс-валидации\n",
    "    '''\n",
    "    # разделим матрица характеристик и вектор целевого признака на обучающее и валидационное мн-ва, соответственно.\n",
    "    features_train, features_valid, target_train, target_valid = train_test_split(features, target,\n",
    "                                                                                  test_size=0.25,\n",
    "                                                                                  random_state=42)\n",
    "    # вычисление прогнозных значений на основе тестового множества\n",
    "    model_pred = (\n",
    "        model\\\n",
    "        .fit(features_train[train_and_test_cols], target_train)\\\n",
    "        .predict(test_dataframe)\n",
    "    )\n",
    "    # Осуществим кросс-валидацию\n",
    "    model_cross_val = cross_val_score(estimator=model, X=features_train[train_and_test_cols], y=target_train,\n",
    "                                      cv=cv, scoring='neg_mean_squared_error')\n",
    "    # вывод таблицы, содержащей квадратный корень среднеквадратического отклонения в зависимости от\n",
    "    # количества разбиений кросс-валидации\n",
    "    rmse_dataframe = pd.DataFrame({'cv':list(range(1,cv+1)),'rmse': (-model_cross_val) ** 0.5} )\n",
    "    #\n",
    "    return rmse_dataframe, model_pred"
   ]
  },
  {
   "cell_type": "code",
   "execution_count": 33,
   "metadata": {},
   "outputs": [],
   "source": [
    "# Апробация функции model_rmse_and_pred на модель линейной регрессии\n",
    "lin_cv_rmse, lin_pred = model_rmse_and_pred(LinearRegression(n_jobs=-1), features, target, gold_test)"
   ]
  },
  {
   "cell_type": "code",
   "execution_count": 34,
   "metadata": {},
   "outputs": [],
   "source": [
    "# Апробация функции model_rmse_and_pred на модель случайного леса\n",
    "opt_rf_cv_rmse, opt_rf_pred = model_rmse_and_pred(opt_rf_model, features, target, gold_test)"
   ]
  },
  {
   "cell_type": "code",
   "execution_count": 35,
   "metadata": {},
   "outputs": [
    {
     "data": {
      "text/plain": [
       "rmse_lin    7.04\n",
       "rmse_rf     5.46\n",
       "dtype: float64"
      ]
     },
     "execution_count": 35,
     "metadata": {},
     "output_type": "execute_result"
    }
   ],
   "source": [
    "# Подсчитаем среднее значение квадратного корня среднеквадратической ошибки по трем блокам кросс-валидации\n",
    "# (1) для модели линейной регрессии, (2) для модели случайного леса\n",
    "round(\n",
    "    lin_cv_rmse\\\n",
    "    .merge(opt_rf_cv_rmse, on='cv', suffixes=['_lin','_rf'])\\\n",
    "    .set_index('cv')\\\n",
    "    .mean(),2\n",
    ")"
   ]
  },
  {
   "cell_type": "markdown",
   "metadata": {},
   "source": [
    "Тем самым, модель случайного леса по трем блокам кросс-валидации лучше модели линейной регрессии. Таким образом, выбираем модель случайного леса с параметрами `max_depth=15`, `n_estimators=150`."
   ]
  },
  {
   "cell_type": "code",
   "execution_count": 36,
   "metadata": {},
   "outputs": [],
   "source": [
    "# Определим функцию, которая вывод квадратный корень среднеквадратической ошибки\n",
    "# между фактическими значениями и (1) прогнозными по модели машинного обучения,\n",
    "# (2) средними величинами константной модели\n",
    "def compare_with_const_model(predictions, target):\n",
    "    '''\n",
    "    predictions: прогнозные значения на основе модели машинного обучения\n",
    "    features: матрица характеристик\n",
    "    target: матрица целевого признака\n",
    "    output: массив данных, который содержит результаты моделей\n",
    "    машинного обучения и константной модели в зависимости от указанной метрики\n",
    "    '''\n",
    "    # фактические величины чернового концентрата золота\n",
    "    actual_rougher = target['rougher.output.recovery']\n",
    "    # фактические величины финального концентрата золота\n",
    "    actual_final = target['final.output.recovery']\n",
    "    # прогнозные величины черного концентрата золота\n",
    "    pred_rougher = predictions[:,0]\n",
    "    # прогнозные величины финального концентрата\n",
    "    pred_final = predictions[:,1]\n",
    "    # вектор средних значений чернового концентрата золота\n",
    "    mean_rougher = pd.Series(data=actual_rougher.mean(), index=actual_rougher.index)\n",
    "    # вектор средних значений финального концентрата золота\n",
    "    mean_final = pd.Series(data=actual_final.mean(), index=actual_final.index)\n",
    "    # корень среднеквадратической ошибки между\n",
    "    # (1) фактическими и прогнозными величинами чернового концентрата золота\n",
    "    rmse_actual_pred_rougher = mean_squared_error(actual_rougher, pred_rougher) ** 0.5\n",
    "    # (2) фактическими и прогнозными величинами финального концентрата золота\n",
    "    rmse_actual_pred_final = mean_squared_error(actual_final, pred_final) ** 0.5\n",
    "    # (3) фактическими и средними величинами чернового концентрата золота\n",
    "    rmse_actual_mean_rougher = mean_squared_error(actual_rougher, mean_rougher) ** 0.5\n",
    "    # (4) фактическими и средними величинами финального концентрата золота\n",
    "    rmse_actual_mean_final = mean_squared_error(actual_final, mean_final) ** 0.5\n",
    "    # вывод результирующих показателей\n",
    "    return {\n",
    "        'факт_прогноз_чернового_концентрата':round(rmse_actual_pred_rougher,2), # \n",
    "        'факт_среднее_чернового_концентрата':round(rmse_actual_mean_rougher,2), # \n",
    "        'факт_прогноз_финального_концентрата':round(rmse_actual_pred_final,2),  # \n",
    "        'факт_среднее_финального_концентрата':round(rmse_actual_mean_final,2)   # \n",
    "    }  "
   ]
  },
  {
   "cell_type": "code",
   "execution_count": 37,
   "metadata": {},
   "outputs": [
    {
     "data": {
      "text/plain": [
       "{'факт_прогноз_чернового_концентрата': 13.75,\n",
       " 'факт_среднее_чернового_концентрата': 13.55,\n",
       " 'факт_прогноз_финального_концентрата': 12.17,\n",
       " 'факт_среднее_финального_концентрата': 14.59}"
      ]
     },
     "execution_count": 37,
     "metadata": {},
     "output_type": "execute_result"
    }
   ],
   "source": [
    "# Сравним квадратный корень среднеквадратической ошибки\n",
    "# (1) модели случайного леса, (2) константной модели (среднее значение фактических величин целевого признака)\n",
    "compare_with_const_model(opt_rf_pred, test_target)"
   ]
  },
  {
   "cell_type": "markdown",
   "metadata": {},
   "source": [
    "- *черновой концентрат*: модель случайного леса немного отстает от константной модели.\n",
    "- *финальный концентрат*: модель случайного леса лучше константной модели."
   ]
  },
  {
   "cell_type": "code",
   "execution_count": 38,
   "metadata": {},
   "outputs": [
    {
     "name": "stdout",
     "output_type": "stream",
     "text": [
      "среднее абсолютное процентное отклонение составляет 13.393\n"
     ]
    }
   ],
   "source": [
    "smape_rougher = sMAPE(test_target['rougher.output.recovery'], opt_rf_pred[:,0])\n",
    "smape_final = sMAPE(test_target['final.output.recovery'], opt_rf_pred[:,1])\n",
    "smape = 0.25 * smape_rougher + 0.75 * smape_final\n",
    "print('среднее абсолютное процентное отклонение составляет {:.3f}'.format(smape))"
   ]
  },
  {
   "cell_type": "code",
   "execution_count": null,
   "metadata": {},
   "outputs": [],
   "source": []
  }
 ],
 "metadata": {
  "kernelspec": {
   "display_name": "Python 3",
   "language": "python",
   "name": "python3"
  },
  "language_info": {
   "codemirror_mode": {
    "name": "ipython",
    "version": 3
   },
   "file_extension": ".py",
   "mimetype": "text/x-python",
   "name": "python",
   "nbconvert_exporter": "python",
   "pygments_lexer": "ipython3",
   "version": "3.7.6"
  }
 },
 "nbformat": 4,
 "nbformat_minor": 2
}
