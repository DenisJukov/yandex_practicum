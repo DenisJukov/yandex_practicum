{
 "cells": [
  {
   "cell_type": "markdown",
   "metadata": {},
   "source": [
    "## 1. Откройте и изучите файл"
   ]
  },
  {
   "cell_type": "code",
   "execution_count": 1,
   "metadata": {},
   "outputs": [],
   "source": [
    "# загрузка необходимых библиотек\n",
    "# для осуществления операций с выборочной совокупностью\n",
    "import pandas as pd\n",
    "# для подготовки обучающего, тестового, валидационного множеств\n",
    "from sklearn.model_selection import train_test_split\n",
    "# для построения логистической регрессии\n",
    "from sklearn.linear_model import LogisticRegression\n",
    "# для построения деревьев решений\n",
    "from sklearn.tree import DecisionTreeClassifier\n",
    "# для построения моделей случайного леса\n",
    "from sklearn.ensemble import RandomForestClassifier\n",
    "# для вычисления доли правильных ответов\n",
    "from sklearn.metrics import accuracy_score\n",
    "# для графического представления результатов\n",
    "import matplotlib.pyplot as plt\n",
    "# установление темы диаграмм\n",
    "plt.style.use('ggplot')\n",
    "%matplotlib inline"
   ]
  },
  {
   "cell_type": "code",
   "execution_count": 2,
   "metadata": {},
   "outputs": [],
   "source": [
    "# загрузка массива данных\n",
    "users = pd.read_csv('users_behavior.csv')"
   ]
  },
  {
   "cell_type": "code",
   "execution_count": 3,
   "metadata": {},
   "outputs": [
    {
     "data": {
      "text/html": [
       "<div>\n",
       "<style scoped>\n",
       "    .dataframe tbody tr th:only-of-type {\n",
       "        vertical-align: middle;\n",
       "    }\n",
       "\n",
       "    .dataframe tbody tr th {\n",
       "        vertical-align: top;\n",
       "    }\n",
       "\n",
       "    .dataframe thead th {\n",
       "        text-align: right;\n",
       "    }\n",
       "</style>\n",
       "<table border=\"1\" class=\"dataframe\">\n",
       "  <thead>\n",
       "    <tr style=\"text-align: right;\">\n",
       "      <th></th>\n",
       "      <th>calls</th>\n",
       "      <th>minutes</th>\n",
       "      <th>messages</th>\n",
       "      <th>mb_used</th>\n",
       "      <th>is_ultra</th>\n",
       "    </tr>\n",
       "  </thead>\n",
       "  <tbody>\n",
       "    <tr>\n",
       "      <th>0</th>\n",
       "      <td>40.0</td>\n",
       "      <td>311.90</td>\n",
       "      <td>83.0</td>\n",
       "      <td>19915.42</td>\n",
       "      <td>0</td>\n",
       "    </tr>\n",
       "    <tr>\n",
       "      <th>1</th>\n",
       "      <td>85.0</td>\n",
       "      <td>516.75</td>\n",
       "      <td>56.0</td>\n",
       "      <td>22696.96</td>\n",
       "      <td>0</td>\n",
       "    </tr>\n",
       "    <tr>\n",
       "      <th>2</th>\n",
       "      <td>77.0</td>\n",
       "      <td>467.66</td>\n",
       "      <td>86.0</td>\n",
       "      <td>21060.45</td>\n",
       "      <td>0</td>\n",
       "    </tr>\n",
       "    <tr>\n",
       "      <th>3</th>\n",
       "      <td>106.0</td>\n",
       "      <td>745.53</td>\n",
       "      <td>81.0</td>\n",
       "      <td>8437.39</td>\n",
       "      <td>1</td>\n",
       "    </tr>\n",
       "    <tr>\n",
       "      <th>4</th>\n",
       "      <td>66.0</td>\n",
       "      <td>418.74</td>\n",
       "      <td>1.0</td>\n",
       "      <td>14502.75</td>\n",
       "      <td>0</td>\n",
       "    </tr>\n",
       "  </tbody>\n",
       "</table>\n",
       "</div>"
      ],
      "text/plain": [
       "   calls  minutes  messages   mb_used  is_ultra\n",
       "0   40.0   311.90      83.0  19915.42         0\n",
       "1   85.0   516.75      56.0  22696.96         0\n",
       "2   77.0   467.66      86.0  21060.45         0\n",
       "3  106.0   745.53      81.0   8437.39         1\n",
       "4   66.0   418.74       1.0  14502.75         0"
      ]
     },
     "execution_count": 3,
     "metadata": {},
     "output_type": "execute_result"
    }
   ],
   "source": [
    "# вывод первых 5-ти наблюдений исходной выборочной совокупности\n",
    "users.head()"
   ]
  },
  {
   "cell_type": "code",
   "execution_count": 4,
   "metadata": {},
   "outputs": [
    {
     "name": "stdout",
     "output_type": "stream",
     "text": [
      "<class 'pandas.core.frame.DataFrame'>\n",
      "RangeIndex: 3214 entries, 0 to 3213\n",
      "Data columns (total 5 columns):\n",
      " #   Column    Non-Null Count  Dtype  \n",
      "---  ------    --------------  -----  \n",
      " 0   calls     3214 non-null   float64\n",
      " 1   minutes   3214 non-null   float64\n",
      " 2   messages  3214 non-null   float64\n",
      " 3   mb_used   3214 non-null   float64\n",
      " 4   is_ultra  3214 non-null   int64  \n",
      "dtypes: float64(4), int64(1)\n",
      "memory usage: 125.7 KB\n"
     ]
    }
   ],
   "source": [
    "# вывод общей информации о переменных исходной выборочной совокупности\n",
    "users.info()"
   ]
  },
  {
   "cell_type": "markdown",
   "metadata": {},
   "source": [
    "Таким образом, по каждому из 3 214-ти абонентам мобильной связи \"Мегалайн\" имеем 5 показателей:\n",
    "- calls: количество звонков (в месяц);\n",
    "- minutes: суммарная длительность звонков в минутах (в месяц);\n",
    "- messages — количество sms-сообщений (в месяц);\n",
    "- mb_used — израсходованный интернет-трафик в Мб (в месяц);\n",
    "- is_ultra — каким тарифом пользовался в течение месяца («Ультра» — 1, «Смарт» — 0).\n",
    "\n",
    "С одной стороны, количество звонков, суммарная длительность звонков, израсходованный интернет, имеющие формат с плавающей точкой, являются тренировочными признаками. С другой стороны, тип тарифа, имеющий целочисленный формат, является целевым признаком."
   ]
  },
  {
   "cell_type": "markdown",
   "metadata": {},
   "source": [
    "#### Промежуточные выводы\n",
    "- по каждому из 3 214-ти абонентам мобильной связи \"Мегалайн\" имеем 5 показателей:\n",
    "- количество звонков, суммарная длительность звонков, израсходованный интернет, имеющие формат с плавающей точкой, являются **тренировочными признаками**\n",
    "- тип тарифа, имеющий целочисленный формат, является **целевым признаком**."
   ]
  },
  {
   "cell_type": "markdown",
   "metadata": {},
   "source": [
    "## 2. Разбейте данные на выборки"
   ]
  },
  {
   "cell_type": "markdown",
   "metadata": {},
   "source": [
    "Так как спрятаной тестовой выборки нет, то поделим исходную выборочную совокупность на обучающее, тестовое и валидационное множества в соотношении 3:1:1, что в процентном выражении составляет 60:20:20.\n",
    "\n",
    "Во-первых, поделим исходную выборочную совокупность на обучающее и тестовое множества в процентном выражении 80:20. Во-вторых, чтобы уровнять число входящих объектов тестового и валидационного множеств поделим обучающее множество в процентном выражении 75:25, так как 25 процентов от тестового множества равно 20-ти процентам исходной выборочной совокупности: 0.8 * 0.25 = 0.2. Если же выберем 20 процентов от обучающего множества, то количество объектов валидационного множества равна 16-ти процентам исходной выборочной совокупности: 0.8 * 0.2 = 0.16, что меньше количества объектов тестового множества."
   ]
  },
  {
   "cell_type": "code",
   "execution_count": 5,
   "metadata": {},
   "outputs": [],
   "source": [
    "# Посредством функции train_test_split поделим исходную выборочную совокупность на следующие множества\n",
    "# (а) обучающее users_train, (б) тестовое users_test\n",
    "users_train, users_test = train_test_split(users, test_size=0.2, random_state=42)"
   ]
  },
  {
   "cell_type": "code",
   "execution_count": 6,
   "metadata": {},
   "outputs": [],
   "source": [
    "# Аналогично, посредством функции train_test_split поделим обучающее множество users_train на следующие множества:\n",
    "# (в) обучающее users_train, (г) валидационное users_valid\n",
    "users_train, users_valid = train_test_split(users_train, test_size=0.25, random_state=42)"
   ]
  },
  {
   "cell_type": "code",
   "execution_count": 7,
   "metadata": {},
   "outputs": [
    {
     "name": "stdout",
     "output_type": "stream",
     "text": [
      "Число объектов множества - (а) исходное: 3214, (б) обучающее: 1928, (в) тестовое: 643, (г) валидационное: 643\n"
     ]
    }
   ],
   "source": [
    "# Проверим правильность предположений о количестве объектов, входящих в\n",
    "# исходное, обучающее, тестовое, валидационное множества.\n",
    "print('Число объектов множества - (а) исходное: {}, (б) обучающее: {}, (в) тестовое: {}, (г) валидационное: {}'\n",
    "      .format(users.shape[0], users_train.shape[0], users_test.shape[0], users_valid.shape[0]))"
   ]
  },
  {
   "cell_type": "markdown",
   "metadata": {},
   "source": [
    "Действительно, число объектов тестового и валидационного множеств совпадают."
   ]
  },
  {
   "cell_type": "code",
   "execution_count": 8,
   "metadata": {},
   "outputs": [],
   "source": [
    "# Выделим тренировочные признаки:\n",
    "# обучающего множества\n",
    "features_train = users_train.drop(['is_ultra'], axis=1)\n",
    "# тестового множества\n",
    "features_test = users_test.drop(['is_ultra'], axis=1)\n",
    "# валидационного множества\n",
    "features_valid = users_valid.drop(['is_ultra'], axis=1)\n",
    "\n",
    "# Выделим целевой признак (тип тарифа, а именно «Ультра» — 1, «Смарт» — 0):\n",
    "# обучающего множества\n",
    "target_train = users_train['is_ultra']\n",
    "# тестового множества\n",
    "target_test = users_test['is_ultra']\n",
    "# валидационного множества\n",
    "target_valid = users_valid['is_ultra']"
   ]
  },
  {
   "cell_type": "markdown",
   "metadata": {},
   "source": [
    "#### Промежуточные выводы\n",
    "- обучающее множество включает 1928 объектов, тестовое и валидационное множества имеют по 643 объекта.\n",
    "- по каждому из трех множеств выделен (а) массив из 4-х тренировочных признаков, (б) один целовой признак."
   ]
  },
  {
   "cell_type": "markdown",
   "metadata": {},
   "source": [
    "## 3. Исследуйте модели"
   ]
  },
  {
   "cell_type": "markdown",
   "metadata": {},
   "source": [
    "Так как перед нами стоит задача классификации, то используем (1) логистическую регрессию, (2) дерево решений, (3) модель случайного леса."
   ]
  },
  {
   "cell_type": "code",
   "execution_count": 9,
   "metadata": {
    "scrolled": true
   },
   "outputs": [
    {
     "name": "stdout",
     "output_type": "stream",
     "text": [
      "Точность логистической регрессии на валидационном множестве составляет: 0.7201\n",
      "Точность логистической регрессии на обучающем множестве составляет 0.7033\n"
     ]
    }
   ],
   "source": [
    "# (1) Инициализация логистической регрессии\n",
    "logreg = LogisticRegression(random_state=42)\n",
    "# Подгонка логистической регрессии на обучающем множестве\n",
    "logreg.fit(features_train, target_train)\n",
    "# Прогнозирование на основе валидационного множества\n",
    "logreg_pred_valid = logreg.predict(features_valid)\n",
    "logreg_accuracy_valid = accuracy_score(target_valid, logreg_pred_valid)\n",
    "# Прогнозирование на основе обучающего множества\n",
    "logreg_pred_train = logreg.predict(features_train)\n",
    "logreg_accuracy_train = accuracy_score(target_train, logreg_pred_train)\n",
    "# Вывод точности (количества правильных ответов) для логистической регрессии\n",
    "print('Точность логистической регрессии на валидационном множестве составляет: {accuracy_valid:.4f}'\n",
    "      .format(accuracy_valid=logreg_accuracy_valid))\n",
    "print('Точность логистической регрессии на обучающем множестве составляет {accuracy_train:.4f}'\n",
    "      .format(accuracy_train=logreg_accuracy_train))"
   ]
  },
  {
   "cell_type": "code",
   "execution_count": 10,
   "metadata": {},
   "outputs": [],
   "source": [
    "# Определяем пустые листы\n",
    "# для точности моделей дерева решений, которые обучаются на\n",
    "# валидационном множестве\n",
    "decision_tree_accuracy_valid = []\n",
    "# тренировочном множестве (для выявление переобучения)\n",
    "decision_tree_accuracy_train = []\n",
    "\n",
    "# Определяем цикл, который обучает модели дерева решений в зависимости от \n",
    "# (1) глубины дерева, в частности от 1 до 50 с шагом 1\n",
    "for depth in range(1,51,1):\n",
    "    # (а) строит модели деревьев решений в зависимости от глубины дерева (от 1 до 20-ти) (гиперпараметр)\n",
    "    decision_tree = DecisionTreeClassifier(max_depth=depth, random_state=42)\n",
    "    # (б) подгоняет деревья решений на основе обучающего множества\n",
    "    decision_tree.fit(features_train, target_train)\n",
    "    # (в) определяет прогнозы на основе валидационного множества\n",
    "    decision_tree_pred_valid = decision_tree.predict(features_valid)\n",
    "    # (г) определяет прогнозы на основе обучающего множества\n",
    "    decision_tree_pred_train = decision_tree.predict(features_train)\n",
    "    # (д) определяет лист с точностью моделей деревьев решений\n",
    "    decision_tree_accuracy_valid.append(accuracy_score(target_valid, decision_tree_pred_valid) )\n",
    "    # (е) определяет лист с точностью моделей деревьев решений на основе обучающего множества\n",
    "    decision_tree_accuracy_train.append(accuracy_score(target_train, decision_tree_pred_train))"
   ]
  },
  {
   "cell_type": "code",
   "execution_count": 11,
   "metadata": {},
   "outputs": [],
   "source": [
    "# Сформирурем базу данных, которая содержит точность моделей деревьев решений в разрезе\n",
    "decision_tree_results = pd.DataFrame({'dtree_valid': decision_tree_accuracy_valid, # валидационного мн-ва\n",
    "                                      'dtree_train': decision_tree_accuracy_train}) # обучающего множества"
   ]
  },
  {
   "cell_type": "code",
   "execution_count": 12,
   "metadata": {},
   "outputs": [],
   "source": [
    "# Аналогично, определяем пустые листы\n",
    "# для точности моделей случайного леса, которые обучаются\n",
    "# на основе валидационного множества\n",
    "random_forest_accuracy_valid = []\n",
    "# на основе тренировочного множества (чтобы проследить насколько модель переобучается)\n",
    "random_forest_accuracy_train = []\n",
    "\n",
    "# Определяем цикл, который обучает модели случайного леса в зависимости от\n",
    "# (1) количестве деревьев, в частности от 1-го до 100 с шагом 10\n",
    "for estimator in range(1,101,10):\n",
    "    # (2) максимальной глубины деревьев, в частности от 1-го до 10-ти с шагом 2\n",
    "    for depth in range(1,11,2):\n",
    "            # (а) строит модели случайного леса\n",
    "            random_forest = RandomForestClassifier(random_state=42, n_estimators=estimator, max_depth=depth)\n",
    "            # (б) подгоняет случайный лес на основе обучающего множества (этап обучения)\n",
    "            random_forest.fit(features_train, target_train)\n",
    "            # (в) определяет прогнозы на основе валидационного множества\n",
    "            random_forest_pred_valid = random_forest.predict(features_valid)\n",
    "            # (г) определяет прогнозы на основе обучающего множества\n",
    "            random_forest_pred_train = random_forest.predict(features_train)\n",
    "            # (д) определяет лист с точностью моделей случайного леса на основе валидационного множества\n",
    "            random_forest_accuracy_valid.append(accuracy_score(target_valid, random_forest_pred_valid))\n",
    "            # (е) определяет лист с точностью моделей случайного леса на основе обучающего множества\n",
    "            random_forest_accuracy_train.append(accuracy_score(target_train, random_forest_pred_train))"
   ]
  },
  {
   "cell_type": "code",
   "execution_count": 13,
   "metadata": {},
   "outputs": [],
   "source": [
    "# Сформируем базу данных, которая содержит точность моделей случайного леса в разрезе\n",
    "random_forest_results = pd.DataFrame({'rforest_valid': random_forest_accuracy_valid, # валидационного мн-ва\n",
    "                                      'rforest_train': random_forest_accuracy_train}) # обучающего множества"
   ]
  },
  {
   "cell_type": "code",
   "execution_count": 14,
   "metadata": {},
   "outputs": [
    {
     "data": {
      "image/png": "[encoded data removed]",
      "text/plain": [
       "<Figure size 864x432 with 1 Axes>"
      ]
     },
     "metadata": {
      "needs_background": "light"
     },
     "output_type": "display_data"
    }
   ],
   "source": [
    "# Определим графическую иллюстрацию точности\n",
    "# для дерева решений\n",
    "ax1 = decision_tree_results.plot(style=['g*-','b+-'], figsize=(12,6), markersize=10)\n",
    "# для случайного леса\n",
    "random_forest_results.plot(style=['r*-','y+-'], ax=ax1, markersize=10)\n",
    "# для логистической регрессии\n",
    "plt.axhline(y=logreg_accuracy_train, c='k', label='logreg', lw=2)\n",
    "# Вывод легенды\n",
    "plt.legend()\n",
    "# Вывод заголовка диаграммы\n",
    "plt.title('Точность моделей')\n",
    "plt.tight_layout()"
   ]
  },
  {
   "cell_type": "markdown",
   "metadata": {},
   "source": [
    "#### Промежуточные выводы\n",
    "- Деревья решений с глубиной более 25 имеют тенденцию к переобучению, что отражается единичной (полной) точностью на обучающем множестве и асиптомтической точностью приблизительно 0.74 на валидационном множестве\n",
    "- Деревья решений с глубиной более 6-ти имеют тенденцию сокращения точности в разрезе валидационного множества\n",
    "- Случайный лес имеет сезонные колебания точности: (а) каждый пятый шаг максимальной глубины деревьев наблюдается резкий спад точности моделей в разрезе как валидационного, так и обучающего множеств, (б) на каждом девятом шаге глубины деревьев наблюдается пик точности\n",
    "- Случайный лес с более чем 15-ью деревьями имеет асимпотическую точность приблизительно в размере 0.88.\n",
    "- Случайный лес с более 7-ью деревьями имеет тенденцию к сокращению точности вплоть до 10-ти деревьев.\n",
    "\n",
    "Таким образом, с учетом переобучения наибольшую точность на валидационном множестве обеспечивают (1) модель дерева решений с 6-ой глубиной, (2) модель случайного леса с 7-ью деревьями и максимальной глубиной глубиной деревьев в размере 4."
   ]
  },
  {
   "cell_type": "markdown",
   "metadata": {},
   "source": [
    "## 4. Проверьте модель на тестовой выборке"
   ]
  },
  {
   "cell_type": "markdown",
   "metadata": {},
   "source": [
    "Обученные модели $-$ логистическая регрессия, дерево решений, случайный лес $-$ апробируем на тестовом множестве. Опираясь на результаты третьего шага исследования, алгоритм дерева решений **с 6-ой глубиной** и алгоритм случайного леса **с 7-ью деревьями с максимальной глубиной последних в размере 4-х** продемонстрировали наибольшую точность и наименьшую среднеквадратическую ошибку. Тем самым, определим модели на основе данных гиперпараметров."
   ]
  },
  {
   "cell_type": "code",
   "execution_count": 15,
   "metadata": {},
   "outputs": [
    {
     "name": "stdout",
     "output_type": "stream",
     "text": [
      "Логистическая регрессия: точность 0.7030\n",
      "Дерево решений: точность 0.7932\n",
      "Случайный лес: точность 0.8040\n"
     ]
    }
   ],
   "source": [
    "# Классификация на основе тестового множества посредством\n",
    "# (1) логистической регрессии\n",
    "logreg_pred_test = logreg.predict(features_test)\n",
    "# Вывод точности (количество правильных ответов) и среднеквадратической ошибки для логистической регрессии\n",
    "print('Логистическая регрессия: точность {:.4f}'.format(accuracy_score(target_test,logreg_pred_test)))\n",
    "\n",
    "# (2) дерева решений с 6-ой глубиной\n",
    "dec_tree_6_depth = DecisionTreeClassifier(max_depth=6, random_state=42)\n",
    "dec_tree_6_depth.fit(features_train, target_train)\n",
    "dec_tree_6_depth_pred = dec_tree_6_depth.predict(features_test)\n",
    "# Вывод точности (количество правильных ответов) и среднеквадратической ошибки для логистической регрессии\n",
    "print('Дерево решений: точность {:.4f}'.format(accuracy_score(target_test, dec_tree_6_depth_pred)))\n",
    "\n",
    "# (3) случайного леса с 7-ью деревьями с максимальной глубиной деревьев \n",
    "rand_forest_7_est = RandomForestClassifier(n_estimators=7, random_state=42, max_depth=4)\n",
    "rand_forest_7_est.fit(features_train, target_train)\n",
    "rand_forest_7_est_pred = rand_forest_7_est.predict(features_test)\n",
    "# Вывод точности (количество правильных ответов) и среднеквадратической ошибки для логистической регрессии\n",
    "print('Случайный лес: точность {:.4f}'.format(accuracy_score(target_test, rand_forest_7_est_pred)))"
   ]
  },
  {
   "cell_type": "markdown",
   "metadata": {},
   "source": [
    "#### Промежуточные выводы (обновленные)\n",
    "- на тестовом множестве наибольшую точность демонстирует случайный лес 0.8040, далее, дерево решений 0.7932, затем логистическая регрессия 0.70\n",
    "\n",
    "*Действительно, при настройке максимальной глубины деревьев случайного леса точность модели случайного леса повысилась с 0.7792 до 0.8040*"
   ]
  },
  {
   "cell_type": "markdown",
   "metadata": {},
   "source": [
    "## 5. (бонус) Проверьте модели на адекватность"
   ]
  },
  {
   "cell_type": "code",
   "execution_count": 16,
   "metadata": {},
   "outputs": [
    {
     "data": {
      "text/plain": [
       "0    0.693528\n",
       "1    0.306472\n",
       "Name: is_ultra, dtype: float64"
      ]
     },
     "execution_count": 16,
     "metadata": {},
     "output_type": "execute_result"
    }
   ],
   "source": [
    "# Определим долю абонентов в разрезе тарифов («Ультра» — 1, «Смарт» — 0)\n",
    "users['is_ultra'].value_counts() / users.shape[0]"
   ]
  },
  {
   "cell_type": "markdown",
   "metadata": {},
   "source": [
    "Тем самым, 69.35% исходной выборочной совокупности состоит из абонентов с тарифом \"Смарт\", 30.65% абонентов подключены к тарифу \"Ультра\"."
   ]
  },
  {
   "cell_type": "markdown",
   "metadata": {},
   "source": [
    "#### Промежуточные выводы\n",
    "Таким образом, обученные модели демонстрируют адекватную точность: полученная на основе тестового множества точность обученных моделей превышает вероятность случайным образом правильно классифицировать абонентов по тарифам."
   ]
  }
 ],
 "metadata": {
  "kernelspec": {
   "display_name": "Python 3",
   "language": "python",
   "name": "python3"
  },
  "language_info": {
   "codemirror_mode": {
    "name": "ipython",
    "version": 3
   },
   "file_extension": ".py",
   "mimetype": "text/x-python",
   "name": "python",
   "nbconvert_exporter": "python",
   "pygments_lexer": "ipython3",
   "version": "3.7.6"
  }
 },
 "nbformat": 4,
 "nbformat_minor": 2
}
