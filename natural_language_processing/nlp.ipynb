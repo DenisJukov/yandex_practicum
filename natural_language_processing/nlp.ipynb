{
 "cells": [
  {
   "cell_type": "markdown",
   "metadata": {},
   "source": [
    "# 1. Подготовка"
   ]
  },
  {
   "cell_type": "code",
   "execution_count": 1,
   "metadata": {},
   "outputs": [
    {
     "name": "stderr",
     "output_type": "stream",
     "text": [
      "[nltk_data] Downloading package stopwords to /home/urma/nltk_data...\n",
      "[nltk_data]   Unzipping corpora/stopwords.zip.\n"
     ]
    }
   ],
   "source": [
    "# загрузка модулей\n",
    "# операции с массивом данных\n",
    "import pandas as pd\n",
    "# наивная модель\n",
    "from sklearn.dummy import DummyClassifier\n",
    "# логистическая модель\n",
    "from sklearn.linear_model import LogisticRegression\n",
    "# метрика f1\n",
    "from sklearn.metrics import f1_score, confusion_matrix\n",
    "# оценка важности слов\n",
    "from sklearn.feature_extraction.text import TfidfVectorizer\n",
    "# разбиение выборочной совокупности\n",
    "from sklearn.model_selection import train_test_split\n",
    "# перемешивание данных\n",
    "from sklearn.utils import shuffle\n",
    "# лемматизация\n",
    "from pymystem3 import Mystem\n",
    "# регуляторные выражения\n",
    "import re\n",
    "import nltk\n",
    "# стоп-слова\n",
    "nltk.download('stopwords')\n",
    "from nltk.corpus import stopwords as nltk_stopwords\n",
    "import warnings\n",
    "warnings.filterwarnings(\"ignore\")\n",
    "# графическая иллюстрация\n",
    "import matplotlib.pyplot as plt\n",
    "plt.style.use('ggplot')\n",
    "%matplotlib inline"
   ]
  },
  {
   "cell_type": "code",
   "execution_count": 2,
   "metadata": {},
   "outputs": [],
   "source": [
    "# загрузка массива данных\n",
    "comments = pd.read_csv('toxic_comments.csv')"
   ]
  },
  {
   "cell_type": "code",
   "execution_count": 3,
   "metadata": {},
   "outputs": [
    {
     "data": {
      "text/html": [
       "<div>\n",
       "<style scoped>\n",
       "    .dataframe tbody tr th:only-of-type {\n",
       "        vertical-align: middle;\n",
       "    }\n",
       "\n",
       "    .dataframe tbody tr th {\n",
       "        vertical-align: top;\n",
       "    }\n",
       "\n",
       "    .dataframe thead th {\n",
       "        text-align: right;\n",
       "    }\n",
       "</style>\n",
       "<table border=\"1\" class=\"dataframe\">\n",
       "  <thead>\n",
       "    <tr style=\"text-align: right;\">\n",
       "      <th></th>\n",
       "      <th>text</th>\n",
       "      <th>toxic</th>\n",
       "    </tr>\n",
       "  </thead>\n",
       "  <tbody>\n",
       "    <tr>\n",
       "      <th>0</th>\n",
       "      <td>Explanation\\nWhy the edits made under my usern...</td>\n",
       "      <td>0</td>\n",
       "    </tr>\n",
       "    <tr>\n",
       "      <th>1</th>\n",
       "      <td>D'aww! He matches this background colour I'm s...</td>\n",
       "      <td>0</td>\n",
       "    </tr>\n",
       "    <tr>\n",
       "      <th>2</th>\n",
       "      <td>Hey man, I'm really not trying to edit war. It...</td>\n",
       "      <td>0</td>\n",
       "    </tr>\n",
       "    <tr>\n",
       "      <th>3</th>\n",
       "      <td>\"\\nMore\\nI can't make any real suggestions on ...</td>\n",
       "      <td>0</td>\n",
       "    </tr>\n",
       "    <tr>\n",
       "      <th>4</th>\n",
       "      <td>You, sir, are my hero. Any chance you remember...</td>\n",
       "      <td>0</td>\n",
       "    </tr>\n",
       "  </tbody>\n",
       "</table>\n",
       "</div>"
      ],
      "text/plain": [
       "                                                text  toxic\n",
       "0  Explanation\\nWhy the edits made under my usern...      0\n",
       "1  D'aww! He matches this background colour I'm s...      0\n",
       "2  Hey man, I'm really not trying to edit war. It...      0\n",
       "3  \"\\nMore\\nI can't make any real suggestions on ...      0\n",
       "4  You, sir, are my hero. Any chance you remember...      0"
      ]
     },
     "execution_count": 3,
     "metadata": {},
     "output_type": "execute_result"
    }
   ],
   "source": [
    "# вывод первых пяти наблюдений выборочной совокупности\n",
    "comments.head()"
   ]
  },
  {
   "cell_type": "code",
   "execution_count": 4,
   "metadata": {},
   "outputs": [
    {
     "name": "stdout",
     "output_type": "stream",
     "text": [
      "<class 'pandas.core.frame.DataFrame'>\n",
      "RangeIndex: 159571 entries, 0 to 159570\n",
      "Data columns (total 2 columns):\n",
      " #   Column  Non-Null Count   Dtype \n",
      "---  ------  --------------   ----- \n",
      " 0   text    159571 non-null  object\n",
      " 1   toxic   159571 non-null  int64 \n",
      "dtypes: int64(1), object(1)\n",
      "memory usage: 2.4+ MB\n"
     ]
    }
   ],
   "source": [
    "# вывод общей информации о выборочной совокупности\n",
    "comments.info()"
   ]
  },
  {
   "cell_type": "code",
   "execution_count": 5,
   "metadata": {},
   "outputs": [
    {
     "data": {
      "text/plain": [
       "<matplotlib.axes._subplots.AxesSubplot at 0x7f51a63f9c10>"
      ]
     },
     "execution_count": 5,
     "metadata": {},
     "output_type": "execute_result"
    },
    {
     "data": {
      "image/png": "[encoded data removed]",
      "text/plain": [
       "<Figure size 432x288 with 1 Axes>"
      ]
     },
     "metadata": {
      "needs_background": "light"
     },
     "output_type": "display_data"
    }
   ],
   "source": [
    "# вывод процентного соотношения различных величин целевого признака\n",
    "comments['toxic'].value_counts(normalize=True).plot(kind='bar')"
   ]
  },
  {
   "cell_type": "markdown",
   "metadata": {},
   "source": [
    "Имеем несбалансированность классов целевого признака:\n",
    "- положительные комментарии составляют более 85-ти процентов целевого признака\n",
    "- отрицательные комментарии составляют менее 15-ти процентов целевого признака\n",
    "\n",
    "Имеем четыре случая балансирования целевого признака:\n",
    "- несбалансированный вектор целевого признака (без изменений)\n",
    "- сбалансированный вектор целевого признака: указание в моделях аргумента `class_weight=balanced`\n",
    "- upsampling: увеличение наблюдений с меньшим классом целевого признака - отрицательных комментарией\n",
    "- downsampling: уменьшение наблюдений с преобладающим классом целевого признака - положительных комментариев"
   ]
  },
  {
   "cell_type": "markdown",
   "metadata": {},
   "source": [
    "### Несбалансированный вектор целевого признака"
   ]
  },
  {
   "cell_type": "code",
   "execution_count": 6,
   "metadata": {},
   "outputs": [],
   "source": [
    "# выделение вектора целевого признака\n",
    "target = comments['toxic']"
   ]
  },
  {
   "cell_type": "code",
   "execution_count": 7,
   "metadata": {},
   "outputs": [],
   "source": [
    "# формирование корпуса текста\n",
    "corpus = list(comments['text'])"
   ]
  },
  {
   "cell_type": "code",
   "execution_count": 8,
   "metadata": {},
   "outputs": [],
   "source": [
    "# загрузка стоп-слов\n",
    "stopwords = nltk_stopwords.words('english')"
   ]
  },
  {
   "cell_type": "code",
   "execution_count": 9,
   "metadata": {},
   "outputs": [],
   "source": [
    "# Определим функцию, которая (1) приводит текст к нижнему регистру, \n",
    "# (2) оставляет только латинские буквы. Остальные символы преобразовываются в пробел.\n",
    "def clear_text(text):\n",
    "    '''\n",
    "    text: текст, которые необходимо преобразовать.\n",
    "    '''\n",
    "    # приведение текста к нижнему регистру\n",
    "    lower_text = text.lower()\n",
    "    # оставляем лишь латинские буквы. Остальные символы преобразовываются в пробел.\n",
    "    regular = re.sub(r'[^a-z]',' ', lower_text)\n",
    "    # разделяем выражения\n",
    "    splitted = regular.split()\n",
    "    # объединим элементы списка\n",
    "    return ' '.join(splitted)"
   ]
  },
  {
   "cell_type": "code",
   "execution_count": 10,
   "metadata": {},
   "outputs": [
    {
     "name": "stdout",
     "output_type": "stream",
     "text": [
      "CPU times: user 4.08 s, sys: 52 ms, total: 4.13 s\n",
      "Wall time: 4.13 s\n"
     ]
    }
   ],
   "source": [
    "%%time\n",
    "# пустой лист преобразованного корпуса\n",
    "clear_corpus = []\n",
    "# через цикл for\n",
    "for i in range(comments.shape[0]):\n",
    "    # преобразуем корпус исходного текста\n",
    "    clear_corpus.append(clear_text(corpus[i]))"
   ]
  },
  {
   "cell_type": "code",
   "execution_count": 11,
   "metadata": {},
   "outputs": [],
   "source": [
    "# инициализируем лемматизацию\n",
    "m = Mystem()"
   ]
  },
  {
   "cell_type": "code",
   "execution_count": 12,
   "metadata": {},
   "outputs": [
    {
     "name": "stdout",
     "output_type": "stream",
     "text": [
      "CPU times: user 22.2 s, sys: 1.88 s, total: 24.1 s\n",
      "Wall time: 1min 3s\n"
     ]
    }
   ],
   "source": [
    "%%time\n",
    "# лемматизация корпуса преобразованного текста\n",
    "features = [''.join(m.lemmatize(word)) for word in clear_corpus]"
   ]
  },
  {
   "cell_type": "code",
   "execution_count": 13,
   "metadata": {},
   "outputs": [],
   "source": [
    "# разбиение лемматизированного корпуса текста и вектора целевого признака на тренировочное и тестовое множества\n",
    "features_train, features_test, target_train, target_test = train_test_split(features,target,\n",
    "                                                                            test_size=0.2, random_state=42)"
   ]
  },
  {
   "cell_type": "markdown",
   "metadata": {},
   "source": [
    "### Увеличение наблюдений с меньшим классом целевого признака"
   ]
  },
  {
   "cell_type": "code",
   "execution_count": 14,
   "metadata": {},
   "outputs": [],
   "source": [
    "# Определим функцию, которая увеличиваем количество большего класса целевого признака.\n",
    "# А именно, увеличиваем число негативных комментариев.\n",
    "def upsample(data,features_label, target_label, repeat):\n",
    "    '''\n",
    "    data: исходный массив данных\n",
    "    features_label: метка столбца, который содержит текст\n",
    "    target_label: метка столбца, который содержит числовые значения целевого признака\n",
    "    repeat: размер увеличения класса целевого признака, с меньших количество значений\n",
    "    '''\n",
    "    # выделение корпуса слов, которые содержат положительные комментарии\n",
    "    features_zeros = data.loc[data[target_label]==0,features_label]\n",
    "    # выделение корпуса слов, которые содержат отрицательные комментарии\n",
    "    features_ones = data.loc[data[target_label]==1, features_label]\n",
    "    # выделение величин целевого признака, отражающие положительные комментарии\n",
    "    target_zeros = data.loc[data[target_label]==0, target_label]\n",
    "    # выделение величин целевого признака, отражающие отрицательные комментарии\n",
    "    target_ones = data.loc[data[target_label]==1, target_label]\n",
    "    # увеличение корпуса слов с отрицательными комментариями и соединение с корпусов положительных комментариев\n",
    "    features_upsampled = pd.concat([features_zeros] + [features_ones]*repeat)\n",
    "    # увеличение величин, отражающие отрицательные комментарии \n",
    "    # и соединение с величинами, отражающие положительные комментарии\n",
    "    target_upsampled = pd.concat([target_zeros] + [target_ones] * repeat)\n",
    "    # перемещивание корпуса слов и вектора целевого признака\n",
    "    features_upsampled, target_upsampled = shuffle(\n",
    "        features_upsampled, target_upsampled, random_state=42\n",
    "    )\n",
    "    # возвращаем перемешанный корпус слов и вектор целевого признака\n",
    "    return features_upsampled, target_upsampled"
   ]
  },
  {
   "cell_type": "code",
   "execution_count": 15,
   "metadata": {},
   "outputs": [],
   "source": [
    "# проверка функции upsample (увеличиваем количество отрицательных комментариев в 9 раз)\n",
    "try:\n",
    "    features_up, target_up = upsample(comments, 'text', 'toxic', 9)\n",
    "except:\n",
    "    print('Возникла ошибка')"
   ]
  },
  {
   "cell_type": "markdown",
   "metadata": {},
   "source": [
    "### Уменьшение наблюдений с преобладающим классом целевого признака"
   ]
  },
  {
   "cell_type": "code",
   "execution_count": 16,
   "metadata": {},
   "outputs": [],
   "source": [
    "# Определим функцию, которая выделяет часть преобладающего класса целевого признака\n",
    "def downsample(data,features_label, target_label, fraction):\n",
    "    '''\n",
    "    data: исходный массив данных\n",
    "    features_label: метка столбца, который содержит текст\n",
    "    target_label: метка столбца, который содержит числовые значения целевого признака\n",
    "    fraction: процентная доля класса с преобладающим числом значений целевого признака\n",
    "    '''\n",
    "    # выделение корпуса слов, которые содержат положительные комментарии\n",
    "    features_zeros = data.loc[data[target_label]==0,features_label]\n",
    "    # выделение корпуса слов, которые содержат отрицательные комментарии\n",
    "    features_ones = data.loc[data[target_label]==1, features_label]\n",
    "    # выделение величин целевого признака, отражающие положительные комментарии\n",
    "    target_zeros = data.loc[data[target_label]==0, target_label]\n",
    "    # выделение величин целевого признака, отражающие отрицательные комментарии\n",
    "    target_ones = data.loc[data[target_label]==1, target_label] \n",
    "    # выделение процентной доли корпуса слов с преобладающим числом значений целевого признака\n",
    "    features_downsampled = pd.concat(\n",
    "        [features_zeros.sample(frac=fraction, random_state=42)] + [features_ones]\n",
    "    )\n",
    "    # выделение части величин, которые отражают отрицательные положительные комментарии\n",
    "    target_downsampled = pd.concat(\n",
    "        [target_zeros.sample(frac=fraction, random_state=42)] + [target_ones]\n",
    "    )\n",
    "    # перемещивание корпуса слов и вектора целевого признака\n",
    "    features_downsampled, target_downsampled = shuffle(\n",
    "        features_downsampled, target_downsampled, random_state=42\n",
    "    )\n",
    "    # возвращаем преобазованный корпус слов и вектор целевого признака\n",
    "    return features_downsampled, target_downsampled"
   ]
  },
  {
   "cell_type": "code",
   "execution_count": 17,
   "metadata": {},
   "outputs": [],
   "source": [
    "# проверка функции downsample (выделяем 11 процентов положительных комментариев)\n",
    "try:\n",
    "    features_down, target_down = downsample(comments, 'text','toxic', 0.11)\n",
    "except:\n",
    "    print('Возникла ошибка')"
   ]
  },
  {
   "cell_type": "code",
   "execution_count": 18,
   "metadata": {},
   "outputs": [
    {
     "data": {
      "image/png": "[encoded data removed]",
      "text/plain": [
       "<Figure size 432x288 with 1 Axes>"
      ]
     },
     "metadata": {
      "needs_background": "light"
     },
     "output_type": "display_data"
    },
    {
     "data": {
      "image/png": "[encoded data removed]",
      "text/plain": [
       "<Figure size 432x288 with 1 Axes>"
      ]
     },
     "metadata": {
      "needs_background": "light"
     },
     "output_type": "display_data"
    }
   ],
   "source": [
    "# формирование словаря целевого признака\n",
    "target_dict = {'upsampling':target_up,'downsampling':target_down}\n",
    "# графическая иллюстрация процентного соотношения классов целевого признака\n",
    "for target_name, target_value in target_dict.items():\n",
    "    target_value.value_counts(normalize=True).plot(kind='bar').set(title=target_name)\n",
    "    plt.show()"
   ]
  },
  {
   "cell_type": "markdown",
   "metadata": {},
   "source": [
    "### Промежуточные итоги\n",
    "- Вектор целевого признака является несбалансированным. 90 процентов являются положительными комментариями. Отрицательные комментарии составляют 10 процентов выборки.\n",
    "- Имеем четыре случая балансирования классов целевого признака:\n",
    "    - (1) несбалансированность классов целевого признака;\n",
    "    - (2) автоматическое балансирование на основе частоты классов целевого признака;\n",
    "    - (3) увеличение наблюдений с меньшим классом целевого признака (увеличение доли отрицательных комментариев).;\n",
    "    - (4) уменьшение наблюдений с преобладающим классом целевого признака (уменьшение доли положительных комментариев).\n",
    "- Для случаев (3) и (4) положительные и отрицательные комментарии распределены поровну."
   ]
  },
  {
   "cell_type": "markdown",
   "metadata": {},
   "source": [
    "# 2. Обучение"
   ]
  },
  {
   "cell_type": "markdown",
   "metadata": {},
   "source": [
    "Обучим два типа моделей: (а) логистическая регрессия, (б) наивная модель."
   ]
  },
  {
   "cell_type": "markdown",
   "metadata": {},
   "source": [
    "### Логистическая регрессия"
   ]
  },
  {
   "cell_type": "code",
   "execution_count": 19,
   "metadata": {},
   "outputs": [],
   "source": [
    "# Определим фунцию, \n",
    "# которая обучает модель логистического регрессии с учетом способа балансирования классов целевого признака\n",
    "def train_logreg(features_train, features_test, target_train, target_test, balanced='no'):\n",
    "    '''\n",
    "    Функция обучает модель логистической регрессии.\n",
    "    features_train: корпус слов тренировочного множества\n",
    "    features_test: корпус слов тестового множества\n",
    "    target_train: целевой признак тренировочного множества\n",
    "    target_test: целевой признак тестового множества\n",
    "    balanced: четыре варианта балансирования: \n",
    "        (1) 'no' небалансированность классов целевого признака, \n",
    "        (2) 'yes' автоматическое балансирование классов целевого признака на основе частоты классов целевого признака,\n",
    "        (3) 'up' балансирование через увеличение доли меньшего класса целевого признака [upsampling],\n",
    "        (4) 'down' балансирование через выделение доли преобладающего класса целевого признака [downsampling].\n",
    "    \n",
    "    Результирующий параметр: метрика f1.\n",
    "    ''' \n",
    "    # (1) несбалансированность классов целевого признака\n",
    "    if balanced=='no':\n",
    "        # запуск TFIDF на тренировочном множестве\n",
    "        tfidf_no = TfidfVectorizer(stop_words=stopwords).fit(features_train)\n",
    "        # преобразование тренировочного множества\n",
    "        tfidf_train_no = tfidf_no.transform(features_train)\n",
    "        # преобразование тестового множества\n",
    "        tfidf_test_no = tfidf_no.transform(features_test)\n",
    "        # обучение логистической регрессии на тренировочном множестве\n",
    "        logreg = LogisticRegression(n_jobs=-1).fit(tfidf_train_no, target_train)\n",
    "        # вычисление прогноза на тестовом множестве\n",
    "        predictions = logreg.predict(tfidf_test_no)\n",
    "        # вычисление метрики f1 на тестовом множестве\n",
    "        return f1_score(target_test, predictions)\n",
    "    # (2) сбалансированность классов целевого признака через частоту класса целевого признака:\n",
    "    # n_samples / (n_classes * np.bincount(y). \n",
    "    # Источник: https://scikit-learn.org/stable/modules/generated/sklearn.linear_model.LogisticRegression.html\n",
    "    elif balanced=='yes':\n",
    "        tfidf_yes = TfidfVectorizer(stop_words=stopwords).fit(features_train)\n",
    "        tfidf_train_yes = tfidf_yes.transform(features_train)\n",
    "        tfidf_test_yes = tfidf_yes.transform(features_test)\n",
    "        # указываем balanced в аргументе class_weight\n",
    "        logreg = LogisticRegression(n_jobs=-1, class_weight='balanced').fit(tfidf_train_yes, target_train)\n",
    "        predictions = logreg.predict(tfidf_test_yes)\n",
    "        return f1_score(target_test, predictions)\n",
    "    # (3) увеличение доли меньшего класса целевого признака\n",
    "    elif balanced=='up':\n",
    "        # через функцию upsample преобразуем корпус слов и вектор целевого признака\n",
    "        features_up, target_up = upsample(comments, 'text', 'toxic', 9)\n",
    "        # выделим тренировочное и тестовое множества из увеличенного корпуса слов и вектора целевого признака\n",
    "        features_train_up, features_test_up, target_train_up, target_test_up = train_test_split(features_up,\n",
    "                                                                                                target_up,\n",
    "                                                                                                test_size=0.2,\n",
    "                                                                                                random_state=42)\n",
    "        tfidf_up = TfidfVectorizer(stop_words=stopwords).fit(features_train_up)\n",
    "        tfidf_train_up = tfidf_up.transform(features_train_up)\n",
    "        tfidf_test_up = tfidf_up.transform(features_test_up)\n",
    "        logreg = LogisticRegression(n_jobs=-1).fit(tfidf_train_up, target_train_up)\n",
    "        predictions = logreg.predict(tfidf_test_up)\n",
    "        return f1_score(target_test_up, predictions)\n",
    "    # (4) выделение доли преобладающего класса целевого признака\n",
    "    elif balanced=='down':\n",
    "        # через функцию downsample преобразуем корпус слов и вектор целевого признака\n",
    "        features_down, target_down = downsample(comments, 'text','toxic', 0.11)\n",
    "        # выделим тренировочное и тестовое множества из уменьшенного корпуса слов и вектора целевого признака\n",
    "        features_train_down, features_test_down, target_train_down, target_test_down = train_test_split(features_down,\n",
    "                                                                                                        target_down, \n",
    "                                                                                                        test_size=0.2,\n",
    "                                                                                                        random_state=42)\n",
    "        tfidf_down = TfidfVectorizer(stop_words=stopwords).fit(features_train_down)\n",
    "        tfidf_train_down = tfidf_down.transform(features_train_down)\n",
    "        tfidf_test_down = tfidf_down.transform(features_test_down)\n",
    "        logreg = LogisticRegression(n_jobs=-1).fit(tfidf_train_down, target_train_down)\n",
    "        predictions = logreg.predict(tfidf_test_down)\n",
    "        return f1_score(target_test_down, predictions)"
   ]
  },
  {
   "cell_type": "code",
   "execution_count": 20,
   "metadata": {},
   "outputs": [
    {
     "name": "stdout",
     "output_type": "stream",
     "text": [
      "----\n",
      "no\n",
      "0.7374697223774922\n",
      "CPU times: user 13.6 s, sys: 232 ms, total: 13.8 s\n",
      "Wall time: 20.8 s\n",
      "----\n",
      "yes\n",
      "0.7530948170316963\n",
      "CPU times: user 13.5 s, sys: 60 ms, total: 13.5 s\n",
      "Wall time: 19.7 s\n",
      "----\n",
      "up\n",
      "0.9613679974188728\n",
      "CPU times: user 24.1 s, sys: 144 ms, total: 24.2 s\n",
      "Wall time: 32.3 s\n",
      "----\n",
      "down\n",
      "0.894510739856802\n",
      "CPU times: user 2.53 s, sys: 12 ms, total: 2.54 s\n",
      "Wall time: 3.83 s\n",
      "Логистическая регрессия успешно обучена\n"
     ]
    }
   ],
   "source": [
    "# Через цикл for обучим модель логистической регрессии\n",
    "# для четырех случаев сбалансированности классов целевого признака\n",
    "try:\n",
    "    for balance in ['no','yes','up','down']:\n",
    "        print('----')\n",
    "        print(balance)\n",
    "        %time print(train_logreg(features_train, features_test, target_train, target_test, balanced=balance))\n",
    "except:\n",
    "    print('Возникла ошибка')\n",
    "else:\n",
    "    print('Логистическая регрессия успешно обучена')"
   ]
  },
  {
   "cell_type": "markdown",
   "metadata": {},
   "source": [
    "### Наивная модель"
   ]
  },
  {
   "cell_type": "code",
   "execution_count": 21,
   "metadata": {},
   "outputs": [],
   "source": [
    "# Определим функцию, которая обучает наивную модель на основе распределения классов целевого признака\n",
    "def train_dummy(features_train, features_test, target_train, target_test):\n",
    "    '''\n",
    "    Функция обучает наивную модель.\n",
    "    features_train: корпус слов тренировочного множества\n",
    "    features_test: корпус слов тестового множества\n",
    "    target_train: вектор целевого признака тренировочного множества\n",
    "    target_test: вектор целевого признака тестового множества\n",
    "    \n",
    "    Результирующий параметр: метрика f1\n",
    "    '''\n",
    "    # запуск TFIDF на тренировочном множестве\n",
    "    tfidf = TfidfVectorizer(stop_words=stopwords).fit(features_train)\n",
    "    # преобразование тренировочного множества\n",
    "    tfidf_train = tfidf.transform(features_train)\n",
    "    # преобразование тестового множества\n",
    "    tfidf_test = tfidf.transform(features_test)\n",
    "    # инициализация наивной модели\n",
    "    dum = DummyClassifier(strategy='stratified', random_state=42)\n",
    "    # обучение наивной модели\n",
    "    dum.fit(tfidf_train, target_train)\n",
    "    # вычисление прогноза на тестовом множестве\n",
    "    predictions = dum.predict(tfidf_test)\n",
    "    return f1_score(target_test, predictions)"
   ]
  },
  {
   "cell_type": "code",
   "execution_count": 22,
   "metadata": {},
   "outputs": [
    {
     "name": "stdout",
     "output_type": "stream",
     "text": [
      "0.10713183081197901\n",
      "Наивная модель успешно обучена\n",
      "CPU times: user 12.8 s, sys: 0 ns, total: 12.8 s\n",
      "Wall time: 12.8 s\n"
     ]
    }
   ],
   "source": [
    "%%time\n",
    "# Вычислим метрику f1 на основе обучения наивной модели\n",
    "try:\n",
    "    print(train_dummy(features_train, features_test, target_train, target_test))\n",
    "except:\n",
    "    print('Возникла ошибка')\n",
    "else:\n",
    "    print('Наивная модель успешно обучена')"
   ]
  },
  {
   "cell_type": "markdown",
   "metadata": {},
   "source": [
    "# 3. Выводы"
   ]
  },
  {
   "cell_type": "markdown",
   "metadata": {},
   "source": [
    "- Обучена модель логистической регрессии. Метрика `f1_score` для четырех случаев балансирования целевого признака:\n",
    "    - несбалансированность: `0.737`\n",
    "    - балансирование на основе частоты классов целевого признака: `0.753`\n",
    "    - увеличение доли отрицательных комментариев (меньший класс целевого признака): `0.961`\n",
    "    - уменьшение доли положительных комментариев (преобладающий класс целевого признака): `0.894`\n",
    "- Обучена наивная модель на основе распределения классов целевого признака. Метрика `f1_score` в случае несбалансированности классов целевого признака составляет `0.107`.\n",
    "- Достигнута цель получения метрики `f1_score` не меньше `0.75` в трех случаях балансирования классов целевого признака: (а) через частоту классов, (б) увеличение доли меньшего класса, (в) уменьшение доли преобладающего класса."
   ]
  }
 ],
 "metadata": {
  "kernelspec": {
   "display_name": "Python 3",
   "language": "python",
   "name": "python3"
  },
  "language_info": {
   "codemirror_mode": {
    "name": "ipython",
    "version": 3
   },
   "file_extension": ".py",
   "mimetype": "text/x-python",
   "name": "python",
   "nbconvert_exporter": "python",
   "pygments_lexer": "ipython3",
   "version": "3.7.6"
  }
 },
 "nbformat": 4,
 "nbformat_minor": 2
}
